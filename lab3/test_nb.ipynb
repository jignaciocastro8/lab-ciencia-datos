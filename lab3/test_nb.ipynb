{
 "cells": [
  {
   "cell_type": "code",
   "execution_count": 1,
   "source": [
    "import numpy as np\r\n",
    "from IPython.display import display\r\n",
    "import pandas as pd"
   ],
   "outputs": [],
   "metadata": {}
  },
  {
   "cell_type": "code",
   "execution_count": 58,
   "source": [
    "df = pd.read_json(\"students_grades.json\", orient=\"records\")\r\n",
    "df[\"math score\"] = pd.to_numeric(df[\"math score\"])\r\n",
    "df[\"reading score\"] = pd.to_numeric(df[\"reading score\"])\r\n",
    "df[\"writing score\"] = pd.to_numeric(df[\"writing score\"])\r\n",
    "\r\n",
    "print(df.columns)\r\n",
    "#df.head(5)"
   ],
   "outputs": [
    {
     "output_type": "stream",
     "name": "stdout",
     "text": [
      "Index(['names', 'gender', 'race/ethnicity', 'parental level of education',\n",
      "       'lunch', 'test preparation course', 'math score', 'reading score',\n",
      "       'writing score'],\n",
      "      dtype='object')\n"
     ]
    }
   ],
   "metadata": {}
  },
  {
   "cell_type": "code",
   "execution_count": 57,
   "source": [
    "inter = np.arange(0, 101, 1)\r\n",
    "print(\"Original: \", len(df))\r\n",
    "df_cleaned = df.drop_duplicates(subset=\"names\", inplace=False)\r\n",
    "print(\"drop_duplicates()\", len(df_cleaned))\r\n",
    "df_cleaned = df_cleaned[df_cleaned[\"math score\"].isin(inter)]\r\n",
    "df_cleaned = df_cleaned[df_cleaned[\"reading score\"].isin(inter)]\r\n",
    "df_cleaned = df_cleaned[df_cleaned[\"writing score\"].isin(inter)]\r\n",
    "print(\"df_cleaned len: \", len(df_cleaned))\r\n",
    "df_cleaned = df_cleaned.dropna()\r\n",
    "\r\n",
    "\r\n",
    "#df_cleaned.drop_duplicates().dropna()\r\n",
    "#len(list(set(df_cleaned[\"names\"])))"
   ],
   "outputs": [
    {
     "output_type": "stream",
     "name": "stdout",
     "text": [
      "Original:  1400\n",
      "drop_duplicates() 1153\n",
      "df_cleaned len:  875\n"
     ]
    }
   ],
   "metadata": {}
  },
  {
   "cell_type": "code",
   "execution_count": 16,
   "source": [
    "# Se puede indexar con una boolean series.\r\n",
    "\r\n",
    "# DataFrame con los nombres que están duplicados.\r\n",
    "df_test = df[df.duplicated(subset=\"names\", keep=False)]\r\n",
    "print(\"Number of duplicated names: \", len(df_test[\"names\"].unique()))\r\n",
    "# Todos deberían ser duplicated.\r\n",
    "display(df_test.duplicated(subset=\"names\", keep=False))\r\n",
    "# Quitamos los que tengan scores sobre 100.\r\n",
    "interval = np.arange(0, 101, 1)\r\n",
    "df_test = df_test[df_test[\"math score\"].isin(interval) & df_test[\"reading score\"].isin(interval) & df_test[\"writing score\"].isin(interval)]\r\n",
    "\r\n",
    "# Mostramos el dataframe.\r\n",
    "df_test[df_test.duplicated(subset=\"names\", keep=False)]"
   ],
   "outputs": [
    {
     "output_type": "stream",
     "name": "stdout",
     "text": [
      "Number of duplicated names:  246\n"
     ]
    },
    {
     "output_type": "display_data",
     "data": {
      "text/plain": [
       "0       True\n",
       "5       True\n",
       "6       True\n",
       "8       True\n",
       "10      True\n",
       "        ... \n",
       "1385    True\n",
       "1390    True\n",
       "1393    True\n",
       "1395    True\n",
       "1398    True\n",
       "Length: 493, dtype: bool"
      ]
     },
     "metadata": {}
    },
    {
     "output_type": "execute_result",
     "data": {
      "text/html": [
       "<div>\n",
       "<style scoped>\n",
       "    .dataframe tbody tr th:only-of-type {\n",
       "        vertical-align: middle;\n",
       "    }\n",
       "\n",
       "    .dataframe tbody tr th {\n",
       "        vertical-align: top;\n",
       "    }\n",
       "\n",
       "    .dataframe thead th {\n",
       "        text-align: right;\n",
       "    }\n",
       "</style>\n",
       "<table border=\"1\" class=\"dataframe\">\n",
       "  <thead>\n",
       "    <tr style=\"text-align: right;\">\n",
       "      <th></th>\n",
       "      <th>names</th>\n",
       "      <th>gender</th>\n",
       "      <th>race/ethnicity</th>\n",
       "      <th>parental level of education</th>\n",
       "      <th>lunch</th>\n",
       "      <th>test preparation course</th>\n",
       "      <th>math score</th>\n",
       "      <th>reading score</th>\n",
       "      <th>writing score</th>\n",
       "    </tr>\n",
       "  </thead>\n",
       "  <tbody>\n",
       "    <tr>\n",
       "      <th>66</th>\n",
       "      <td>Anthony Malcomb</td>\n",
       "      <td>male</td>\n",
       "      <td>group C</td>\n",
       "      <td>some college</td>\n",
       "      <td>free/reduced</td>\n",
       "      <td>none</td>\n",
       "      <td>35.0</td>\n",
       "      <td>28.0</td>\n",
       "      <td>27.0</td>\n",
       "    </tr>\n",
       "    <tr>\n",
       "      <th>562</th>\n",
       "      <td>Charles Jackson</td>\n",
       "      <td>male</td>\n",
       "      <td>group E</td>\n",
       "      <td>some high school</td>\n",
       "      <td>standard</td>\n",
       "      <td>none</td>\n",
       "      <td>30.0</td>\n",
       "      <td>26.0</td>\n",
       "      <td>22.0</td>\n",
       "    </tr>\n",
       "    <tr>\n",
       "      <th>816</th>\n",
       "      <td>Justin Harris</td>\n",
       "      <td>male</td>\n",
       "      <td>group D</td>\n",
       "      <td>some college</td>\n",
       "      <td>standard</td>\n",
       "      <td>none</td>\n",
       "      <td>40.0</td>\n",
       "      <td>42.0</td>\n",
       "      <td>38.0</td>\n",
       "    </tr>\n",
       "    <tr>\n",
       "      <th>827</th>\n",
       "      <td>Justin Harris</td>\n",
       "      <td>male</td>\n",
       "      <td>group D</td>\n",
       "      <td>some college</td>\n",
       "      <td>standard</td>\n",
       "      <td>none</td>\n",
       "      <td>40.0</td>\n",
       "      <td>42.0</td>\n",
       "      <td>38.0</td>\n",
       "    </tr>\n",
       "    <tr>\n",
       "      <th>900</th>\n",
       "      <td>Anthony Malcomb</td>\n",
       "      <td>male</td>\n",
       "      <td>group C</td>\n",
       "      <td>some college</td>\n",
       "      <td>free/reduced</td>\n",
       "      <td>none</td>\n",
       "      <td>35.0</td>\n",
       "      <td>28.0</td>\n",
       "      <td>27.0</td>\n",
       "    </tr>\n",
       "    <tr>\n",
       "      <th>1223</th>\n",
       "      <td>Charles Jackson</td>\n",
       "      <td>male</td>\n",
       "      <td>group E</td>\n",
       "      <td>some high school</td>\n",
       "      <td>standard</td>\n",
       "      <td>none</td>\n",
       "      <td>30.0</td>\n",
       "      <td>26.0</td>\n",
       "      <td>22.0</td>\n",
       "    </tr>\n",
       "  </tbody>\n",
       "</table>\n",
       "</div>"
      ],
      "text/plain": [
       "                names gender race/ethnicity parental level of education  \\\n",
       "66    Anthony Malcomb   male        group C                some college   \n",
       "562   Charles Jackson   male        group E            some high school   \n",
       "816     Justin Harris   male        group D                some college   \n",
       "827     Justin Harris   male        group D                some college   \n",
       "900   Anthony Malcomb   male        group C                some college   \n",
       "1223  Charles Jackson   male        group E            some high school   \n",
       "\n",
       "             lunch test preparation course  math score  reading score  \\\n",
       "66    free/reduced                    none        35.0           28.0   \n",
       "562       standard                    none        30.0           26.0   \n",
       "816       standard                    none        40.0           42.0   \n",
       "827       standard                    none        40.0           42.0   \n",
       "900   free/reduced                    none        35.0           28.0   \n",
       "1223      standard                    none        30.0           26.0   \n",
       "\n",
       "      writing score  \n",
       "66             27.0  \n",
       "562            22.0  \n",
       "816            38.0  \n",
       "827            38.0  \n",
       "900            27.0  \n",
       "1223           22.0  "
      ]
     },
     "metadata": {},
     "execution_count": 16
    }
   ],
   "metadata": {}
  },
  {
   "cell_type": "code",
   "execution_count": 5,
   "source": [
    "df.select_dtypes(include=np.number).mean(axis=1)"
   ],
   "outputs": [
    {
     "output_type": "execute_result",
     "data": {
      "text/plain": [
       "0        43.000000\n",
       "1       136.000000\n",
       "2       181.666667\n",
       "3        79.666667\n",
       "4       154.333333\n",
       "           ...    \n",
       "1395    176.000000\n",
       "1396     73.666667\n",
       "1397     59.000000\n",
       "1398    194.000000\n",
       "1399     74.666667\n",
       "Length: 1400, dtype: float64"
      ]
     },
     "metadata": {},
     "execution_count": 5
    }
   ],
   "metadata": {}
  },
  {
   "cell_type": "code",
   "execution_count": 6,
   "source": [
    "serie = pd.Series(np.zeros(len(df)), dtype=\"boolean\")\r\n",
    "serie[0] = 1\r\n",
    "serie.duplicated(keep=False)"
   ],
   "outputs": [
    {
     "output_type": "execute_result",
     "data": {
      "text/plain": [
       "0       False\n",
       "1        True\n",
       "2        True\n",
       "3        True\n",
       "4        True\n",
       "        ...  \n",
       "1395     True\n",
       "1396     True\n",
       "1397     True\n",
       "1398     True\n",
       "1399     True\n",
       "Length: 1400, dtype: bool"
      ]
     },
     "metadata": {},
     "execution_count": 6
    }
   ],
   "metadata": {}
  },
  {
   "cell_type": "code",
   "execution_count": 7,
   "source": [
    "df_test = pd.DataFrame({\"col1\": range(10)})\r\n",
    "df_test"
   ],
   "outputs": [
    {
     "output_type": "execute_result",
     "data": {
      "text/html": [
       "<div>\n",
       "<style scoped>\n",
       "    .dataframe tbody tr th:only-of-type {\n",
       "        vertical-align: middle;\n",
       "    }\n",
       "\n",
       "    .dataframe tbody tr th {\n",
       "        vertical-align: top;\n",
       "    }\n",
       "\n",
       "    .dataframe thead th {\n",
       "        text-align: right;\n",
       "    }\n",
       "</style>\n",
       "<table border=\"1\" class=\"dataframe\">\n",
       "  <thead>\n",
       "    <tr style=\"text-align: right;\">\n",
       "      <th></th>\n",
       "      <th>col1</th>\n",
       "    </tr>\n",
       "  </thead>\n",
       "  <tbody>\n",
       "    <tr>\n",
       "      <th>0</th>\n",
       "      <td>0</td>\n",
       "    </tr>\n",
       "    <tr>\n",
       "      <th>1</th>\n",
       "      <td>1</td>\n",
       "    </tr>\n",
       "    <tr>\n",
       "      <th>2</th>\n",
       "      <td>2</td>\n",
       "    </tr>\n",
       "    <tr>\n",
       "      <th>3</th>\n",
       "      <td>3</td>\n",
       "    </tr>\n",
       "    <tr>\n",
       "      <th>4</th>\n",
       "      <td>4</td>\n",
       "    </tr>\n",
       "    <tr>\n",
       "      <th>5</th>\n",
       "      <td>5</td>\n",
       "    </tr>\n",
       "    <tr>\n",
       "      <th>6</th>\n",
       "      <td>6</td>\n",
       "    </tr>\n",
       "    <tr>\n",
       "      <th>7</th>\n",
       "      <td>7</td>\n",
       "    </tr>\n",
       "    <tr>\n",
       "      <th>8</th>\n",
       "      <td>8</td>\n",
       "    </tr>\n",
       "    <tr>\n",
       "      <th>9</th>\n",
       "      <td>9</td>\n",
       "    </tr>\n",
       "  </tbody>\n",
       "</table>\n",
       "</div>"
      ],
      "text/plain": [
       "   col1\n",
       "0     0\n",
       "1     1\n",
       "2     2\n",
       "3     3\n",
       "4     4\n",
       "5     5\n",
       "6     6\n",
       "7     7\n",
       "8     8\n",
       "9     9"
      ]
     },
     "metadata": {},
     "execution_count": 7
    }
   ],
   "metadata": {}
  },
  {
   "cell_type": "code",
   "execution_count": 8,
   "source": [
    "pd.qcut(df_test[\"col1\"], 5, labels=['Bajísimo', 'Bajo', 'Medio', 'Alto', 'Muy alto'])"
   ],
   "outputs": [
    {
     "output_type": "execute_result",
     "data": {
      "text/plain": [
       "0    Bajísimo\n",
       "1    Bajísimo\n",
       "2        Bajo\n",
       "3        Bajo\n",
       "4       Medio\n",
       "5       Medio\n",
       "6        Alto\n",
       "7        Alto\n",
       "8    Muy alto\n",
       "9    Muy alto\n",
       "Name: col1, dtype: category\n",
       "Categories (5, object): ['Bajísimo' < 'Bajo' < 'Medio' < 'Alto' < 'Muy alto']"
      ]
     },
     "metadata": {},
     "execution_count": 8
    }
   ],
   "metadata": {}
  },
  {
   "cell_type": "code",
   "execution_count": null,
   "source": [],
   "outputs": [],
   "metadata": {}
  }
 ],
 "metadata": {
  "orig_nbformat": 4,
  "language_info": {
   "name": "python",
   "version": "3.6.4",
   "mimetype": "text/x-python",
   "codemirror_mode": {
    "name": "ipython",
    "version": 3
   },
   "pygments_lexer": "ipython3",
   "nbconvert_exporter": "python",
   "file_extension": ".py"
  },
  "kernelspec": {
   "name": "python3",
   "display_name": "Python 3.6.4 64-bit"
  },
  "interpreter": {
   "hash": "bea891d4f4659476d21e83a48ee1b355f8820be15a794f539b2195aa6b1473be"
  }
 },
 "nbformat": 4,
 "nbformat_minor": 2
}