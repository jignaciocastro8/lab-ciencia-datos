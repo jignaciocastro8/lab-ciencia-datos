{
 "cells": [
  {
   "cell_type": "markdown",
   "source": [
    "<h1><center>Laboratorio 3: El Pandas no muerde (act. I) 🐼</center></h1>\n",
    "\n",
    "<center><strong>MDS7202: Laboratorio de Programación Científica para Ciencia de Datos</strong></center>"
   ],
   "metadata": {
    "id": "XUZ1dFPHzAHl",
    "cell_id": "00000-ae4bce0d-d467-4e5f-a49a-58fb5129bd6c",
    "deepnote_cell_type": "markdown"
   }
  },
  {
   "cell_type": "markdown",
   "source": [
    "### Cuerpo Docente:\n",
    "\n",
    "- Profesor: Pablo Badilla\n",
    "- Auxiliar: Ignacio Meza D.\n",
    "- Ayudante: Constanza Peña"
   ],
   "metadata": {
    "id": "UD8X1uhGzAHq",
    "cell_id": "00001-c0f83a9b-e822-4864-8c65-718da74b60b9",
    "deepnote_cell_type": "markdown"
   }
  },
  {
   "cell_type": "markdown",
   "source": [
    "### Equipo: SUPER IMPORTANTE - notebooks sin nombre no serán revisados\r\n",
    "\r\n",
    "- Nombre de alumno 1: Javier Castro\r\n",
    "- Nombre de alumno 2:\r\n"
   ],
   "metadata": {
    "id": "tXflExjqzAHr",
    "cell_id": "00002-155246d6-4c8d-43be-872f-880dede73522",
    "deepnote_cell_type": "markdown"
   }
  },
  {
   "cell_type": "markdown",
   "source": [
    "### **Link de repositorio de GitHub:** `https://github.com/jignaciocastro8/lab-ciencia-datos`"
   ],
   "metadata": {
    "id": "AD-V0bbZzAHr",
    "cell_id": "00003-97391d1f-df36-4c70-90b7-bfd91cd6e49e",
    "deepnote_cell_type": "markdown"
   }
  },
  {
   "cell_type": "markdown",
   "source": [
    "### Reglas:\n",
    "\n",
    "- Fecha de entrega: 24 de septiembre (atrasos hasta el 27 de septiembre, 1 pto de descuento por día)\n",
    "- **Grupos de máximo 2 personas**\n",
    "- **Ausentes** deberán realizar la actividad solos. \n",
    "- Cualquier duda fuera del horario de clases al foro. Mensajes al equipo docente serán respondidos por este medio.\n",
    "- Prohibidas las copias. \n",
    "- Pueden usar cualquer matrial del curso que estimen conveniente."
   ],
   "metadata": {
    "tags": [],
    "cell_id": "00004-0e0866f8-5d50-4988-906a-d868ede07df1",
    "deepnote_cell_type": "markdown"
   }
  },
  {
   "cell_type": "markdown",
   "source": [
    "### Temas a tratar\n",
    "\n",
    "- Introducción al manejo de datos tabulares por medio de la libreria `pandas`."
   ],
   "metadata": {
    "tags": [],
    "cell_id": "00005-ea6a4d75-61c0-4a2b-ac8d-1ac736216350",
    "deepnote_cell_type": "markdown"
   }
  },
  {
   "cell_type": "markdown",
   "source": [
    "### Objetivos principales del laboratorio\n",
    "\n",
    "- Entender, aplicar y aprovechar las ventajas que nos ofrece la libreria `pandas` para manejar datos tabulares.\n",
    "- Aprender a utilizar la documentación de pandas (y en general, de cualquier librería de python) como también a buscar soluciones en la web.\n",
    "\n",
    "> **Nota**: El laboratorio deberá ser desarrollado sin el uso indiscriminado de iteradores nativos de python (aka \"for\", \"while\"). La idea es que aprendan a exprimir al máximo las funciones optimizadas que nos entrega `pandas`, las cuales vale mencionar, son bastante más eficientes que los iteradores nativos sobre DataFrames."
   ],
   "metadata": {
    "id": "6uBLPj1PzAHs",
    "cell_id": "00006-fbe17074-fb3c-4ddb-bb19-2bfd042bf921",
    "deepnote_cell_type": "markdown"
   }
  },
  {
   "cell_type": "markdown",
   "source": [
    "### Librerias utiles para el Lab 😸"
   ],
   "metadata": {
    "id": "MhISwri4zAHy",
    "cell_id": "00007-93c4d22f-7d4f-4cc0-bca9-a2c35a9b8b3e",
    "deepnote_cell_type": "markdown"
   }
  },
  {
   "cell_type": "code",
   "execution_count": 1,
   "source": [
    "# Libreria Core del lab.\r\n",
    "import numpy as np\r\n",
    "import pandas as pd\r\n",
    "from IPython.display import display\r\n",
    "\r\n",
    "#Libreria para plotear\r\n",
    "#!pip install --upgrade plotly\r\n",
    "import plotly.express as px\r\n",
    "\r\n",
    "# Librerias utiles\r\n",
    "#from sklearn.preprocessing import StandardScaler"
   ],
   "outputs": [],
   "metadata": {
    "ExecuteTime": {
     "end_time": "2021-03-29T00:08:16.884674Z",
     "start_time": "2021-03-29T00:08:16.349846Z"
    },
    "id": "uyc33dKdzAHy",
    "colab": {
     "base_uri": "https://localhost:8080/"
    },
    "executionInfo": {
     "status": "ok",
     "timestamp": 1619205948702,
     "user_tz": 240,
     "elapsed": 4847,
     "user": {
      "displayName": "IGNACIO ALEJANDRO MEZA",
      "photoUrl": "",
      "userId": "17011121633069169364"
     }
    },
    "outputId": "0b8ebbb5-c76c-45a4-9d3e-1b6dba06a278",
    "deepnote_to_be_reexecuted": false,
    "source_hash": "8da0b14b",
    "execution_start": 1632493418117,
    "execution_millis": 4154,
    "cell_id": "00008-58834915-07fa-4589-93b7-f1fb0c08b816",
    "deepnote_cell_type": "code"
   }
  },
  {
   "cell_type": "markdown",
   "source": [
    "# 1. Rendimiento en Estudiantes 📚"
   ],
   "metadata": {
    "id": "xpOTbQcxbSiy",
    "cell_id": "00009-429ae3f2-fb38-4b64-b588-014a84e630dd",
    "deepnote_cell_type": "markdown"
   }
  },
  {
   "cell_type": "markdown",
   "source": [],
   "metadata": {
    "id": "3Q93vbNS25bM",
    "cell_id": "00010-37be44cf-4558-4ba9-83df-767bf4f1905d",
    "deepnote_cell_type": "markdown"
   }
  },
  {
   "cell_type": "markdown",
   "source": [
    "Para este laboratorio deberán trabajar con el dataset `students_grades.json` el cual contiene información sobre el rendimiento de alumnos en distintos ramos. \n",
    "El objetivo principal será el de realizar un trabajo de limpieza de prepración y exploración de datos utilizando exclusivamente `DataFrames` y sus métodos asociados. \n",
    "\n",
    "\n"
   ],
   "metadata": {
    "id": "jnmZfFpxTTYX",
    "cell_id": "00011-2ad31a90-832d-4d5e-9c29-4e5d686375fa",
    "deepnote_cell_type": "markdown"
   }
  },
  {
   "cell_type": "code",
   "execution_count": 2,
   "source": [
    "# Si usted está utilizando Colabolatory le puede ser útil este código para cargar los archivos.\r\n",
    "try:\r\n",
    "    from google.colab import drive\r\n",
    "    drive.mount(\"/content/drive\")\r\n",
    "    path = 'Dirección donde tiene los archivos en el Drive'\r\n",
    "except: \r\n",
    "    print('Ignorando conexión drive-colab')"
   ],
   "outputs": [
    {
     "output_type": "stream",
     "name": "stdout",
     "text": [
      "Ignorando conexión drive-colab\n"
     ]
    }
   ],
   "metadata": {
    "colab": {
     "base_uri": "https://localhost:8080/"
    },
    "id": "Jqq-s010Iwl1",
    "executionInfo": {
     "status": "ok",
     "timestamp": 1619205948705,
     "user_tz": 240,
     "elapsed": 625,
     "user": {
      "displayName": "IGNACIO ALEJANDRO MEZA",
      "photoUrl": "",
      "userId": "17011121633069169364"
     }
    },
    "outputId": "d90c065b-1e2f-43f6-81eb-c92ed177f5f5",
    "deepnote_to_be_reexecuted": false,
    "source_hash": "c60dc4a7",
    "execution_start": 1632493422315,
    "execution_millis": 8,
    "cell_id": "00012-6ef52018-06ac-4eb8-8b0a-4142b81e04aa",
    "deepnote_cell_type": "code"
   }
  },
  {
   "cell_type": "markdown",
   "source": [
    "## 1.1 Carga e Inspección de Datos [1.5 Puntos]\n",
    "\n",
    "\n",
    "<p align=\"center\">\n",
    "  <img src=\"https://drive.google.com/uc?export=view&id=1hZZaPQlZe4VupFOXt76_wjuUA5NpUhrw\" width=\"300\" height=\"300\">\n",
    "</p>\n"
   ],
   "metadata": {
    "id": "Y7sGYwOpN1VJ",
    "cell_id": "00013-61182eec-37fa-401b-8e56-9aec91671835",
    "deepnote_cell_type": "markdown"
   }
  },
  {
   "cell_type": "markdown",
   "source": [
    "*Don Caguayo*, rector de la Universidad de la Cachaña, les comenta que actualmente la Universidad no tiene una subdirección de análisis de datos, pero que tiene un gran interés en formar una. Es por esto, que se contacta con ud. y su equipo para iniciar de forma exploratoria diversas tareas de análisis y consolidación de datos respectivos al rendimiento de sus alumnos.\r\n",
    "\r\n",
    "Previo a su primera reunión con el rector, el rector le envía una copia de la base de datos, la cuál a usted y su equipo le encantaría examinar. Para esto, la primera tarea que debe realizar es abrir y cargar el dataset. \r\n",
    "\r\n",
    "\r\n",
    "> **Notar que es sumamente importante el formato que posee cada columna** para su manipulación y que posiblemente ustedes deberán especificar algunos tipos de datos a mano. Ver la documentación del método `read_json` para mayor información.\r\n",
    "\r\n",
    "A continuación se muestra un ejemplo de los dos primeros registros del dataset:\r\n",
    "\r\n",
    "```json\r\n",
    "[\r\n",
    "  {\r\n",
    "    \"names\": \"Rita Courtney\",\r\n",
    "    \"gender\": \"female\",\r\n",
    "    \"race/ethnicity\": \"group B\",\r\n",
    "    \"parental level of education\": \"some high school\",\r\n",
    "    \"lunch\": \"standard\",\r\n",
    "    \"test preparation course\": \"none\",\r\n",
    "    \"math score\": 37,\r\n",
    "    \"reading score\": 46,\r\n",
    "    \"writing score\": 46\r\n",
    "  },\r\n",
    "  {\r\n",
    "    \"names\": \"Madeline Fuller\",\r\n",
    "    \"gender\": \"female\",\r\n",
    "    \"race/ethnicity\": \"group C\",\r\n",
    "    \"parental level of education\": \"some high school\",\r\n",
    "    \"lunch\": \"standard\",\r\n",
    "    \"test preparation course\": \"none\",\r\n",
    "    \"math score\": 124,\r\n",
    "    \"reading score\": 142,\r\n",
    "    \"writing score\": 142\r\n",
    "  }\r\n",
    "]\r\n",
    "```\r\n",
    "\r\n",
    "\r\n",
    "\r\n"
   ],
   "metadata": {
    "tags": [],
    "cell_id": "00014-19b7ef4c-d646-4d3c-bc96-0fcf03730924",
    "deepnote_cell_type": "markdown"
   }
  },
  {
   "cell_type": "code",
   "execution_count": 3,
   "source": [
    "# Read json.\r\n",
    "df_grades = pd.read_json(\"students_grades.json\", orient=\"records\")\r\n",
    "# Specify data type.\r\n",
    "df_grades[\"math score\"] = pd.to_numeric(df_grades[\"math score\"])\r\n",
    "df_grades[\"reading score\"] = pd.to_numeric(df_grades[\"reading score\"])\r\n",
    "df_grades[\"writing score\"] = pd.to_numeric(df_grades[\"writing score\"])\r\n",
    "# DataFrame info and sample.\r\n",
    "df_grades.info()\r\n",
    "df_grades.sample(5)"
   ],
   "outputs": [
    {
     "output_type": "stream",
     "name": "stdout",
     "text": [
      "<class 'pandas.core.frame.DataFrame'>\n",
      "RangeIndex: 1400 entries, 0 to 1399\n",
      "Data columns (total 9 columns):\n",
      " #   Column                       Non-Null Count  Dtype  \n",
      "---  ------                       --------------  -----  \n",
      " 0   names                        1400 non-null   object \n",
      " 1   gender                       1400 non-null   object \n",
      " 2   race/ethnicity               1400 non-null   object \n",
      " 3   parental level of education  1400 non-null   object \n",
      " 4   lunch                        1400 non-null   object \n",
      " 5   test preparation course      1400 non-null   object \n",
      " 6   math score                   1360 non-null   float64\n",
      " 7   reading score                1360 non-null   float64\n",
      " 8   writing score                1353 non-null   float64\n",
      "dtypes: float64(3), object(6)\n",
      "memory usage: 98.6+ KB\n"
     ]
    },
    {
     "output_type": "execute_result",
     "data": {
      "text/html": [
       "<div>\n",
       "<style scoped>\n",
       "    .dataframe tbody tr th:only-of-type {\n",
       "        vertical-align: middle;\n",
       "    }\n",
       "\n",
       "    .dataframe tbody tr th {\n",
       "        vertical-align: top;\n",
       "    }\n",
       "\n",
       "    .dataframe thead th {\n",
       "        text-align: right;\n",
       "    }\n",
       "</style>\n",
       "<table border=\"1\" class=\"dataframe\">\n",
       "  <thead>\n",
       "    <tr style=\"text-align: right;\">\n",
       "      <th></th>\n",
       "      <th>names</th>\n",
       "      <th>gender</th>\n",
       "      <th>race/ethnicity</th>\n",
       "      <th>parental level of education</th>\n",
       "      <th>lunch</th>\n",
       "      <th>test preparation course</th>\n",
       "      <th>math score</th>\n",
       "      <th>reading score</th>\n",
       "      <th>writing score</th>\n",
       "    </tr>\n",
       "  </thead>\n",
       "  <tbody>\n",
       "    <tr>\n",
       "      <th>708</th>\n",
       "      <td>Sharon Matthews</td>\n",
       "      <td>female</td>\n",
       "      <td>group E</td>\n",
       "      <td>associate's degree</td>\n",
       "      <td>standard</td>\n",
       "      <td>completed</td>\n",
       "      <td>93.0</td>\n",
       "      <td>100.0</td>\n",
       "      <td>95.0</td>\n",
       "    </tr>\n",
       "    <tr>\n",
       "      <th>880</th>\n",
       "      <td>Shannon Weaver</td>\n",
       "      <td>male</td>\n",
       "      <td>group D</td>\n",
       "      <td>bachelor's degree</td>\n",
       "      <td>free/reduced</td>\n",
       "      <td>none</td>\n",
       "      <td>50.0</td>\n",
       "      <td>42.0</td>\n",
       "      <td>48.0</td>\n",
       "    </tr>\n",
       "    <tr>\n",
       "      <th>1342</th>\n",
       "      <td>Joyce Bland</td>\n",
       "      <td>female</td>\n",
       "      <td>group D</td>\n",
       "      <td>some high school</td>\n",
       "      <td>free/reduced</td>\n",
       "      <td>none</td>\n",
       "      <td>50.0</td>\n",
       "      <td>64.0</td>\n",
       "      <td>59.0</td>\n",
       "    </tr>\n",
       "    <tr>\n",
       "      <th>527</th>\n",
       "      <td>Joseph Alfaro</td>\n",
       "      <td>male</td>\n",
       "      <td>group C</td>\n",
       "      <td>some college</td>\n",
       "      <td>standard</td>\n",
       "      <td>none</td>\n",
       "      <td>59.0</td>\n",
       "      <td>60.0</td>\n",
       "      <td>58.0</td>\n",
       "    </tr>\n",
       "    <tr>\n",
       "      <th>1144</th>\n",
       "      <td>Shawn Frank</td>\n",
       "      <td>female</td>\n",
       "      <td>group C</td>\n",
       "      <td>associate's degree</td>\n",
       "      <td>standard</td>\n",
       "      <td>completed</td>\n",
       "      <td>55.0</td>\n",
       "      <td>72.0</td>\n",
       "      <td>79.0</td>\n",
       "    </tr>\n",
       "  </tbody>\n",
       "</table>\n",
       "</div>"
      ],
      "text/plain": [
       "                names  gender race/ethnicity parental level of education  \\\n",
       "708   Sharon Matthews  female        group E          associate's degree   \n",
       "880    Shannon Weaver    male        group D           bachelor's degree   \n",
       "1342      Joyce Bland  female        group D            some high school   \n",
       "527     Joseph Alfaro    male        group C                some college   \n",
       "1144      Shawn Frank  female        group C          associate's degree   \n",
       "\n",
       "             lunch test preparation course  math score  reading score  \\\n",
       "708       standard               completed        93.0          100.0   \n",
       "880   free/reduced                    none        50.0           42.0   \n",
       "1342  free/reduced                    none        50.0           64.0   \n",
       "527       standard                    none        59.0           60.0   \n",
       "1144      standard               completed        55.0           72.0   \n",
       "\n",
       "      writing score  \n",
       "708            95.0  \n",
       "880            48.0  \n",
       "1342           59.0  \n",
       "527            58.0  \n",
       "1144           79.0  "
      ]
     },
     "metadata": {},
     "execution_count": 3
    }
   ],
   "metadata": {
    "tags": [],
    "cell_id": "00014-cf0912c5-504c-459e-a7cb-0bfae6cff886",
    "deepnote_cell_type": "code"
   }
  },
  {
   "cell_type": "markdown",
   "source": [
    "\n",
    "<p align=\"center\">\n",
    "  <img src=\"https://media2.giphy.com/media/4FQMuOKR6zQRO/giphy.gif?cid=ecf05e47ii9lhu9tc9tb31d6lafrysp2zyf6u8w3y348mk8t&rid=giphy.gif&ct=g\">\n",
    "</p>\n",
    "\n",
    "\n",
    "Posteriormente, el rector les comenta que la sección de TI posee una base de datos con más de **875** filas, en donde cada fila representa un alumno matriculado. Sin embargo, cree fuertemente que existen errores en esta: solo tiene registro de **875** matriculas. Por este motivo, especula que se han realizado malas prácticas al registrar dichos datos.\n",
    "\n",
    "En consecuencia, el rector les solicita a ustedes como tarea inicial que exploren la base de datos y encuentre posibles falencias dentro de sus registros. Para esto, usted debe estar al tanto que las notas están en una escala que van del **0 al 100** (porcentaje de logro) y **no es posible que un alumno haya dado más de una vez el mismo examen**. Cualquier alumno que posea un valor diferente a esta escala, debería ser eliminado de la base de datos.\n"
   ],
   "metadata": {
    "id": "sgVJGeVMMshn",
    "cell_id": "00014-21b2a755-ee5d-4b46-88cc-1d6ec13f2d8e",
    "deepnote_cell_type": "markdown"
   }
  },
  {
   "cell_type": "markdown",
   "source": [
    "> **Instrucciones**\r\n",
    "\r\n",
    "**Cree una función** que tome un `DataFrame` y que le permita revisar si las diferentes variables que lo componen son coherentes y si es posible observar anomalías en estas. \r\n",
    "\r\n",
    "**To-Do**\r\n",
    "1. [X] Imprimir un mensaje con las dimensiones del Dataframe.\r\n",
    "2. [X] Imprimir un mensaje con los nombres de las columnas que conforman el DataFrame.\r\n",
    "3. [X] Mostrar los primeros 5, los últimos 5 elementos del DataFrame y realice un muestreo de 5 elementos de forma aleatoria.\r\n",
    "4. [X] Mostrar una descripción rápida de las variables numéricas del DataFrame (utilice un método visto en clases).\r\n",
    "5. [X] Imprimir un mensaje con la cantidad de valores nulos (investigue el método `isna()` y `sum()` de los DataFrames).\r\n",
    "6. [X] Imprimir un mensaje que detalle la cantidad de valores unicos (investigue `nunique()`) .\r\n",
    "7. [X] Imprimir un mensaje con el total de filas que contengan nombres duplicados (investigue `duplicated()` y su parámetro `subset`).\r\n",
    "8. [X] Mostrar las filas que contengan nombres sean duplicados (investigue `duplicated()` y su parámetro `subset`).\r\n",
    "9. [X] A traves de `.plot.box()` plotear el boxplot de las notas. De ser necesario, invetigue como funcionan los gráficos de caja (esta sección es provista).\r\n",
    "10. [ ] Finalmente responda la siguiente pregunta:\r\n",
    "\r\n",
    "> ¿Que anomalias es posible observar de los datos que componen el DataFrame? ¿Existen valores nulos o duplicados? ¿Qué puede interpretar de la distribución de las notas en el boxplot? (), comente esto en la celda ubicada debajo de **justificación**.\r\n",
    "\r\n",
    "> **Nota:** Para imprmir utilice `print(...)`. Para mostrar `DataFrames`, utilice `display(...)` ya que este permite mostrar estos elementos como tablas.\r\n",
    "\r\n",
    "> **Nota 2:** Utilice la documentación de [pandas](https://pandas.pydata.org/docs/index.html) como también StackOverflow para resolver cualquier problema o inconveniente.\r\n",
    "\r\n",
    "> **Nota 3:** Si no ha trabajado con boxplot antes, el siguiente link puede serle de mucha ayuda: [boxplot](https://medium.com/dayem-siddiqui/understanding-and-interpreting-box-plots-d07aab9d1b6c) "
   ],
   "metadata": {
    "tags": [],
    "cell_id": "00015-e3e66248-1ff0-488e-8455-35ab2d49d172",
    "deepnote_cell_type": "markdown"
   }
  },
  {
   "cell_type": "markdown",
   "source": [
    "**Respuesta:**"
   ],
   "metadata": {
    "tags": [],
    "cell_id": "00016-f844817e-2dbb-4ef6-8b07-bfb37043bb52",
    "deepnote_cell_type": "markdown"
   }
  },
  {
   "cell_type": "code",
   "execution_count": 4,
   "source": [
    "def exploratory_data_analysis(dataframe):\r\n",
    "    \"\"\"Shows dataframe info.\r\n",
    "\r\n",
    "    Args:\r\n",
    "        dataframe (pd.DataFrame): Some dataframe.\r\n",
    "    \"\"\"\r\n",
    "    print(\"1.- El DataFrame tiene {} filas y {} columnas \\n\".format(*dataframe.shape))\r\n",
    "    print(f\"2.- El DataFrame está compuesto por las siguientes columnas: {list(dataframe.columns)} \\n\")\r\n",
    "    print(\"3.- Ejemplo de filas del DataFrame: \\n\")\r\n",
    "    print(\"Primeras 5 filas:\")\r\n",
    "    display(dataframe.head(5))\r\n",
    "    print(\"Últimas 5 filas:\")\r\n",
    "    display(dataframe.tail(5))\r\n",
    "    print(\"Muestreo aleatorio de 5 filas:\")\r\n",
    "    display(dataframe.sample(5))\r\n",
    "    print(\"4.- Descripción numérica del DataFrame:\")\r\n",
    "    display(dataframe.select_dtypes(include=\"float64\").describe())\r\n",
    "    print(\"5.- Cantidad de valores nulos por columna\")\r\n",
    "    display(dataframe.isna().sum(axis=0))\r\n",
    "    print(\"6.- Cantidad de valores únicos por columna\")\r\n",
    "    display(dataframe.nunique())\r\n",
    "    print(\"7.- Presenta un total de {} filas con nombres duplicados\".format(dataframe.duplicated(subset=\"names\").sum()))\r\n",
    "    print(\"8.- Las filas con nombres duplicados son: \")\r\n",
    "    display(dataframe[dataframe.duplicated(subset=\"names\")])\r\n",
    "    print(\"9.- Boxplot de notad: \")\r\n",
    "    dataframe.plot.box()\r\n"
   ],
   "outputs": [],
   "metadata": {
    "tags": [],
    "cell_id": "00017-5f922af5-3edd-4012-8688-1573576c2703",
    "deepnote_cell_type": "code"
   }
  },
  {
   "cell_type": "markdown",
   "source": [
    "**Justificación:**"
   ],
   "metadata": {
    "id": "nxRj-Hi2QUHQ",
    "cell_id": "00021-f548a297-97a4-4d9b-9501-ae5571aa3068",
    "deepnote_cell_type": "markdown"
   }
  },
  {
   "cell_type": "markdown",
   "source": [
    "```\n",
    "Escriba aquí su justificación\n",
    "```"
   ],
   "metadata": {
    "id": "CR2ZEOcbQW9X",
    "cell_id": "00022-a0fee108-5903-4074-8b11-104b98a94a67",
    "deepnote_cell_type": "markdown"
   }
  },
  {
   "cell_type": "markdown",
   "source": [
    "**Respuesta Esperada:**"
   ],
   "metadata": {
    "id": "45jxMTJHNPC3",
    "cell_id": "00017-b4a9f1a1-c50d-47f6-95af-4ce1416feed7",
    "deepnote_cell_type": "markdown"
   }
  },
  {
   "cell_type": "code",
   "execution_count": 5,
   "source": [
    "exploratory_data_analysis(df_grades)"
   ],
   "outputs": [
    {
     "output_type": "stream",
     "name": "stdout",
     "text": [
      "1.- El DataFrame tiene 1400 filas y 9 columnas \n",
      "\n",
      "2.- El DataFrame está compuesto por las siguientes columnas: ['names', 'gender', 'race/ethnicity', 'parental level of education', 'lunch', 'test preparation course', 'math score', 'reading score', 'writing score'] \n",
      "\n",
      "3.- Ejemplo de filas del DataFrame: \n",
      "\n",
      "Primeras 5 filas:\n"
     ]
    },
    {
     "output_type": "display_data",
     "data": {
      "text/html": [
       "<div>\n",
       "<style scoped>\n",
       "    .dataframe tbody tr th:only-of-type {\n",
       "        vertical-align: middle;\n",
       "    }\n",
       "\n",
       "    .dataframe tbody tr th {\n",
       "        vertical-align: top;\n",
       "    }\n",
       "\n",
       "    .dataframe thead th {\n",
       "        text-align: right;\n",
       "    }\n",
       "</style>\n",
       "<table border=\"1\" class=\"dataframe\">\n",
       "  <thead>\n",
       "    <tr style=\"text-align: right;\">\n",
       "      <th></th>\n",
       "      <th>names</th>\n",
       "      <th>gender</th>\n",
       "      <th>race/ethnicity</th>\n",
       "      <th>parental level of education</th>\n",
       "      <th>lunch</th>\n",
       "      <th>test preparation course</th>\n",
       "      <th>math score</th>\n",
       "      <th>reading score</th>\n",
       "      <th>writing score</th>\n",
       "    </tr>\n",
       "  </thead>\n",
       "  <tbody>\n",
       "    <tr>\n",
       "      <th>0</th>\n",
       "      <td>Rita Courtney</td>\n",
       "      <td>female</td>\n",
       "      <td>group B</td>\n",
       "      <td>some high school</td>\n",
       "      <td>standard</td>\n",
       "      <td>none</td>\n",
       "      <td>37.0</td>\n",
       "      <td>46.0</td>\n",
       "      <td>46.0</td>\n",
       "    </tr>\n",
       "    <tr>\n",
       "      <th>1</th>\n",
       "      <td>Madeline Fuller</td>\n",
       "      <td>female</td>\n",
       "      <td>group C</td>\n",
       "      <td>some high school</td>\n",
       "      <td>standard</td>\n",
       "      <td>none</td>\n",
       "      <td>124.0</td>\n",
       "      <td>142.0</td>\n",
       "      <td>142.0</td>\n",
       "    </tr>\n",
       "    <tr>\n",
       "      <th>2</th>\n",
       "      <td>Daniel Rester</td>\n",
       "      <td>male</td>\n",
       "      <td>group E</td>\n",
       "      <td>associate's degree</td>\n",
       "      <td>standard</td>\n",
       "      <td>none</td>\n",
       "      <td>156.0</td>\n",
       "      <td>196.0</td>\n",
       "      <td>193.0</td>\n",
       "    </tr>\n",
       "    <tr>\n",
       "      <th>3</th>\n",
       "      <td>Charles Linstrom</td>\n",
       "      <td>male</td>\n",
       "      <td>group A</td>\n",
       "      <td>bachelor's degree</td>\n",
       "      <td>standard</td>\n",
       "      <td>completed</td>\n",
       "      <td>80.0</td>\n",
       "      <td>78.0</td>\n",
       "      <td>81.0</td>\n",
       "    </tr>\n",
       "    <tr>\n",
       "      <th>4</th>\n",
       "      <td>Geraldine Hale</td>\n",
       "      <td>female</td>\n",
       "      <td>group A</td>\n",
       "      <td>associate's degree</td>\n",
       "      <td>standard</td>\n",
       "      <td>none</td>\n",
       "      <td>131.0</td>\n",
       "      <td>166.0</td>\n",
       "      <td>166.0</td>\n",
       "    </tr>\n",
       "  </tbody>\n",
       "</table>\n",
       "</div>"
      ],
      "text/plain": [
       "              names  gender race/ethnicity parental level of education  \\\n",
       "0     Rita Courtney  female        group B            some high school   \n",
       "1   Madeline Fuller  female        group C            some high school   \n",
       "2     Daniel Rester    male        group E          associate's degree   \n",
       "3  Charles Linstrom    male        group A           bachelor's degree   \n",
       "4    Geraldine Hale  female        group A          associate's degree   \n",
       "\n",
       "      lunch test preparation course  math score  reading score  writing score  \n",
       "0  standard                    none        37.0           46.0           46.0  \n",
       "1  standard                    none       124.0          142.0          142.0  \n",
       "2  standard                    none       156.0          196.0          193.0  \n",
       "3  standard               completed        80.0           78.0           81.0  \n",
       "4  standard                    none       131.0          166.0          166.0  "
      ]
     },
     "metadata": {}
    },
    {
     "output_type": "stream",
     "name": "stdout",
     "text": [
      "Últimas 5 filas:\n"
     ]
    },
    {
     "output_type": "display_data",
     "data": {
      "text/html": [
       "<div>\n",
       "<style scoped>\n",
       "    .dataframe tbody tr th:only-of-type {\n",
       "        vertical-align: middle;\n",
       "    }\n",
       "\n",
       "    .dataframe tbody tr th {\n",
       "        vertical-align: top;\n",
       "    }\n",
       "\n",
       "    .dataframe thead th {\n",
       "        text-align: right;\n",
       "    }\n",
       "</style>\n",
       "<table border=\"1\" class=\"dataframe\">\n",
       "  <thead>\n",
       "    <tr style=\"text-align: right;\">\n",
       "      <th></th>\n",
       "      <th>names</th>\n",
       "      <th>gender</th>\n",
       "      <th>race/ethnicity</th>\n",
       "      <th>parental level of education</th>\n",
       "      <th>lunch</th>\n",
       "      <th>test preparation course</th>\n",
       "      <th>math score</th>\n",
       "      <th>reading score</th>\n",
       "      <th>writing score</th>\n",
       "    </tr>\n",
       "  </thead>\n",
       "  <tbody>\n",
       "    <tr>\n",
       "      <th>1395</th>\n",
       "      <td>Alexander Dillon</td>\n",
       "      <td>male</td>\n",
       "      <td>group D</td>\n",
       "      <td>associate's degree</td>\n",
       "      <td>standard</td>\n",
       "      <td>none</td>\n",
       "      <td>193.0</td>\n",
       "      <td>142.0</td>\n",
       "      <td>193.0</td>\n",
       "    </tr>\n",
       "    <tr>\n",
       "      <th>1396</th>\n",
       "      <td>Marina Zeigler</td>\n",
       "      <td>female</td>\n",
       "      <td>group C</td>\n",
       "      <td>bachelor's degree</td>\n",
       "      <td>free/reduced</td>\n",
       "      <td>completed</td>\n",
       "      <td>66.0</td>\n",
       "      <td>74.0</td>\n",
       "      <td>81.0</td>\n",
       "    </tr>\n",
       "    <tr>\n",
       "      <th>1397</th>\n",
       "      <td>Laurie Carter</td>\n",
       "      <td>female</td>\n",
       "      <td>group B</td>\n",
       "      <td>some high school</td>\n",
       "      <td>standard</td>\n",
       "      <td>completed</td>\n",
       "      <td>54.0</td>\n",
       "      <td>61.0</td>\n",
       "      <td>62.0</td>\n",
       "    </tr>\n",
       "    <tr>\n",
       "      <th>1398</th>\n",
       "      <td>Joseph Mccoy</td>\n",
       "      <td>male</td>\n",
       "      <td>group D</td>\n",
       "      <td>some college</td>\n",
       "      <td>free/reduced</td>\n",
       "      <td>none</td>\n",
       "      <td>193.0</td>\n",
       "      <td>196.0</td>\n",
       "      <td>193.0</td>\n",
       "    </tr>\n",
       "    <tr>\n",
       "      <th>1399</th>\n",
       "      <td>Amanda Perez</td>\n",
       "      <td>female</td>\n",
       "      <td>group A</td>\n",
       "      <td>high school</td>\n",
       "      <td>standard</td>\n",
       "      <td>completed</td>\n",
       "      <td>68.0</td>\n",
       "      <td>80.0</td>\n",
       "      <td>76.0</td>\n",
       "    </tr>\n",
       "  </tbody>\n",
       "</table>\n",
       "</div>"
      ],
      "text/plain": [
       "                 names  gender race/ethnicity parental level of education  \\\n",
       "1395  Alexander Dillon    male        group D          associate's degree   \n",
       "1396    Marina Zeigler  female        group C           bachelor's degree   \n",
       "1397     Laurie Carter  female        group B            some high school   \n",
       "1398      Joseph Mccoy    male        group D                some college   \n",
       "1399      Amanda Perez  female        group A                 high school   \n",
       "\n",
       "             lunch test preparation course  math score  reading score  \\\n",
       "1395      standard                    none       193.0          142.0   \n",
       "1396  free/reduced               completed        66.0           74.0   \n",
       "1397      standard               completed        54.0           61.0   \n",
       "1398  free/reduced                    none       193.0          196.0   \n",
       "1399      standard               completed        68.0           80.0   \n",
       "\n",
       "      writing score  \n",
       "1395          193.0  \n",
       "1396           81.0  \n",
       "1397           62.0  \n",
       "1398          193.0  \n",
       "1399           76.0  "
      ]
     },
     "metadata": {}
    },
    {
     "output_type": "stream",
     "name": "stdout",
     "text": [
      "Muestreo aleatorio de 5 filas:\n"
     ]
    },
    {
     "output_type": "display_data",
     "data": {
      "text/html": [
       "<div>\n",
       "<style scoped>\n",
       "    .dataframe tbody tr th:only-of-type {\n",
       "        vertical-align: middle;\n",
       "    }\n",
       "\n",
       "    .dataframe tbody tr th {\n",
       "        vertical-align: top;\n",
       "    }\n",
       "\n",
       "    .dataframe thead th {\n",
       "        text-align: right;\n",
       "    }\n",
       "</style>\n",
       "<table border=\"1\" class=\"dataframe\">\n",
       "  <thead>\n",
       "    <tr style=\"text-align: right;\">\n",
       "      <th></th>\n",
       "      <th>names</th>\n",
       "      <th>gender</th>\n",
       "      <th>race/ethnicity</th>\n",
       "      <th>parental level of education</th>\n",
       "      <th>lunch</th>\n",
       "      <th>test preparation course</th>\n",
       "      <th>math score</th>\n",
       "      <th>reading score</th>\n",
       "      <th>writing score</th>\n",
       "    </tr>\n",
       "  </thead>\n",
       "  <tbody>\n",
       "    <tr>\n",
       "      <th>401</th>\n",
       "      <td>Shirley Damon</td>\n",
       "      <td>female</td>\n",
       "      <td>group C</td>\n",
       "      <td>bachelor's degree</td>\n",
       "      <td>free/reduced</td>\n",
       "      <td>none</td>\n",
       "      <td>62.0</td>\n",
       "      <td>78.0</td>\n",
       "      <td>79.0</td>\n",
       "    </tr>\n",
       "    <tr>\n",
       "      <th>430</th>\n",
       "      <td>Charles Suggs</td>\n",
       "      <td>male</td>\n",
       "      <td>group C</td>\n",
       "      <td>some college</td>\n",
       "      <td>free/reduced</td>\n",
       "      <td>none</td>\n",
       "      <td>74.0</td>\n",
       "      <td>77.0</td>\n",
       "      <td>73.0</td>\n",
       "    </tr>\n",
       "    <tr>\n",
       "      <th>1020</th>\n",
       "      <td>David Moya</td>\n",
       "      <td>male</td>\n",
       "      <td>group B</td>\n",
       "      <td>bachelor's degree</td>\n",
       "      <td>standard</td>\n",
       "      <td>none</td>\n",
       "      <td>66.0</td>\n",
       "      <td>60.0</td>\n",
       "      <td>57.0</td>\n",
       "    </tr>\n",
       "    <tr>\n",
       "      <th>1073</th>\n",
       "      <td>Lawanda Wernimont</td>\n",
       "      <td>female</td>\n",
       "      <td>group D</td>\n",
       "      <td>some college</td>\n",
       "      <td>standard</td>\n",
       "      <td>completed</td>\n",
       "      <td>193.0</td>\n",
       "      <td>142.0</td>\n",
       "      <td>193.0</td>\n",
       "    </tr>\n",
       "    <tr>\n",
       "      <th>274</th>\n",
       "      <td>David Lafave</td>\n",
       "      <td>male</td>\n",
       "      <td>group C</td>\n",
       "      <td>associate's degree</td>\n",
       "      <td>standard</td>\n",
       "      <td>completed</td>\n",
       "      <td>73.0</td>\n",
       "      <td>78.0</td>\n",
       "      <td>72.0</td>\n",
       "    </tr>\n",
       "  </tbody>\n",
       "</table>\n",
       "</div>"
      ],
      "text/plain": [
       "                  names  gender race/ethnicity parental level of education  \\\n",
       "401       Shirley Damon  female        group C           bachelor's degree   \n",
       "430       Charles Suggs    male        group C                some college   \n",
       "1020         David Moya    male        group B           bachelor's degree   \n",
       "1073  Lawanda Wernimont  female        group D                some college   \n",
       "274        David Lafave    male        group C          associate's degree   \n",
       "\n",
       "             lunch test preparation course  math score  reading score  \\\n",
       "401   free/reduced                    none        62.0           78.0   \n",
       "430   free/reduced                    none        74.0           77.0   \n",
       "1020      standard                    none        66.0           60.0   \n",
       "1073      standard               completed       193.0          142.0   \n",
       "274       standard               completed        73.0           78.0   \n",
       "\n",
       "      writing score  \n",
       "401            79.0  \n",
       "430            73.0  \n",
       "1020           57.0  \n",
       "1073          193.0  \n",
       "274            72.0  "
      ]
     },
     "metadata": {}
    },
    {
     "output_type": "stream",
     "name": "stdout",
     "text": [
      "4.- Descripción numérica del DataFrame:\n"
     ]
    },
    {
     "output_type": "display_data",
     "data": {
      "text/html": [
       "<div>\n",
       "<style scoped>\n",
       "    .dataframe tbody tr th:only-of-type {\n",
       "        vertical-align: middle;\n",
       "    }\n",
       "\n",
       "    .dataframe tbody tr th {\n",
       "        vertical-align: top;\n",
       "    }\n",
       "\n",
       "    .dataframe thead th {\n",
       "        text-align: right;\n",
       "    }\n",
       "</style>\n",
       "<table border=\"1\" class=\"dataframe\">\n",
       "  <thead>\n",
       "    <tr style=\"text-align: right;\">\n",
       "      <th></th>\n",
       "      <th>math score</th>\n",
       "      <th>reading score</th>\n",
       "      <th>writing score</th>\n",
       "    </tr>\n",
       "  </thead>\n",
       "  <tbody>\n",
       "    <tr>\n",
       "      <th>count</th>\n",
       "      <td>1360.000000</td>\n",
       "      <td>1360.000000</td>\n",
       "      <td>1353.000000</td>\n",
       "    </tr>\n",
       "    <tr>\n",
       "      <th>mean</th>\n",
       "      <td>89.538971</td>\n",
       "      <td>93.086029</td>\n",
       "      <td>91.852919</td>\n",
       "    </tr>\n",
       "    <tr>\n",
       "      <th>std</th>\n",
       "      <td>47.152422</td>\n",
       "      <td>46.385775</td>\n",
       "      <td>47.043570</td>\n",
       "    </tr>\n",
       "    <tr>\n",
       "      <th>min</th>\n",
       "      <td>0.000000</td>\n",
       "      <td>17.000000</td>\n",
       "      <td>10.000000</td>\n",
       "    </tr>\n",
       "    <tr>\n",
       "      <th>25%</th>\n",
       "      <td>59.000000</td>\n",
       "      <td>63.000000</td>\n",
       "      <td>62.000000</td>\n",
       "    </tr>\n",
       "    <tr>\n",
       "      <th>50%</th>\n",
       "      <td>72.000000</td>\n",
       "      <td>76.000000</td>\n",
       "      <td>75.000000</td>\n",
       "    </tr>\n",
       "    <tr>\n",
       "      <th>75%</th>\n",
       "      <td>97.250000</td>\n",
       "      <td>100.000000</td>\n",
       "      <td>100.000000</td>\n",
       "    </tr>\n",
       "    <tr>\n",
       "      <th>max</th>\n",
       "      <td>196.000000</td>\n",
       "      <td>196.000000</td>\n",
       "      <td>196.000000</td>\n",
       "    </tr>\n",
       "  </tbody>\n",
       "</table>\n",
       "</div>"
      ],
      "text/plain": [
       "        math score  reading score  writing score\n",
       "count  1360.000000    1360.000000    1353.000000\n",
       "mean     89.538971      93.086029      91.852919\n",
       "std      47.152422      46.385775      47.043570\n",
       "min       0.000000      17.000000      10.000000\n",
       "25%      59.000000      63.000000      62.000000\n",
       "50%      72.000000      76.000000      75.000000\n",
       "75%      97.250000     100.000000     100.000000\n",
       "max     196.000000     196.000000     196.000000"
      ]
     },
     "metadata": {}
    },
    {
     "output_type": "stream",
     "name": "stdout",
     "text": [
      "5.- Cantidad de valores nulos por columna\n"
     ]
    },
    {
     "output_type": "display_data",
     "data": {
      "text/plain": [
       "names                           0\n",
       "gender                          0\n",
       "race/ethnicity                  0\n",
       "parental level of education     0\n",
       "lunch                           0\n",
       "test preparation course         0\n",
       "math score                     40\n",
       "reading score                  40\n",
       "writing score                  47\n",
       "dtype: int64"
      ]
     },
     "metadata": {}
    },
    {
     "output_type": "stream",
     "name": "stdout",
     "text": [
      "6.- Cantidad de valores únicos por columna\n"
     ]
    },
    {
     "output_type": "display_data",
     "data": {
      "text/plain": [
       "names                          1153\n",
       "gender                            2\n",
       "race/ethnicity                    5\n",
       "parental level of education       6\n",
       "lunch                             2\n",
       "test preparation course           2\n",
       "math score                       96\n",
       "reading score                    88\n",
       "writing score                    92\n",
       "dtype: int64"
      ]
     },
     "metadata": {}
    },
    {
     "output_type": "stream",
     "name": "stdout",
     "text": [
      "7.- Presenta un total de 247 filas con nombres duplicados\n",
      "8.- Las filas con nombres duplicados son: \n"
     ]
    },
    {
     "output_type": "display_data",
     "data": {
      "text/html": [
       "<div>\n",
       "<style scoped>\n",
       "    .dataframe tbody tr th:only-of-type {\n",
       "        vertical-align: middle;\n",
       "    }\n",
       "\n",
       "    .dataframe tbody tr th {\n",
       "        vertical-align: top;\n",
       "    }\n",
       "\n",
       "    .dataframe thead th {\n",
       "        text-align: right;\n",
       "    }\n",
       "</style>\n",
       "<table border=\"1\" class=\"dataframe\">\n",
       "  <thead>\n",
       "    <tr style=\"text-align: right;\">\n",
       "      <th></th>\n",
       "      <th>names</th>\n",
       "      <th>gender</th>\n",
       "      <th>race/ethnicity</th>\n",
       "      <th>parental level of education</th>\n",
       "      <th>lunch</th>\n",
       "      <th>test preparation course</th>\n",
       "      <th>math score</th>\n",
       "      <th>reading score</th>\n",
       "      <th>writing score</th>\n",
       "    </tr>\n",
       "  </thead>\n",
       "  <tbody>\n",
       "    <tr>\n",
       "      <th>12</th>\n",
       "      <td>Rita Courtney</td>\n",
       "      <td>female</td>\n",
       "      <td>group B</td>\n",
       "      <td>some high school</td>\n",
       "      <td>standard</td>\n",
       "      <td>none</td>\n",
       "      <td>193.0</td>\n",
       "      <td>193.0</td>\n",
       "      <td>193.0</td>\n",
       "    </tr>\n",
       "    <tr>\n",
       "      <th>81</th>\n",
       "      <td>Elizabeth Quintero</td>\n",
       "      <td>female</td>\n",
       "      <td>group B</td>\n",
       "      <td>some college</td>\n",
       "      <td>standard</td>\n",
       "      <td>none</td>\n",
       "      <td>82.0</td>\n",
       "      <td>85.0</td>\n",
       "      <td>87.0</td>\n",
       "    </tr>\n",
       "    <tr>\n",
       "      <th>160</th>\n",
       "      <td>Michelle Gonzales</td>\n",
       "      <td>female</td>\n",
       "      <td>group B</td>\n",
       "      <td>some high school</td>\n",
       "      <td>standard</td>\n",
       "      <td>completed</td>\n",
       "      <td>60.0</td>\n",
       "      <td>70.0</td>\n",
       "      <td>74.0</td>\n",
       "    </tr>\n",
       "    <tr>\n",
       "      <th>170</th>\n",
       "      <td>Carla Mendoza</td>\n",
       "      <td>female</td>\n",
       "      <td>group D</td>\n",
       "      <td>associate's degree</td>\n",
       "      <td>free/reduced</td>\n",
       "      <td>none</td>\n",
       "      <td>43.0</td>\n",
       "      <td>60.0</td>\n",
       "      <td>58.0</td>\n",
       "    </tr>\n",
       "    <tr>\n",
       "      <th>176</th>\n",
       "      <td>Darlene Parker</td>\n",
       "      <td>female</td>\n",
       "      <td>group C</td>\n",
       "      <td>associate's degree</td>\n",
       "      <td>standard</td>\n",
       "      <td>none</td>\n",
       "      <td>54.0</td>\n",
       "      <td>61.0</td>\n",
       "      <td>58.0</td>\n",
       "    </tr>\n",
       "    <tr>\n",
       "      <th>...</th>\n",
       "      <td>...</td>\n",
       "      <td>...</td>\n",
       "      <td>...</td>\n",
       "      <td>...</td>\n",
       "      <td>...</td>\n",
       "      <td>...</td>\n",
       "      <td>...</td>\n",
       "      <td>...</td>\n",
       "      <td>...</td>\n",
       "    </tr>\n",
       "    <tr>\n",
       "      <th>1385</th>\n",
       "      <td>James Crawford</td>\n",
       "      <td>male</td>\n",
       "      <td>group D</td>\n",
       "      <td>master's degree</td>\n",
       "      <td>standard</td>\n",
       "      <td>none</td>\n",
       "      <td>193.0</td>\n",
       "      <td>147.0</td>\n",
       "      <td>131.0</td>\n",
       "    </tr>\n",
       "    <tr>\n",
       "      <th>1390</th>\n",
       "      <td>Gloria Bradford</td>\n",
       "      <td>female</td>\n",
       "      <td>group B</td>\n",
       "      <td>high school</td>\n",
       "      <td>standard</td>\n",
       "      <td>none</td>\n",
       "      <td>124.0</td>\n",
       "      <td>64.0</td>\n",
       "      <td>193.0</td>\n",
       "    </tr>\n",
       "    <tr>\n",
       "      <th>1393</th>\n",
       "      <td>Adam Romero</td>\n",
       "      <td>male</td>\n",
       "      <td>group C</td>\n",
       "      <td>high school</td>\n",
       "      <td>standard</td>\n",
       "      <td>completed</td>\n",
       "      <td>124.0</td>\n",
       "      <td>193.0</td>\n",
       "      <td>49.0</td>\n",
       "    </tr>\n",
       "    <tr>\n",
       "      <th>1395</th>\n",
       "      <td>Alexander Dillon</td>\n",
       "      <td>male</td>\n",
       "      <td>group D</td>\n",
       "      <td>associate's degree</td>\n",
       "      <td>standard</td>\n",
       "      <td>none</td>\n",
       "      <td>193.0</td>\n",
       "      <td>142.0</td>\n",
       "      <td>193.0</td>\n",
       "    </tr>\n",
       "    <tr>\n",
       "      <th>1398</th>\n",
       "      <td>Joseph Mccoy</td>\n",
       "      <td>male</td>\n",
       "      <td>group D</td>\n",
       "      <td>some college</td>\n",
       "      <td>free/reduced</td>\n",
       "      <td>none</td>\n",
       "      <td>193.0</td>\n",
       "      <td>196.0</td>\n",
       "      <td>193.0</td>\n",
       "    </tr>\n",
       "  </tbody>\n",
       "</table>\n",
       "<p>247 rows × 9 columns</p>\n",
       "</div>"
      ],
      "text/plain": [
       "                   names  gender race/ethnicity parental level of education  \\\n",
       "12         Rita Courtney  female        group B            some high school   \n",
       "81    Elizabeth Quintero  female        group B                some college   \n",
       "160    Michelle Gonzales  female        group B            some high school   \n",
       "170        Carla Mendoza  female        group D          associate's degree   \n",
       "176       Darlene Parker  female        group C          associate's degree   \n",
       "...                  ...     ...            ...                         ...   \n",
       "1385      James Crawford    male        group D             master's degree   \n",
       "1390     Gloria Bradford  female        group B                 high school   \n",
       "1393         Adam Romero    male        group C                 high school   \n",
       "1395    Alexander Dillon    male        group D          associate's degree   \n",
       "1398        Joseph Mccoy    male        group D                some college   \n",
       "\n",
       "             lunch test preparation course  math score  reading score  \\\n",
       "12        standard                    none       193.0          193.0   \n",
       "81        standard                    none        82.0           85.0   \n",
       "160       standard               completed        60.0           70.0   \n",
       "170   free/reduced                    none        43.0           60.0   \n",
       "176       standard                    none        54.0           61.0   \n",
       "...            ...                     ...         ...            ...   \n",
       "1385      standard                    none       193.0          147.0   \n",
       "1390      standard                    none       124.0           64.0   \n",
       "1393      standard               completed       124.0          193.0   \n",
       "1395      standard                    none       193.0          142.0   \n",
       "1398  free/reduced                    none       193.0          196.0   \n",
       "\n",
       "      writing score  \n",
       "12            193.0  \n",
       "81             87.0  \n",
       "160            74.0  \n",
       "170            58.0  \n",
       "176            58.0  \n",
       "...             ...  \n",
       "1385          131.0  \n",
       "1390          193.0  \n",
       "1393           49.0  \n",
       "1395          193.0  \n",
       "1398          193.0  \n",
       "\n",
       "[247 rows x 9 columns]"
      ]
     },
     "metadata": {}
    },
    {
     "output_type": "stream",
     "name": "stdout",
     "text": [
      "9.- Boxplot de notad: \n"
     ]
    },
    {
     "output_type": "display_data",
     "data": {
      "image/png": "[encoded data removed]",
      "text/plain": [
       "<Figure size 432x288 with 1 Axes>"
      ]
     },
     "metadata": {
      "needs_background": "light"
     }
    }
   ],
   "metadata": {
    "colab": {
     "base_uri": "https://localhost:8080/",
     "height": 1000
    },
    "id": "Vu2Y7Q4wuBXg",
    "executionInfo": {
     "status": "ok",
     "timestamp": 1619205954456,
     "user_tz": 240,
     "elapsed": 565,
     "user": {
      "displayName": "IGNACIO ALEJANDRO MEZA",
      "photoUrl": "",
      "userId": "17011121633069169364"
     }
    },
    "outputId": "589784c1-3dc8-4c6a-c63d-2d0aa4211878",
    "deepnote_to_be_reexecuted": false,
    "source_hash": "fc6a5c17",
    "execution_start": 1632493422320,
    "execution_millis": 1940,
    "cell_id": "00020-9bc24dfa-b47a-4545-8336-6470008a1527",
    "deepnote_cell_type": "code"
   }
  },
  {
   "cell_type": "markdown",
   "source": [
    "## 1.2 Limpieza de Datos [1 punto]\n",
    "\n",
    "<p align=\"center\">\n",
    "  <img src=\"https://media3.giphy.com/media/c09yGbnSyaFRS/giphy.gif?cid=ecf05e47d0ejjjnpfj0ywcbwz7zk7sw2rfdpis890gmdpvj2&rid=giphy.gif&ct=g\">\n",
    "</p>\n"
   ],
   "metadata": {
    "id": "YJfqPXFZjQiA",
    "cell_id": "00023-ff3bb417-54d5-425c-9dfc-d6bb2115277e",
    "deepnote_cell_type": "markdown"
   }
  },
  {
   "cell_type": "markdown",
   "source": [
    "En base a lo realizado anteriormente, realice una limpieza de los dataset. Asuma los supuestos señalados en la pregunta anterior para limpiar el `DataFrame` y cree una función que le permita limpiar los datos. Una vez limpiado cada uno de los `DataFrames` compruebe nuevamente los datos con la función creada en la sección 1.1.\n",
    "\n",
    "**To-Do:**\n",
    "\n",
    "- [ ] Crear función que permita limpiar el dataset.\n",
    "- [ ] Comprobar que no existen anomalías en los datos a traves de la función de la sección 1.1.\n",
    "\n",
    "**Hint**\n",
    "\n",
    "Puede ser útil los métodos ```.drop_duplicates()``` y ```.dropna()``` como también utilizar queries con máscaras booleanas.\n"
   ],
   "metadata": {
    "id": "syO5lHKvv6Wt",
    "cell_id": "00024-a0d43035-41b5-4b1c-99c6-f93dc8847789",
    "deepnote_cell_type": "markdown"
   }
  },
  {
   "cell_type": "markdown",
   "source": [
    "**Respuesta:**"
   ],
   "metadata": {
    "tags": [],
    "cell_id": "00025-7728a191-b359-4030-ac04-3b7d9070c53d",
    "deepnote_cell_type": "markdown"
   }
  },
  {
   "cell_type": "code",
   "execution_count": 6,
   "source": [
    "# We must delete repeated names and only consider the one with \r\n",
    "# scores in [0,...,100].\r\n",
    "def clean_data(dataframe):\r\n",
    "    \"\"\"Data cleaner.\r\n",
    "\r\n",
    "    Args:\r\n",
    "        dataframe (pd.DataFrame): [description]\r\n",
    "    \"\"\"\r\n",
    "    # Keep scores between 0 and 100 (inclusive) only.\r\n",
    "    interval = np.arange(0, 101, 1)\r\n",
    "    out = dataframe[dataframe[\"math score\"].isin(interval)\\\r\n",
    "                        & dataframe[\"reading score\"].isin(interval)\\\r\n",
    "                        & dataframe[\"writing score\"].isin(interval)]\r\n",
    "    # Drop rows with nan values and duplicated and reset index.\r\n",
    "    out = out.dropna().drop_duplicates(subset=[\"names\"], keep='first').reset_index(drop=True)\r\n",
    "    return out\r\n",
    "    \r\n",
    "df_grades = clean_data(df_grades)\r\n",
    "df_grades\r\n",
    "#exploratory_data_analysis(df_grades)"
   ],
   "outputs": [
    {
     "output_type": "execute_result",
     "data": {
      "text/html": [
       "<div>\n",
       "<style scoped>\n",
       "    .dataframe tbody tr th:only-of-type {\n",
       "        vertical-align: middle;\n",
       "    }\n",
       "\n",
       "    .dataframe tbody tr th {\n",
       "        vertical-align: top;\n",
       "    }\n",
       "\n",
       "    .dataframe thead th {\n",
       "        text-align: right;\n",
       "    }\n",
       "</style>\n",
       "<table border=\"1\" class=\"dataframe\">\n",
       "  <thead>\n",
       "    <tr style=\"text-align: right;\">\n",
       "      <th></th>\n",
       "      <th>names</th>\n",
       "      <th>gender</th>\n",
       "      <th>race/ethnicity</th>\n",
       "      <th>parental level of education</th>\n",
       "      <th>lunch</th>\n",
       "      <th>test preparation course</th>\n",
       "      <th>math score</th>\n",
       "      <th>reading score</th>\n",
       "      <th>writing score</th>\n",
       "    </tr>\n",
       "  </thead>\n",
       "  <tbody>\n",
       "    <tr>\n",
       "      <th>0</th>\n",
       "      <td>Rita Courtney</td>\n",
       "      <td>female</td>\n",
       "      <td>group B</td>\n",
       "      <td>some high school</td>\n",
       "      <td>standard</td>\n",
       "      <td>none</td>\n",
       "      <td>37.0</td>\n",
       "      <td>46.0</td>\n",
       "      <td>46.0</td>\n",
       "    </tr>\n",
       "    <tr>\n",
       "      <th>1</th>\n",
       "      <td>Charles Linstrom</td>\n",
       "      <td>male</td>\n",
       "      <td>group A</td>\n",
       "      <td>bachelor's degree</td>\n",
       "      <td>standard</td>\n",
       "      <td>completed</td>\n",
       "      <td>80.0</td>\n",
       "      <td>78.0</td>\n",
       "      <td>81.0</td>\n",
       "    </tr>\n",
       "    <tr>\n",
       "      <th>2</th>\n",
       "      <td>Brian Young</td>\n",
       "      <td>male</td>\n",
       "      <td>group C</td>\n",
       "      <td>some high school</td>\n",
       "      <td>standard</td>\n",
       "      <td>none</td>\n",
       "      <td>73.0</td>\n",
       "      <td>66.0</td>\n",
       "      <td>63.0</td>\n",
       "    </tr>\n",
       "    <tr>\n",
       "      <th>3</th>\n",
       "      <td>Howard Jimenez</td>\n",
       "      <td>male</td>\n",
       "      <td>group E</td>\n",
       "      <td>some high school</td>\n",
       "      <td>standard</td>\n",
       "      <td>completed</td>\n",
       "      <td>81.0</td>\n",
       "      <td>75.0</td>\n",
       "      <td>76.0</td>\n",
       "    </tr>\n",
       "    <tr>\n",
       "      <th>4</th>\n",
       "      <td>Wayne Wilson</td>\n",
       "      <td>male</td>\n",
       "      <td>group B</td>\n",
       "      <td>some high school</td>\n",
       "      <td>standard</td>\n",
       "      <td>completed</td>\n",
       "      <td>94.0</td>\n",
       "      <td>86.0</td>\n",
       "      <td>87.0</td>\n",
       "    </tr>\n",
       "    <tr>\n",
       "      <th>...</th>\n",
       "      <td>...</td>\n",
       "      <td>...</td>\n",
       "      <td>...</td>\n",
       "      <td>...</td>\n",
       "      <td>...</td>\n",
       "      <td>...</td>\n",
       "      <td>...</td>\n",
       "      <td>...</td>\n",
       "      <td>...</td>\n",
       "    </tr>\n",
       "    <tr>\n",
       "      <th>995</th>\n",
       "      <td>Richard Young</td>\n",
       "      <td>male</td>\n",
       "      <td>group D</td>\n",
       "      <td>high school</td>\n",
       "      <td>standard</td>\n",
       "      <td>none</td>\n",
       "      <td>69.0</td>\n",
       "      <td>75.0</td>\n",
       "      <td>71.0</td>\n",
       "    </tr>\n",
       "    <tr>\n",
       "      <th>996</th>\n",
       "      <td>Wanda Russell</td>\n",
       "      <td>female</td>\n",
       "      <td>group B</td>\n",
       "      <td>high school</td>\n",
       "      <td>free/reduced</td>\n",
       "      <td>completed</td>\n",
       "      <td>23.0</td>\n",
       "      <td>44.0</td>\n",
       "      <td>36.0</td>\n",
       "    </tr>\n",
       "    <tr>\n",
       "      <th>997</th>\n",
       "      <td>Marina Zeigler</td>\n",
       "      <td>female</td>\n",
       "      <td>group C</td>\n",
       "      <td>bachelor's degree</td>\n",
       "      <td>free/reduced</td>\n",
       "      <td>completed</td>\n",
       "      <td>66.0</td>\n",
       "      <td>74.0</td>\n",
       "      <td>81.0</td>\n",
       "    </tr>\n",
       "    <tr>\n",
       "      <th>998</th>\n",
       "      <td>Laurie Carter</td>\n",
       "      <td>female</td>\n",
       "      <td>group B</td>\n",
       "      <td>some high school</td>\n",
       "      <td>standard</td>\n",
       "      <td>completed</td>\n",
       "      <td>54.0</td>\n",
       "      <td>61.0</td>\n",
       "      <td>62.0</td>\n",
       "    </tr>\n",
       "    <tr>\n",
       "      <th>999</th>\n",
       "      <td>Amanda Perez</td>\n",
       "      <td>female</td>\n",
       "      <td>group A</td>\n",
       "      <td>high school</td>\n",
       "      <td>standard</td>\n",
       "      <td>completed</td>\n",
       "      <td>68.0</td>\n",
       "      <td>80.0</td>\n",
       "      <td>76.0</td>\n",
       "    </tr>\n",
       "  </tbody>\n",
       "</table>\n",
       "<p>1000 rows × 9 columns</p>\n",
       "</div>"
      ],
      "text/plain": [
       "                names  gender race/ethnicity parental level of education  \\\n",
       "0       Rita Courtney  female        group B            some high school   \n",
       "1    Charles Linstrom    male        group A           bachelor's degree   \n",
       "2         Brian Young    male        group C            some high school   \n",
       "3      Howard Jimenez    male        group E            some high school   \n",
       "4        Wayne Wilson    male        group B            some high school   \n",
       "..                ...     ...            ...                         ...   \n",
       "995     Richard Young    male        group D                 high school   \n",
       "996     Wanda Russell  female        group B                 high school   \n",
       "997    Marina Zeigler  female        group C           bachelor's degree   \n",
       "998     Laurie Carter  female        group B            some high school   \n",
       "999      Amanda Perez  female        group A                 high school   \n",
       "\n",
       "            lunch test preparation course  math score  reading score  \\\n",
       "0        standard                    none        37.0           46.0   \n",
       "1        standard               completed        80.0           78.0   \n",
       "2        standard                    none        73.0           66.0   \n",
       "3        standard               completed        81.0           75.0   \n",
       "4        standard               completed        94.0           86.0   \n",
       "..            ...                     ...         ...            ...   \n",
       "995      standard                    none        69.0           75.0   \n",
       "996  free/reduced               completed        23.0           44.0   \n",
       "997  free/reduced               completed        66.0           74.0   \n",
       "998      standard               completed        54.0           61.0   \n",
       "999      standard               completed        68.0           80.0   \n",
       "\n",
       "     writing score  \n",
       "0             46.0  \n",
       "1             81.0  \n",
       "2             63.0  \n",
       "3             76.0  \n",
       "4             87.0  \n",
       "..             ...  \n",
       "995           71.0  \n",
       "996           36.0  \n",
       "997           81.0  \n",
       "998           62.0  \n",
       "999           76.0  \n",
       "\n",
       "[1000 rows x 9 columns]"
      ]
     },
     "metadata": {},
     "execution_count": 6
    }
   ],
   "metadata": {
    "colab": {
     "base_uri": "https://localhost:8080/",
     "height": 419
    },
    "id": "Vl6MkQYHhXao",
    "executionInfo": {
     "status": "ok",
     "timestamp": 1619205960363,
     "user_tz": 240,
     "elapsed": 571,
     "user": {
      "displayName": "IGNACIO ALEJANDRO MEZA",
      "photoUrl": "",
      "userId": "17011121633069169364"
     }
    },
    "outputId": "f070312b-113e-4e31-f676-3ed33e06ef91",
    "deepnote_to_be_reexecuted": false,
    "source_hash": "2f2b6eb",
    "execution_start": 1632493424310,
    "execution_millis": 73,
    "cell_id": "00027-afa227d9-32aa-49eb-9ae8-7c2fb625253a",
    "deepnote_cell_type": "code"
   }
  },
  {
   "cell_type": "code",
   "execution_count": 7,
   "source": [
    "exploratory_data_analysis(df_grades)\r\n"
   ],
   "outputs": [
    {
     "output_type": "stream",
     "name": "stdout",
     "text": [
      "1.- El DataFrame tiene 1000 filas y 9 columnas \n",
      "\n",
      "2.- El DataFrame está compuesto por las siguientes columnas: ['names', 'gender', 'race/ethnicity', 'parental level of education', 'lunch', 'test preparation course', 'math score', 'reading score', 'writing score'] \n",
      "\n",
      "3.- Ejemplo de filas del DataFrame: \n",
      "\n",
      "Primeras 5 filas:\n"
     ]
    },
    {
     "output_type": "display_data",
     "data": {
      "text/html": [
       "<div>\n",
       "<style scoped>\n",
       "    .dataframe tbody tr th:only-of-type {\n",
       "        vertical-align: middle;\n",
       "    }\n",
       "\n",
       "    .dataframe tbody tr th {\n",
       "        vertical-align: top;\n",
       "    }\n",
       "\n",
       "    .dataframe thead th {\n",
       "        text-align: right;\n",
       "    }\n",
       "</style>\n",
       "<table border=\"1\" class=\"dataframe\">\n",
       "  <thead>\n",
       "    <tr style=\"text-align: right;\">\n",
       "      <th></th>\n",
       "      <th>names</th>\n",
       "      <th>gender</th>\n",
       "      <th>race/ethnicity</th>\n",
       "      <th>parental level of education</th>\n",
       "      <th>lunch</th>\n",
       "      <th>test preparation course</th>\n",
       "      <th>math score</th>\n",
       "      <th>reading score</th>\n",
       "      <th>writing score</th>\n",
       "    </tr>\n",
       "  </thead>\n",
       "  <tbody>\n",
       "    <tr>\n",
       "      <th>0</th>\n",
       "      <td>Rita Courtney</td>\n",
       "      <td>female</td>\n",
       "      <td>group B</td>\n",
       "      <td>some high school</td>\n",
       "      <td>standard</td>\n",
       "      <td>none</td>\n",
       "      <td>37.0</td>\n",
       "      <td>46.0</td>\n",
       "      <td>46.0</td>\n",
       "    </tr>\n",
       "    <tr>\n",
       "      <th>1</th>\n",
       "      <td>Charles Linstrom</td>\n",
       "      <td>male</td>\n",
       "      <td>group A</td>\n",
       "      <td>bachelor's degree</td>\n",
       "      <td>standard</td>\n",
       "      <td>completed</td>\n",
       "      <td>80.0</td>\n",
       "      <td>78.0</td>\n",
       "      <td>81.0</td>\n",
       "    </tr>\n",
       "    <tr>\n",
       "      <th>2</th>\n",
       "      <td>Brian Young</td>\n",
       "      <td>male</td>\n",
       "      <td>group C</td>\n",
       "      <td>some high school</td>\n",
       "      <td>standard</td>\n",
       "      <td>none</td>\n",
       "      <td>73.0</td>\n",
       "      <td>66.0</td>\n",
       "      <td>63.0</td>\n",
       "    </tr>\n",
       "    <tr>\n",
       "      <th>3</th>\n",
       "      <td>Howard Jimenez</td>\n",
       "      <td>male</td>\n",
       "      <td>group E</td>\n",
       "      <td>some high school</td>\n",
       "      <td>standard</td>\n",
       "      <td>completed</td>\n",
       "      <td>81.0</td>\n",
       "      <td>75.0</td>\n",
       "      <td>76.0</td>\n",
       "    </tr>\n",
       "    <tr>\n",
       "      <th>4</th>\n",
       "      <td>Wayne Wilson</td>\n",
       "      <td>male</td>\n",
       "      <td>group B</td>\n",
       "      <td>some high school</td>\n",
       "      <td>standard</td>\n",
       "      <td>completed</td>\n",
       "      <td>94.0</td>\n",
       "      <td>86.0</td>\n",
       "      <td>87.0</td>\n",
       "    </tr>\n",
       "  </tbody>\n",
       "</table>\n",
       "</div>"
      ],
      "text/plain": [
       "              names  gender race/ethnicity parental level of education  \\\n",
       "0     Rita Courtney  female        group B            some high school   \n",
       "1  Charles Linstrom    male        group A           bachelor's degree   \n",
       "2       Brian Young    male        group C            some high school   \n",
       "3    Howard Jimenez    male        group E            some high school   \n",
       "4      Wayne Wilson    male        group B            some high school   \n",
       "\n",
       "      lunch test preparation course  math score  reading score  writing score  \n",
       "0  standard                    none        37.0           46.0           46.0  \n",
       "1  standard               completed        80.0           78.0           81.0  \n",
       "2  standard                    none        73.0           66.0           63.0  \n",
       "3  standard               completed        81.0           75.0           76.0  \n",
       "4  standard               completed        94.0           86.0           87.0  "
      ]
     },
     "metadata": {}
    },
    {
     "output_type": "stream",
     "name": "stdout",
     "text": [
      "Últimas 5 filas:\n"
     ]
    },
    {
     "output_type": "display_data",
     "data": {
      "text/html": [
       "<div>\n",
       "<style scoped>\n",
       "    .dataframe tbody tr th:only-of-type {\n",
       "        vertical-align: middle;\n",
       "    }\n",
       "\n",
       "    .dataframe tbody tr th {\n",
       "        vertical-align: top;\n",
       "    }\n",
       "\n",
       "    .dataframe thead th {\n",
       "        text-align: right;\n",
       "    }\n",
       "</style>\n",
       "<table border=\"1\" class=\"dataframe\">\n",
       "  <thead>\n",
       "    <tr style=\"text-align: right;\">\n",
       "      <th></th>\n",
       "      <th>names</th>\n",
       "      <th>gender</th>\n",
       "      <th>race/ethnicity</th>\n",
       "      <th>parental level of education</th>\n",
       "      <th>lunch</th>\n",
       "      <th>test preparation course</th>\n",
       "      <th>math score</th>\n",
       "      <th>reading score</th>\n",
       "      <th>writing score</th>\n",
       "    </tr>\n",
       "  </thead>\n",
       "  <tbody>\n",
       "    <tr>\n",
       "      <th>995</th>\n",
       "      <td>Richard Young</td>\n",
       "      <td>male</td>\n",
       "      <td>group D</td>\n",
       "      <td>high school</td>\n",
       "      <td>standard</td>\n",
       "      <td>none</td>\n",
       "      <td>69.0</td>\n",
       "      <td>75.0</td>\n",
       "      <td>71.0</td>\n",
       "    </tr>\n",
       "    <tr>\n",
       "      <th>996</th>\n",
       "      <td>Wanda Russell</td>\n",
       "      <td>female</td>\n",
       "      <td>group B</td>\n",
       "      <td>high school</td>\n",
       "      <td>free/reduced</td>\n",
       "      <td>completed</td>\n",
       "      <td>23.0</td>\n",
       "      <td>44.0</td>\n",
       "      <td>36.0</td>\n",
       "    </tr>\n",
       "    <tr>\n",
       "      <th>997</th>\n",
       "      <td>Marina Zeigler</td>\n",
       "      <td>female</td>\n",
       "      <td>group C</td>\n",
       "      <td>bachelor's degree</td>\n",
       "      <td>free/reduced</td>\n",
       "      <td>completed</td>\n",
       "      <td>66.0</td>\n",
       "      <td>74.0</td>\n",
       "      <td>81.0</td>\n",
       "    </tr>\n",
       "    <tr>\n",
       "      <th>998</th>\n",
       "      <td>Laurie Carter</td>\n",
       "      <td>female</td>\n",
       "      <td>group B</td>\n",
       "      <td>some high school</td>\n",
       "      <td>standard</td>\n",
       "      <td>completed</td>\n",
       "      <td>54.0</td>\n",
       "      <td>61.0</td>\n",
       "      <td>62.0</td>\n",
       "    </tr>\n",
       "    <tr>\n",
       "      <th>999</th>\n",
       "      <td>Amanda Perez</td>\n",
       "      <td>female</td>\n",
       "      <td>group A</td>\n",
       "      <td>high school</td>\n",
       "      <td>standard</td>\n",
       "      <td>completed</td>\n",
       "      <td>68.0</td>\n",
       "      <td>80.0</td>\n",
       "      <td>76.0</td>\n",
       "    </tr>\n",
       "  </tbody>\n",
       "</table>\n",
       "</div>"
      ],
      "text/plain": [
       "              names  gender race/ethnicity parental level of education  \\\n",
       "995   Richard Young    male        group D                 high school   \n",
       "996   Wanda Russell  female        group B                 high school   \n",
       "997  Marina Zeigler  female        group C           bachelor's degree   \n",
       "998   Laurie Carter  female        group B            some high school   \n",
       "999    Amanda Perez  female        group A                 high school   \n",
       "\n",
       "            lunch test preparation course  math score  reading score  \\\n",
       "995      standard                    none        69.0           75.0   \n",
       "996  free/reduced               completed        23.0           44.0   \n",
       "997  free/reduced               completed        66.0           74.0   \n",
       "998      standard               completed        54.0           61.0   \n",
       "999      standard               completed        68.0           80.0   \n",
       "\n",
       "     writing score  \n",
       "995           71.0  \n",
       "996           36.0  \n",
       "997           81.0  \n",
       "998           62.0  \n",
       "999           76.0  "
      ]
     },
     "metadata": {}
    },
    {
     "output_type": "stream",
     "name": "stdout",
     "text": [
      "Muestreo aleatorio de 5 filas:\n"
     ]
    },
    {
     "output_type": "display_data",
     "data": {
      "text/html": [
       "<div>\n",
       "<style scoped>\n",
       "    .dataframe tbody tr th:only-of-type {\n",
       "        vertical-align: middle;\n",
       "    }\n",
       "\n",
       "    .dataframe tbody tr th {\n",
       "        vertical-align: top;\n",
       "    }\n",
       "\n",
       "    .dataframe thead th {\n",
       "        text-align: right;\n",
       "    }\n",
       "</style>\n",
       "<table border=\"1\" class=\"dataframe\">\n",
       "  <thead>\n",
       "    <tr style=\"text-align: right;\">\n",
       "      <th></th>\n",
       "      <th>names</th>\n",
       "      <th>gender</th>\n",
       "      <th>race/ethnicity</th>\n",
       "      <th>parental level of education</th>\n",
       "      <th>lunch</th>\n",
       "      <th>test preparation course</th>\n",
       "      <th>math score</th>\n",
       "      <th>reading score</th>\n",
       "      <th>writing score</th>\n",
       "    </tr>\n",
       "  </thead>\n",
       "  <tbody>\n",
       "    <tr>\n",
       "      <th>55</th>\n",
       "      <td>Joe Burks</td>\n",
       "      <td>male</td>\n",
       "      <td>group E</td>\n",
       "      <td>high school</td>\n",
       "      <td>standard</td>\n",
       "      <td>none</td>\n",
       "      <td>80.0</td>\n",
       "      <td>76.0</td>\n",
       "      <td>65.0</td>\n",
       "    </tr>\n",
       "    <tr>\n",
       "      <th>270</th>\n",
       "      <td>Gaylene Hunt</td>\n",
       "      <td>female</td>\n",
       "      <td>group D</td>\n",
       "      <td>some college</td>\n",
       "      <td>standard</td>\n",
       "      <td>completed</td>\n",
       "      <td>79.0</td>\n",
       "      <td>84.0</td>\n",
       "      <td>91.0</td>\n",
       "    </tr>\n",
       "    <tr>\n",
       "      <th>149</th>\n",
       "      <td>Earl Rodriguez</td>\n",
       "      <td>male</td>\n",
       "      <td>group B</td>\n",
       "      <td>associate's degree</td>\n",
       "      <td>standard</td>\n",
       "      <td>completed</td>\n",
       "      <td>91.0</td>\n",
       "      <td>89.0</td>\n",
       "      <td>92.0</td>\n",
       "    </tr>\n",
       "    <tr>\n",
       "      <th>291</th>\n",
       "      <td>Mary Trager</td>\n",
       "      <td>female</td>\n",
       "      <td>group C</td>\n",
       "      <td>bachelor's degree</td>\n",
       "      <td>standard</td>\n",
       "      <td>completed</td>\n",
       "      <td>56.0</td>\n",
       "      <td>79.0</td>\n",
       "      <td>72.0</td>\n",
       "    </tr>\n",
       "    <tr>\n",
       "      <th>259</th>\n",
       "      <td>Ray Juul</td>\n",
       "      <td>male</td>\n",
       "      <td>group D</td>\n",
       "      <td>some college</td>\n",
       "      <td>standard</td>\n",
       "      <td>none</td>\n",
       "      <td>76.0</td>\n",
       "      <td>64.0</td>\n",
       "      <td>66.0</td>\n",
       "    </tr>\n",
       "  </tbody>\n",
       "</table>\n",
       "</div>"
      ],
      "text/plain": [
       "              names  gender race/ethnicity parental level of education  \\\n",
       "55        Joe Burks    male        group E                 high school   \n",
       "270    Gaylene Hunt  female        group D                some college   \n",
       "149  Earl Rodriguez    male        group B          associate's degree   \n",
       "291     Mary Trager  female        group C           bachelor's degree   \n",
       "259        Ray Juul    male        group D                some college   \n",
       "\n",
       "        lunch test preparation course  math score  reading score  \\\n",
       "55   standard                    none        80.0           76.0   \n",
       "270  standard               completed        79.0           84.0   \n",
       "149  standard               completed        91.0           89.0   \n",
       "291  standard               completed        56.0           79.0   \n",
       "259  standard                    none        76.0           64.0   \n",
       "\n",
       "     writing score  \n",
       "55            65.0  \n",
       "270           91.0  \n",
       "149           92.0  \n",
       "291           72.0  \n",
       "259           66.0  "
      ]
     },
     "metadata": {}
    },
    {
     "output_type": "stream",
     "name": "stdout",
     "text": [
      "4.- Descripción numérica del DataFrame:\n"
     ]
    },
    {
     "output_type": "display_data",
     "data": {
      "text/html": [
       "<div>\n",
       "<style scoped>\n",
       "    .dataframe tbody tr th:only-of-type {\n",
       "        vertical-align: middle;\n",
       "    }\n",
       "\n",
       "    .dataframe tbody tr th {\n",
       "        vertical-align: top;\n",
       "    }\n",
       "\n",
       "    .dataframe thead th {\n",
       "        text-align: right;\n",
       "    }\n",
       "</style>\n",
       "<table border=\"1\" class=\"dataframe\">\n",
       "  <thead>\n",
       "    <tr style=\"text-align: right;\">\n",
       "      <th></th>\n",
       "      <th>math score</th>\n",
       "      <th>reading score</th>\n",
       "      <th>writing score</th>\n",
       "    </tr>\n",
       "  </thead>\n",
       "  <tbody>\n",
       "    <tr>\n",
       "      <th>count</th>\n",
       "      <td>1000.00000</td>\n",
       "      <td>1000.000000</td>\n",
       "      <td>1000.000000</td>\n",
       "    </tr>\n",
       "    <tr>\n",
       "      <th>mean</th>\n",
       "      <td>66.08900</td>\n",
       "      <td>69.169000</td>\n",
       "      <td>68.054000</td>\n",
       "    </tr>\n",
       "    <tr>\n",
       "      <th>std</th>\n",
       "      <td>15.16308</td>\n",
       "      <td>14.600192</td>\n",
       "      <td>15.195657</td>\n",
       "    </tr>\n",
       "    <tr>\n",
       "      <th>min</th>\n",
       "      <td>0.00000</td>\n",
       "      <td>17.000000</td>\n",
       "      <td>10.000000</td>\n",
       "    </tr>\n",
       "    <tr>\n",
       "      <th>25%</th>\n",
       "      <td>57.00000</td>\n",
       "      <td>59.000000</td>\n",
       "      <td>57.750000</td>\n",
       "    </tr>\n",
       "    <tr>\n",
       "      <th>50%</th>\n",
       "      <td>66.00000</td>\n",
       "      <td>70.000000</td>\n",
       "      <td>69.000000</td>\n",
       "    </tr>\n",
       "    <tr>\n",
       "      <th>75%</th>\n",
       "      <td>77.00000</td>\n",
       "      <td>79.000000</td>\n",
       "      <td>79.000000</td>\n",
       "    </tr>\n",
       "    <tr>\n",
       "      <th>max</th>\n",
       "      <td>100.00000</td>\n",
       "      <td>100.000000</td>\n",
       "      <td>100.000000</td>\n",
       "    </tr>\n",
       "  </tbody>\n",
       "</table>\n",
       "</div>"
      ],
      "text/plain": [
       "       math score  reading score  writing score\n",
       "count  1000.00000    1000.000000    1000.000000\n",
       "mean     66.08900      69.169000      68.054000\n",
       "std      15.16308      14.600192      15.195657\n",
       "min       0.00000      17.000000      10.000000\n",
       "25%      57.00000      59.000000      57.750000\n",
       "50%      66.00000      70.000000      69.000000\n",
       "75%      77.00000      79.000000      79.000000\n",
       "max     100.00000     100.000000     100.000000"
      ]
     },
     "metadata": {}
    },
    {
     "output_type": "stream",
     "name": "stdout",
     "text": [
      "5.- Cantidad de valores nulos por columna\n"
     ]
    },
    {
     "output_type": "display_data",
     "data": {
      "text/plain": [
       "names                          0\n",
       "gender                         0\n",
       "race/ethnicity                 0\n",
       "parental level of education    0\n",
       "lunch                          0\n",
       "test preparation course        0\n",
       "math score                     0\n",
       "reading score                  0\n",
       "writing score                  0\n",
       "dtype: int64"
      ]
     },
     "metadata": {}
    },
    {
     "output_type": "stream",
     "name": "stdout",
     "text": [
      "6.- Cantidad de valores únicos por columna\n"
     ]
    },
    {
     "output_type": "display_data",
     "data": {
      "text/plain": [
       "names                          1000\n",
       "gender                            2\n",
       "race/ethnicity                    5\n",
       "parental level of education       6\n",
       "lunch                             2\n",
       "test preparation course           2\n",
       "math score                       81\n",
       "reading score                    72\n",
       "writing score                    77\n",
       "dtype: int64"
      ]
     },
     "metadata": {}
    },
    {
     "output_type": "stream",
     "name": "stdout",
     "text": [
      "7.- Presenta un total de 0 filas con nombres duplicados\n",
      "8.- Las filas con nombres duplicados son: \n"
     ]
    },
    {
     "output_type": "display_data",
     "data": {
      "text/html": [
       "<div>\n",
       "<style scoped>\n",
       "    .dataframe tbody tr th:only-of-type {\n",
       "        vertical-align: middle;\n",
       "    }\n",
       "\n",
       "    .dataframe tbody tr th {\n",
       "        vertical-align: top;\n",
       "    }\n",
       "\n",
       "    .dataframe thead th {\n",
       "        text-align: right;\n",
       "    }\n",
       "</style>\n",
       "<table border=\"1\" class=\"dataframe\">\n",
       "  <thead>\n",
       "    <tr style=\"text-align: right;\">\n",
       "      <th></th>\n",
       "      <th>names</th>\n",
       "      <th>gender</th>\n",
       "      <th>race/ethnicity</th>\n",
       "      <th>parental level of education</th>\n",
       "      <th>lunch</th>\n",
       "      <th>test preparation course</th>\n",
       "      <th>math score</th>\n",
       "      <th>reading score</th>\n",
       "      <th>writing score</th>\n",
       "    </tr>\n",
       "  </thead>\n",
       "  <tbody>\n",
       "  </tbody>\n",
       "</table>\n",
       "</div>"
      ],
      "text/plain": [
       "Empty DataFrame\n",
       "Columns: [names, gender, race/ethnicity, parental level of education, lunch, test preparation course, math score, reading score, writing score]\n",
       "Index: []"
      ]
     },
     "metadata": {}
    },
    {
     "output_type": "stream",
     "name": "stdout",
     "text": [
      "9.- Boxplot de notad: \n"
     ]
    },
    {
     "output_type": "display_data",
     "data": {
      "image/png": "[encoded data removed]",
      "text/plain": [
       "<Figure size 432x288 with 1 Axes>"
      ]
     },
     "metadata": {
      "needs_background": "light"
     }
    }
   ],
   "metadata": {}
  },
  {
   "cell_type": "markdown",
   "source": [
    "> Utilice la función creada en el punto 1.1 para verificar sus resultados."
   ],
   "metadata": {
    "id": "iAnb7kcRj9gJ",
    "cell_id": "00028-7d461c3c-584a-437b-a3b0-8eb3a9a60b08",
    "deepnote_cell_type": "markdown"
   }
  },
  {
   "cell_type": "markdown",
   "source": [
    "**Justificación:**"
   ],
   "metadata": {
    "id": "mPmHNen3jZCX",
    "cell_id": "00030-826810d6-9106-4a3f-9272-16f541b88ac0",
    "deepnote_cell_type": "markdown"
   }
  },
  {
   "cell_type": "markdown",
   "source": [
    "```\n",
    "Escriba aquí su justificación\n",
    "```"
   ],
   "metadata": {
    "id": "uCK_RZEajZHI",
    "cell_id": "00031-04187309-a1db-4ad3-a90b-75b312d9b39f",
    "deepnote_cell_type": "markdown"
   }
  },
  {
   "cell_type": "markdown",
   "source": [
    "## 1.3 Trabajando con Datos\n",
    "\n",
    "<p align=\"center\">\n",
    "  <img src=\"https://media4.giphy.com/media/ko7twHhomhk8E/giphy.gif?cid=ecf05e47xmgfz8ftaom8saa4cwktxpb0fkui9yk3nakb4ff1&rid=giphy.gif&ct=g\">\n",
    "</p>"
   ],
   "metadata": {
    "id": "2tnenh4uOF6k",
    "cell_id": "00032-35743f33-7587-4206-903d-5922c094c121",
    "deepnote_cell_type": "markdown"
   }
  },
  {
   "cell_type": "markdown",
   "source": [
    "### 1.3.1 Transformación de notas a \"Nota Chilena\" [0.5 Puntos]"
   ],
   "metadata": {
    "id": "Qecw0sKor_Au",
    "cell_id": "00033-ae1d6c24-6c73-49d9-961d-4f6a9da3f5a1",
    "deepnote_cell_type": "markdown"
   }
  },
  {
   "cell_type": "markdown",
   "source": [
    "En una de las reuniones con Don Caguayo este les comenta su intención de pasar todas sus notas a la \"Escala Chilena\". Para esto les facilita la siguiente ecuación:\n",
    "\n",
    "$$Nota \\, Chilena= \\% \\, de \\, logro*0.06 + 1$$\n",
    "\n",
    "Utilizando la ecuación entregada, cree una función que le permita pasar a la escala Chilena las notas que se escapan del rango [1,7] y entregue las notas redondeadas al segundo decimal.\n",
    "\n",
    "**To-Do**\n",
    "\n",
    "- [ ] Tranforme los valores a la escala chilena."
   ],
   "metadata": {
    "id": "BfmD-9yi4PnX",
    "cell_id": "00034-0c2d3679-984b-4d24-8ab0-fc8de61bb42e",
    "deepnote_cell_type": "markdown"
   }
  },
  {
   "cell_type": "markdown",
   "source": [
    "**Respuesta:**"
   ],
   "metadata": {
    "tags": [],
    "cell_id": "00035-7dd5d2b3-12e5-4cb8-a9ab-e3f0e4870b94",
    "deepnote_cell_type": "markdown"
   }
  },
  {
   "cell_type": "code",
   "execution_count": 8,
   "source": [
    "def nota_chilena(dataframe_in, columna):\r\n",
    "  \"\"\"[summary]\r\n",
    "\r\n",
    "  Args:\r\n",
    "      dataframe_in ([type]): [description]\r\n",
    "      columna ([type]): [description]\r\n",
    "  \"\"\"\r\n",
    "  out = dataframe_in\r\n",
    "  out[columna] = (out[columna] * 0.06 + 1).round(decimals=2)\r\n",
    "  return out\r\n",
    "\r\n",
    "df_grades = nota_chilena(df_grades, [\"math score\", \"reading score\", \"writing score\"])\r\n"
   ],
   "outputs": [],
   "metadata": {
    "id": "GQ0gDEvd3T1m",
    "executionInfo": {
     "status": "ok",
     "timestamp": 1619205969195,
     "user_tz": 240,
     "elapsed": 669,
     "user": {
      "displayName": "IGNACIO ALEJANDRO MEZA",
      "photoUrl": "",
      "userId": "17011121633069169364"
     }
    },
    "deepnote_to_be_reexecuted": false,
    "source_hash": "e84f9f19",
    "execution_start": 1632493424541,
    "execution_millis": 1,
    "cell_id": "00036-4f869d3b-f09e-4986-8f77-604d440d0b99",
    "deepnote_cell_type": "code"
   }
  },
  {
   "cell_type": "markdown",
   "source": [
    "### 1.3.2 Obtención de promedio de alumnos [0.5]"
   ],
   "metadata": {
    "id": "QGe-Hb2UTAE1",
    "cell_id": "00038-3045a9c7-3dc1-4909-a993-3346ce27103d",
    "deepnote_cell_type": "markdown"
   }
  },
  {
   "cell_type": "markdown",
   "source": [
    "Con todas las notas adjuntadas, la prestigiosa Universidad De la Cachaña necesita obtener el promedio general de cada uno de los alumnos. Para esto se le solicita que calcule el promedio con cada una de las asignaturas y el promedio se anexe como una nueva columna al final del DataFrame original. Cabe señalar que las notas deben ser redondeadas al segundo decimal.\n",
    "\n",
    "**To-Do:**\n",
    "- [ ] Crear función que nos permite obtener el promedio de cada uno de los alumnos y anexar esta información en el DataFrame original.\n"
   ],
   "metadata": {
    "id": "AEkWI5K-OZgt",
    "cell_id": "00039-5e16ce47-71fb-4750-9d81-c7bdb854141d",
    "deepnote_cell_type": "markdown"
   }
  },
  {
   "cell_type": "markdown",
   "source": [
    "**Respuesta:**"
   ],
   "metadata": {
    "tags": [],
    "cell_id": "00040-ed949f3e-dd9b-44a7-aa8c-b75d7651546d",
    "deepnote_cell_type": "markdown"
   }
  },
  {
   "cell_type": "code",
   "execution_count": 9,
   "source": [
    "def alumnos_promedio(dataframe_in):\r\n",
    "    out = dataframe_in\r\n",
    "    out[\"GPA\"] = dataframe_in.select_dtypes(include=[np.number]).mean(axis=1).round(decimals=2)\r\n",
    "    return out\r\n",
    "alumnos_promedio(df_grades)"
   ],
   "outputs": [
    {
     "output_type": "execute_result",
     "data": {
      "text/html": [
       "<div>\n",
       "<style scoped>\n",
       "    .dataframe tbody tr th:only-of-type {\n",
       "        vertical-align: middle;\n",
       "    }\n",
       "\n",
       "    .dataframe tbody tr th {\n",
       "        vertical-align: top;\n",
       "    }\n",
       "\n",
       "    .dataframe thead th {\n",
       "        text-align: right;\n",
       "    }\n",
       "</style>\n",
       "<table border=\"1\" class=\"dataframe\">\n",
       "  <thead>\n",
       "    <tr style=\"text-align: right;\">\n",
       "      <th></th>\n",
       "      <th>names</th>\n",
       "      <th>gender</th>\n",
       "      <th>race/ethnicity</th>\n",
       "      <th>parental level of education</th>\n",
       "      <th>lunch</th>\n",
       "      <th>test preparation course</th>\n",
       "      <th>math score</th>\n",
       "      <th>reading score</th>\n",
       "      <th>writing score</th>\n",
       "      <th>GPA</th>\n",
       "    </tr>\n",
       "  </thead>\n",
       "  <tbody>\n",
       "    <tr>\n",
       "      <th>0</th>\n",
       "      <td>Rita Courtney</td>\n",
       "      <td>female</td>\n",
       "      <td>group B</td>\n",
       "      <td>some high school</td>\n",
       "      <td>standard</td>\n",
       "      <td>none</td>\n",
       "      <td>3.22</td>\n",
       "      <td>3.76</td>\n",
       "      <td>3.76</td>\n",
       "      <td>3.58</td>\n",
       "    </tr>\n",
       "    <tr>\n",
       "      <th>1</th>\n",
       "      <td>Charles Linstrom</td>\n",
       "      <td>male</td>\n",
       "      <td>group A</td>\n",
       "      <td>bachelor's degree</td>\n",
       "      <td>standard</td>\n",
       "      <td>completed</td>\n",
       "      <td>5.80</td>\n",
       "      <td>5.68</td>\n",
       "      <td>5.86</td>\n",
       "      <td>5.78</td>\n",
       "    </tr>\n",
       "    <tr>\n",
       "      <th>2</th>\n",
       "      <td>Brian Young</td>\n",
       "      <td>male</td>\n",
       "      <td>group C</td>\n",
       "      <td>some high school</td>\n",
       "      <td>standard</td>\n",
       "      <td>none</td>\n",
       "      <td>5.38</td>\n",
       "      <td>4.96</td>\n",
       "      <td>4.78</td>\n",
       "      <td>5.04</td>\n",
       "    </tr>\n",
       "    <tr>\n",
       "      <th>3</th>\n",
       "      <td>Howard Jimenez</td>\n",
       "      <td>male</td>\n",
       "      <td>group E</td>\n",
       "      <td>some high school</td>\n",
       "      <td>standard</td>\n",
       "      <td>completed</td>\n",
       "      <td>5.86</td>\n",
       "      <td>5.50</td>\n",
       "      <td>5.56</td>\n",
       "      <td>5.64</td>\n",
       "    </tr>\n",
       "    <tr>\n",
       "      <th>4</th>\n",
       "      <td>Wayne Wilson</td>\n",
       "      <td>male</td>\n",
       "      <td>group B</td>\n",
       "      <td>some high school</td>\n",
       "      <td>standard</td>\n",
       "      <td>completed</td>\n",
       "      <td>6.64</td>\n",
       "      <td>6.16</td>\n",
       "      <td>6.22</td>\n",
       "      <td>6.34</td>\n",
       "    </tr>\n",
       "    <tr>\n",
       "      <th>...</th>\n",
       "      <td>...</td>\n",
       "      <td>...</td>\n",
       "      <td>...</td>\n",
       "      <td>...</td>\n",
       "      <td>...</td>\n",
       "      <td>...</td>\n",
       "      <td>...</td>\n",
       "      <td>...</td>\n",
       "      <td>...</td>\n",
       "      <td>...</td>\n",
       "    </tr>\n",
       "    <tr>\n",
       "      <th>995</th>\n",
       "      <td>Richard Young</td>\n",
       "      <td>male</td>\n",
       "      <td>group D</td>\n",
       "      <td>high school</td>\n",
       "      <td>standard</td>\n",
       "      <td>none</td>\n",
       "      <td>5.14</td>\n",
       "      <td>5.50</td>\n",
       "      <td>5.26</td>\n",
       "      <td>5.30</td>\n",
       "    </tr>\n",
       "    <tr>\n",
       "      <th>996</th>\n",
       "      <td>Wanda Russell</td>\n",
       "      <td>female</td>\n",
       "      <td>group B</td>\n",
       "      <td>high school</td>\n",
       "      <td>free/reduced</td>\n",
       "      <td>completed</td>\n",
       "      <td>2.38</td>\n",
       "      <td>3.64</td>\n",
       "      <td>3.16</td>\n",
       "      <td>3.06</td>\n",
       "    </tr>\n",
       "    <tr>\n",
       "      <th>997</th>\n",
       "      <td>Marina Zeigler</td>\n",
       "      <td>female</td>\n",
       "      <td>group C</td>\n",
       "      <td>bachelor's degree</td>\n",
       "      <td>free/reduced</td>\n",
       "      <td>completed</td>\n",
       "      <td>4.96</td>\n",
       "      <td>5.44</td>\n",
       "      <td>5.86</td>\n",
       "      <td>5.42</td>\n",
       "    </tr>\n",
       "    <tr>\n",
       "      <th>998</th>\n",
       "      <td>Laurie Carter</td>\n",
       "      <td>female</td>\n",
       "      <td>group B</td>\n",
       "      <td>some high school</td>\n",
       "      <td>standard</td>\n",
       "      <td>completed</td>\n",
       "      <td>4.24</td>\n",
       "      <td>4.66</td>\n",
       "      <td>4.72</td>\n",
       "      <td>4.54</td>\n",
       "    </tr>\n",
       "    <tr>\n",
       "      <th>999</th>\n",
       "      <td>Amanda Perez</td>\n",
       "      <td>female</td>\n",
       "      <td>group A</td>\n",
       "      <td>high school</td>\n",
       "      <td>standard</td>\n",
       "      <td>completed</td>\n",
       "      <td>5.08</td>\n",
       "      <td>5.80</td>\n",
       "      <td>5.56</td>\n",
       "      <td>5.48</td>\n",
       "    </tr>\n",
       "  </tbody>\n",
       "</table>\n",
       "<p>1000 rows × 10 columns</p>\n",
       "</div>"
      ],
      "text/plain": [
       "                names  gender race/ethnicity parental level of education  \\\n",
       "0       Rita Courtney  female        group B            some high school   \n",
       "1    Charles Linstrom    male        group A           bachelor's degree   \n",
       "2         Brian Young    male        group C            some high school   \n",
       "3      Howard Jimenez    male        group E            some high school   \n",
       "4        Wayne Wilson    male        group B            some high school   \n",
       "..                ...     ...            ...                         ...   \n",
       "995     Richard Young    male        group D                 high school   \n",
       "996     Wanda Russell  female        group B                 high school   \n",
       "997    Marina Zeigler  female        group C           bachelor's degree   \n",
       "998     Laurie Carter  female        group B            some high school   \n",
       "999      Amanda Perez  female        group A                 high school   \n",
       "\n",
       "            lunch test preparation course  math score  reading score  \\\n",
       "0        standard                    none        3.22           3.76   \n",
       "1        standard               completed        5.80           5.68   \n",
       "2        standard                    none        5.38           4.96   \n",
       "3        standard               completed        5.86           5.50   \n",
       "4        standard               completed        6.64           6.16   \n",
       "..            ...                     ...         ...            ...   \n",
       "995      standard                    none        5.14           5.50   \n",
       "996  free/reduced               completed        2.38           3.64   \n",
       "997  free/reduced               completed        4.96           5.44   \n",
       "998      standard               completed        4.24           4.66   \n",
       "999      standard               completed        5.08           5.80   \n",
       "\n",
       "     writing score   GPA  \n",
       "0             3.76  3.58  \n",
       "1             5.86  5.78  \n",
       "2             4.78  5.04  \n",
       "3             5.56  5.64  \n",
       "4             6.22  6.34  \n",
       "..             ...   ...  \n",
       "995           5.26  5.30  \n",
       "996           3.16  3.06  \n",
       "997           5.86  5.42  \n",
       "998           4.72  4.54  \n",
       "999           5.56  5.48  \n",
       "\n",
       "[1000 rows x 10 columns]"
      ]
     },
     "metadata": {},
     "execution_count": 9
    }
   ],
   "metadata": {
    "id": "b6CTPp5TAMhE",
    "executionInfo": {
     "status": "ok",
     "timestamp": 1619205973016,
     "user_tz": 240,
     "elapsed": 644,
     "user": {
      "displayName": "IGNACIO ALEJANDRO MEZA",
      "photoUrl": "",
      "userId": "17011121633069169364"
     }
    },
    "deepnote_to_be_reexecuted": false,
    "source_hash": "810948b",
    "execution_start": 1632493424597,
    "execution_millis": 0,
    "cell_id": "00041-71c0f72b-1361-4b83-a3d2-cd5a916f0bb0",
    "deepnote_cell_type": "code"
   }
  },
  {
   "cell_type": "markdown",
   "source": [
    "**Respuesta Esperada:**"
   ],
   "metadata": {
    "id": "hrakfq02Si8z",
    "cell_id": "00042-507bb30d-9670-4be3-9854-1617ba8f2095",
    "deepnote_cell_type": "markdown"
   }
  },
  {
   "cell_type": "code",
   "execution_count": 10,
   "source": [
    "df_grades = alumnos_promedio(df_grades)\r\n",
    "df_grades.head()"
   ],
   "outputs": [
    {
     "output_type": "execute_result",
     "data": {
      "text/html": [
       "<div>\n",
       "<style scoped>\n",
       "    .dataframe tbody tr th:only-of-type {\n",
       "        vertical-align: middle;\n",
       "    }\n",
       "\n",
       "    .dataframe tbody tr th {\n",
       "        vertical-align: top;\n",
       "    }\n",
       "\n",
       "    .dataframe thead th {\n",
       "        text-align: right;\n",
       "    }\n",
       "</style>\n",
       "<table border=\"1\" class=\"dataframe\">\n",
       "  <thead>\n",
       "    <tr style=\"text-align: right;\">\n",
       "      <th></th>\n",
       "      <th>names</th>\n",
       "      <th>gender</th>\n",
       "      <th>race/ethnicity</th>\n",
       "      <th>parental level of education</th>\n",
       "      <th>lunch</th>\n",
       "      <th>test preparation course</th>\n",
       "      <th>math score</th>\n",
       "      <th>reading score</th>\n",
       "      <th>writing score</th>\n",
       "      <th>GPA</th>\n",
       "    </tr>\n",
       "  </thead>\n",
       "  <tbody>\n",
       "    <tr>\n",
       "      <th>0</th>\n",
       "      <td>Rita Courtney</td>\n",
       "      <td>female</td>\n",
       "      <td>group B</td>\n",
       "      <td>some high school</td>\n",
       "      <td>standard</td>\n",
       "      <td>none</td>\n",
       "      <td>3.22</td>\n",
       "      <td>3.76</td>\n",
       "      <td>3.76</td>\n",
       "      <td>3.58</td>\n",
       "    </tr>\n",
       "    <tr>\n",
       "      <th>1</th>\n",
       "      <td>Charles Linstrom</td>\n",
       "      <td>male</td>\n",
       "      <td>group A</td>\n",
       "      <td>bachelor's degree</td>\n",
       "      <td>standard</td>\n",
       "      <td>completed</td>\n",
       "      <td>5.80</td>\n",
       "      <td>5.68</td>\n",
       "      <td>5.86</td>\n",
       "      <td>5.78</td>\n",
       "    </tr>\n",
       "    <tr>\n",
       "      <th>2</th>\n",
       "      <td>Brian Young</td>\n",
       "      <td>male</td>\n",
       "      <td>group C</td>\n",
       "      <td>some high school</td>\n",
       "      <td>standard</td>\n",
       "      <td>none</td>\n",
       "      <td>5.38</td>\n",
       "      <td>4.96</td>\n",
       "      <td>4.78</td>\n",
       "      <td>5.04</td>\n",
       "    </tr>\n",
       "    <tr>\n",
       "      <th>3</th>\n",
       "      <td>Howard Jimenez</td>\n",
       "      <td>male</td>\n",
       "      <td>group E</td>\n",
       "      <td>some high school</td>\n",
       "      <td>standard</td>\n",
       "      <td>completed</td>\n",
       "      <td>5.86</td>\n",
       "      <td>5.50</td>\n",
       "      <td>5.56</td>\n",
       "      <td>5.64</td>\n",
       "    </tr>\n",
       "    <tr>\n",
       "      <th>4</th>\n",
       "      <td>Wayne Wilson</td>\n",
       "      <td>male</td>\n",
       "      <td>group B</td>\n",
       "      <td>some high school</td>\n",
       "      <td>standard</td>\n",
       "      <td>completed</td>\n",
       "      <td>6.64</td>\n",
       "      <td>6.16</td>\n",
       "      <td>6.22</td>\n",
       "      <td>6.34</td>\n",
       "    </tr>\n",
       "  </tbody>\n",
       "</table>\n",
       "</div>"
      ],
      "text/plain": [
       "              names  gender race/ethnicity parental level of education  \\\n",
       "0     Rita Courtney  female        group B            some high school   \n",
       "1  Charles Linstrom    male        group A           bachelor's degree   \n",
       "2       Brian Young    male        group C            some high school   \n",
       "3    Howard Jimenez    male        group E            some high school   \n",
       "4      Wayne Wilson    male        group B            some high school   \n",
       "\n",
       "      lunch test preparation course  math score  reading score  writing score  \\\n",
       "0  standard                    none        3.22           3.76           3.76   \n",
       "1  standard               completed        5.80           5.68           5.86   \n",
       "2  standard                    none        5.38           4.96           4.78   \n",
       "3  standard               completed        5.86           5.50           5.56   \n",
       "4  standard               completed        6.64           6.16           6.22   \n",
       "\n",
       "    GPA  \n",
       "0  3.58  \n",
       "1  5.78  \n",
       "2  5.04  \n",
       "3  5.64  \n",
       "4  6.34  "
      ]
     },
     "metadata": {},
     "execution_count": 10
    }
   ],
   "metadata": {
    "colab": {
     "base_uri": "https://localhost:8080/",
     "height": 204
    },
    "id": "g9Fiwt8USiac",
    "executionInfo": {
     "status": "ok",
     "timestamp": 1619205975187,
     "user_tz": 240,
     "elapsed": 783,
     "user": {
      "displayName": "IGNACIO ALEJANDRO MEZA",
      "photoUrl": "",
      "userId": "17011121633069169364"
     }
    },
    "outputId": "1e4da1d8-62d8-41b1-923d-68bfd65bed38",
    "deepnote_to_be_reexecuted": false,
    "source_hash": "55e53e3b",
    "execution_start": 1632493424603,
    "execution_millis": 43,
    "cell_id": "00043-e16930f7-fe82-453a-8e9a-7421732ac929",
    "deepnote_cell_type": "code"
   }
  },
  {
   "cell_type": "markdown",
   "source": [
    "### 1.3.3 Reprobados y Destacados [1.5 Punto, 0.5 Cada DataFrame]"
   ],
   "metadata": {
    "id": "uA0ZXAWyBoLX",
    "cell_id": "00044-362969a2-b0d5-4d45-a6f1-0293e36c0417",
    "deepnote_cell_type": "markdown"
   }
  },
  {
   "cell_type": "markdown",
   "source": [
    "Contentos con su desempeño, la Universidad les solicita que obtengan los alumnos quienes han reprobado el año y los que han tenido desempeño de destacado. Para esto se considerará que un alumno ha reprobado el año cuando el promedio de notas es inferior a 4.0 en la Escala Chilena, y se considerará destacado si posee notas superiores a 5.8 en todas las asignaturas (o sea notas superiores a 5.8 en `math score`, `reading score` y `writing score`).\n",
    "\n",
    "Cree una función que permita obtener tres Dataframes: \n",
    "- El primero deberá poseer solamente los alumnos que han reprobado en la prestigiosa universidad.\n",
    "- El segundo debe entregar un DataFrame similar al original, pero marcado con una \"R\" el promedio de notas de los alumnos reprobados.\n",
    "- El tercero será un Data Frame con los alumnos destacados ordenados de mayor a menor.\n",
    "\n",
    "**To-Do:**\n",
    "\n",
    "- [ ] Obtener DataFrame con los alumnos que reprobaron el año.\n",
    "- [ ] Obtener DataFrame similar al original, pero marcados con una \"R\" el atributo GPA de los alumnos reprobados.\n",
    "- [ ] Obtener DataFrame con los alumnos destacados ordenados de mayor a menor."
   ],
   "metadata": {
    "id": "k1FKahC3_g5_",
    "cell_id": "00045-7514bdf0-01ec-4c0a-83d1-12a2a8c8d3c3",
    "deepnote_cell_type": "markdown"
   }
  },
  {
   "cell_type": "markdown",
   "source": [
    "**Respuesta:**"
   ],
   "metadata": {
    "tags": [],
    "cell_id": "00046-8337183c-cd19-4dc0-b936-9dadeda8418e",
    "deepnote_cell_type": "markdown"
   }
  },
  {
   "cell_type": "code",
   "execution_count": 11,
   "source": [
    "def reprobados_destacados(dataframe_in):\r\n",
    "    pass\r\n"
   ],
   "outputs": [],
   "metadata": {
    "id": "Yw52wzwMAXHW",
    "executionInfo": {
     "status": "ok",
     "timestamp": 1619205977306,
     "user_tz": 240,
     "elapsed": 641,
     "user": {
      "displayName": "IGNACIO ALEJANDRO MEZA",
      "photoUrl": "",
      "userId": "17011121633069169364"
     }
    },
    "deepnote_to_be_reexecuted": false,
    "source_hash": "e3c68478",
    "execution_start": 1632493424637,
    "execution_millis": 2,
    "cell_id": "00047-d6f8abcb-8fba-4e2a-9dde-de6844e4868b",
    "deepnote_cell_type": "code"
   }
  },
  {
   "cell_type": "code",
   "execution_count": 12,
   "source": [
    "dataframe1, dataframe2, dataframe3 = reprobados_destacados(df_grades)\r\n",
    "dataframe1"
   ],
   "outputs": [
    {
     "output_type": "error",
     "ename": "TypeError",
     "evalue": "'NoneType' object is not iterable",
     "traceback": [
      "\u001b[1;31m---------------------------------------------------------------------------\u001b[0m",
      "\u001b[1;31mTypeError\u001b[0m                                 Traceback (most recent call last)",
      "\u001b[1;32m<ipython-input-12-393a5dc50839>\u001b[0m in \u001b[0;36m<module>\u001b[1;34m\u001b[0m\n\u001b[1;32m----> 1\u001b[1;33m \u001b[0mdataframe1\u001b[0m\u001b[1;33m,\u001b[0m \u001b[0mdataframe2\u001b[0m\u001b[1;33m,\u001b[0m \u001b[0mdataframe3\u001b[0m \u001b[1;33m=\u001b[0m \u001b[0mreprobados_destacados\u001b[0m\u001b[1;33m(\u001b[0m\u001b[0mdf_grades\u001b[0m\u001b[1;33m)\u001b[0m\u001b[1;33m\u001b[0m\u001b[0m\n\u001b[0m\u001b[0;32m      2\u001b[0m \u001b[0mdataframe1\u001b[0m\u001b[1;33m\u001b[0m\u001b[0m\n",
      "\u001b[1;31mTypeError\u001b[0m: 'NoneType' object is not iterable"
     ]
    }
   ],
   "metadata": {
    "colab": {
     "base_uri": "https://localhost:8080/",
     "height": 419
    },
    "id": "LlxNXK11XBGn",
    "executionInfo": {
     "status": "ok",
     "timestamp": 1619205978676,
     "user_tz": 240,
     "elapsed": 611,
     "user": {
      "displayName": "IGNACIO ALEJANDRO MEZA",
      "photoUrl": "",
      "userId": "17011121633069169364"
     }
    },
    "outputId": "a4572fe2-0758-4c0c-c9f3-cb444233134f",
    "deepnote_to_be_reexecuted": false,
    "source_hash": "73b6de2",
    "execution_start": 1632493424642,
    "execution_millis": 69,
    "cell_id": "00048-58c77591-f1eb-4497-af40-252bcc9ed099",
    "deepnote_cell_type": "code"
   }
  },
  {
   "cell_type": "code",
   "execution_count": null,
   "source": [
    "dataframe2"
   ],
   "outputs": [
    {
     "output_type": "execute_result",
     "data": {
      "application/vnd.deepnote.dataframe.v2+json": {
       "row_count": 875,
       "column_count": 10,
       "columns": [
        {
         "name": "names",
         "dtype": "object",
         "stats": {
          "unique_count": 875,
          "nan_count": 0,
          "categories": [
           {
            "name": "Rita Courtney",
            "count": 1
           },
           {
            "name": "Charles Linstrom",
            "count": 1
           },
           {
            "name": "873 others",
            "count": 873
           }
          ]
         }
        },
        {
         "name": "gender",
         "dtype": "object",
         "stats": {
          "unique_count": 2,
          "nan_count": 0,
          "categories": [
           {
            "name": "female",
            "count": 448
           },
           {
            "name": "male",
            "count": 427
           }
          ]
         }
        },
        {
         "name": "race/ethnicity",
         "dtype": "object",
         "stats": {
          "unique_count": 5,
          "nan_count": 0,
          "categories": [
           {
            "name": "group C",
            "count": 272
           },
           {
            "name": "group D",
            "count": 239
           },
           {
            "name": "3 others",
            "count": 364
           }
          ]
         }
        },
        {
         "name": "parental level of education",
         "dtype": "object",
         "stats": {
          "unique_count": 6,
          "nan_count": 0,
          "categories": [
           {
            "name": "associate's degree",
            "count": 196
           },
           {
            "name": "some college",
            "count": 191
           },
           {
            "name": "4 others",
            "count": 488
           }
          ]
         }
        },
        {
         "name": "lunch",
         "dtype": "object",
         "stats": {
          "unique_count": 2,
          "nan_count": 0,
          "categories": [
           {
            "name": "standard",
            "count": 562
           },
           {
            "name": "free/reduced",
            "count": 313
           }
          ]
         }
        },
        {
         "name": "test preparation course",
         "dtype": "object",
         "stats": {
          "unique_count": 2,
          "nan_count": 0,
          "categories": [
           {
            "name": "none",
            "count": 563
           },
           {
            "name": "completed",
            "count": 312
           }
          ]
         }
        },
        {
         "name": "math score",
         "dtype": "float64",
         "stats": {
          "unique_count": 79,
          "nan_count": 0,
          "min": "1.0",
          "max": "7.0",
          "histogram": [
           {
            "bin_start": 1,
            "bin_end": 1.6,
            "count": 2
           },
           {
            "bin_start": 1.6,
            "bin_end": 2.2,
            "count": 2
           },
           {
            "bin_start": 2.2,
            "bin_end": 2.8,
            "count": 10
           },
           {
            "bin_start": 2.8,
            "bin_end": 3.4,
            "count": 19
           },
           {
            "bin_start": 3.4,
            "bin_end": 4,
            "count": 81
           },
           {
            "bin_start": 4,
            "bin_end": 4.6,
            "count": 158
           },
           {
            "bin_start": 4.6,
            "bin_end": 5.2,
            "count": 245
           },
           {
            "bin_start": 5.2,
            "bin_end": 5.8,
            "count": 191
           },
           {
            "bin_start": 5.8,
            "bin_end": 6.3999999999999995,
            "count": 116
           },
           {
            "bin_start": 6.3999999999999995,
            "bin_end": 7,
            "count": 51
           }
          ]
         }
        },
        {
         "name": "reading score",
         "dtype": "float64",
         "stats": {
          "unique_count": 72,
          "nan_count": 0,
          "min": "2.02",
          "max": "7.0",
          "histogram": [
           {
            "bin_start": 2.02,
            "bin_end": 2.5180000000000002,
            "count": 4
           },
           {
            "bin_start": 2.5180000000000002,
            "bin_end": 3.016,
            "count": 7
           },
           {
            "bin_start": 3.016,
            "bin_end": 3.5140000000000002,
            "count": 19
           },
           {
            "bin_start": 3.5140000000000002,
            "bin_end": 4.0120000000000005,
            "count": 53
           },
           {
            "bin_start": 4.0120000000000005,
            "bin_end": 4.51,
            "count": 124
           },
           {
            "bin_start": 4.51,
            "bin_end": 5.008000000000001,
            "count": 157
           },
           {
            "bin_start": 5.008000000000001,
            "bin_end": 5.506,
            "count": 212
           },
           {
            "bin_start": 5.506,
            "bin_end": 6.0040000000000004,
            "count": 147
           },
           {
            "bin_start": 6.0040000000000004,
            "bin_end": 6.502000000000001,
            "count": 101
           },
           {
            "bin_start": 6.502000000000001,
            "bin_end": 7,
            "count": 51
           }
          ]
         }
        },
        {
         "name": "writing score",
         "dtype": "float64",
         "stats": {
          "unique_count": 77,
          "nan_count": 0,
          "min": "1.6",
          "max": "7.0",
          "histogram": [
           {
            "bin_start": 1.6,
            "bin_end": 2.14,
            "count": 2
           },
           {
            "bin_start": 2.14,
            "bin_end": 2.68,
            "count": 6
           },
           {
            "bin_start": 2.68,
            "bin_end": 3.22,
            "count": 13
           },
           {
            "bin_start": 3.22,
            "bin_end": 3.7600000000000002,
            "count": 52
           },
           {
            "bin_start": 3.7600000000000002,
            "bin_end": 4.300000000000001,
            "count": 115
           },
           {
            "bin_start": 4.300000000000001,
            "bin_end": 4.84,
            "count": 129
           },
           {
            "bin_start": 4.84,
            "bin_end": 5.380000000000001,
            "count": 218
           },
           {
            "bin_start": 5.380000000000001,
            "bin_end": 5.92,
            "count": 174
           },
           {
            "bin_start": 5.92,
            "bin_end": 6.460000000000001,
            "count": 116
           },
           {
            "bin_start": 6.460000000000001,
            "bin_end": 7,
            "count": 50
           }
          ]
         }
        },
        {
         "name": "GPA",
         "dtype": "object",
         "stats": {
          "unique_count": 144,
          "nan_count": 0,
          "categories": [
           {
            "name": "R",
            "count": 86
           },
           {
            "name": "5.2",
            "count": 12
           },
           {
            "name": "142 others",
            "count": 777
           }
          ]
         }
        },
        {
         "name": "_deepnote_index_column",
         "dtype": "int64"
        }
       ],
       "rows_top": [
        {
         "names": "Rita Courtney",
         "gender": "female",
         "race/ethnicity": "group B",
         "parental level of education": "some high school",
         "lunch": "standard",
         "test preparation course": "none",
         "math score": 3.22,
         "reading score": 3.76,
         "writing score": 3.76,
         "GPA": "R",
         "_deepnote_index_column": 0
        },
        {
         "names": "Charles Linstrom",
         "gender": "male",
         "race/ethnicity": "group A",
         "parental level of education": "bachelor's degree",
         "lunch": "standard",
         "test preparation course": "completed",
         "math score": 5.8,
         "reading score": 5.68,
         "writing score": 5.86,
         "GPA": "5.78",
         "_deepnote_index_column": 1
        },
        {
         "names": "Brian Young",
         "gender": "male",
         "race/ethnicity": "group C",
         "parental level of education": "some high school",
         "lunch": "standard",
         "test preparation course": "none",
         "math score": 5.38,
         "reading score": 4.96,
         "writing score": 4.78,
         "GPA": "5.04",
         "_deepnote_index_column": 2
        },
        {
         "names": "Howard Jimenez",
         "gender": "male",
         "race/ethnicity": "group E",
         "parental level of education": "some high school",
         "lunch": "standard",
         "test preparation course": "completed",
         "math score": 5.86,
         "reading score": 5.5,
         "writing score": 5.56,
         "GPA": "5.64",
         "_deepnote_index_column": 3
        },
        {
         "names": "Wayne Wilson",
         "gender": "male",
         "race/ethnicity": "group B",
         "parental level of education": "some high school",
         "lunch": "standard",
         "test preparation course": "completed",
         "math score": 6.64,
         "reading score": 6.16,
         "writing score": 6.22,
         "GPA": "6.34",
         "_deepnote_index_column": 4
        },
        {
         "names": "Jonathan Clingan",
         "gender": "male",
         "race/ethnicity": "group D",
         "parental level of education": "some college",
         "lunch": "standard",
         "test preparation course": "completed",
         "math score": 5.26,
         "reading score": 4.66,
         "writing score": 5.14,
         "GPA": "5.02",
         "_deepnote_index_column": 5
        },
        {
         "names": "William Tang",
         "gender": "male",
         "race/ethnicity": "group D",
         "parental level of education": "associate's degree",
         "lunch": "standard",
         "test preparation course": "none",
         "math score": 5.5,
         "reading score": 5.08,
         "writing score": 4.84,
         "GPA": "5.14",
         "_deepnote_index_column": 6
        },
        {
         "names": "Mikki Amaya",
         "gender": "female",
         "race/ethnicity": "group A",
         "parental level of education": "high school",
         "lunch": "free/reduced",
         "test preparation course": "completed",
         "math score": 3.04,
         "reading score": 3.88,
         "writing score": 3.46,
         "GPA": "R",
         "_deepnote_index_column": 7
        },
        {
         "names": "Gerald Wilson",
         "gender": "male",
         "race/ethnicity": "group A",
         "parental level of education": "associate's degree",
         "lunch": "standard",
         "test preparation course": "none",
         "math score": 4.78,
         "reading score": 4.66,
         "writing score": 4.66,
         "GPA": "4.7",
         "_deepnote_index_column": 8
        },
        {
         "names": "Damon Mckee",
         "gender": "male",
         "race/ethnicity": "group E",
         "parental level of education": "high school",
         "lunch": "standard",
         "test preparation course": "none",
         "math score": 6.64,
         "reading score": 5.38,
         "writing score": 5.26,
         "GPA": "5.76",
         "_deepnote_index_column": 9
        },
        {
         "names": "Sophia Bijou",
         "gender": "female",
         "race/ethnicity": "group D",
         "parental level of education": "some high school",
         "lunch": "standard",
         "test preparation course": "completed",
         "math score": 4.9,
         "reading score": 5.68,
         "writing score": 5.92,
         "GPA": "5.5",
         "_deepnote_index_column": 10
        },
        {
         "names": "Monica Schwartz",
         "gender": "female",
         "race/ethnicity": "group B",
         "parental level of education": "associate's degree",
         "lunch": "free/reduced",
         "test preparation course": "none",
         "math score": 4.12,
         "reading score": 5.56,
         "writing score": 5.2,
         "GPA": "4.96",
         "_deepnote_index_column": 11
        },
        {
         "names": "Donald Upchurch",
         "gender": "male",
         "race/ethnicity": "group C",
         "parental level of education": "associate's degree",
         "lunch": "standard",
         "test preparation course": "none",
         "math score": 4.72,
         "reading score": 4.9,
         "writing score": 4.48,
         "GPA": "4.7",
         "_deepnote_index_column": 12
        },
        {
         "names": "Donald Dunnings",
         "gender": "male",
         "race/ethnicity": "group D",
         "parental level of education": "some high school",
         "lunch": "standard",
         "test preparation course": "none",
         "math score": 5.44,
         "reading score": 5.44,
         "writing score": 5.32,
         "GPA": "5.4",
         "_deepnote_index_column": 13
        },
        {
         "names": "Joseph Mccoy",
         "gender": "male",
         "race/ethnicity": "group D",
         "parental level of education": "some college",
         "lunch": "free/reduced",
         "test preparation course": "none",
         "math score": 4.72,
         "reading score": 4.42,
         "writing score": 4.72,
         "GPA": "4.62",
         "_deepnote_index_column": 14
        },
        {
         "names": "David Dupree",
         "gender": "male",
         "race/ethnicity": "group B",
         "parental level of education": "high school",
         "lunch": "standard",
         "test preparation course": "completed",
         "math score": 5.38,
         "reading score": 5.14,
         "writing score": 5.08,
         "GPA": "5.2",
         "_deepnote_index_column": 15
        },
        {
         "names": "Samuel Dougal",
         "gender": "male",
         "race/ethnicity": "group C",
         "parental level of education": "master's degree",
         "lunch": "free/reduced",
         "test preparation course": "completed",
         "math score": 3.76,
         "reading score": 3.52,
         "writing score": 3.76,
         "GPA": "R",
         "_deepnote_index_column": 16
        },
        {
         "names": "Richard Pina",
         "gender": "male",
         "race/ethnicity": "group D",
         "parental level of education": "master's degree",
         "lunch": "standard",
         "test preparation course": "none",
         "math score": 5.92,
         "reading score": 5.92,
         "writing score": 5.44,
         "GPA": "5.76",
         "_deepnote_index_column": 17
        },
        {
         "names": "Dale Sylvain",
         "gender": "male",
         "race/ethnicity": "group D",
         "parental level of education": "some college",
         "lunch": "free/reduced",
         "test preparation course": "none",
         "math score": 4.78,
         "reading score": 4.66,
         "writing score": 4.6,
         "GPA": "4.68",
         "_deepnote_index_column": 18
        },
        {
         "names": "Janine Taylor",
         "gender": "female",
         "race/ethnicity": "group C",
         "parental level of education": "associate's degree",
         "lunch": "free/reduced",
         "test preparation course": "none",
         "math score": 4.84,
         "reading score": 5.38,
         "writing score": 5.08,
         "GPA": "5.1",
         "_deepnote_index_column": 19
        },
        {
         "names": "Alexander Dillon",
         "gender": "male",
         "race/ethnicity": "group D",
         "parental level of education": "associate's degree",
         "lunch": "standard",
         "test preparation course": "none",
         "math score": 5.8,
         "reading score": 5.5,
         "writing score": 5.62,
         "GPA": "5.64",
         "_deepnote_index_column": 20
        },
        {
         "names": "Shanna Braswell",
         "gender": "female",
         "race/ethnicity": "group D",
         "parental level of education": "bachelor's degree",
         "lunch": "free/reduced",
         "test preparation course": "completed",
         "math score": 6.58,
         "reading score": 7,
         "writing score": 7,
         "GPA": "6.86",
         "_deepnote_index_column": 21
        },
        {
         "names": "Bonnie Ramos",
         "gender": "female",
         "race/ethnicity": "group B",
         "parental level of education": "high school",
         "lunch": "standard",
         "test preparation course": "completed",
         "math score": 5.14,
         "reading score": 5.56,
         "writing score": 5.44,
         "GPA": "5.38",
         "_deepnote_index_column": 22
        },
        {
         "names": "Connie Shinn",
         "gender": "female",
         "race/ethnicity": "group B",
         "parental level of education": "associate's degree",
         "lunch": "free/reduced",
         "test preparation course": "none",
         "math score": 3.76,
         "reading score": 4.66,
         "writing score": 4.3,
         "GPA": "4.24",
         "_deepnote_index_column": 23
        },
        {
         "names": "Daniel Cartwright",
         "gender": "male",
         "race/ethnicity": "group C",
         "parental level of education": "high school",
         "lunch": "standard",
         "test preparation course": "completed",
         "math score": 6.16,
         "reading score": 5.86,
         "writing score": 5.8,
         "GPA": "5.94",
         "_deepnote_index_column": 24
        },
        {
         "names": "Betty Buntin",
         "gender": "female",
         "race/ethnicity": "group A",
         "parental level of education": "bachelor's degree",
         "lunch": "standard",
         "test preparation course": "none",
         "math score": 4.54,
         "reading score": 5.32,
         "writing score": 5.2,
         "GPA": "5.02",
         "_deepnote_index_column": 25
        },
        {
         "names": "Francis Seibold",
         "gender": "male",
         "race/ethnicity": "group B",
         "parental level of education": "some high school",
         "lunch": "standard",
         "test preparation course": "completed",
         "math score": 6.04,
         "reading score": 5.98,
         "writing score": 5.5,
         "GPA": "5.84",
         "_deepnote_index_column": 26
        },
        {
         "names": "Arthur Byer",
         "gender": "male",
         "race/ethnicity": "group D",
         "parental level of education": "high school",
         "lunch": "free/reduced",
         "test preparation course": "completed",
         "math score": 4.84,
         "reading score": 4.84,
         "writing score": 5.02,
         "GPA": "4.9",
         "_deepnote_index_column": 27
        },
        {
         "names": "Willie Neff",
         "gender": "female",
         "race/ethnicity": "group E",
         "parental level of education": "associate's degree",
         "lunch": "free/reduced",
         "test preparation course": "none",
         "math score": 5.38,
         "reading score": 5.56,
         "writing score": 5.68,
         "GPA": "5.54",
         "_deepnote_index_column": 28
        },
        {
         "names": "Thelma Yeates",
         "gender": "female",
         "race/ethnicity": "group E",
         "parental level of education": "associate's degree",
         "lunch": "free/reduced",
         "test preparation course": "completed",
         "math score": 5.98,
         "reading score": 6.16,
         "writing score": 6.28,
         "GPA": "6.14",
         "_deepnote_index_column": 29
        },
        {
         "names": "Mary Piotrowski",
         "gender": "female",
         "race/ethnicity": "group E",
         "parental level of education": "some college",
         "lunch": "free/reduced",
         "test preparation course": "completed",
         "math score": 5.5,
         "reading score": 6.28,
         "writing score": 6.1,
         "GPA": "5.96",
         "_deepnote_index_column": 30
        },
        {
         "names": "Hazel Montoya",
         "gender": "female",
         "race/ethnicity": "group D",
         "parental level of education": "some college",
         "lunch": "standard",
         "test preparation course": "none",
         "math score": 5.14,
         "reading score": 5.44,
         "writing score": 5.44,
         "GPA": "5.34",
         "_deepnote_index_column": 31
        },
        {
         "names": "James Eury",
         "gender": "male",
         "race/ethnicity": "group E",
         "parental level of education": "some college",
         "lunch": "standard",
         "test preparation course": "none",
         "math score": 5.08,
         "reading score": 5.32,
         "writing score": 4.9,
         "GPA": "5.1",
         "_deepnote_index_column": 32
        },
        {
         "names": "Larry Dunn",
         "gender": "male",
         "race/ethnicity": "group C",
         "parental level of education": "some high school",
         "lunch": "standard",
         "test preparation course": "none",
         "math score": 4.42,
         "reading score": 4.66,
         "writing score": 4.24,
         "GPA": "4.44",
         "_deepnote_index_column": 33
        },
        {
         "names": "David Dunham",
         "gender": "male",
         "race/ethnicity": "group A",
         "parental level of education": "bachelor's degree",
         "lunch": "standard",
         "test preparation course": "none",
         "math score": 4.96,
         "reading score": 4.84,
         "writing score": 4.72,
         "GPA": "4.84",
         "_deepnote_index_column": 34
        },
        {
         "names": "Jeffery Wiedmann",
         "gender": "male",
         "race/ethnicity": "group C",
         "parental level of education": "some college",
         "lunch": "standard",
         "test preparation course": "none",
         "math score": 4.66,
         "reading score": 4.66,
         "writing score": 4.72,
         "GPA": "4.68",
         "_deepnote_index_column": 35
        },
        {
         "names": "Lisa Watters",
         "gender": "female",
         "race/ethnicity": "group D",
         "parental level of education": "master's degree",
         "lunch": "free/reduced",
         "test preparation course": "none",
         "math score": 3.4,
         "reading score": 4.54,
         "writing score": 4.24,
         "GPA": "4.06",
         "_deepnote_index_column": 36
        },
        {
         "names": "Katharine Kellum",
         "gender": "female",
         "race/ethnicity": "group B",
         "parental level of education": "high school",
         "lunch": "free/reduced",
         "test preparation course": "none",
         "math score": 4,
         "reading score": 5.02,
         "writing score": 4.78,
         "GPA": "4.6",
         "_deepnote_index_column": 37
        },
        {
         "names": "Marjorie Brown",
         "gender": "female",
         "race/ethnicity": "group B",
         "parental level of education": "high school",
         "lunch": "standard",
         "test preparation course": "none",
         "math score": 3.88,
         "reading score": 4.72,
         "writing score": 4.6,
         "GPA": "4.4",
         "_deepnote_index_column": 38
        },
        {
         "names": "Rodger Talavera",
         "gender": "male",
         "race/ethnicity": "group B",
         "parental level of education": "high school",
         "lunch": "free/reduced",
         "test preparation course": "none",
         "math score": 3.16,
         "reading score": 2.74,
         "writing score": 2.62,
         "GPA": "R",
         "_deepnote_index_column": 39
        },
        {
         "names": "Mary Jackson",
         "gender": "female",
         "race/ethnicity": "group B",
         "parental level of education": "bachelor's degree",
         "lunch": "free/reduced",
         "test preparation course": "none",
         "math score": 5.68,
         "reading score": 5.74,
         "writing score": 5.56,
         "GPA": "5.66",
         "_deepnote_index_column": 40
        },
        {
         "names": "Rebecca Dalton",
         "gender": "female",
         "race/ethnicity": "group B",
         "parental level of education": "some high school",
         "lunch": "standard",
         "test preparation course": "none",
         "math score": 4.42,
         "reading score": 5.02,
         "writing score": 5.32,
         "GPA": "4.92",
         "_deepnote_index_column": 41
        },
        {
         "names": "David Fisk",
         "gender": "male",
         "race/ethnicity": "group D",
         "parental level of education": "bachelor's degree",
         "lunch": "standard",
         "test preparation course": "none",
         "math score": 5.14,
         "reading score": 4.48,
         "writing score": 4.42,
         "GPA": "4.68",
         "_deepnote_index_column": 42
        },
        {
         "names": "Morris Johnson",
         "gender": "male",
         "race/ethnicity": "group A",
         "parental level of education": "associate's degree",
         "lunch": "free/reduced",
         "test preparation course": "completed",
         "math score": 3.4,
         "reading score": 4.3,
         "writing score": 4.18,
         "GPA": "R",
         "_deepnote_index_column": 43
        },
        {
         "names": "Rodrick Rasch",
         "gender": "male",
         "race/ethnicity": "group E",
         "parental level of education": "some high school",
         "lunch": "standard",
         "test preparation course": "none",
         "math score": 6.52,
         "reading score": 6.22,
         "writing score": 5.68,
         "GPA": "6.14",
         "_deepnote_index_column": 44
        },
        {
         "names": "Anthony Malcomb",
         "gender": "male",
         "race/ethnicity": "group C",
         "parental level of education": "some college",
         "lunch": "free/reduced",
         "test preparation course": "none",
         "math score": 3.1,
         "reading score": 2.68,
         "writing score": 2.62,
         "GPA": "R",
         "_deepnote_index_column": 45
        },
        {
         "names": "Joyce Amos",
         "gender": "female",
         "race/ethnicity": "group C",
         "parental level of education": "associate's degree",
         "lunch": "standard",
         "test preparation course": "none",
         "math score": 4.78,
         "reading score": 5.02,
         "writing score": 5.2,
         "GPA": "5.0",
         "_deepnote_index_column": 46
        },
        {
         "names": "Donald Chestnut",
         "gender": "male",
         "race/ethnicity": "group C",
         "parental level of education": "some college",
         "lunch": "standard",
         "test preparation course": "none",
         "math score": 5.38,
         "reading score": 5.44,
         "writing score": 4.66,
         "GPA": "5.16",
         "_deepnote_index_column": 47
        },
        {
         "names": "Lynne Rodgers",
         "gender": "female",
         "race/ethnicity": "group D",
         "parental level of education": "some college",
         "lunch": "standard",
         "test preparation course": "none",
         "math score": 4.78,
         "reading score": 4.84,
         "writing score": 5.02,
         "GPA": "4.88",
         "_deepnote_index_column": 48
        },
        {
         "names": "Diane Preister",
         "gender": "female",
         "race/ethnicity": "group D",
         "parental level of education": "some college",
         "lunch": "free/reduced",
         "test preparation course": "completed",
         "math score": 4.12,
         "reading score": 4.54,
         "writing score": 4.9,
         "GPA": "4.52",
         "_deepnote_index_column": 49
        }
       ],
       "rows_bottom": [
        {
         "names": "Kelly Bowar",
         "gender": "female",
         "race/ethnicity": "group D",
         "parental level of education": "some high school",
         "lunch": "standard",
         "test preparation course": "none",
         "math score": 3.88,
         "reading score": 4.48,
         "writing score": 4.24,
         "GPA": "4.2",
         "_deepnote_index_column": 825
        },
        {
         "names": "Kelly Greer",
         "gender": "female",
         "race/ethnicity": "group C",
         "parental level of education": "associate's degree",
         "lunch": "free/reduced",
         "test preparation course": "none",
         "math score": 4.18,
         "reading score": 4.66,
         "writing score": 4.72,
         "GPA": "4.52",
         "_deepnote_index_column": 826
        },
        {
         "names": "Fred Jaeger",
         "gender": "male",
         "race/ethnicity": "group E",
         "parental level of education": "bachelor's degree",
         "lunch": "standard",
         "test preparation course": "completed",
         "math score": 6.1,
         "reading score": 4.96,
         "writing score": 5.26,
         "GPA": "5.44",
         "_deepnote_index_column": 827
        },
        {
         "names": "Haydee Kunkel",
         "gender": "female",
         "race/ethnicity": "group C",
         "parental level of education": "high school",
         "lunch": "free/reduced",
         "test preparation course": "none",
         "math score": 4.72,
         "reading score": 5.02,
         "writing score": 4.84,
         "GPA": "4.86",
         "_deepnote_index_column": 828
        },
        {
         "names": "Kayla Lopez",
         "gender": "female",
         "race/ethnicity": "group C",
         "parental level of education": "associate's degree",
         "lunch": "standard",
         "test preparation course": "completed",
         "math score": 4.9,
         "reading score": 6.04,
         "writing score": 6.04,
         "GPA": "5.66",
         "_deepnote_index_column": 829
        },
        {
         "names": "Paul Brownell",
         "gender": "male",
         "race/ethnicity": "group B",
         "parental level of education": "high school",
         "lunch": "standard",
         "test preparation course": "none",
         "math score": 5.92,
         "reading score": 5.92,
         "writing score": 5.8,
         "GPA": "5.88",
         "_deepnote_index_column": 830
        },
        {
         "names": "Jose Rogers",
         "gender": "male",
         "race/ethnicity": "group D",
         "parental level of education": "some college",
         "lunch": "free/reduced",
         "test preparation course": "none",
         "math score": 5.62,
         "reading score": 4.72,
         "writing score": 4.84,
         "GPA": "5.06",
         "_deepnote_index_column": 831
        },
        {
         "names": "Joyce Bland",
         "gender": "female",
         "race/ethnicity": "group D",
         "parental level of education": "some high school",
         "lunch": "free/reduced",
         "test preparation course": "none",
         "math score": 4,
         "reading score": 4.84,
         "writing score": 4.54,
         "GPA": "4.46",
         "_deepnote_index_column": 832
        },
        {
         "names": "Fannie Alvarez",
         "gender": "female",
         "race/ethnicity": "group D",
         "parental level of education": "some college",
         "lunch": "free/reduced",
         "test preparation course": "none",
         "math score": 5.14,
         "reading score": 4.9,
         "writing score": 5.44,
         "GPA": "5.16",
         "_deepnote_index_column": 833
        },
        {
         "names": "Melissa Johnston",
         "gender": "female",
         "race/ethnicity": "group C",
         "parental level of education": "some high school",
         "lunch": "free/reduced",
         "test preparation course": "none",
         "math score": 1,
         "reading score": 2.02,
         "writing score": 1.6,
         "GPA": "R",
         "_deepnote_index_column": 834
        },
        {
         "names": "Judith Mcenany",
         "gender": "female",
         "race/ethnicity": "group D",
         "parental level of education": "bachelor's degree",
         "lunch": "standard",
         "test preparation course": "none",
         "math score": 4.9,
         "reading score": 5.02,
         "writing score": 4.72,
         "GPA": "4.88",
         "_deepnote_index_column": 835
        },
        {
         "names": "Nancy Mccormick",
         "gender": "female",
         "race/ethnicity": "group D",
         "parental level of education": "some high school",
         "lunch": "free/reduced",
         "test preparation course": "completed",
         "math score": 5.14,
         "reading score": 6.16,
         "writing score": 5.86,
         "GPA": "5.72",
         "_deepnote_index_column": 836
        },
        {
         "names": "Timothy Long",
         "gender": "male",
         "race/ethnicity": "group C",
         "parental level of education": "high school",
         "lunch": "standard",
         "test preparation course": "completed",
         "math score": 5.32,
         "reading score": 5.02,
         "writing score": 4.84,
         "GPA": "5.06",
         "_deepnote_index_column": 837
        },
        {
         "names": "Sandra Pompey",
         "gender": "female",
         "race/ethnicity": "group E",
         "parental level of education": "associate's degree",
         "lunch": "standard",
         "test preparation course": "none",
         "math score": 7,
         "reading score": 7,
         "writing score": 7,
         "GPA": "7.0",
         "_deepnote_index_column": 838
        },
        {
         "names": "Steven Marriot",
         "gender": "male",
         "race/ethnicity": "group C",
         "parental level of education": "some college",
         "lunch": "free/reduced",
         "test preparation course": "none",
         "math score": 4.9,
         "reading score": 4.48,
         "writing score": 3.94,
         "GPA": "4.44",
         "_deepnote_index_column": 839
        },
        {
         "names": "Stanley Chappell",
         "gender": "male",
         "race/ethnicity": "group A",
         "parental level of education": "associate's degree",
         "lunch": "free/reduced",
         "test preparation course": "none",
         "math score": 3.82,
         "reading score": 4.42,
         "writing score": 3.64,
         "GPA": "R",
         "_deepnote_index_column": 840
        },
        {
         "names": "Michelle Smithson",
         "gender": "female",
         "race/ethnicity": "group E",
         "parental level of education": "associate's degree",
         "lunch": "standard",
         "test preparation course": "none",
         "math score": 4.06,
         "reading score": 4.06,
         "writing score": 4.24,
         "GPA": "4.12",
         "_deepnote_index_column": 841
        },
        {
         "names": "Jeffrey Bostrom",
         "gender": "male",
         "race/ethnicity": "group E",
         "parental level of education": "associate's degree",
         "lunch": "standard",
         "test preparation course": "completed",
         "math score": 5.26,
         "reading score": 5.44,
         "writing score": 5.08,
         "GPA": "5.26",
         "_deepnote_index_column": 842
        },
        {
         "names": "Earnest Cole",
         "gender": "male",
         "race/ethnicity": "group D",
         "parental level of education": "some college",
         "lunch": "standard",
         "test preparation course": "completed",
         "math score": 5.92,
         "reading score": 5.92,
         "writing score": 6.28,
         "GPA": "6.04",
         "_deepnote_index_column": 843
        },
        {
         "names": "Sharon Garcia",
         "gender": "female",
         "race/ethnicity": "group C",
         "parental level of education": "some high school",
         "lunch": "free/reduced",
         "test preparation course": "none",
         "math score": 4.3,
         "reading score": 4.9,
         "writing score": 4.72,
         "GPA": "4.64",
         "_deepnote_index_column": 844
        },
        {
         "names": "Carol Miller",
         "gender": "female",
         "race/ethnicity": "group C",
         "parental level of education": "associate's degree",
         "lunch": "standard",
         "test preparation course": "completed",
         "math score": 5.5,
         "reading score": 5.92,
         "writing score": 6.4,
         "GPA": "5.94",
         "_deepnote_index_column": 845
        },
        {
         "names": "Antonio Evans",
         "gender": "male",
         "race/ethnicity": "group C",
         "parental level of education": "high school",
         "lunch": "free/reduced",
         "test preparation course": "none",
         "math score": 4.96,
         "reading score": 4.96,
         "writing score": 4.54,
         "GPA": "4.82",
         "_deepnote_index_column": 846
        },
        {
         "names": "Pam Otoole",
         "gender": "female",
         "race/ethnicity": "group B",
         "parental level of education": "bachelor's degree",
         "lunch": "standard",
         "test preparation course": "none",
         "math score": 5.32,
         "reading score": 5.32,
         "writing score": 5.44,
         "GPA": "5.36",
         "_deepnote_index_column": 847
        },
        {
         "names": "Matthew Burns",
         "gender": "male",
         "race/ethnicity": "group E",
         "parental level of education": "high school",
         "lunch": "standard",
         "test preparation course": "none",
         "math score": 5.2,
         "reading score": 4.3,
         "writing score": 4.36,
         "GPA": "4.62",
         "_deepnote_index_column": 848
        },
        {
         "names": "Gregory Fernandez",
         "gender": "male",
         "race/ethnicity": "group E",
         "parental level of education": "high school",
         "lunch": "free/reduced",
         "test preparation course": "completed",
         "math score": 4.42,
         "reading score": 4.36,
         "writing score": 4.24,
         "GPA": "4.34",
         "_deepnote_index_column": 849
        },
        {
         "names": "Charles Herandez",
         "gender": "male",
         "race/ethnicity": "group D",
         "parental level of education": "master's degree",
         "lunch": "free/reduced",
         "test preparation course": "completed",
         "math score": 6.04,
         "reading score": 6.34,
         "writing score": 6.4,
         "GPA": "6.26",
         "_deepnote_index_column": 850
        },
        {
         "names": "Aaron Shelly",
         "gender": "male",
         "race/ethnicity": "group D",
         "parental level of education": "associate's degree",
         "lunch": "standard",
         "test preparation course": "none",
         "math score": 4.66,
         "reading score": 3.88,
         "writing score": 3.76,
         "GPA": "4.1",
         "_deepnote_index_column": 851
        },
        {
         "names": "Charles Harian",
         "gender": "male",
         "race/ethnicity": "group C",
         "parental level of education": "some high school",
         "lunch": "free/reduced",
         "test preparation course": "completed",
         "math score": 3.7,
         "reading score": 4.12,
         "writing score": 3.94,
         "GPA": "R",
         "_deepnote_index_column": 852
        },
        {
         "names": "Steven Hacker",
         "gender": "male",
         "race/ethnicity": "group A",
         "parental level of education": "some high school",
         "lunch": "free/reduced",
         "test preparation course": "none",
         "math score": 4.9,
         "reading score": 4.54,
         "writing score": 4.18,
         "GPA": "4.54",
         "_deepnote_index_column": 853
        },
        {
         "names": "Wendy Gunnell",
         "gender": "female",
         "race/ethnicity": "group D",
         "parental level of education": "some high school",
         "lunch": "free/reduced",
         "test preparation course": "none",
         "math score": 2.62,
         "reading score": 3.04,
         "writing score": 2.92,
         "GPA": "R",
         "_deepnote_index_column": 854
        },
        {
         "names": "Manuel Glover",
         "gender": "male",
         "race/ethnicity": "group D",
         "parental level of education": "some college",
         "lunch": "standard",
         "test preparation course": "none",
         "math score": 6.28,
         "reading score": 5.38,
         "writing score": 5.68,
         "GPA": "5.78",
         "_deepnote_index_column": 855
        },
        {
         "names": "Linda Nevin",
         "gender": "female",
         "race/ethnicity": "group B",
         "parental level of education": "some high school",
         "lunch": "standard",
         "test preparation course": "completed",
         "math score": 4.9,
         "reading score": 5.92,
         "writing score": 5.68,
         "GPA": "5.5",
         "_deepnote_index_column": 856
        },
        {
         "names": "James Piper",
         "gender": "male",
         "race/ethnicity": "group D",
         "parental level of education": "bachelor's degree",
         "lunch": "free/reduced",
         "test preparation course": "none",
         "math score": 4.78,
         "reading score": 4.96,
         "writing score": 5.02,
         "GPA": "4.92",
         "_deepnote_index_column": 857
        },
        {
         "names": "Timothy Anderson",
         "gender": "male",
         "race/ethnicity": "group C",
         "parental level of education": "associate's degree",
         "lunch": "free/reduced",
         "test preparation course": "completed",
         "math score": 5.68,
         "reading score": 5.86,
         "writing score": 5.92,
         "GPA": "5.82",
         "_deepnote_index_column": 858
        },
        {
         "names": "Julie Sciancalepore",
         "gender": "female",
         "race/ethnicity": "group C",
         "parental level of education": "bachelor's degree",
         "lunch": "standard",
         "test preparation course": "none",
         "math score": 4.9,
         "reading score": 5.32,
         "writing score": 5.44,
         "GPA": "5.22",
         "_deepnote_index_column": 859
        },
        {
         "names": "Brandon Palmer",
         "gender": "male",
         "race/ethnicity": "group D",
         "parental level of education": "associate's degree",
         "lunch": "free/reduced",
         "test preparation course": "none",
         "math score": 6.4,
         "reading score": 6.22,
         "writing score": 5.5,
         "GPA": "6.04",
         "_deepnote_index_column": 860
        },
        {
         "names": "Robert Morrison",
         "gender": "male",
         "race/ethnicity": "group D",
         "parental level of education": "some college",
         "lunch": "standard",
         "test preparation course": "completed",
         "math score": 7,
         "reading score": 6.82,
         "writing score": 6.94,
         "GPA": "6.92",
         "_deepnote_index_column": 861
        },
        {
         "names": "Claudio Millender",
         "gender": "male",
         "race/ethnicity": "group C",
         "parental level of education": "some college",
         "lunch": "free/reduced",
         "test preparation course": "completed",
         "math score": 5.02,
         "reading score": 5.44,
         "writing score": 5.2,
         "GPA": "5.22",
         "_deepnote_index_column": 862
        },
        {
         "names": "Emily King",
         "gender": "female",
         "race/ethnicity": "group D",
         "parental level of education": "some college",
         "lunch": "standard",
         "test preparation course": "completed",
         "math score": 5.44,
         "reading score": 5.5,
         "writing score": 5.74,
         "GPA": "5.56",
         "_deepnote_index_column": 863
        },
        {
         "names": "William Sakkinen",
         "gender": "male",
         "race/ethnicity": "group E",
         "parental level of education": "some college",
         "lunch": "standard",
         "test preparation course": "none",
         "math score": 5.56,
         "reading score": 5.02,
         "writing score": 5.02,
         "GPA": "5.2",
         "_deepnote_index_column": 864
        },
        {
         "names": "Elsa Hyman",
         "gender": "female",
         "race/ethnicity": "group B",
         "parental level of education": "high school",
         "lunch": "standard",
         "test preparation course": "none",
         "math score": 4.96,
         "reading score": 5.32,
         "writing score": 5.2,
         "GPA": "5.16",
         "_deepnote_index_column": 865
        },
        {
         "names": "Virginia Sievers",
         "gender": "female",
         "race/ethnicity": "group C",
         "parental level of education": "bachelor's degree",
         "lunch": "standard",
         "test preparation course": "completed",
         "math score": 4.54,
         "reading score": 4.84,
         "writing score": 5.5,
         "GPA": "4.96",
         "_deepnote_index_column": 866
        },
        {
         "names": "Laura Cavanaugh",
         "gender": "female",
         "race/ethnicity": "group C",
         "parental level of education": "associate's degree",
         "lunch": "standard",
         "test preparation course": "completed",
         "math score": 4.72,
         "reading score": 5.56,
         "writing score": 5.8,
         "GPA": "5.36",
         "_deepnote_index_column": 867
        },
        {
         "names": "Diana Costa",
         "gender": "female",
         "race/ethnicity": "group C",
         "parental level of education": "high school",
         "lunch": "free/reduced",
         "test preparation course": "none",
         "math score": 3.46,
         "reading score": 3.76,
         "writing score": 3.58,
         "GPA": "R",
         "_deepnote_index_column": 868
        },
        {
         "names": "Amy Sieving",
         "gender": "female",
         "race/ethnicity": "group C",
         "parental level of education": "high school",
         "lunch": "standard",
         "test preparation course": "none",
         "math score": 2.74,
         "reading score": 2.74,
         "writing score": 2.8,
         "GPA": "R",
         "_deepnote_index_column": 869
        },
        {
         "names": "Richard Young",
         "gender": "male",
         "race/ethnicity": "group D",
         "parental level of education": "high school",
         "lunch": "standard",
         "test preparation course": "none",
         "math score": 5.14,
         "reading score": 5.5,
         "writing score": 5.26,
         "GPA": "5.3",
         "_deepnote_index_column": 870
        },
        {
         "names": "Wanda Russell",
         "gender": "female",
         "race/ethnicity": "group B",
         "parental level of education": "high school",
         "lunch": "free/reduced",
         "test preparation course": "completed",
         "math score": 2.38,
         "reading score": 3.64,
         "writing score": 3.16,
         "GPA": "R",
         "_deepnote_index_column": 871
        },
        {
         "names": "Marina Zeigler",
         "gender": "female",
         "race/ethnicity": "group C",
         "parental level of education": "bachelor's degree",
         "lunch": "free/reduced",
         "test preparation course": "completed",
         "math score": 4.96,
         "reading score": 5.44,
         "writing score": 5.86,
         "GPA": "5.42",
         "_deepnote_index_column": 872
        },
        {
         "names": "Laurie Carter",
         "gender": "female",
         "race/ethnicity": "group B",
         "parental level of education": "some high school",
         "lunch": "standard",
         "test preparation course": "completed",
         "math score": 4.24,
         "reading score": 4.66,
         "writing score": 4.72,
         "GPA": "4.54",
         "_deepnote_index_column": 873
        },
        {
         "names": "Amanda Perez",
         "gender": "female",
         "race/ethnicity": "group A",
         "parental level of education": "high school",
         "lunch": "standard",
         "test preparation course": "completed",
         "math score": 5.08,
         "reading score": 5.8,
         "writing score": 5.56,
         "GPA": "5.48",
         "_deepnote_index_column": 874
        }
       ]
      },
      "text/html": [
       "<div>\n",
       "<style scoped>\n",
       "    .dataframe tbody tr th:only-of-type {\n",
       "        vertical-align: middle;\n",
       "    }\n",
       "\n",
       "    .dataframe tbody tr th {\n",
       "        vertical-align: top;\n",
       "    }\n",
       "\n",
       "    .dataframe thead th {\n",
       "        text-align: right;\n",
       "    }\n",
       "</style>\n",
       "<table border=\"1\" class=\"dataframe\">\n",
       "  <thead>\n",
       "    <tr style=\"text-align: right;\">\n",
       "      <th></th>\n",
       "      <th>names</th>\n",
       "      <th>gender</th>\n",
       "      <th>race/ethnicity</th>\n",
       "      <th>parental level of education</th>\n",
       "      <th>lunch</th>\n",
       "      <th>test preparation course</th>\n",
       "      <th>math score</th>\n",
       "      <th>reading score</th>\n",
       "      <th>writing score</th>\n",
       "      <th>GPA</th>\n",
       "    </tr>\n",
       "  </thead>\n",
       "  <tbody>\n",
       "    <tr>\n",
       "      <th>0</th>\n",
       "      <td>Rita Courtney</td>\n",
       "      <td>female</td>\n",
       "      <td>group B</td>\n",
       "      <td>some high school</td>\n",
       "      <td>standard</td>\n",
       "      <td>none</td>\n",
       "      <td>3.22</td>\n",
       "      <td>3.76</td>\n",
       "      <td>3.76</td>\n",
       "      <td>R</td>\n",
       "    </tr>\n",
       "    <tr>\n",
       "      <th>1</th>\n",
       "      <td>Charles Linstrom</td>\n",
       "      <td>male</td>\n",
       "      <td>group A</td>\n",
       "      <td>bachelor's degree</td>\n",
       "      <td>standard</td>\n",
       "      <td>completed</td>\n",
       "      <td>5.80</td>\n",
       "      <td>5.68</td>\n",
       "      <td>5.86</td>\n",
       "      <td>5.78</td>\n",
       "    </tr>\n",
       "    <tr>\n",
       "      <th>2</th>\n",
       "      <td>Brian Young</td>\n",
       "      <td>male</td>\n",
       "      <td>group C</td>\n",
       "      <td>some high school</td>\n",
       "      <td>standard</td>\n",
       "      <td>none</td>\n",
       "      <td>5.38</td>\n",
       "      <td>4.96</td>\n",
       "      <td>4.78</td>\n",
       "      <td>5.04</td>\n",
       "    </tr>\n",
       "    <tr>\n",
       "      <th>3</th>\n",
       "      <td>Howard Jimenez</td>\n",
       "      <td>male</td>\n",
       "      <td>group E</td>\n",
       "      <td>some high school</td>\n",
       "      <td>standard</td>\n",
       "      <td>completed</td>\n",
       "      <td>5.86</td>\n",
       "      <td>5.50</td>\n",
       "      <td>5.56</td>\n",
       "      <td>5.64</td>\n",
       "    </tr>\n",
       "    <tr>\n",
       "      <th>4</th>\n",
       "      <td>Wayne Wilson</td>\n",
       "      <td>male</td>\n",
       "      <td>group B</td>\n",
       "      <td>some high school</td>\n",
       "      <td>standard</td>\n",
       "      <td>completed</td>\n",
       "      <td>6.64</td>\n",
       "      <td>6.16</td>\n",
       "      <td>6.22</td>\n",
       "      <td>6.34</td>\n",
       "    </tr>\n",
       "    <tr>\n",
       "      <th>...</th>\n",
       "      <td>...</td>\n",
       "      <td>...</td>\n",
       "      <td>...</td>\n",
       "      <td>...</td>\n",
       "      <td>...</td>\n",
       "      <td>...</td>\n",
       "      <td>...</td>\n",
       "      <td>...</td>\n",
       "      <td>...</td>\n",
       "      <td>...</td>\n",
       "    </tr>\n",
       "    <tr>\n",
       "      <th>870</th>\n",
       "      <td>Richard Young</td>\n",
       "      <td>male</td>\n",
       "      <td>group D</td>\n",
       "      <td>high school</td>\n",
       "      <td>standard</td>\n",
       "      <td>none</td>\n",
       "      <td>5.14</td>\n",
       "      <td>5.50</td>\n",
       "      <td>5.26</td>\n",
       "      <td>5.3</td>\n",
       "    </tr>\n",
       "    <tr>\n",
       "      <th>871</th>\n",
       "      <td>Wanda Russell</td>\n",
       "      <td>female</td>\n",
       "      <td>group B</td>\n",
       "      <td>high school</td>\n",
       "      <td>free/reduced</td>\n",
       "      <td>completed</td>\n",
       "      <td>2.38</td>\n",
       "      <td>3.64</td>\n",
       "      <td>3.16</td>\n",
       "      <td>R</td>\n",
       "    </tr>\n",
       "    <tr>\n",
       "      <th>872</th>\n",
       "      <td>Marina Zeigler</td>\n",
       "      <td>female</td>\n",
       "      <td>group C</td>\n",
       "      <td>bachelor's degree</td>\n",
       "      <td>free/reduced</td>\n",
       "      <td>completed</td>\n",
       "      <td>4.96</td>\n",
       "      <td>5.44</td>\n",
       "      <td>5.86</td>\n",
       "      <td>5.42</td>\n",
       "    </tr>\n",
       "    <tr>\n",
       "      <th>873</th>\n",
       "      <td>Laurie Carter</td>\n",
       "      <td>female</td>\n",
       "      <td>group B</td>\n",
       "      <td>some high school</td>\n",
       "      <td>standard</td>\n",
       "      <td>completed</td>\n",
       "      <td>4.24</td>\n",
       "      <td>4.66</td>\n",
       "      <td>4.72</td>\n",
       "      <td>4.54</td>\n",
       "    </tr>\n",
       "    <tr>\n",
       "      <th>874</th>\n",
       "      <td>Amanda Perez</td>\n",
       "      <td>female</td>\n",
       "      <td>group A</td>\n",
       "      <td>high school</td>\n",
       "      <td>standard</td>\n",
       "      <td>completed</td>\n",
       "      <td>5.08</td>\n",
       "      <td>5.80</td>\n",
       "      <td>5.56</td>\n",
       "      <td>5.48</td>\n",
       "    </tr>\n",
       "  </tbody>\n",
       "</table>\n",
       "<p>875 rows × 10 columns</p>\n",
       "</div>"
      ],
      "text/plain": [
       "                names  gender race/ethnicity parental level of education  \\\n",
       "0       Rita Courtney  female        group B            some high school   \n",
       "1    Charles Linstrom    male        group A           bachelor's degree   \n",
       "2         Brian Young    male        group C            some high school   \n",
       "3      Howard Jimenez    male        group E            some high school   \n",
       "4        Wayne Wilson    male        group B            some high school   \n",
       "..                ...     ...            ...                         ...   \n",
       "870     Richard Young    male        group D                 high school   \n",
       "871     Wanda Russell  female        group B                 high school   \n",
       "872    Marina Zeigler  female        group C           bachelor's degree   \n",
       "873     Laurie Carter  female        group B            some high school   \n",
       "874      Amanda Perez  female        group A                 high school   \n",
       "\n",
       "            lunch test preparation course  math score  reading score  \\\n",
       "0        standard                    none        3.22           3.76   \n",
       "1        standard               completed        5.80           5.68   \n",
       "2        standard                    none        5.38           4.96   \n",
       "3        standard               completed        5.86           5.50   \n",
       "4        standard               completed        6.64           6.16   \n",
       "..            ...                     ...         ...            ...   \n",
       "870      standard                    none        5.14           5.50   \n",
       "871  free/reduced               completed        2.38           3.64   \n",
       "872  free/reduced               completed        4.96           5.44   \n",
       "873      standard               completed        4.24           4.66   \n",
       "874      standard               completed        5.08           5.80   \n",
       "\n",
       "     writing score   GPA  \n",
       "0             3.76     R  \n",
       "1             5.86  5.78  \n",
       "2             4.78  5.04  \n",
       "3             5.56  5.64  \n",
       "4             6.22  6.34  \n",
       "..             ...   ...  \n",
       "870           5.26   5.3  \n",
       "871           3.16     R  \n",
       "872           5.86  5.42  \n",
       "873           4.72  4.54  \n",
       "874           5.56  5.48  \n",
       "\n",
       "[875 rows x 10 columns]"
      ]
     },
     "metadata": {},
     "execution_count": 15
    }
   ],
   "metadata": {
    "colab": {
     "base_uri": "https://localhost:8080/",
     "height": 419
    },
    "id": "tpG_2VzNEpf7",
    "executionInfo": {
     "status": "ok",
     "timestamp": 1619192503533,
     "user_tz": 240,
     "elapsed": 492,
     "user": {
      "displayName": "IGNACIO ALEJANDRO MEZA",
      "photoUrl": "",
      "userId": "17011121633069169364"
     }
    },
    "outputId": "08aaa113-1055-4075-a0f5-5b8f1a1b9b1f",
    "deepnote_to_be_reexecuted": false,
    "source_hash": "6205a86b",
    "execution_start": 1632493424700,
    "execution_millis": 67,
    "cell_id": "00049-8240c0ec-b1ea-41d3-8b5e-4970d3ef59dc",
    "deepnote_cell_type": "code"
   }
  },
  {
   "cell_type": "code",
   "execution_count": null,
   "source": [
    "dataframe3"
   ],
   "outputs": [
    {
     "output_type": "execute_result",
     "data": {
      "application/vnd.deepnote.dataframe.v2+json": {
       "row_count": 94,
       "column_count": 10,
       "columns": [
        {
         "name": "names",
         "dtype": "object",
         "stats": {
          "unique_count": 94,
          "nan_count": 0,
          "categories": [
           {
            "name": "Richard Pryor",
            "count": 1
           },
           {
            "name": "Sandra Pompey",
            "count": 1
           },
           {
            "name": "92 others",
            "count": 92
           }
          ]
         }
        },
        {
         "name": "gender",
         "dtype": "object",
         "stats": {
          "unique_count": 2,
          "nan_count": 0,
          "categories": [
           {
            "name": "female",
            "count": 53
           },
           {
            "name": "male",
            "count": 41
           }
          ]
         }
        },
        {
         "name": "race/ethnicity",
         "dtype": "object",
         "stats": {
          "unique_count": 5,
          "nan_count": 0,
          "categories": [
           {
            "name": "group C",
            "count": 29
           },
           {
            "name": "group E",
            "count": 24
           },
           {
            "name": "3 others",
            "count": 41
           }
          ]
         }
        },
        {
         "name": "parental level of education",
         "dtype": "object",
         "stats": {
          "unique_count": 6,
          "nan_count": 0,
          "categories": [
           {
            "name": "associate's degree",
            "count": 31
           },
           {
            "name": "some college",
            "count": 22
           },
           {
            "name": "4 others",
            "count": 41
           }
          ]
         }
        },
        {
         "name": "lunch",
         "dtype": "object",
         "stats": {
          "unique_count": 2,
          "nan_count": 0,
          "categories": [
           {
            "name": "standard",
            "count": 85
           },
           {
            "name": "free/reduced",
            "count": 9
           }
          ]
         }
        },
        {
         "name": "test preparation course",
         "dtype": "object",
         "stats": {
          "unique_count": 2,
          "nan_count": 0,
          "categories": [
           {
            "name": "completed",
            "count": 53
           },
           {
            "name": "none",
            "count": 41
           }
          ]
         }
        },
        {
         "name": "math score",
         "dtype": "float64",
         "stats": {
          "unique_count": 19,
          "nan_count": 0,
          "min": "5.86",
          "max": "7.0",
          "histogram": [
           {
            "bin_start": 5.86,
            "bin_end": 5.974,
            "count": 15
           },
           {
            "bin_start": 5.974,
            "bin_end": 6.088,
            "count": 9
           },
           {
            "bin_start": 6.088,
            "bin_end": 6.202,
            "count": 11
           },
           {
            "bin_start": 6.202,
            "bin_end": 6.316,
            "count": 15
           },
           {
            "bin_start": 6.316,
            "bin_end": 6.43,
            "count": 8
           },
           {
            "bin_start": 6.43,
            "bin_end": 6.5440000000000005,
            "count": 7
           },
           {
            "bin_start": 6.5440000000000005,
            "bin_end": 6.658,
            "count": 8
           },
           {
            "bin_start": 6.658,
            "bin_end": 6.772,
            "count": 3
           },
           {
            "bin_start": 6.772,
            "bin_end": 6.886,
            "count": 9
           },
           {
            "bin_start": 6.886,
            "bin_end": 7,
            "count": 9
           }
          ]
         }
        },
        {
         "name": "reading score",
         "dtype": "float64",
         "stats": {
          "unique_count": 19,
          "nan_count": 0,
          "min": "5.86",
          "max": "7.0",
          "histogram": [
           {
            "bin_start": 5.86,
            "bin_end": 5.974,
            "count": 7
           },
           {
            "bin_start": 5.974,
            "bin_end": 6.088,
            "count": 10
           },
           {
            "bin_start": 6.088,
            "bin_end": 6.202,
            "count": 11
           },
           {
            "bin_start": 6.202,
            "bin_end": 6.316,
            "count": 7
           },
           {
            "bin_start": 6.316,
            "bin_end": 6.43,
            "count": 11
           },
           {
            "bin_start": 6.43,
            "bin_end": 6.5440000000000005,
            "count": 10
           },
           {
            "bin_start": 6.5440000000000005,
            "bin_end": 6.658,
            "count": 6
           },
           {
            "bin_start": 6.658,
            "bin_end": 6.772,
            "count": 11
           },
           {
            "bin_start": 6.772,
            "bin_end": 6.886,
            "count": 4
           },
           {
            "bin_start": 6.886,
            "bin_end": 7,
            "count": 17
           }
          ]
         }
        },
        {
         "name": "writing score",
         "dtype": "float64",
         "stats": {
          "unique_count": 20,
          "nan_count": 0,
          "min": "5.86",
          "max": "7.0",
          "histogram": [
           {
            "bin_start": 5.86,
            "bin_end": 5.974,
            "count": 10
           },
           {
            "bin_start": 5.974,
            "bin_end": 6.088,
            "count": 6
           },
           {
            "bin_start": 6.088,
            "bin_end": 6.202,
            "count": 12
           },
           {
            "bin_start": 6.202,
            "bin_end": 6.316,
            "count": 8
           },
           {
            "bin_start": 6.316,
            "bin_end": 6.43,
            "count": 10
           },
           {
            "bin_start": 6.43,
            "bin_end": 6.5440000000000005,
            "count": 11
           },
           {
            "bin_start": 6.5440000000000005,
            "bin_end": 6.658,
            "count": 9
           },
           {
            "bin_start": 6.658,
            "bin_end": 6.772,
            "count": 10
           },
           {
            "bin_start": 6.772,
            "bin_end": 6.886,
            "count": 2
           },
           {
            "bin_start": 6.886,
            "bin_end": 7,
            "count": 16
           }
          ]
         }
        },
        {
         "name": "GPA",
         "dtype": "object",
         "stats": {
          "unique_count": 45,
          "nan_count": 0,
          "categories": [
           {
            "name": "6.5",
            "count": 5
           },
           {
            "name": "6.64",
            "count": 4
           },
           {
            "name": "43 others",
            "count": 85
           }
          ]
         }
        },
        {
         "name": "_deepnote_index_column",
         "dtype": "int64"
        }
       ],
       "rows_top": [
        {
         "names": "Richard Pryor",
         "gender": "male",
         "race/ethnicity": "group E",
         "parental level of education": "bachelor's degree",
         "lunch": "standard",
         "test preparation course": "completed",
         "math score": 7,
         "reading score": 7,
         "writing score": 7,
         "GPA": "7.0",
         "_deepnote_index_column": 0
        },
        {
         "names": "Sandra Pompey",
         "gender": "female",
         "race/ethnicity": "group E",
         "parental level of education": "associate's degree",
         "lunch": "standard",
         "test preparation course": "none",
         "math score": 7,
         "reading score": 7,
         "writing score": 7,
         "GPA": "7.0",
         "_deepnote_index_column": 1
        },
        {
         "names": "Elizabeth Beasley",
         "gender": "female",
         "race/ethnicity": "group E",
         "parental level of education": "bachelor's degree",
         "lunch": "standard",
         "test preparation course": "none",
         "math score": 7,
         "reading score": 7,
         "writing score": 7,
         "GPA": "7.0",
         "_deepnote_index_column": 2
        },
        {
         "names": "Emma Gray",
         "gender": "female",
         "race/ethnicity": "group E",
         "parental level of education": "bachelor's degree",
         "lunch": "standard",
         "test preparation course": "completed",
         "math score": 6.94,
         "reading score": 7,
         "writing score": 7,
         "GPA": "6.98",
         "_deepnote_index_column": 3
        },
        {
         "names": "Emma Brasher",
         "gender": "female",
         "race/ethnicity": "group D",
         "parental level of education": "some high school",
         "lunch": "standard",
         "test preparation course": "completed",
         "math score": 6.82,
         "reading score": 7,
         "writing score": 7,
         "GPA": "6.94",
         "_deepnote_index_column": 4
        },
        {
         "names": "Angela Cressey",
         "gender": "female",
         "race/ethnicity": "group D",
         "parental level of education": "some college",
         "lunch": "standard",
         "test preparation course": "none",
         "math score": 6.88,
         "reading score": 7,
         "writing score": 6.94,
         "GPA": "6.94",
         "_deepnote_index_column": 5
        },
        {
         "names": "Emmie Mooreland",
         "gender": "female",
         "race/ethnicity": "group C",
         "parental level of education": "bachelor's degree",
         "lunch": "standard",
         "test preparation course": "completed",
         "math score": 6.76,
         "reading score": 7,
         "writing score": 7,
         "GPA": "6.92",
         "_deepnote_index_column": 6
        },
        {
         "names": "Robert Morrison",
         "gender": "male",
         "race/ethnicity": "group D",
         "parental level of education": "some college",
         "lunch": "standard",
         "test preparation course": "completed",
         "math score": 7,
         "reading score": 6.82,
         "writing score": 6.94,
         "GPA": "6.92",
         "_deepnote_index_column": 7
        },
        {
         "names": "David Martinez",
         "gender": "male",
         "race/ethnicity": "group E",
         "parental level of education": "associate's degree",
         "lunch": "free/reduced",
         "test preparation course": "completed",
         "math score": 7,
         "reading score": 7,
         "writing score": 6.58,
         "GPA": "6.86",
         "_deepnote_index_column": 8
        },
        {
         "names": "Shanna Braswell",
         "gender": "female",
         "race/ethnicity": "group D",
         "parental level of education": "bachelor's degree",
         "lunch": "free/reduced",
         "test preparation course": "completed",
         "math score": 6.58,
         "reading score": 7,
         "writing score": 7,
         "GPA": "6.86",
         "_deepnote_index_column": 9
        },
        {
         "names": "Ana Loredo",
         "gender": "female",
         "race/ethnicity": "group E",
         "parental level of education": "master's degree",
         "lunch": "standard",
         "test preparation course": "completed",
         "math score": 6.64,
         "reading score": 6.94,
         "writing score": 7,
         "GPA": "6.86",
         "_deepnote_index_column": 10
        },
        {
         "names": "Agatha Bergman",
         "gender": "female",
         "race/ethnicity": "group D",
         "parental level of education": "master's degree",
         "lunch": "standard",
         "test preparation course": "none",
         "math score": 6.52,
         "reading score": 7,
         "writing score": 7,
         "GPA": "6.84",
         "_deepnote_index_column": 11
        },
        {
         "names": "Loretta Velez",
         "gender": "female",
         "race/ethnicity": "group C",
         "parental level of education": "associate's degree",
         "lunch": "standard",
         "test preparation course": "completed",
         "math score": 6.76,
         "reading score": 6.76,
         "writing score": 6.94,
         "GPA": "6.82",
         "_deepnote_index_column": 12
        },
        {
         "names": "Angie Laskoski",
         "gender": "female",
         "race/ethnicity": "group C",
         "parental level of education": "bachelor's degree",
         "lunch": "standard",
         "test preparation course": "completed",
         "math score": 6.52,
         "reading score": 7,
         "writing score": 6.94,
         "GPA": "6.82",
         "_deepnote_index_column": 13
        },
        {
         "names": "Jeanine Diaz",
         "gender": "female",
         "race/ethnicity": "group B",
         "parental level of education": "bachelor's degree",
         "lunch": "standard",
         "test preparation course": "none",
         "math score": 6.82,
         "reading score": 6.82,
         "writing score": 6.76,
         "GPA": "6.8",
         "_deepnote_index_column": 14
        },
        {
         "names": "Sandra Case",
         "gender": "female",
         "race/ethnicity": "group D",
         "parental level of education": "bachelor's degree",
         "lunch": "standard",
         "test preparation course": "none",
         "math score": 6.34,
         "reading score": 7,
         "writing score": 7,
         "GPA": "6.78",
         "_deepnote_index_column": 15
        },
        {
         "names": "Olivia Papp",
         "gender": "female",
         "race/ethnicity": "group E",
         "parental level of education": "some college",
         "lunch": "standard",
         "test preparation course": "none",
         "math score": 7,
         "reading score": 6.52,
         "writing score": 6.82,
         "GPA": "6.78",
         "_deepnote_index_column": 16
        },
        {
         "names": "Sharon Matthews",
         "gender": "female",
         "race/ethnicity": "group E",
         "parental level of education": "associate's degree",
         "lunch": "standard",
         "test preparation course": "completed",
         "math score": 6.58,
         "reading score": 7,
         "writing score": 6.7,
         "GPA": "6.76",
         "_deepnote_index_column": 17
        },
        {
         "names": "Maryann Russell",
         "gender": "female",
         "race/ethnicity": "group D",
         "parental level of education": "high school",
         "lunch": "standard",
         "test preparation course": "completed",
         "math score": 6.28,
         "reading score": 6.94,
         "writing score": 7,
         "GPA": "6.74",
         "_deepnote_index_column": 18
        },
        {
         "names": "Raymond Stuart",
         "gender": "male",
         "race/ethnicity": "group A",
         "parental level of education": "some college",
         "lunch": "standard",
         "test preparation course": "completed",
         "math score": 7,
         "reading score": 6.76,
         "writing score": 6.16,
         "GPA": "6.64",
         "_deepnote_index_column": 19
        },
        {
         "names": "Cheryl Leonard",
         "gender": "female",
         "race/ethnicity": "group E",
         "parental level of education": "high school",
         "lunch": "standard",
         "test preparation course": "none",
         "math score": 6.94,
         "reading score": 6.58,
         "writing score": 6.4,
         "GPA": "6.64",
         "_deepnote_index_column": 20
        },
        {
         "names": "Garth Zayas",
         "gender": "male",
         "race/ethnicity": "group C",
         "parental level of education": "associate's degree",
         "lunch": "standard",
         "test preparation course": "completed",
         "math score": 6.22,
         "reading score": 7,
         "writing score": 6.7,
         "GPA": "6.64",
         "_deepnote_index_column": 21
        },
        {
         "names": "Melanie Acevedo",
         "gender": "female",
         "race/ethnicity": "group E",
         "parental level of education": "master's degree",
         "lunch": "standard",
         "test preparation course": "completed",
         "math score": 6.28,
         "reading score": 6.94,
         "writing score": 6.7,
         "GPA": "6.64",
         "_deepnote_index_column": 22
        },
        {
         "names": "Joseph Sisk",
         "gender": "male",
         "race/ethnicity": "group C",
         "parental level of education": "associate's degree",
         "lunch": "standard",
         "test preparation course": "none",
         "math score": 6.82,
         "reading score": 6.58,
         "writing score": 6.46,
         "GPA": "6.62",
         "_deepnote_index_column": 23
        },
        {
         "names": "Ann Polston",
         "gender": "female",
         "race/ethnicity": "group D",
         "parental level of education": "master's degree",
         "lunch": "free/reduced",
         "test preparation course": "completed",
         "math score": 6.1,
         "reading score": 6.7,
         "writing score": 7,
         "GPA": "6.6",
         "_deepnote_index_column": 24
        },
        {
         "names": "Belinda Tuholski",
         "gender": "female",
         "race/ethnicity": "group C",
         "parental level of education": "associate's degree",
         "lunch": "standard",
         "test preparation course": "none",
         "math score": 6.46,
         "reading score": 6.7,
         "writing score": 6.64,
         "GPA": "6.6",
         "_deepnote_index_column": 25
        },
        {
         "names": "James King",
         "gender": "male",
         "race/ethnicity": "group B",
         "parental level of education": "some college",
         "lunch": "standard",
         "test preparation course": "completed",
         "math score": 6.46,
         "reading score": 6.76,
         "writing score": 6.46,
         "GPA": "6.56",
         "_deepnote_index_column": 26
        },
        {
         "names": "Sarah Flannery",
         "gender": "female",
         "race/ethnicity": "group B",
         "parental level of education": "master's degree",
         "lunch": "standard",
         "test preparation course": "none",
         "math score": 6.4,
         "reading score": 6.7,
         "writing score": 6.58,
         "GPA": "6.56",
         "_deepnote_index_column": 27
        },
        {
         "names": "Joseph Dean",
         "gender": "male",
         "race/ethnicity": "group C",
         "parental level of education": "bachelor's degree",
         "lunch": "standard",
         "test preparation course": "completed",
         "math score": 6.76,
         "reading score": 6.4,
         "writing score": 6.52,
         "GPA": "6.56",
         "_deepnote_index_column": 28
        },
        {
         "names": "Kelly Summers",
         "gender": "female",
         "race/ethnicity": "group C",
         "parental level of education": "some college",
         "lunch": "standard",
         "test preparation course": "completed",
         "math score": 6.28,
         "reading score": 6.7,
         "writing score": 6.64,
         "GPA": "6.54",
         "_deepnote_index_column": 29
        },
        {
         "names": "Eleanor Bond",
         "gender": "female",
         "race/ethnicity": "group E",
         "parental level of education": "associate's degree",
         "lunch": "standard",
         "test preparation course": "none",
         "math score": 6.22,
         "reading score": 6.64,
         "writing score": 6.7,
         "GPA": "6.52",
         "_deepnote_index_column": 30
        },
        {
         "names": "Clyde Gay",
         "gender": "male",
         "race/ethnicity": "group C",
         "parental level of education": "associate's degree",
         "lunch": "standard",
         "test preparation course": "completed",
         "math score": 6.88,
         "reading score": 6.22,
         "writing score": 6.4,
         "GPA": "6.5",
         "_deepnote_index_column": 31
        },
        {
         "names": "Susan Miller",
         "gender": "female",
         "race/ethnicity": "group B",
         "parental level of education": "some college",
         "lunch": "standard",
         "test preparation course": "completed",
         "math score": 6.28,
         "reading score": 6.7,
         "writing score": 6.52,
         "GPA": "6.5",
         "_deepnote_index_column": 32
        },
        {
         "names": "Julie Smith",
         "gender": "female",
         "race/ethnicity": "group D",
         "parental level of education": "associate's degree",
         "lunch": "standard",
         "test preparation course": "completed",
         "math score": 6.28,
         "reading score": 6.52,
         "writing score": 6.7,
         "GPA": "6.5",
         "_deepnote_index_column": 33
        },
        {
         "names": "Ronald Coria",
         "gender": "male",
         "race/ethnicity": "group A",
         "parental level of education": "associate's degree",
         "lunch": "standard",
         "test preparation course": "completed",
         "math score": 6.82,
         "reading score": 6.52,
         "writing score": 6.16,
         "GPA": "6.5",
         "_deepnote_index_column": 34
        },
        {
         "names": "Terri Motley",
         "gender": "female",
         "race/ethnicity": "group D",
         "parental level of education": "some college",
         "lunch": "standard",
         "test preparation course": "completed",
         "math score": 5.92,
         "reading score": 6.82,
         "writing score": 6.76,
         "GPA": "6.5",
         "_deepnote_index_column": 35
        },
        {
         "names": "Linda Michael",
         "gender": "female",
         "race/ethnicity": "group D",
         "parental level of education": "some high school",
         "lunch": "standard",
         "test preparation course": "none",
         "math score": 5.86,
         "reading score": 6.82,
         "writing score": 6.76,
         "GPA": "6.48",
         "_deepnote_index_column": 36
        },
        {
         "names": "James Stanley",
         "gender": "male",
         "race/ethnicity": "group C",
         "parental level of education": "some college",
         "lunch": "standard",
         "test preparation course": "completed",
         "math score": 6.88,
         "reading score": 6.16,
         "writing score": 6.4,
         "GPA": "6.48",
         "_deepnote_index_column": 37
        },
        {
         "names": "Monica Duggins",
         "gender": "female",
         "race/ethnicity": "group B",
         "parental level of education": "associate's degree",
         "lunch": "standard",
         "test preparation course": "completed",
         "math score": 6.64,
         "reading score": 6.22,
         "writing score": 6.52,
         "GPA": "6.46",
         "_deepnote_index_column": 38
        },
        {
         "names": "Earl Rodriguez",
         "gender": "male",
         "race/ethnicity": "group B",
         "parental level of education": "associate's degree",
         "lunch": "standard",
         "test preparation course": "completed",
         "math score": 6.46,
         "reading score": 6.34,
         "writing score": 6.52,
         "GPA": "6.44",
         "_deepnote_index_column": 39
        },
        {
         "names": "Judith Foster",
         "gender": "female",
         "race/ethnicity": "group C",
         "parental level of education": "bachelor's degree",
         "lunch": "standard",
         "test preparation course": "none",
         "math score": 5.98,
         "reading score": 6.58,
         "writing score": 6.7,
         "GPA": "6.42",
         "_deepnote_index_column": 40
        },
        {
         "names": "Tracy Fowler",
         "gender": "female",
         "race/ethnicity": "group E",
         "parental level of education": "associate's degree",
         "lunch": "standard",
         "test preparation course": "none",
         "math score": 6.04,
         "reading score": 6.7,
         "writing score": 6.52,
         "GPA": "6.42",
         "_deepnote_index_column": 41
        },
        {
         "names": "Bette Williams",
         "gender": "female",
         "race/ethnicity": "group B",
         "parental level of education": "associate's degree",
         "lunch": "standard",
         "test preparation course": "completed",
         "math score": 6.4,
         "reading score": 6.4,
         "writing score": 6.46,
         "GPA": "6.42",
         "_deepnote_index_column": 42
        },
        {
         "names": "Molly House",
         "gender": "female",
         "race/ethnicity": "group C",
         "parental level of education": "some high school",
         "lunch": "standard",
         "test preparation course": "completed",
         "math score": 6.1,
         "reading score": 6.52,
         "writing score": 6.58,
         "GPA": "6.4",
         "_deepnote_index_column": 43
        },
        {
         "names": "Carmen Simcoe",
         "gender": "female",
         "race/ethnicity": "group D",
         "parental level of education": "some college",
         "lunch": "standard",
         "test preparation course": "completed",
         "math score": 6.1,
         "reading score": 6.16,
         "writing score": 6.88,
         "GPA": "6.38",
         "_deepnote_index_column": 44
        },
        {
         "names": "Sheila Carboni",
         "gender": "female",
         "race/ethnicity": "group C",
         "parental level of education": "associate's degree",
         "lunch": "standard",
         "test preparation course": "none",
         "math score": 6.1,
         "reading score": 6.34,
         "writing score": 6.7,
         "GPA": "6.38",
         "_deepnote_index_column": 45
        },
        {
         "names": "Wendy Lewis",
         "gender": "female",
         "race/ethnicity": "group B",
         "parental level of education": "high school",
         "lunch": "standard",
         "test preparation course": "none",
         "math score": 6.22,
         "reading score": 6.7,
         "writing score": 6.16,
         "GPA": "6.36",
         "_deepnote_index_column": 46
        },
        {
         "names": "Susan Cook",
         "gender": "female",
         "race/ethnicity": "group C",
         "parental level of education": "associate's degree",
         "lunch": "free/reduced",
         "test preparation course": "completed",
         "math score": 5.92,
         "reading score": 6.58,
         "writing score": 6.58,
         "GPA": "6.36",
         "_deepnote_index_column": 47
        },
        {
         "names": "Gloria Gambrell",
         "gender": "female",
         "race/ethnicity": "group A",
         "parental level of education": "associate's degree",
         "lunch": "standard",
         "test preparation course": "none",
         "math score": 5.92,
         "reading score": 6.58,
         "writing score": 6.58,
         "GPA": "6.36",
         "_deepnote_index_column": 48
        },
        {
         "names": "Tanya Macinnes",
         "gender": "female",
         "race/ethnicity": "group A",
         "parental level of education": "some high school",
         "lunch": "standard",
         "test preparation course": "completed",
         "math score": 6.1,
         "reading score": 6.4,
         "writing score": 6.52,
         "GPA": "6.34",
         "_deepnote_index_column": 49
        },
        {
         "names": "Wayne Wilson",
         "gender": "male",
         "race/ethnicity": "group B",
         "parental level of education": "some high school",
         "lunch": "standard",
         "test preparation course": "completed",
         "math score": 6.64,
         "reading score": 6.16,
         "writing score": 6.22,
         "GPA": "6.34",
         "_deepnote_index_column": 50
        },
        {
         "names": "Walter Ortiz",
         "gender": "male",
         "race/ethnicity": "group C",
         "parental level of education": "some college",
         "lunch": "standard",
         "test preparation course": "completed",
         "math score": 6.58,
         "reading score": 6.04,
         "writing score": 6.4,
         "GPA": "6.34",
         "_deepnote_index_column": 51
        },
        {
         "names": "Darryl Ruble",
         "gender": "male",
         "race/ethnicity": "group E",
         "parental level of education": "associate's degree",
         "lunch": "standard",
         "test preparation course": "completed",
         "math score": 6.82,
         "reading score": 5.92,
         "writing score": 6.28,
         "GPA": "6.34",
         "_deepnote_index_column": 52
        },
        {
         "names": "Matthew Demelis",
         "gender": "male",
         "race/ethnicity": "group E",
         "parental level of education": "some college",
         "lunch": "standard",
         "test preparation course": "none",
         "math score": 6.82,
         "reading score": 6.22,
         "writing score": 5.92,
         "GPA": "6.32",
         "_deepnote_index_column": 53
        },
        {
         "names": "Norman Arnold",
         "gender": "male",
         "race/ethnicity": "group E",
         "parental level of education": "some college",
         "lunch": "free/reduced",
         "test preparation course": "none",
         "math score": 6.58,
         "reading score": 6.4,
         "writing score": 5.98,
         "GPA": "6.32",
         "_deepnote_index_column": 54
        },
        {
         "names": "Nicole Nesbitt",
         "gender": "female",
         "race/ethnicity": "group C",
         "parental level of education": "some college",
         "lunch": "standard",
         "test preparation course": "none",
         "math score": 5.92,
         "reading score": 6.4,
         "writing score": 6.64,
         "GPA": "6.32",
         "_deepnote_index_column": 55
        },
        {
         "names": "Anna Cotman",
         "gender": "female",
         "race/ethnicity": "group D",
         "parental level of education": "associate's degree",
         "lunch": "standard",
         "test preparation course": "none",
         "math score": 5.92,
         "reading score": 6.7,
         "writing score": 6.34,
         "GPA": "6.32",
         "_deepnote_index_column": 56
        },
        {
         "names": "Anthony Pedigo",
         "gender": "male",
         "race/ethnicity": "group B",
         "parental level of education": "bachelor's degree",
         "lunch": "free/reduced",
         "test preparation course": "completed",
         "math score": 6.22,
         "reading score": 6.4,
         "writing score": 6.28,
         "GPA": "6.3",
         "_deepnote_index_column": 57
        },
        {
         "names": "Julie Tang",
         "gender": "female",
         "race/ethnicity": "group D",
         "parental level of education": "associate's degree",
         "lunch": "standard",
         "test preparation course": "none",
         "math score": 6.1,
         "reading score": 6.46,
         "writing score": 6.34,
         "GPA": "6.3",
         "_deepnote_index_column": 58
        },
        {
         "names": "Marguerite Ramos",
         "gender": "female",
         "race/ethnicity": "group C",
         "parental level of education": "bachelor's degree",
         "lunch": "standard",
         "test preparation course": "none",
         "math score": 6.16,
         "reading score": 6.52,
         "writing score": 6.22,
         "GPA": "6.3",
         "_deepnote_index_column": 59
        },
        {
         "names": "Wanda Hardin",
         "gender": "female",
         "race/ethnicity": "group E",
         "parental level of education": "some college",
         "lunch": "standard",
         "test preparation course": "none",
         "math score": 6.22,
         "reading score": 6.1,
         "writing score": 6.58,
         "GPA": "6.3",
         "_deepnote_index_column": 60
        },
        {
         "names": "Esther Childress",
         "gender": "female",
         "race/ethnicity": "group E",
         "parental level of education": "master's degree",
         "lunch": "standard",
         "test preparation course": "none",
         "math score": 5.86,
         "reading score": 6.52,
         "writing score": 6.46,
         "GPA": "6.28",
         "_deepnote_index_column": 61
        },
        {
         "names": "Charles Herandez",
         "gender": "male",
         "race/ethnicity": "group D",
         "parental level of education": "master's degree",
         "lunch": "free/reduced",
         "test preparation course": "completed",
         "math score": 6.04,
         "reading score": 6.34,
         "writing score": 6.4,
         "GPA": "6.26",
         "_deepnote_index_column": 62
        },
        {
         "names": "Charles Johnson",
         "gender": "male",
         "race/ethnicity": "group C",
         "parental level of education": "high school",
         "lunch": "standard",
         "test preparation course": "none",
         "math score": 6.28,
         "reading score": 6.34,
         "writing score": 6.16,
         "GPA": "6.26",
         "_deepnote_index_column": 63
        },
        {
         "names": "Natalie Turney",
         "gender": "female",
         "race/ethnicity": "group E",
         "parental level of education": "associate's degree",
         "lunch": "standard",
         "test preparation course": "none",
         "math score": 6.1,
         "reading score": 6.52,
         "writing score": 6.1,
         "GPA": "6.24",
         "_deepnote_index_column": 64
        },
        {
         "names": "John Echols",
         "gender": "male",
         "race/ethnicity": "group D",
         "parental level of education": "associate's degree",
         "lunch": "standard",
         "test preparation course": "none",
         "math score": 6.4,
         "reading score": 6.22,
         "writing score": 6.1,
         "GPA": "6.24",
         "_deepnote_index_column": 65
        },
        {
         "names": "Larry Mclane",
         "gender": "male",
         "race/ethnicity": "group E",
         "parental level of education": "associate's degree",
         "lunch": "free/reduced",
         "test preparation course": "none",
         "math score": 6.4,
         "reading score": 6.4,
         "writing score": 5.92,
         "GPA": "6.24",
         "_deepnote_index_column": 66
        },
        {
         "names": "Ulrike Davidson",
         "gender": "female",
         "race/ethnicity": "group C",
         "parental level of education": "some college",
         "lunch": "standard",
         "test preparation course": "none",
         "math score": 6.04,
         "reading score": 6.22,
         "writing score": 6.46,
         "GPA": "6.24",
         "_deepnote_index_column": 67
        },
        {
         "names": "Ronald Mason",
         "gender": "male",
         "race/ethnicity": "group E",
         "parental level of education": "associate's degree",
         "lunch": "standard",
         "test preparation course": "completed",
         "math score": 6.64,
         "reading score": 6.1,
         "writing score": 5.92,
         "GPA": "6.22",
         "_deepnote_index_column": 68
        },
        {
         "names": "Patricia Harrell",
         "gender": "female",
         "race/ethnicity": "group C",
         "parental level of education": "associate's degree",
         "lunch": "standard",
         "test preparation course": "none",
         "math score": 6.46,
         "reading score": 6.16,
         "writing score": 6.04,
         "GPA": "6.22",
         "_deepnote_index_column": 69
        },
        {
         "names": "Dennis Campbell",
         "gender": "male",
         "race/ethnicity": "group C",
         "parental level of education": "master's degree",
         "lunch": "standard",
         "test preparation course": "completed",
         "math score": 6.46,
         "reading score": 6.1,
         "writing score": 6.1,
         "GPA": "6.22",
         "_deepnote_index_column": 70
        },
        {
         "names": "Larry Maldonado",
         "gender": "male",
         "race/ethnicity": "group E",
         "parental level of education": "master's degree",
         "lunch": "standard",
         "test preparation course": "none",
         "math score": 6.4,
         "reading score": 6.1,
         "writing score": 6.04,
         "GPA": "6.18",
         "_deepnote_index_column": 71
        },
        {
         "names": "Ofelia Evans",
         "gender": "female",
         "race/ethnicity": "group C",
         "parental level of education": "master's degree",
         "lunch": "standard",
         "test preparation course": "completed",
         "math score": 5.86,
         "reading score": 6.46,
         "writing score": 6.22,
         "GPA": "6.18",
         "_deepnote_index_column": 72
        },
        {
         "names": "Jonathan Mitchell",
         "gender": "male",
         "race/ethnicity": "group E",
         "parental level of education": "high school",
         "lunch": "standard",
         "test preparation course": "completed",
         "math score": 6.22,
         "reading score": 6.46,
         "writing score": 5.86,
         "GPA": "6.18",
         "_deepnote_index_column": 73
        },
        {
         "names": "Edward Lee",
         "gender": "male",
         "race/ethnicity": "group D",
         "parental level of education": "some high school",
         "lunch": "standard",
         "test preparation course": "completed",
         "math score": 6.34,
         "reading score": 6.28,
         "writing score": 5.92,
         "GPA": "6.18",
         "_deepnote_index_column": 74
        },
        {
         "names": "Kenneth Robertson",
         "gender": "male",
         "race/ethnicity": "group A",
         "parental level of education": "bachelor's degree",
         "lunch": "standard",
         "test preparation course": "completed",
         "math score": 6.22,
         "reading score": 6.04,
         "writing score": 6.22,
         "GPA": "6.16",
         "_deepnote_index_column": 75
        },
        {
         "names": "Timothy Botello",
         "gender": "male",
         "race/ethnicity": "group D",
         "parental level of education": "master's degree",
         "lunch": "standard",
         "test preparation course": "none",
         "math score": 6.1,
         "reading score": 6.04,
         "writing score": 6.34,
         "GPA": "6.16",
         "_deepnote_index_column": 76
        },
        {
         "names": "Jessica Salas",
         "gender": "female",
         "race/ethnicity": "group C",
         "parental level of education": "associate's degree",
         "lunch": "standard",
         "test preparation course": "completed",
         "math score": 5.98,
         "reading score": 6.1,
         "writing score": 6.4,
         "GPA": "6.16",
         "_deepnote_index_column": 77
        },
        {
         "names": "Thelma Yeates",
         "gender": "female",
         "race/ethnicity": "group E",
         "parental level of education": "associate's degree",
         "lunch": "free/reduced",
         "test preparation course": "completed",
         "math score": 5.98,
         "reading score": 6.16,
         "writing score": 6.28,
         "GPA": "6.14",
         "_deepnote_index_column": 78
        },
        {
         "names": "Leon Shipley",
         "gender": "male",
         "race/ethnicity": "group B",
         "parental level of education": "some college",
         "lunch": "standard",
         "test preparation course": "completed",
         "math score": 6.22,
         "reading score": 6.04,
         "writing score": 6.16,
         "GPA": "6.14",
         "_deepnote_index_column": 79
        },
        {
         "names": "Arlene Calhoun",
         "gender": "female",
         "race/ethnicity": "group C",
         "parental level of education": "some college",
         "lunch": "standard",
         "test preparation course": "none",
         "math score": 5.98,
         "reading score": 5.98,
         "writing score": 6.4,
         "GPA": "6.12",
         "_deepnote_index_column": 80
        },
        {
         "names": "Gary Hunter",
         "gender": "male",
         "race/ethnicity": "group D",
         "parental level of education": "associate's degree",
         "lunch": "standard",
         "test preparation course": "completed",
         "math score": 6.22,
         "reading score": 6.04,
         "writing score": 6.1,
         "GPA": "6.12",
         "_deepnote_index_column": 81
        },
        {
         "names": "James Hughey",
         "gender": "male",
         "race/ethnicity": "group C",
         "parental level of education": "bachelor's degree",
         "lunch": "standard",
         "test preparation course": "none",
         "math score": 6.16,
         "reading score": 5.98,
         "writing score": 6.16,
         "GPA": "6.1",
         "_deepnote_index_column": 82
        },
        {
         "names": "James Crawford",
         "gender": "male",
         "race/ethnicity": "group D",
         "parental level of education": "master's degree",
         "lunch": "standard",
         "test preparation course": "none",
         "math score": 6.34,
         "reading score": 6.04,
         "writing score": 5.92,
         "GPA": "6.1",
         "_deepnote_index_column": 83
        },
        {
         "names": "Dorothea Martin",
         "gender": "female",
         "race/ethnicity": "group E",
         "parental level of education": "associate's degree",
         "lunch": "standard",
         "test preparation course": "completed",
         "math score": 5.92,
         "reading score": 6.1,
         "writing score": 6.16,
         "GPA": "6.06",
         "_deepnote_index_column": 84
        },
        {
         "names": "Isaiah Massey",
         "gender": "male",
         "race/ethnicity": "group C",
         "parental level of education": "some college",
         "lunch": "standard",
         "test preparation course": "none",
         "math score": 6.04,
         "reading score": 6.22,
         "writing score": 5.86,
         "GPA": "6.04",
         "_deepnote_index_column": 85
        },
        {
         "names": "Earnest Cole",
         "gender": "male",
         "race/ethnicity": "group D",
         "parental level of education": "some college",
         "lunch": "standard",
         "test preparation course": "completed",
         "math score": 5.92,
         "reading score": 5.92,
         "writing score": 6.28,
         "GPA": "6.04",
         "_deepnote_index_column": 86
        },
        {
         "names": "David Moss",
         "gender": "male",
         "race/ethnicity": "group D",
         "parental level of education": "some college",
         "lunch": "standard",
         "test preparation course": "completed",
         "math score": 6.1,
         "reading score": 5.86,
         "writing score": 6.1,
         "GPA": "6.02",
         "_deepnote_index_column": 87
        },
        {
         "names": "Christopher Martinez",
         "gender": "male",
         "race/ethnicity": "group C",
         "parental level of education": "bachelor's degree",
         "lunch": "standard",
         "test preparation course": "completed",
         "math score": 5.98,
         "reading score": 5.92,
         "writing score": 6.04,
         "GPA": "5.98",
         "_deepnote_index_column": 88
        },
        {
         "names": "Rolando Widmer",
         "gender": "male",
         "race/ethnicity": "group C",
         "parental level of education": "high school",
         "lunch": "standard",
         "test preparation course": "completed",
         "math score": 5.92,
         "reading score": 6.04,
         "writing score": 5.92,
         "GPA": "5.96",
         "_deepnote_index_column": 89
        },
        {
         "names": "Lucille Stanphill",
         "gender": "female",
         "race/ethnicity": "group C",
         "parental level of education": "high school",
         "lunch": "standard",
         "test preparation course": "none",
         "math score": 5.86,
         "reading score": 6.04,
         "writing score": 5.92,
         "GPA": "5.94",
         "_deepnote_index_column": 90
        },
        {
         "names": "Steven Kelly",
         "gender": "male",
         "race/ethnicity": "group D",
         "parental level of education": "some college",
         "lunch": "standard",
         "test preparation course": "none",
         "math score": 5.86,
         "reading score": 5.92,
         "writing score": 6.04,
         "GPA": "5.94",
         "_deepnote_index_column": 91
        },
        {
         "names": "Peter Perez",
         "gender": "male",
         "race/ethnicity": "group D",
         "parental level of education": "master's degree",
         "lunch": "standard",
         "test preparation course": "none",
         "math score": 5.86,
         "reading score": 5.86,
         "writing score": 6.04,
         "GPA": "5.92",
         "_deepnote_index_column": 92
        },
        {
         "names": "Harry Berry",
         "gender": "male",
         "race/ethnicity": "group B",
         "parental level of education": "associate's degree",
         "lunch": "standard",
         "test preparation course": "completed",
         "math score": 5.86,
         "reading score": 5.92,
         "writing score": 5.92,
         "GPA": "5.9",
         "_deepnote_index_column": 93
        }
       ],
       "rows_bottom": null
      },
      "text/html": [
       "<div>\n",
       "<style scoped>\n",
       "    .dataframe tbody tr th:only-of-type {\n",
       "        vertical-align: middle;\n",
       "    }\n",
       "\n",
       "    .dataframe tbody tr th {\n",
       "        vertical-align: top;\n",
       "    }\n",
       "\n",
       "    .dataframe thead th {\n",
       "        text-align: right;\n",
       "    }\n",
       "</style>\n",
       "<table border=\"1\" class=\"dataframe\">\n",
       "  <thead>\n",
       "    <tr style=\"text-align: right;\">\n",
       "      <th></th>\n",
       "      <th>names</th>\n",
       "      <th>gender</th>\n",
       "      <th>race/ethnicity</th>\n",
       "      <th>parental level of education</th>\n",
       "      <th>lunch</th>\n",
       "      <th>test preparation course</th>\n",
       "      <th>math score</th>\n",
       "      <th>reading score</th>\n",
       "      <th>writing score</th>\n",
       "      <th>GPA</th>\n",
       "    </tr>\n",
       "  </thead>\n",
       "  <tbody>\n",
       "    <tr>\n",
       "      <th>0</th>\n",
       "      <td>Richard Pryor</td>\n",
       "      <td>male</td>\n",
       "      <td>group E</td>\n",
       "      <td>bachelor's degree</td>\n",
       "      <td>standard</td>\n",
       "      <td>completed</td>\n",
       "      <td>7.00</td>\n",
       "      <td>7.00</td>\n",
       "      <td>7.00</td>\n",
       "      <td>7.0</td>\n",
       "    </tr>\n",
       "    <tr>\n",
       "      <th>1</th>\n",
       "      <td>Sandra Pompey</td>\n",
       "      <td>female</td>\n",
       "      <td>group E</td>\n",
       "      <td>associate's degree</td>\n",
       "      <td>standard</td>\n",
       "      <td>none</td>\n",
       "      <td>7.00</td>\n",
       "      <td>7.00</td>\n",
       "      <td>7.00</td>\n",
       "      <td>7.0</td>\n",
       "    </tr>\n",
       "    <tr>\n",
       "      <th>2</th>\n",
       "      <td>Elizabeth Beasley</td>\n",
       "      <td>female</td>\n",
       "      <td>group E</td>\n",
       "      <td>bachelor's degree</td>\n",
       "      <td>standard</td>\n",
       "      <td>none</td>\n",
       "      <td>7.00</td>\n",
       "      <td>7.00</td>\n",
       "      <td>7.00</td>\n",
       "      <td>7.0</td>\n",
       "    </tr>\n",
       "    <tr>\n",
       "      <th>3</th>\n",
       "      <td>Emma Gray</td>\n",
       "      <td>female</td>\n",
       "      <td>group E</td>\n",
       "      <td>bachelor's degree</td>\n",
       "      <td>standard</td>\n",
       "      <td>completed</td>\n",
       "      <td>6.94</td>\n",
       "      <td>7.00</td>\n",
       "      <td>7.00</td>\n",
       "      <td>6.98</td>\n",
       "    </tr>\n",
       "    <tr>\n",
       "      <th>4</th>\n",
       "      <td>Emma Brasher</td>\n",
       "      <td>female</td>\n",
       "      <td>group D</td>\n",
       "      <td>some high school</td>\n",
       "      <td>standard</td>\n",
       "      <td>completed</td>\n",
       "      <td>6.82</td>\n",
       "      <td>7.00</td>\n",
       "      <td>7.00</td>\n",
       "      <td>6.94</td>\n",
       "    </tr>\n",
       "    <tr>\n",
       "      <th>...</th>\n",
       "      <td>...</td>\n",
       "      <td>...</td>\n",
       "      <td>...</td>\n",
       "      <td>...</td>\n",
       "      <td>...</td>\n",
       "      <td>...</td>\n",
       "      <td>...</td>\n",
       "      <td>...</td>\n",
       "      <td>...</td>\n",
       "      <td>...</td>\n",
       "    </tr>\n",
       "    <tr>\n",
       "      <th>89</th>\n",
       "      <td>Rolando Widmer</td>\n",
       "      <td>male</td>\n",
       "      <td>group C</td>\n",
       "      <td>high school</td>\n",
       "      <td>standard</td>\n",
       "      <td>completed</td>\n",
       "      <td>5.92</td>\n",
       "      <td>6.04</td>\n",
       "      <td>5.92</td>\n",
       "      <td>5.96</td>\n",
       "    </tr>\n",
       "    <tr>\n",
       "      <th>90</th>\n",
       "      <td>Lucille Stanphill</td>\n",
       "      <td>female</td>\n",
       "      <td>group C</td>\n",
       "      <td>high school</td>\n",
       "      <td>standard</td>\n",
       "      <td>none</td>\n",
       "      <td>5.86</td>\n",
       "      <td>6.04</td>\n",
       "      <td>5.92</td>\n",
       "      <td>5.94</td>\n",
       "    </tr>\n",
       "    <tr>\n",
       "      <th>91</th>\n",
       "      <td>Steven Kelly</td>\n",
       "      <td>male</td>\n",
       "      <td>group D</td>\n",
       "      <td>some college</td>\n",
       "      <td>standard</td>\n",
       "      <td>none</td>\n",
       "      <td>5.86</td>\n",
       "      <td>5.92</td>\n",
       "      <td>6.04</td>\n",
       "      <td>5.94</td>\n",
       "    </tr>\n",
       "    <tr>\n",
       "      <th>92</th>\n",
       "      <td>Peter Perez</td>\n",
       "      <td>male</td>\n",
       "      <td>group D</td>\n",
       "      <td>master's degree</td>\n",
       "      <td>standard</td>\n",
       "      <td>none</td>\n",
       "      <td>5.86</td>\n",
       "      <td>5.86</td>\n",
       "      <td>6.04</td>\n",
       "      <td>5.92</td>\n",
       "    </tr>\n",
       "    <tr>\n",
       "      <th>93</th>\n",
       "      <td>Harry Berry</td>\n",
       "      <td>male</td>\n",
       "      <td>group B</td>\n",
       "      <td>associate's degree</td>\n",
       "      <td>standard</td>\n",
       "      <td>completed</td>\n",
       "      <td>5.86</td>\n",
       "      <td>5.92</td>\n",
       "      <td>5.92</td>\n",
       "      <td>5.9</td>\n",
       "    </tr>\n",
       "  </tbody>\n",
       "</table>\n",
       "<p>94 rows × 10 columns</p>\n",
       "</div>"
      ],
      "text/plain": [
       "                names  gender race/ethnicity parental level of education  \\\n",
       "0       Richard Pryor    male        group E           bachelor's degree   \n",
       "1       Sandra Pompey  female        group E          associate's degree   \n",
       "2   Elizabeth Beasley  female        group E           bachelor's degree   \n",
       "3           Emma Gray  female        group E           bachelor's degree   \n",
       "4        Emma Brasher  female        group D            some high school   \n",
       "..                ...     ...            ...                         ...   \n",
       "89     Rolando Widmer    male        group C                 high school   \n",
       "90  Lucille Stanphill  female        group C                 high school   \n",
       "91       Steven Kelly    male        group D                some college   \n",
       "92        Peter Perez    male        group D             master's degree   \n",
       "93        Harry Berry    male        group B          associate's degree   \n",
       "\n",
       "       lunch test preparation course  math score  reading score  \\\n",
       "0   standard               completed        7.00           7.00   \n",
       "1   standard                    none        7.00           7.00   \n",
       "2   standard                    none        7.00           7.00   \n",
       "3   standard               completed        6.94           7.00   \n",
       "4   standard               completed        6.82           7.00   \n",
       "..       ...                     ...         ...            ...   \n",
       "89  standard               completed        5.92           6.04   \n",
       "90  standard                    none        5.86           6.04   \n",
       "91  standard                    none        5.86           5.92   \n",
       "92  standard                    none        5.86           5.86   \n",
       "93  standard               completed        5.86           5.92   \n",
       "\n",
       "    writing score   GPA  \n",
       "0            7.00   7.0  \n",
       "1            7.00   7.0  \n",
       "2            7.00   7.0  \n",
       "3            7.00  6.98  \n",
       "4            7.00  6.94  \n",
       "..            ...   ...  \n",
       "89           5.92  5.96  \n",
       "90           5.92  5.94  \n",
       "91           6.04  5.94  \n",
       "92           6.04  5.92  \n",
       "93           5.92   5.9  \n",
       "\n",
       "[94 rows x 10 columns]"
      ]
     },
     "metadata": {},
     "execution_count": 16
    }
   ],
   "metadata": {
    "tags": [],
    "deepnote_to_be_reexecuted": false,
    "source_hash": "142d1b25",
    "execution_start": 1632493424750,
    "execution_millis": 44,
    "cell_id": "00050-19596313-6c35-480a-b2e2-0e17df76f2b9",
    "deepnote_cell_type": "code"
   }
  },
  {
   "cell_type": "markdown",
   "source": [
    "**Respuesta:**"
   ],
   "metadata": {
    "id": "jb9sjfJlwolM",
    "cell_id": "00051-1765b59c-25ca-4dc5-ac88-29805642f748",
    "deepnote_cell_type": "markdown"
   }
  },
  {
   "cell_type": "markdown",
   "source": [
    "```\n",
    "Escriba aqui su respuesta\n",
    "```"
   ],
   "metadata": {
    "id": "vDl7h7JbwrKh",
    "cell_id": "00052-4e2f07e8-ce26-4d48-ba89-4c04132729ca",
    "deepnote_cell_type": "markdown"
   }
  },
  {
   "cell_type": "markdown",
   "source": [
    "### 1.3.4 Consultas de Alumnos [0.5 Puntos]"
   ],
   "metadata": {
    "tags": [],
    "cell_id": "00053-c26e032f-9917-4088-ac1d-9ba2983ba419",
    "deepnote_cell_type": "markdown"
   }
  },
  {
   "cell_type": "markdown",
   "source": [
    "Algunos padres (extremadamente entrometidos y...) preocupados por el desempeño de sus hijos, desean saber estos han aprobado o no el año. Como la tarea de buscar a mano cada uno de estos alumnos en el `DataFrame` resulta demasiado tedioso, el rector le solicita crear una función que tenga como entrada el `DataFrame` donde se realizará la busqueda y una lista con los nombres de los alumnos, luego la función deberá retornar un `DataFrame` con los nombres de los alumnos y el promedio general de cada uno. \n",
    "\n",
    "Creada la función busque el promedio general de los siguientes alumnos en el segundo Data frame creado en la sección 1.3.3:\n",
    "\n",
    "`['Lucille Stanphill','Marcus Mcfarland', 'Matthew Freeman', 'Dana Mojica', 'Paul Hyder', 'Jeffrey Korn', 'Robert Strain',\n",
    "'Ronald Jett', 'Lorena Reed', 'Hazel Posey']`\n",
    "\n",
    "**Hint:** Puede serle de utilidad utilizar `isin()`."
   ],
   "metadata": {
    "tags": [],
    "cell_id": "00054-265dbcea-43c7-4418-b289-48906d0c1626",
    "deepnote_cell_type": "markdown"
   }
  },
  {
   "cell_type": "markdown",
   "source": [
    "**Respuesta:**"
   ],
   "metadata": {
    "tags": [],
    "cell_id": "00055-f296cada-4f15-4a9b-900c-cde55391c32b",
    "deepnote_cell_type": "markdown"
   }
  },
  {
   "cell_type": "code",
   "execution_count": null,
   "source": [
    "def consulta_gpa(dataframe_in, lista_alumnos):\r\n",
    "    pass\r\n",
    "\r\n",
    "\r\n",
    "lista_alumnos = [\r\n",
    "    \"Lucille Stanphill\",\r\n",
    "    \"Marcus Mcfarland\",\r\n",
    "    \"Matthew Freeman\",\r\n",
    "    \"Dana Mojica\",\r\n",
    "    \"Paul Hyder\",\r\n",
    "    \"Jeffrey Korn\",\r\n",
    "    \"Robert Strain\",\r\n",
    "    \"Ronald Jett\",\r\n",
    "    \"Lorena Reed\",\r\n",
    "    \"Hazel Posey\",\r\n",
    "]\r\n",
    "consulta_gpa(dataframe2, lista_alumnos)"
   ],
   "outputs": [
    {
     "output_type": "execute_result",
     "data": {
      "application/vnd.deepnote.dataframe.v2+json": {
       "row_count": 8,
       "column_count": 2,
       "columns": [
        {
         "name": "names",
         "dtype": "object",
         "stats": {
          "unique_count": 8,
          "nan_count": 0,
          "categories": [
           {
            "name": "Lucille Stanphill",
            "count": 1
           },
           {
            "name": "Marcus Mcfarland",
            "count": 1
           },
           {
            "name": "6 others",
            "count": 6
           }
          ]
         }
        },
        {
         "name": "GPA",
         "dtype": "object",
         "stats": {
          "unique_count": 4,
          "nan_count": 0,
          "categories": [
           {
            "name": "R",
            "count": 5
           },
           {
            "name": "5.94",
            "count": 1
           },
           {
            "name": "2 others",
            "count": 2
           }
          ]
         }
        },
        {
         "name": "_deepnote_index_column",
         "dtype": "int64"
        }
       ],
       "rows_top": [
        {
         "names": "Lucille Stanphill",
         "GPA": "5.94",
         "_deepnote_index_column": 198
        },
        {
         "names": "Marcus Mcfarland",
         "GPA": "4.86",
         "_deepnote_index_column": 372
        },
        {
         "names": "Matthew Freeman",
         "GPA": "R",
         "_deepnote_index_column": 418
        },
        {
         "names": "Dana Mojica",
         "GPA": "R",
         "_deepnote_index_column": 421
        },
        {
         "names": "Robert Strain",
         "GPA": "4.4",
         "_deepnote_index_column": 675
        },
        {
         "names": "Ronald Jett",
         "GPA": "R",
         "_deepnote_index_column": 679
        },
        {
         "names": "Hazel Posey",
         "GPA": "R",
         "_deepnote_index_column": 681
        },
        {
         "names": "Lorena Reed",
         "GPA": "R",
         "_deepnote_index_column": 753
        }
       ],
       "rows_bottom": null
      },
      "text/html": [
       "<div>\n",
       "<style scoped>\n",
       "    .dataframe tbody tr th:only-of-type {\n",
       "        vertical-align: middle;\n",
       "    }\n",
       "\n",
       "    .dataframe tbody tr th {\n",
       "        vertical-align: top;\n",
       "    }\n",
       "\n",
       "    .dataframe thead th {\n",
       "        text-align: right;\n",
       "    }\n",
       "</style>\n",
       "<table border=\"1\" class=\"dataframe\">\n",
       "  <thead>\n",
       "    <tr style=\"text-align: right;\">\n",
       "      <th></th>\n",
       "      <th>names</th>\n",
       "      <th>GPA</th>\n",
       "    </tr>\n",
       "  </thead>\n",
       "  <tbody>\n",
       "    <tr>\n",
       "      <th>198</th>\n",
       "      <td>Lucille Stanphill</td>\n",
       "      <td>5.94</td>\n",
       "    </tr>\n",
       "    <tr>\n",
       "      <th>372</th>\n",
       "      <td>Marcus Mcfarland</td>\n",
       "      <td>4.86</td>\n",
       "    </tr>\n",
       "    <tr>\n",
       "      <th>418</th>\n",
       "      <td>Matthew Freeman</td>\n",
       "      <td>R</td>\n",
       "    </tr>\n",
       "    <tr>\n",
       "      <th>421</th>\n",
       "      <td>Dana Mojica</td>\n",
       "      <td>R</td>\n",
       "    </tr>\n",
       "    <tr>\n",
       "      <th>675</th>\n",
       "      <td>Robert Strain</td>\n",
       "      <td>4.4</td>\n",
       "    </tr>\n",
       "    <tr>\n",
       "      <th>679</th>\n",
       "      <td>Ronald Jett</td>\n",
       "      <td>R</td>\n",
       "    </tr>\n",
       "    <tr>\n",
       "      <th>681</th>\n",
       "      <td>Hazel Posey</td>\n",
       "      <td>R</td>\n",
       "    </tr>\n",
       "    <tr>\n",
       "      <th>753</th>\n",
       "      <td>Lorena Reed</td>\n",
       "      <td>R</td>\n",
       "    </tr>\n",
       "  </tbody>\n",
       "</table>\n",
       "</div>"
      ],
      "text/plain": [
       "                 names   GPA\n",
       "198  Lucille Stanphill  5.94\n",
       "372   Marcus Mcfarland  4.86\n",
       "418    Matthew Freeman     R\n",
       "421        Dana Mojica     R\n",
       "675      Robert Strain   4.4\n",
       "679        Ronald Jett     R\n",
       "681        Hazel Posey     R\n",
       "753        Lorena Reed     R"
      ]
     },
     "metadata": {},
     "execution_count": 17
    }
   ],
   "metadata": {
    "tags": [],
    "deepnote_to_be_reexecuted": false,
    "source_hash": "f3ff8aa7",
    "execution_start": 1632493424802,
    "execution_millis": 21,
    "cell_id": "00056-1625f6ad-80ec-45be-9bbb-c08ddd6df2fb",
    "deepnote_cell_type": "code"
   }
  },
  {
   "cell_type": "markdown",
   "source": [
    "### 1.3.5 Quintiles de Rendimiento [0.5 Puntos]"
   ],
   "metadata": {
    "tags": [],
    "cell_id": "00057-ce0783ee-ebbf-47e2-a857-88811fd99f73",
    "deepnote_cell_type": "markdown"
   }
  },
  {
   "cell_type": "markdown",
   "source": [
    "El rector, intrigado por saber si existe una relación entre el nivel educacional de los padres y las notas de sus hijos les plantea estudiar dicha relación. Para esto, les solicita que desde el `DataFrame` que posee a todos los alumnos (`DataFrame` obtenido tras la limpieza), generen una nueva columna que clasifique en quintiles de rendimiento para sus alumnos: `['Bajísimo', 'Bajo', 'Medio', 'Alto', 'Muy alto']`. (investigar `qcut()`)\n",
    "\n",
    "Hecho esto, grafique a través de un scatter plot el nivel educacional de los padres v/s el promedio de los alumnos, utilice los cuantiles generados anteriormente para mostrar en que cuantil se encuentra cada uno de los datos.\n",
    "\n",
    "Realizado el grafico, responda la siguiente pregunta: **¿Es posible visualizar alguna tendencia en el gráfico?.**\n",
    "\n"
   ],
   "metadata": {
    "tags": [],
    "cell_id": "00058-f22b06aa-362f-481f-a003-b9e5796120b0",
    "deepnote_cell_type": "markdown"
   }
  },
  {
   "cell_type": "markdown",
   "source": [
    "**Respuesta:**"
   ],
   "metadata": {
    "tags": [],
    "cell_id": "00059-9f08f4c4-c59b-443a-83c3-677c0e9be877",
    "deepnote_cell_type": "markdown"
   }
  },
  {
   "cell_type": "code",
   "execution_count": null,
   "source": [
    "# Código para quintiles \r\n",
    "# La variable que contenga los quintiles debe llamarse GPA cuantiles para que el gráfico funcione.\r\n",
    "\r\n",
    "# Código de gráfico \r\n",
    "fig = px.scatter(\r\n",
    "    df_grades.sort_values(by=\"GPA\"),\r\n",
    "    x=\"GPA\",\r\n",
    "    y=\"parental level of education\",\r\n",
    "    hover_data=[\"gender\"],\r\n",
    "    color=\"GPA cuantiles\",\r\n",
    "    title=\"GPA por Nivel de educación de los padres\",\r\n",
    "    color_discrete_sequence=[\"tomato\", \"orange\", \"yellow\", \"greenyellow\", \"green\"]\r\n",
    ")\r\n",
    "\r\n",
    "fig\r\n"
   ],
   "outputs": [
    {
     "output_type": "display_data",
     "data": {
      "text/html": [
       "<html>\n",
       "<head><meta charset=\"utf-8\" /></head>\n",
       "<body>\n",
       "    <div>            <script src=\"https://cdnjs.cloudflare.com/ajax/libs/mathjax/2.7.5/MathJax.js?config=TeX-AMS-MML_SVG\"></script><script type=\"text/javascript\">if (window.MathJax) {MathJax.Hub.Config({SVG: {font: \"STIX-Web\"}});}</script>                <script type=\"text/javascript\">window.PlotlyConfig = {MathJaxConfig: 'local'};</script>\n",
       "        <script src=\"https://cdn.plot.ly/plotly-2.4.2.min.js\"></script>                <div id=\"655c06fd-d332-4421-85c2-ee514c6fa49f\" class=\"plotly-graph-div\" style=\"height:525px; width:100%;\"></div>            <script type=\"text/javascript\">                                    window.PLOTLYENV=window.PLOTLYENV || {};                                    if (document.getElementById(\"655c06fd-d332-4421-85c2-ee514c6fa49f\")) {                    Plotly.newPlot(                        \"655c06fd-d332-4421-85c2-ee514c6fa49f\",                        [{\"customdata\":[[\"female\"],[\"female\"],[\"male\"],[\"male\"],[\"female\"],[\"male\"],[\"female\"],[\"female\"],[\"female\"],[\"male\"],[\"male\"],[\"female\"],[\"female\"],[\"female\"],[\"male\"],[\"female\"],[\"female\"],[\"male\"],[\"female\"],[\"male\"],[\"male\"],[\"male\"],[\"female\"],[\"male\"],[\"male\"],[\"male\"],[\"male\"],[\"male\"],[\"female\"],[\"female\"],[\"male\"],[\"female\"],[\"female\"],[\"female\"],[\"male\"],[\"male\"],[\"male\"],[\"female\"],[\"female\"],[\"female\"],[\"male\"],[\"male\"],[\"female\"],[\"male\"],[\"female\"],[\"male\"],[\"male\"],[\"male\"],[\"female\"],[\"male\"],[\"female\"],[\"male\"],[\"male\"],[\"male\"],[\"male\"],[\"male\"],[\"male\"],[\"male\"],[\"female\"],[\"male\"],[\"male\"],[\"male\"],[\"male\"],[\"male\"],[\"male\"],[\"male\"],[\"male\"],[\"male\"],[\"male\"],[\"male\"],[\"female\"],[\"female\"],[\"male\"],[\"male\"],[\"male\"],[\"male\"],[\"female\"],[\"male\"],[\"female\"],[\"male\"],[\"male\"],[\"male\"],[\"male\"],[\"female\"],[\"male\"],[\"male\"],[\"female\"],[\"male\"],[\"female\"],[\"female\"],[\"male\"],[\"female\"],[\"male\"],[\"male\"],[\"male\"],[\"male\"],[\"female\"],[\"male\"],[\"male\"],[\"female\"],[\"female\"],[\"male\"],[\"male\"],[\"male\"],[\"female\"],[\"male\"],[\"male\"],[\"male\"],[\"female\"],[\"female\"],[\"male\"],[\"male\"],[\"female\"],[\"female\"],[\"male\"],[\"male\"],[\"male\"],[\"female\"],[\"female\"],[\"male\"],[\"male\"],[\"female\"],[\"male\"],[\"female\"],[\"male\"],[\"female\"],[\"male\"],[\"male\"],[\"male\"],[\"female\"],[\"male\"],[\"female\"],[\"female\"],[\"female\"],[\"female\"],[\"female\"],[\"male\"],[\"male\"],[\"female\"],[\"female\"],[\"female\"],[\"female\"],[\"male\"],[\"male\"],[\"female\"],[\"male\"],[\"male\"],[\"female\"],[\"male\"],[\"female\"],[\"female\"],[\"male\"],[\"male\"],[\"female\"],[\"female\"],[\"male\"],[\"male\"],[\"female\"],[\"male\"],[\"male\"],[\"male\"],[\"female\"],[\"male\"],[\"female\"],[\"male\"],[\"male\"],[\"female\"],[\"female\"],[\"male\"],[\"male\"],[\"male\"],[\"male\"],[\"male\"],[\"female\"],[\"male\"],[\"female\"]],\"hovertemplate\":\"GPA cuantiles=Baj\\u00edsimo<br>GPA=%{x}<br>parental level of education=%{y}<br>gender=%{customdata[0]}<extra></extra>\",\"legendgroup\":\"Baj\\u00edsimo\",\"marker\":{\"color\":\"tomato\",\"symbol\":\"circle\"},\"mode\":\"markers\",\"name\":\"Baj\\u00edsimo\",\"orientation\":\"h\",\"showlegend\":true,\"type\":\"scatter\",\"x\":[1.54,2.1,2.38,2.4,2.56,2.56,2.76,2.78,2.78,2.8,2.84,2.86,2.88,2.9,2.94,3.06,3.08,3.24,3.26,3.28,3.3,3.32,3.34,3.36,3.38,3.38,3.4,3.44,3.44,3.46,3.46,3.48,3.54,3.58,3.6,3.6,3.6,3.6,3.64,3.64,3.66,3.68,3.68,3.68,3.68,3.7,3.72,3.72,3.74,3.76,3.76,3.76,3.78,3.78,3.78,3.78,3.78,3.8,3.8,3.8,3.8,3.82,3.84,3.84,3.86,3.86,3.88,3.88,3.88,3.88,3.9,3.9,3.9,3.9,3.92,3.92,3.92,3.92,3.94,3.94,3.94,3.94,3.96,3.96,3.96,3.98,4.0,4.0,4.0,4.0,4.02,4.02,4.02,4.02,4.02,4.02,4.02,4.04,4.04,4.04,4.06,4.06,4.06,4.06,4.06,4.08,4.08,4.08,4.08,4.08,4.08,4.1,4.1,4.1,4.1,4.1,4.1,4.1,4.1,4.1,4.12,4.12,4.12,4.12,4.14,4.14,4.14,4.14,4.16,4.16,4.16,4.16,4.16,4.16,4.16,4.18,4.18,4.2,4.2,4.2,4.2,4.22,4.22,4.22,4.22,4.22,4.24,4.24,4.24,4.24,4.24,4.26,4.26,4.26,4.26,4.28,4.28,4.28,4.28,4.28,4.28,4.28,4.28,4.3,4.3,4.32,4.32,4.32,4.32,4.32,4.34,4.34,4.34,4.34,4.34,4.34],\"xaxis\":\"x\",\"y\":[\"some high school\",\"high school\",\"high school\",\"some college\",\"some high school\",\"some high school\",\"high school\",\"some high school\",\"some college\",\"some college\",\"high school\",\"some high school\",\"some college\",\"associate's degree\",\"high school\",\"high school\",\"some high school\",\"some high school\",\"some high school\",\"some college\",\"high school\",\"high school\",\"bachelor's degree\",\"some high school\",\"some high school\",\"associate's degree\",\"some college\",\"some college\",\"some college\",\"high school\",\"associate's degree\",\"some high school\",\"some high school\",\"some high school\",\"some high school\",\"associate's degree\",\"some high school\",\"high school\",\"high school\",\"some high school\",\"associate's degree\",\"master's degree\",\"high school\",\"high school\",\"some high school\",\"associate's degree\",\"high school\",\"associate's degree\",\"high school\",\"associate's degree\",\"associate's degree\",\"associate's degree\",\"some college\",\"high school\",\"some high school\",\"high school\",\"some college\",\"bachelor's degree\",\"associate's degree\",\"high school\",\"bachelor's degree\",\"high school\",\"some college\",\"some high school\",\"high school\",\"associate's degree\",\"high school\",\"high school\",\"associate's degree\",\"some high school\",\"some high school\",\"high school\",\"some high school\",\"bachelor's degree\",\"some high school\",\"some high school\",\"associate's degree\",\"some high school\",\"some high school\",\"high school\",\"high school\",\"high school\",\"associate's degree\",\"bachelor's degree\",\"associate's degree\",\"high school\",\"associate's degree\",\"bachelor's degree\",\"some high school\",\"high school\",\"some college\",\"bachelor's degree\",\"some college\",\"associate's degree\",\"some college\",\"high school\",\"some college\",\"some college\",\"some college\",\"master's degree\",\"master's degree\",\"some college\",\"some college\",\"some college\",\"some college\",\"master's degree\",\"high school\",\"associate's degree\",\"some high school\",\"some college\",\"high school\",\"high school\",\"master's degree\",\"some high school\",\"associate's degree\",\"high school\",\"associate's degree\",\"associate's degree\",\"associate's degree\",\"some high school\",\"high school\",\"some high school\",\"associate's degree\",\"associate's degree\",\"some high school\",\"high school\",\"some college\",\"some college\",\"high school\",\"some high school\",\"high school\",\"associate's degree\",\"high school\",\"high school\",\"high school\",\"associate's degree\",\"associate's degree\",\"some high school\",\"associate's degree\",\"some high school\",\"associate's degree\",\"associate's degree\",\"high school\",\"high school\",\"associate's degree\",\"bachelor's degree\",\"some high school\",\"some high school\",\"high school\",\"some college\",\"associate's degree\",\"some high school\",\"master's degree\",\"high school\",\"high school\",\"high school\",\"some college\",\"high school\",\"associate's degree\",\"some college\",\"high school\",\"associate's degree\",\"bachelor's degree\",\"high school\",\"some college\",\"associate's degree\",\"some high school\",\"bachelor's degree\",\"bachelor's degree\",\"high school\",\"high school\",\"bachelor's degree\",\"associate's degree\",\"associate's degree\",\"associate's degree\",\"high school\"],\"yaxis\":\"y\"},{\"customdata\":[[\"male\"],[\"male\"],[\"female\"],[\"female\"],[\"female\"],[\"male\"],[\"female\"],[\"male\"],[\"male\"],[\"female\"],[\"male\"],[\"female\"],[\"female\"],[\"female\"],[\"female\"],[\"female\"],[\"male\"],[\"male\"],[\"male\"],[\"female\"],[\"male\"],[\"male\"],[\"male\"],[\"male\"],[\"female\"],[\"male\"],[\"male\"],[\"male\"],[\"female\"],[\"female\"],[\"female\"],[\"male\"],[\"male\"],[\"female\"],[\"male\"],[\"male\"],[\"male\"],[\"male\"],[\"female\"],[\"male\"],[\"female\"],[\"male\"],[\"male\"],[\"male\"],[\"female\"],[\"male\"],[\"female\"],[\"female\"],[\"female\"],[\"male\"],[\"male\"],[\"female\"],[\"male\"],[\"male\"],[\"male\"],[\"female\"],[\"female\"],[\"male\"],[\"male\"],[\"male\"],[\"female\"],[\"female\"],[\"female\"],[\"male\"],[\"male\"],[\"female\"],[\"female\"],[\"female\"],[\"female\"],[\"male\"],[\"male\"],[\"male\"],[\"female\"],[\"female\"],[\"female\"],[\"male\"],[\"male\"],[\"female\"],[\"male\"],[\"male\"],[\"male\"],[\"female\"],[\"female\"],[\"male\"],[\"male\"],[\"female\"],[\"male\"],[\"male\"],[\"male\"],[\"male\"],[\"male\"],[\"male\"],[\"female\"],[\"male\"],[\"male\"],[\"female\"],[\"male\"],[\"male\"],[\"male\"],[\"female\"],[\"male\"],[\"male\"],[\"male\"],[\"female\"],[\"female\"],[\"female\"],[\"male\"],[\"male\"],[\"female\"],[\"female\"],[\"female\"],[\"male\"],[\"female\"],[\"female\"],[\"male\"],[\"female\"],[\"male\"],[\"male\"],[\"female\"],[\"female\"],[\"male\"],[\"male\"],[\"male\"],[\"female\"],[\"male\"],[\"male\"],[\"male\"],[\"female\"],[\"female\"],[\"male\"],[\"female\"],[\"female\"],[\"female\"],[\"male\"],[\"male\"],[\"male\"],[\"female\"],[\"female\"],[\"male\"],[\"male\"],[\"male\"],[\"female\"],[\"female\"],[\"female\"],[\"male\"],[\"male\"],[\"female\"],[\"male\"],[\"female\"],[\"male\"],[\"male\"],[\"female\"],[\"male\"],[\"male\"],[\"female\"],[\"female\"],[\"male\"],[\"male\"],[\"female\"],[\"female\"],[\"female\"],[\"male\"],[\"female\"],[\"female\"],[\"male\"],[\"female\"],[\"male\"],[\"male\"],[\"female\"],[\"male\"],[\"female\"],[\"male\"],[\"female\"],[\"male\"],[\"female\"],[\"female\"],[\"female\"]],\"hovertemplate\":\"GPA cuantiles=Bajo<br>GPA=%{x}<br>parental level of education=%{y}<br>gender=%{customdata[0]}<extra></extra>\",\"legendgroup\":\"Bajo\",\"marker\":{\"color\":\"orange\",\"symbol\":\"circle\"},\"mode\":\"markers\",\"name\":\"Bajo\",\"orientation\":\"h\",\"showlegend\":true,\"type\":\"scatter\",\"x\":[4.36,4.36,4.36,4.36,4.36,4.36,4.36,4.36,4.36,4.38,4.38,4.38,4.38,4.38,4.4,4.4,4.4,4.42,4.42,4.42,4.42,4.44,4.44,4.44,4.44,4.44,4.44,4.44,4.44,4.46,4.46,4.46,4.46,4.46,4.46,4.48,4.48,4.5,4.5,4.5,4.5,4.5,4.5,4.5,4.52,4.52,4.52,4.52,4.52,4.52,4.52,4.52,4.52,4.54,4.54,4.54,4.54,4.54,4.54,4.54,4.54,4.56,4.56,4.56,4.56,4.58,4.58,4.58,4.58,4.6,4.6,4.6,4.6,4.6,4.6,4.6,4.62,4.62,4.62,4.62,4.62,4.64,4.64,4.64,4.64,4.64,4.64,4.64,4.66,4.66,4.66,4.66,4.66,4.68,4.68,4.68,4.68,4.68,4.68,4.68,4.7,4.7,4.7,4.7,4.7,4.7,4.7,4.72,4.72,4.72,4.72,4.72,4.72,4.74,4.74,4.74,4.74,4.74,4.74,4.74,4.76,4.76,4.76,4.78,4.78,4.78,4.78,4.78,4.78,4.8,4.8,4.8,4.8,4.82,4.82,4.82,4.82,4.82,4.82,4.84,4.84,4.84,4.84,4.84,4.84,4.84,4.84,4.84,4.86,4.86,4.86,4.86,4.86,4.86,4.86,4.86,4.86,4.86,4.88,4.88,4.88,4.88,4.88,4.88,4.88,4.88,4.88,4.88,4.88,4.9,4.9,4.9,4.9,4.9,4.9,4.9,4.9],\"xaxis\":\"x\",\"y\":[\"high school\",\"associate's degree\",\"some college\",\"associate's degree\",\"some college\",\"high school\",\"bachelor's degree\",\"associate's degree\",\"bachelor's degree\",\"bachelor's degree\",\"some college\",\"some college\",\"some high school\",\"bachelor's degree\",\"some high school\",\"high school\",\"associate's degree\",\"high school\",\"associate's degree\",\"some college\",\"high school\",\"high school\",\"associate's degree\",\"some high school\",\"high school\",\"some college\",\"some college\",\"high school\",\"master's degree\",\"associate's degree\",\"associate's degree\",\"some high school\",\"some high school\",\"some high school\",\"some high school\",\"some high school\",\"some high school\",\"some high school\",\"bachelor's degree\",\"some college\",\"some college\",\"some college\",\"associate's degree\",\"some college\",\"associate's degree\",\"associate's degree\",\"associate's degree\",\"some college\",\"some high school\",\"some high school\",\"high school\",\"some college\",\"high school\",\"some college\",\"some high school\",\"master's degree\",\"some high school\",\"some college\",\"some high school\",\"associate's degree\",\"some college\",\"some college\",\"master's degree\",\"associate's degree\",\"some college\",\"some high school\",\"high school\",\"high school\",\"bachelor's degree\",\"some college\",\"some high school\",\"high school\",\"high school\",\"some high school\",\"high school\",\"some college\",\"bachelor's degree\",\"bachelor's degree\",\"high school\",\"some college\",\"some college\",\"master's degree\",\"associate's degree\",\"some college\",\"some college\",\"some high school\",\"bachelor's degree\",\"some college\",\"some high school\",\"some college\",\"bachelor's degree\",\"master's degree\",\"some college\",\"associate's degree\",\"some college\",\"some college\",\"some college\",\"some high school\",\"bachelor's degree\",\"master's degree\",\"associate's degree\",\"some high school\",\"associate's degree\",\"master's degree\",\"some college\",\"some college\",\"high school\",\"some college\",\"some high school\",\"high school\",\"associate's degree\",\"bachelor's degree\",\"bachelor's degree\",\"some high school\",\"some college\",\"high school\",\"some college\",\"high school\",\"some college\",\"high school\",\"bachelor's degree\",\"high school\",\"high school\",\"some college\",\"associate's degree\",\"some college\",\"associate's degree\",\"master's degree\",\"high school\",\"some high school\",\"high school\",\"associate's degree\",\"master's degree\",\"some college\",\"high school\",\"some college\",\"some college\",\"high school\",\"associate's degree\",\"some high school\",\"associate's degree\",\"some high school\",\"associate's degree\",\"high school\",\"some college\",\"high school\",\"some college\",\"bachelor's degree\",\"associate's degree\",\"bachelor's degree\",\"associate's degree\",\"master's degree\",\"bachelor's degree\",\"associate's degree\",\"master's degree\",\"high school\",\"some high school\",\"some high school\",\"some college\",\"associate's degree\",\"associate's degree\",\"master's degree\",\"high school\",\"bachelor's degree\",\"associate's degree\",\"some college\",\"some high school\",\"high school\",\"associate's degree\",\"high school\",\"some college\",\"some college\",\"some college\",\"high school\",\"some college\",\"associate's degree\",\"high school\"],\"yaxis\":\"y\"},{\"customdata\":[[\"female\"],[\"female\"],[\"male\"],[\"female\"],[\"male\"],[\"male\"],[\"male\"],[\"male\"],[\"female\"],[\"male\"],[\"female\"],[\"male\"],[\"male\"],[\"female\"],[\"female\"],[\"female\"],[\"female\"],[\"male\"],[\"female\"],[\"female\"],[\"female\"],[\"male\"],[\"male\"],[\"female\"],[\"female\"],[\"female\"],[\"female\"],[\"male\"],[\"male\"],[\"male\"],[\"female\"],[\"male\"],[\"female\"],[\"female\"],[\"female\"],[\"female\"],[\"female\"],[\"female\"],[\"female\"],[\"male\"],[\"male\"],[\"female\"],[\"male\"],[\"female\"],[\"male\"],[\"male\"],[\"male\"],[\"male\"],[\"female\"],[\"female\"],[\"male\"],[\"male\"],[\"male\"],[\"female\"],[\"female\"],[\"male\"],[\"male\"],[\"male\"],[\"female\"],[\"male\"],[\"female\"],[\"male\"],[\"female\"],[\"male\"],[\"female\"],[\"male\"],[\"male\"],[\"female\"],[\"male\"],[\"female\"],[\"female\"],[\"male\"],[\"male\"],[\"female\"],[\"male\"],[\"male\"],[\"male\"],[\"male\"],[\"male\"],[\"male\"],[\"male\"],[\"female\"],[\"female\"],[\"male\"],[\"female\"],[\"female\"],[\"male\"],[\"female\"],[\"female\"],[\"male\"],[\"female\"],[\"female\"],[\"male\"],[\"male\"],[\"female\"],[\"female\"],[\"male\"],[\"female\"],[\"female\"],[\"female\"],[\"male\"],[\"male\"],[\"male\"],[\"male\"],[\"female\"],[\"female\"],[\"female\"],[\"male\"],[\"female\"],[\"male\"],[\"female\"],[\"male\"],[\"male\"],[\"male\"],[\"female\"],[\"female\"],[\"male\"],[\"male\"],[\"male\"],[\"male\"],[\"female\"],[\"male\"],[\"female\"],[\"female\"],[\"male\"],[\"male\"],[\"female\"],[\"female\"],[\"female\"],[\"female\"],[\"female\"],[\"female\"],[\"male\"],[\"female\"],[\"male\"],[\"female\"],[\"female\"],[\"male\"],[\"male\"],[\"female\"],[\"male\"],[\"female\"],[\"female\"],[\"male\"],[\"female\"],[\"female\"],[\"male\"],[\"male\"],[\"female\"],[\"female\"],[\"male\"],[\"female\"],[\"female\"],[\"female\"],[\"male\"],[\"male\"],[\"male\"],[\"female\"],[\"female\"],[\"female\"],[\"male\"],[\"male\"],[\"male\"],[\"male\"],[\"female\"],[\"male\"],[\"female\"],[\"female\"],[\"male\"],[\"female\"],[\"female\"],[\"female\"],[\"male\"],[\"male\"],[\"female\"],[\"female\"],[\"female\"],[\"male\"]],\"hovertemplate\":\"GPA cuantiles=Medio<br>GPA=%{x}<br>parental level of education=%{y}<br>gender=%{customdata[0]}<extra></extra>\",\"legendgroup\":\"Medio\",\"marker\":{\"color\":\"yellow\",\"symbol\":\"circle\"},\"mode\":\"markers\",\"name\":\"Medio\",\"orientation\":\"h\",\"showlegend\":true,\"type\":\"scatter\",\"x\":[4.92,4.92,4.92,4.92,4.92,4.92,4.92,4.92,4.92,4.94,4.94,4.94,4.94,4.94,4.94,4.94,4.96,4.96,4.96,4.96,4.96,4.96,4.96,4.96,4.96,4.98,4.98,4.98,4.98,4.98,5.0,5.0,5.0,5.0,5.0,5.0,5.0,5.02,5.02,5.02,5.02,5.02,5.02,5.02,5.02,5.04,5.04,5.04,5.04,5.06,5.06,5.06,5.06,5.06,5.06,5.06,5.08,5.08,5.08,5.08,5.08,5.08,5.08,5.08,5.08,5.08,5.08,5.08,5.1,5.1,5.1,5.1,5.1,5.1,5.1,5.1,5.1,5.1,5.12,5.12,5.12,5.12,5.12,5.12,5.12,5.12,5.12,5.12,5.12,5.12,5.14,5.14,5.14,5.14,5.14,5.14,5.14,5.14,5.14,5.14,5.14,5.16,5.16,5.16,5.16,5.16,5.16,5.16,5.16,5.16,5.16,5.18,5.18,5.18,5.18,5.18,5.2,5.2,5.2,5.2,5.2,5.2,5.2,5.2,5.2,5.2,5.2,5.2,5.22,5.22,5.22,5.22,5.22,5.22,5.22,5.22,5.24,5.24,5.24,5.24,5.26,5.26,5.26,5.26,5.26,5.26,5.26,5.26,5.26,5.26,5.26,5.28,5.28,5.28,5.28,5.28,5.28,5.28,5.28,5.28,5.28,5.3,5.3,5.3,5.3,5.3,5.3,5.3,5.3,5.32,5.32,5.32,5.32,5.32,5.32,5.32,5.32,5.32],\"xaxis\":\"x\",\"y\":[\"some college\",\"some high school\",\"some high school\",\"some college\",\"some high school\",\"bachelor's degree\",\"some college\",\"bachelor's degree\",\"high school\",\"some college\",\"high school\",\"associate's degree\",\"some high school\",\"high school\",\"some college\",\"high school\",\"some high school\",\"high school\",\"associate's degree\",\"bachelor's degree\",\"high school\",\"high school\",\"some high school\",\"associate's degree\",\"high school\",\"high school\",\"associate's degree\",\"associate's degree\",\"some high school\",\"bachelor's degree\",\"some high school\",\"bachelor's degree\",\"associate's degree\",\"high school\",\"associate's degree\",\"some college\",\"some college\",\"some high school\",\"high school\",\"some college\",\"some high school\",\"high school\",\"some college\",\"bachelor's degree\",\"some college\",\"high school\",\"associate's degree\",\"some high school\",\"bachelor's degree\",\"bachelor's degree\",\"bachelor's degree\",\"some college\",\"bachelor's degree\",\"high school\",\"some high school\",\"high school\",\"bachelor's degree\",\"high school\",\"associate's degree\",\"high school\",\"associate's degree\",\"bachelor's degree\",\"some high school\",\"some high school\",\"some college\",\"high school\",\"high school\",\"some college\",\"master's degree\",\"high school\",\"some college\",\"high school\",\"high school\",\"associate's degree\",\"some college\",\"some high school\",\"associate's degree\",\"some high school\",\"associate's degree\",\"bachelor's degree\",\"associate's degree\",\"some high school\",\"associate's degree\",\"high school\",\"high school\",\"associate's degree\",\"associate's degree\",\"some college\",\"some college\",\"some college\",\"some high school\",\"some college\",\"associate's degree\",\"high school\",\"associate's degree\",\"bachelor's degree\",\"associate's degree\",\"master's degree\",\"associate's degree\",\"bachelor's degree\",\"some high school\",\"associate's degree\",\"some high school\",\"some high school\",\"high school\",\"bachelor's degree\",\"associate's degree\",\"some college\",\"high school\",\"some college\",\"some college\",\"high school\",\"high school\",\"some high school\",\"associate's degree\",\"associate's degree\",\"some college\",\"some college\",\"high school\",\"high school\",\"master's degree\",\"bachelor's degree\",\"high school\",\"some college\",\"some high school\",\"master's degree\",\"high school\",\"some high school\",\"some college\",\"bachelor's degree\",\"bachelor's degree\",\"associate's degree\",\"some college\",\"bachelor's degree\",\"high school\",\"some high school\",\"some college\",\"bachelor's degree\",\"high school\",\"master's degree\",\"high school\",\"some college\",\"some college\",\"high school\",\"bachelor's degree\",\"high school\",\"bachelor's degree\",\"some college\",\"high school\",\"some college\",\"associate's degree\",\"associate's degree\",\"associate's degree\",\"associate's degree\",\"associate's degree\",\"associate's degree\",\"some high school\",\"some high school\",\"bachelor's degree\",\"bachelor's degree\",\"associate's degree\",\"high school\",\"high school\",\"high school\",\"master's degree\",\"associate's degree\",\"some college\",\"some high school\",\"some high school\",\"some high school\",\"associate's degree\",\"associate's degree\",\"bachelor's degree\",\"some college\",\"associate's degree\",\"some high school\",\"associate's degree\",\"some college\"],\"yaxis\":\"y\"},{\"customdata\":[[\"female\"],[\"female\"],[\"female\"],[\"female\"],[\"male\"],[\"female\"],[\"female\"],[\"female\"],[\"female\"],[\"male\"],[\"male\"],[\"female\"],[\"female\"],[\"female\"],[\"female\"],[\"male\"],[\"male\"],[\"female\"],[\"female\"],[\"female\"],[\"female\"],[\"female\"],[\"male\"],[\"male\"],[\"male\"],[\"female\"],[\"male\"],[\"male\"],[\"female\"],[\"male\"],[\"male\"],[\"female\"],[\"male\"],[\"male\"],[\"male\"],[\"male\"],[\"male\"],[\"female\"],[\"female\"],[\"male\"],[\"female\"],[\"male\"],[\"male\"],[\"female\"],[\"female\"],[\"female\"],[\"female\"],[\"male\"],[\"female\"],[\"female\"],[\"female\"],[\"female\"],[\"female\"],[\"female\"],[\"female\"],[\"female\"],[\"female\"],[\"female\"],[\"female\"],[\"male\"],[\"female\"],[\"male\"],[\"female\"],[\"male\"],[\"male\"],[\"female\"],[\"female\"],[\"male\"],[\"female\"],[\"female\"],[\"female\"],[\"male\"],[\"male\"],[\"male\"],[\"female\"],[\"male\"],[\"female\"],[\"female\"],[\"male\"],[\"female\"],[\"female\"],[\"female\"],[\"female\"],[\"female\"],[\"female\"],[\"male\"],[\"male\"],[\"female\"],[\"male\"],[\"female\"],[\"female\"],[\"male\"],[\"female\"],[\"female\"],[\"female\"],[\"female\"],[\"male\"],[\"female\"],[\"male\"],[\"female\"],[\"male\"],[\"male\"],[\"female\"],[\"female\"],[\"female\"],[\"male\"],[\"male\"],[\"female\"],[\"female\"],[\"female\"],[\"female\"],[\"female\"],[\"male\"],[\"female\"],[\"female\"],[\"female\"],[\"female\"],[\"female\"],[\"male\"],[\"female\"],[\"male\"],[\"male\"],[\"male\"],[\"female\"],[\"female\"],[\"male\"],[\"female\"],[\"female\"],[\"female\"],[\"male\"],[\"male\"],[\"male\"],[\"male\"],[\"male\"],[\"female\"],[\"male\"],[\"male\"],[\"male\"],[\"female\"],[\"female\"],[\"female\"],[\"female\"],[\"female\"],[\"female\"],[\"male\"],[\"female\"],[\"female\"],[\"female\"],[\"female\"],[\"female\"],[\"female\"],[\"male\"],[\"female\"],[\"male\"],[\"female\"],[\"female\"],[\"male\"],[\"male\"],[\"male\"],[\"male\"],[\"male\"],[\"female\"],[\"female\"],[\"female\"],[\"female\"],[\"male\"],[\"male\"],[\"male\"],[\"female\"],[\"male\"],[\"male\"],[\"female\"]],\"hovertemplate\":\"GPA cuantiles=Alto<br>GPA=%{x}<br>parental level of education=%{y}<br>gender=%{customdata[0]}<extra></extra>\",\"legendgroup\":\"Alto\",\"marker\":{\"color\":\"greenyellow\",\"symbol\":\"circle\"},\"mode\":\"markers\",\"name\":\"Alto\",\"orientation\":\"h\",\"showlegend\":true,\"type\":\"scatter\",\"x\":[5.34,5.34,5.34,5.34,5.34,5.34,5.36,5.36,5.36,5.36,5.36,5.36,5.36,5.36,5.36,5.38,5.38,5.38,5.38,5.38,5.38,5.38,5.38,5.38,5.38,5.38,5.38,5.4,5.4,5.4,5.4,5.4,5.4,5.4,5.4,5.4,5.42,5.42,5.42,5.42,5.42,5.44,5.44,5.44,5.44,5.44,5.44,5.46,5.46,5.46,5.46,5.46,5.46,5.46,5.46,5.46,5.46,5.48,5.48,5.48,5.48,5.48,5.48,5.48,5.5,5.5,5.5,5.5,5.5,5.5,5.5,5.5,5.5,5.52,5.52,5.52,5.52,5.52,5.52,5.54,5.54,5.54,5.54,5.54,5.54,5.54,5.54,5.54,5.56,5.56,5.56,5.56,5.56,5.56,5.56,5.56,5.56,5.58,5.58,5.58,5.58,5.58,5.58,5.6,5.6,5.6,5.6,5.62,5.62,5.62,5.62,5.62,5.62,5.64,5.64,5.64,5.64,5.64,5.64,5.64,5.64,5.64,5.64,5.64,5.66,5.66,5.66,5.66,5.68,5.68,5.68,5.68,5.68,5.68,5.68,5.68,5.7,5.7,5.7,5.7,5.7,5.7,5.7,5.7,5.72,5.72,5.72,5.72,5.72,5.72,5.72,5.74,5.74,5.74,5.74,5.74,5.74,5.74,5.76,5.76,5.76,5.76,5.76,5.76,5.76,5.76,5.78,5.78,5.78,5.78,5.78,5.78],\"xaxis\":\"x\",\"y\":[\"associate's degree\",\"some college\",\"associate's degree\",\"some college\",\"high school\",\"some college\",\"some college\",\"high school\",\"some high school\",\"some high school\",\"master's degree\",\"high school\",\"bachelor's degree\",\"associate's degree\",\"some college\",\"some college\",\"some high school\",\"high school\",\"high school\",\"bachelor's degree\",\"high school\",\"some high school\",\"bachelor's degree\",\"master's degree\",\"high school\",\"bachelor's degree\",\"some college\",\"some high school\",\"some high school\",\"associate's degree\",\"some high school\",\"some high school\",\"master's degree\",\"associate's degree\",\"some college\",\"some college\",\"high school\",\"bachelor's degree\",\"bachelor's degree\",\"high school\",\"some college\",\"bachelor's degree\",\"bachelor's degree\",\"some college\",\"some high school\",\"some high school\",\"some college\",\"associate's degree\",\"some college\",\"some college\",\"some college\",\"some college\",\"associate's degree\",\"high school\",\"some college\",\"some college\",\"some college\",\"some high school\",\"high school\",\"associate's degree\",\"high school\",\"some college\",\"high school\",\"associate's degree\",\"bachelor's degree\",\"bachelor's degree\",\"some high school\",\"associate's degree\",\"some high school\",\"associate's degree\",\"associate's degree\",\"bachelor's degree\",\"associate's degree\",\"associate's degree\",\"some college\",\"some college\",\"high school\",\"associate's degree\",\"high school\",\"some college\",\"associate's degree\",\"some college\",\"associate's degree\",\"master's degree\",\"high school\",\"some college\",\"high school\",\"bachelor's degree\",\"bachelor's degree\",\"some high school\",\"high school\",\"some college\",\"some high school\",\"some high school\",\"some college\",\"associate's degree\",\"associate's degree\",\"high school\",\"some high school\",\"some college\",\"some high school\",\"some college\",\"associate's degree\",\"bachelor's degree\",\"high school\",\"associate's degree\",\"some high school\",\"some high school\",\"some college\",\"some high school\",\"some high school\",\"some high school\",\"some college\",\"some high school\",\"associate's degree\",\"bachelor's degree\",\"associate's degree\",\"some college\",\"associate's degree\",\"associate's degree\",\"some high school\",\"associate's degree\",\"associate's degree\",\"associate's degree\",\"bachelor's degree\",\"associate's degree\",\"associate's degree\",\"some college\",\"associate's degree\",\"bachelor's degree\",\"master's degree\",\"high school\",\"associate's degree\",\"associate's degree\",\"some college\",\"some high school\",\"high school\",\"high school\",\"associate's degree\",\"master's degree\",\"high school\",\"some college\",\"some college\",\"some college\",\"some college\",\"bachelor's degree\",\"some high school\",\"some high school\",\"high school\",\"bachelor's degree\",\"some college\",\"high school\",\"some college\",\"associate's degree\",\"associate's degree\",\"associate's degree\",\"some high school\",\"some high school\",\"master's degree\",\"some high school\",\"some college\",\"some high school\",\"master's degree\",\"associate's degree\",\"associate's degree\",\"high school\",\"some college\",\"bachelor's degree\",\"bachelor's degree\",\"associate's degree\",\"bachelor's degree\",\"bachelor's degree\"],\"yaxis\":\"y\"},{\"customdata\":[[\"female\"],[\"female\"],[\"female\"],[\"male\"],[\"female\"],[\"male\"],[\"male\"],[\"male\"],[\"male\"],[\"male\"],[\"male\"],[\"male\"],[\"female\"],[\"female\"],[\"female\"],[\"male\"],[\"female\"],[\"male\"],[\"female\"],[\"male\"],[\"male\"],[\"male\"],[\"male\"],[\"male\"],[\"male\"],[\"female\"],[\"male\"],[\"male\"],[\"female\"],[\"female\"],[\"male\"],[\"male\"],[\"female\"],[\"female\"],[\"female\"],[\"male\"],[\"female\"],[\"male\"],[\"female\"],[\"male\"],[\"female\"],[\"male\"],[\"female\"],[\"male\"],[\"female\"],[\"female\"],[\"female\"],[\"male\"],[\"male\"],[\"male\"],[\"female\"],[\"female\"],[\"male\"],[\"female\"],[\"female\"],[\"male\"],[\"female\"],[\"male\"],[\"male\"],[\"female\"],[\"female\"],[\"male\"],[\"female\"],[\"female\"],[\"male\"],[\"female\"],[\"male\"],[\"female\"],[\"female\"],[\"female\"],[\"female\"],[\"male\"],[\"male\"],[\"male\"],[\"male\"],[\"male\"],[\"female\"],[\"female\"],[\"male\"],[\"female\"],[\"female\"],[\"female\"],[\"male\"],[\"female\"],[\"male\"],[\"female\"],[\"female\"],[\"male\"],[\"male\"],[\"female\"],[\"male\"],[\"male\"],[\"female\"],[\"male\"],[\"female\"],[\"female\"],[\"female\"],[\"male\"],[\"male\"],[\"female\"],[\"male\"],[\"female\"],[\"female\"],[\"male\"],[\"male\"],[\"male\"],[\"female\"],[\"female\"],[\"female\"],[\"female\"],[\"female\"],[\"female\"],[\"male\"],[\"female\"],[\"female\"],[\"male\"],[\"male\"],[\"female\"],[\"female\"],[\"male\"],[\"male\"],[\"male\"],[\"female\"],[\"female\"],[\"female\"],[\"female\"],[\"female\"],[\"female\"],[\"female\"],[\"female\"],[\"female\"],[\"female\"],[\"male\"],[\"female\"],[\"female\"],[\"male\"],[\"female\"],[\"female\"],[\"male\"],[\"female\"],[\"male\"],[\"female\"],[\"female\"],[\"female\"],[\"male\"],[\"male\"],[\"female\"],[\"female\"],[\"male\"],[\"male\"],[\"female\"],[\"female\"],[\"male\"],[\"female\"],[\"female\"],[\"female\"],[\"female\"],[\"female\"],[\"female\"],[\"female\"],[\"female\"],[\"female\"],[\"male\"],[\"female\"],[\"male\"],[\"female\"],[\"female\"],[\"female\"],[\"female\"],[\"female\"],[\"male\"],[\"female\"]],\"hovertemplate\":\"GPA cuantiles=Muy alto<br>GPA=%{x}<br>parental level of education=%{y}<br>gender=%{customdata[0]}<extra></extra>\",\"legendgroup\":\"Muy alto\",\"marker\":{\"color\":\"green\",\"symbol\":\"circle\"},\"mode\":\"markers\",\"name\":\"Muy alto\",\"orientation\":\"h\",\"showlegend\":true,\"type\":\"scatter\",\"x\":[5.8,5.8,5.8,5.82,5.82,5.82,5.82,5.82,5.82,5.82,5.84,5.84,5.84,5.84,5.84,5.84,5.84,5.86,5.88,5.88,5.88,5.88,5.9,5.9,5.9,5.92,5.92,5.94,5.94,5.94,5.94,5.94,5.94,5.94,5.94,5.94,5.94,5.94,5.96,5.96,5.96,5.96,5.96,5.98,5.98,5.98,5.98,5.98,5.98,5.98,5.98,5.98,6.0,6.0,6.0,6.0,6.0,6.02,6.02,6.04,6.04,6.04,6.04,6.04,6.04,6.04,6.04,6.06,6.06,6.08,6.08,6.1,6.1,6.1,6.1,6.12,6.12,6.12,6.14,6.14,6.14,6.14,6.14,6.14,6.16,6.16,6.16,6.16,6.18,6.18,6.18,6.18,6.2,6.2,6.2,6.22,6.22,6.22,6.22,6.22,6.24,6.24,6.24,6.24,6.26,6.26,6.28,6.28,6.3,6.3,6.3,6.3,6.3,6.32,6.32,6.32,6.32,6.32,6.34,6.34,6.34,6.34,6.36,6.36,6.36,6.36,6.38,6.38,6.4,6.42,6.42,6.42,6.44,6.46,6.48,6.48,6.5,6.5,6.5,6.5,6.5,6.52,6.54,6.56,6.56,6.56,6.6,6.6,6.62,6.64,6.64,6.64,6.64,6.74,6.76,6.78,6.78,6.8,6.82,6.82,6.84,6.86,6.86,6.86,6.92,6.92,6.94,6.94,6.98,7.0,7.0,7.0],\"xaxis\":\"x\",\"y\":[\"some college\",\"high school\",\"high school\",\"some college\",\"some high school\",\"some high school\",\"high school\",\"some high school\",\"associate's degree\",\"associate's degree\",\"some high school\",\"high school\",\"bachelor's degree\",\"bachelor's degree\",\"some high school\",\"some college\",\"some high school\",\"associate's degree\",\"some high school\",\"high school\",\"associate's degree\",\"associate's degree\",\"some college\",\"some high school\",\"associate's degree\",\"bachelor's degree\",\"master's degree\",\"high school\",\"high school\",\"some college\",\"some college\",\"some high school\",\"some college\",\"associate's degree\",\"some college\",\"some high school\",\"some college\",\"some high school\",\"some college\",\"high school\",\"high school\",\"some high school\",\"high school\",\"bachelor's degree\",\"high school\",\"bachelor's degree\",\"bachelor's degree\",\"bachelor's degree\",\"some college\",\"associate's degree\",\"associate's degree\",\"some college\",\"some high school\",\"high school\",\"some high school\",\"some high school\",\"master's degree\",\"some college\",\"bachelor's degree\",\"some high school\",\"some high school\",\"some college\",\"associate's degree\",\"bachelor's degree\",\"some college\",\"some high school\",\"associate's degree\",\"associate's degree\",\"associate's degree\",\"some college\",\"some college\",\"master's degree\",\"bachelor's degree\",\"associate's degree\",\"high school\",\"associate's degree\",\"some college\",\"some high school\",\"some high school\",\"associate's degree\",\"bachelor's degree\",\"some college\",\"some college\",\"associate's degree\",\"master's degree\",\"associate's degree\",\"some college\",\"bachelor's degree\",\"master's degree\",\"master's degree\",\"some high school\",\"high school\",\"some high school\",\"some high school\",\"bachelor's degree\",\"associate's degree\",\"associate's degree\",\"associate's degree\",\"master's degree\",\"bachelor's degree\",\"associate's degree\",\"associate's degree\",\"some college\",\"associate's degree\",\"high school\",\"master's degree\",\"master's degree\",\"associate's degree\",\"some college\",\"bachelor's degree\",\"associate's degree\",\"master's degree\",\"bachelor's degree\",\"associate's degree\",\"some college\",\"some college\",\"some college\",\"bachelor's degree\",\"some high school\",\"associate's degree\",\"some college\",\"some high school\",\"associate's degree\",\"high school\",\"master's degree\",\"associate's degree\",\"associate's degree\",\"some college\",\"some high school\",\"associate's degree\",\"associate's degree\",\"bachelor's degree\",\"associate's degree\",\"associate's degree\",\"some high school\",\"some college\",\"some college\",\"associate's degree\",\"associate's degree\",\"some college\",\"associate's degree\",\"associate's degree\",\"some college\",\"master's degree\",\"bachelor's degree\",\"some college\",\"associate's degree\",\"master's degree\",\"associate's degree\",\"associate's degree\",\"high school\",\"master's degree\",\"some college\",\"high school\",\"associate's degree\",\"bachelor's degree\",\"some college\",\"bachelor's degree\",\"bachelor's degree\",\"associate's degree\",\"master's degree\",\"bachelor's degree\",\"associate's degree\",\"master's degree\",\"some college\",\"bachelor's degree\",\"some college\",\"some high school\",\"bachelor's degree\",\"bachelor's degree\",\"bachelor's degree\",\"associate's degree\"],\"yaxis\":\"y\"}],                        {\"legend\":{\"title\":{\"text\":\"GPA cuantiles\"},\"tracegroupgap\":0},\"template\":{\"data\":{\"bar\":[{\"error_x\":{\"color\":\"#2a3f5f\"},\"error_y\":{\"color\":\"#2a3f5f\"},\"marker\":{\"line\":{\"color\":\"#E5ECF6\",\"width\":0.5},\"pattern\":{\"fillmode\":\"overlay\",\"size\":10,\"solidity\":0.2}},\"type\":\"bar\"}],\"barpolar\":[{\"marker\":{\"line\":{\"color\":\"#E5ECF6\",\"width\":0.5},\"pattern\":{\"fillmode\":\"overlay\",\"size\":10,\"solidity\":0.2}},\"type\":\"barpolar\"}],\"carpet\":[{\"aaxis\":{\"endlinecolor\":\"#2a3f5f\",\"gridcolor\":\"white\",\"linecolor\":\"white\",\"minorgridcolor\":\"white\",\"startlinecolor\":\"#2a3f5f\"},\"baxis\":{\"endlinecolor\":\"#2a3f5f\",\"gridcolor\":\"white\",\"linecolor\":\"white\",\"minorgridcolor\":\"white\",\"startlinecolor\":\"#2a3f5f\"},\"type\":\"carpet\"}],\"choropleth\":[{\"colorbar\":{\"outlinewidth\":0,\"ticks\":\"\"},\"type\":\"choropleth\"}],\"contour\":[{\"colorbar\":{\"outlinewidth\":0,\"ticks\":\"\"},\"colorscale\":[[0.0,\"#0d0887\"],[0.1111111111111111,\"#46039f\"],[0.2222222222222222,\"#7201a8\"],[0.3333333333333333,\"#9c179e\"],[0.4444444444444444,\"#bd3786\"],[0.5555555555555556,\"#d8576b\"],[0.6666666666666666,\"#ed7953\"],[0.7777777777777778,\"#fb9f3a\"],[0.8888888888888888,\"#fdca26\"],[1.0,\"#f0f921\"]],\"type\":\"contour\"}],\"contourcarpet\":[{\"colorbar\":{\"outlinewidth\":0,\"ticks\":\"\"},\"type\":\"contourcarpet\"}],\"heatmap\":[{\"colorbar\":{\"outlinewidth\":0,\"ticks\":\"\"},\"colorscale\":[[0.0,\"#0d0887\"],[0.1111111111111111,\"#46039f\"],[0.2222222222222222,\"#7201a8\"],[0.3333333333333333,\"#9c179e\"],[0.4444444444444444,\"#bd3786\"],[0.5555555555555556,\"#d8576b\"],[0.6666666666666666,\"#ed7953\"],[0.7777777777777778,\"#fb9f3a\"],[0.8888888888888888,\"#fdca26\"],[1.0,\"#f0f921\"]],\"type\":\"heatmap\"}],\"heatmapgl\":[{\"colorbar\":{\"outlinewidth\":0,\"ticks\":\"\"},\"colorscale\":[[0.0,\"#0d0887\"],[0.1111111111111111,\"#46039f\"],[0.2222222222222222,\"#7201a8\"],[0.3333333333333333,\"#9c179e\"],[0.4444444444444444,\"#bd3786\"],[0.5555555555555556,\"#d8576b\"],[0.6666666666666666,\"#ed7953\"],[0.7777777777777778,\"#fb9f3a\"],[0.8888888888888888,\"#fdca26\"],[1.0,\"#f0f921\"]],\"type\":\"heatmapgl\"}],\"histogram\":[{\"marker\":{\"pattern\":{\"fillmode\":\"overlay\",\"size\":10,\"solidity\":0.2}},\"type\":\"histogram\"}],\"histogram2d\":[{\"colorbar\":{\"outlinewidth\":0,\"ticks\":\"\"},\"colorscale\":[[0.0,\"#0d0887\"],[0.1111111111111111,\"#46039f\"],[0.2222222222222222,\"#7201a8\"],[0.3333333333333333,\"#9c179e\"],[0.4444444444444444,\"#bd3786\"],[0.5555555555555556,\"#d8576b\"],[0.6666666666666666,\"#ed7953\"],[0.7777777777777778,\"#fb9f3a\"],[0.8888888888888888,\"#fdca26\"],[1.0,\"#f0f921\"]],\"type\":\"histogram2d\"}],\"histogram2dcontour\":[{\"colorbar\":{\"outlinewidth\":0,\"ticks\":\"\"},\"colorscale\":[[0.0,\"#0d0887\"],[0.1111111111111111,\"#46039f\"],[0.2222222222222222,\"#7201a8\"],[0.3333333333333333,\"#9c179e\"],[0.4444444444444444,\"#bd3786\"],[0.5555555555555556,\"#d8576b\"],[0.6666666666666666,\"#ed7953\"],[0.7777777777777778,\"#fb9f3a\"],[0.8888888888888888,\"#fdca26\"],[1.0,\"#f0f921\"]],\"type\":\"histogram2dcontour\"}],\"mesh3d\":[{\"colorbar\":{\"outlinewidth\":0,\"ticks\":\"\"},\"type\":\"mesh3d\"}],\"parcoords\":[{\"line\":{\"colorbar\":{\"outlinewidth\":0,\"ticks\":\"\"}},\"type\":\"parcoords\"}],\"pie\":[{\"automargin\":true,\"type\":\"pie\"}],\"scatter\":[{\"marker\":{\"colorbar\":{\"outlinewidth\":0,\"ticks\":\"\"}},\"type\":\"scatter\"}],\"scatter3d\":[{\"line\":{\"colorbar\":{\"outlinewidth\":0,\"ticks\":\"\"}},\"marker\":{\"colorbar\":{\"outlinewidth\":0,\"ticks\":\"\"}},\"type\":\"scatter3d\"}],\"scattercarpet\":[{\"marker\":{\"colorbar\":{\"outlinewidth\":0,\"ticks\":\"\"}},\"type\":\"scattercarpet\"}],\"scattergeo\":[{\"marker\":{\"colorbar\":{\"outlinewidth\":0,\"ticks\":\"\"}},\"type\":\"scattergeo\"}],\"scattergl\":[{\"marker\":{\"colorbar\":{\"outlinewidth\":0,\"ticks\":\"\"}},\"type\":\"scattergl\"}],\"scattermapbox\":[{\"marker\":{\"colorbar\":{\"outlinewidth\":0,\"ticks\":\"\"}},\"type\":\"scattermapbox\"}],\"scatterpolar\":[{\"marker\":{\"colorbar\":{\"outlinewidth\":0,\"ticks\":\"\"}},\"type\":\"scatterpolar\"}],\"scatterpolargl\":[{\"marker\":{\"colorbar\":{\"outlinewidth\":0,\"ticks\":\"\"}},\"type\":\"scatterpolargl\"}],\"scatterternary\":[{\"marker\":{\"colorbar\":{\"outlinewidth\":0,\"ticks\":\"\"}},\"type\":\"scatterternary\"}],\"surface\":[{\"colorbar\":{\"outlinewidth\":0,\"ticks\":\"\"},\"colorscale\":[[0.0,\"#0d0887\"],[0.1111111111111111,\"#46039f\"],[0.2222222222222222,\"#7201a8\"],[0.3333333333333333,\"#9c179e\"],[0.4444444444444444,\"#bd3786\"],[0.5555555555555556,\"#d8576b\"],[0.6666666666666666,\"#ed7953\"],[0.7777777777777778,\"#fb9f3a\"],[0.8888888888888888,\"#fdca26\"],[1.0,\"#f0f921\"]],\"type\":\"surface\"}],\"table\":[{\"cells\":{\"fill\":{\"color\":\"#EBF0F8\"},\"line\":{\"color\":\"white\"}},\"header\":{\"fill\":{\"color\":\"#C8D4E3\"},\"line\":{\"color\":\"white\"}},\"type\":\"table\"}]},\"layout\":{\"annotationdefaults\":{\"arrowcolor\":\"#2a3f5f\",\"arrowhead\":0,\"arrowwidth\":1},\"autotypenumbers\":\"strict\",\"coloraxis\":{\"colorbar\":{\"outlinewidth\":0,\"ticks\":\"\"}},\"colorscale\":{\"diverging\":[[0,\"#8e0152\"],[0.1,\"#c51b7d\"],[0.2,\"#de77ae\"],[0.3,\"#f1b6da\"],[0.4,\"#fde0ef\"],[0.5,\"#f7f7f7\"],[0.6,\"#e6f5d0\"],[0.7,\"#b8e186\"],[0.8,\"#7fbc41\"],[0.9,\"#4d9221\"],[1,\"#276419\"]],\"sequential\":[[0.0,\"#0d0887\"],[0.1111111111111111,\"#46039f\"],[0.2222222222222222,\"#7201a8\"],[0.3333333333333333,\"#9c179e\"],[0.4444444444444444,\"#bd3786\"],[0.5555555555555556,\"#d8576b\"],[0.6666666666666666,\"#ed7953\"],[0.7777777777777778,\"#fb9f3a\"],[0.8888888888888888,\"#fdca26\"],[1.0,\"#f0f921\"]],\"sequentialminus\":[[0.0,\"#0d0887\"],[0.1111111111111111,\"#46039f\"],[0.2222222222222222,\"#7201a8\"],[0.3333333333333333,\"#9c179e\"],[0.4444444444444444,\"#bd3786\"],[0.5555555555555556,\"#d8576b\"],[0.6666666666666666,\"#ed7953\"],[0.7777777777777778,\"#fb9f3a\"],[0.8888888888888888,\"#fdca26\"],[1.0,\"#f0f921\"]]},\"colorway\":[\"#636efa\",\"#EF553B\",\"#00cc96\",\"#ab63fa\",\"#FFA15A\",\"#19d3f3\",\"#FF6692\",\"#B6E880\",\"#FF97FF\",\"#FECB52\"],\"font\":{\"color\":\"#2a3f5f\"},\"geo\":{\"bgcolor\":\"white\",\"lakecolor\":\"white\",\"landcolor\":\"#E5ECF6\",\"showlakes\":true,\"showland\":true,\"subunitcolor\":\"white\"},\"hoverlabel\":{\"align\":\"left\"},\"hovermode\":\"closest\",\"mapbox\":{\"style\":\"light\"},\"paper_bgcolor\":\"white\",\"plot_bgcolor\":\"#E5ECF6\",\"polar\":{\"angularaxis\":{\"gridcolor\":\"white\",\"linecolor\":\"white\",\"ticks\":\"\"},\"bgcolor\":\"#E5ECF6\",\"radialaxis\":{\"gridcolor\":\"white\",\"linecolor\":\"white\",\"ticks\":\"\"}},\"scene\":{\"xaxis\":{\"backgroundcolor\":\"#E5ECF6\",\"gridcolor\":\"white\",\"gridwidth\":2,\"linecolor\":\"white\",\"showbackground\":true,\"ticks\":\"\",\"zerolinecolor\":\"white\"},\"yaxis\":{\"backgroundcolor\":\"#E5ECF6\",\"gridcolor\":\"white\",\"gridwidth\":2,\"linecolor\":\"white\",\"showbackground\":true,\"ticks\":\"\",\"zerolinecolor\":\"white\"},\"zaxis\":{\"backgroundcolor\":\"#E5ECF6\",\"gridcolor\":\"white\",\"gridwidth\":2,\"linecolor\":\"white\",\"showbackground\":true,\"ticks\":\"\",\"zerolinecolor\":\"white\"}},\"shapedefaults\":{\"line\":{\"color\":\"#2a3f5f\"}},\"ternary\":{\"aaxis\":{\"gridcolor\":\"white\",\"linecolor\":\"white\",\"ticks\":\"\"},\"baxis\":{\"gridcolor\":\"white\",\"linecolor\":\"white\",\"ticks\":\"\"},\"bgcolor\":\"#E5ECF6\",\"caxis\":{\"gridcolor\":\"white\",\"linecolor\":\"white\",\"ticks\":\"\"}},\"title\":{\"x\":0.05},\"xaxis\":{\"automargin\":true,\"gridcolor\":\"white\",\"linecolor\":\"white\",\"ticks\":\"\",\"title\":{\"standoff\":15},\"zerolinecolor\":\"white\",\"zerolinewidth\":2},\"yaxis\":{\"automargin\":true,\"gridcolor\":\"white\",\"linecolor\":\"white\",\"ticks\":\"\",\"title\":{\"standoff\":15},\"zerolinecolor\":\"white\",\"zerolinewidth\":2}}},\"title\":{\"text\":\"GPA por Nivel de educaci\\u00f3n de los padres\"},\"xaxis\":{\"anchor\":\"y\",\"domain\":[0.0,1.0],\"title\":{\"text\":\"GPA\"}},\"yaxis\":{\"anchor\":\"x\",\"domain\":[0.0,1.0],\"title\":{\"text\":\"parental level of education\"}}},                        {\"responsive\": true}                    ).then(function(){\n",
       "                            \n",
       "var gd = document.getElementById('655c06fd-d332-4421-85c2-ee514c6fa49f');\n",
       "var x = new MutationObserver(function (mutations, observer) {{\n",
       "        var display = window.getComputedStyle(gd).display;\n",
       "        if (!display || display === 'none') {{\n",
       "            console.log([gd, 'removed!']);\n",
       "            Plotly.purge(gd);\n",
       "            observer.disconnect();\n",
       "        }}\n",
       "}});\n",
       "\n",
       "// Listen for the removal of the full notebook cells\n",
       "var notebookContainer = gd.closest('#notebook-container');\n",
       "if (notebookContainer) {{\n",
       "    x.observe(notebookContainer, {childList: true});\n",
       "}}\n",
       "\n",
       "// Listen for the clearing of the current output cell\n",
       "var outputEl = gd.closest('.output');\n",
       "if (outputEl) {{\n",
       "    x.observe(outputEl, {childList: true});\n",
       "}}\n",
       "\n",
       "                        })                };                            </script>        </div>\n",
       "</body>\n",
       "</html>"
      ]
     },
     "metadata": {}
    }
   ],
   "metadata": {
    "tags": [],
    "deepnote_to_be_reexecuted": false,
    "source_hash": "8fe13806",
    "execution_start": 1632493424819,
    "execution_millis": 134,
    "cell_id": "00061-795d8f8c-5718-4f38-adc1-4a1733bd3ccb",
    "deepnote_cell_type": "code"
   }
  },
  {
   "cell_type": "markdown",
   "source": [
    "```\n",
    "Escriba aqui su respuesta\n",
    "```"
   ],
   "metadata": {
    "tags": [],
    "cell_id": "00062-ad093927-5bf2-4f2f-bc1d-55aee96cf311",
    "deepnote_cell_type": "markdown"
   }
  },
  {
   "cell_type": "markdown",
   "source": [
    "# Conclusión\n",
    "Eso ha sido todo para el lab de hoy, recuerden que el laboratorio tiene un plazo de entrega de una semana. Cualquier duda del laboratorio, no duden en contactarnos por mail o U-cursos.\n",
    "\n",
    "<p align=\"center\">\n",
    "  <img src=\"https://media1.tenor.com/images/2f7df460196625edc45b8380d158e5ee/tenor.gif?itemid=16669403\">\n",
    "</p>"
   ],
   "metadata": {
    "id": "Rg4ZMq8ezAH6",
    "cell_id": "00063-0d54c0f4-3d67-4c1d-92c0-dcc7882faae0",
    "deepnote_cell_type": "markdown"
   }
  },
  {
   "cell_type": "markdown",
   "source": [
    "<br>\n",
    "<center>\n",
    "<img src=\"https://i.kym-cdn.com/photos/images/original/001/194/195/b18.png\" width=100 height=50 />\n",
    "</center>\n",
    "<br>"
   ],
   "metadata": {
    "id": "wCL1lACBzAH7",
    "cell_id": "00064-230f1ae7-660b-4bae-822a-fee59dada1d1",
    "deepnote_cell_type": "markdown"
   }
  },
  {
   "cell_type": "markdown",
   "source": [
    "<a style='text-decoration:none;line-height:16px;display:flex;color:#5B5B62;padding:10px;justify-content:end;' href='https://deepnote.com?utm_source=created-in-deepnote-cell&projectId=87110296-876e-426f-b91d-aaf681223468' target=\"_blank\">\r\n",
    "<img alt='Created in deepnote.com' style='display:inline;max-height:16px;margin:0px;margin-right:7.5px;' src='data:image/svg+xml;base64,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' > </img>\r\n",
    "Created in <span style='font-weight:600;margin-left:4px;'>Deepnote</span></a>"
   ],
   "metadata": {
    "tags": [],
    "created_in_deepnote_cell": true,
    "deepnote_cell_type": "markdown"
   }
  }
 ],
 "nbformat": 4,
 "nbformat_minor": 2,
 "metadata": {
  "kernelspec": {
   "name": "python3",
   "display_name": "Python 3.6.4 64-bit"
  },
  "language_info": {
   "codemirror_mode": {
    "name": "ipython",
    "version": 3
   },
   "file_extension": ".py",
   "mimetype": "text/x-python",
   "name": "python",
   "nbconvert_exporter": "python",
   "pygments_lexer": "ipython3",
   "version": "3.6.4"
  },
  "toc": {
   "base_numbering": 1,
   "nav_menu": {},
   "number_sections": true,
   "sideBar": true,
   "skip_h1_title": true,
   "title_cell": "Tabla de Contenidos",
   "title_sidebar": "Contenidos",
   "toc_cell": false,
   "toc_position": {
    "height": "calc(100% - 180px)",
    "left": "10px",
    "top": "150px",
    "width": "241.867px"
   },
   "toc_section_display": true,
   "toc_window_display": true
  },
  "varInspector": {
   "cols": {
    "lenName": 16,
    "lenType": 16,
    "lenVar": 40
   },
   "kernels_config": {
    "python": {
     "delete_cmd_postfix": "",
     "delete_cmd_prefix": "del ",
     "library": "var_list.py",
     "varRefreshCmd": "print(var_dic_list())"
    },
    "r": {
     "delete_cmd_postfix": ") ",
     "delete_cmd_prefix": "rm(",
     "library": "var_list.r",
     "varRefreshCmd": "cat(var_dic_list()) "
    }
   },
   "types_to_exclude": [
    "module",
    "function",
    "builtin_function_or_method",
    "instance",
    "_Feature"
   ],
   "window_display": false
  },
  "colab": {
   "name": "Laboratorio2.ipynb",
   "provenance": [],
   "collapsed_sections": [],
   "toc_visible": true
  },
  "deepnote_notebook_id": "7ce98c1f-486d-455c-8cea-d01f96f5dab9",
  "deepnote": {},
  "deepnote_execution_queue": [],
  "interpreter": {
   "hash": "bea891d4f4659476d21e83a48ee1b355f8820be15a794f539b2195aa6b1473be"
  }
 }
}