{
 "cells": [
  {
   "cell_type": "code",
   "execution_count": 4,
   "id": "4d3c519f-a7ea-4ec5-a9c6-8b46a08cd3d8",
   "metadata": {},
   "outputs": [],
   "source": [
    "# Librería Core del lab.\n",
    "import numpy as np\n",
    "import pandas as pd\n",
    "from sklearn.pipeline import Pipeline\n",
    "\n",
    "from sklearn.model_selection import train_test_split \n",
    "\n",
    "# Pre-procesamiento\n",
    "from sklearn.feature_selection import SelectPercentile, f_classif\n",
    "from sklearn.compose import ColumnTransformer\n",
    "from sklearn.preprocessing import MinMaxScaler\n",
    "from sklearn.feature_extraction.text import CountVectorizer\n",
    "from sklearn.pipeline import FeatureUnion\n",
    "\n",
    "# Clasifación\n",
    "from sklearn.svm import SVC\n",
    "from sklearn.naive_bayes import MultinomialNB\n",
    "from sklearn.tree import DecisionTreeClassifier\n",
    "from sklearn.model_selection import GridSearchCV\n",
    "from sklearn.ensemble import RandomForestClassifier\n",
    "from sklearn.linear_model import LogisticRegression\n",
    "\n",
    "# Metricas de evaluación\n",
    "from sklearn.metrics import classification_report\n",
    "from sklearn.metrics import accuracy_score\n",
    "from sklearn.metrics import f1_score\n",
    "from sklearn.metrics import cohen_kappa_score\n",
    "\n",
    "\n",
    "# Librería para plotear\n",
    "#!pip install --upgrade plotly\n",
    "import plotly.express as px\n",
    "from plotly.subplots import make_subplots\n",
    "import plotly.graph_objects as go\n",
    "\n",
    "# Proyecciones en baja dimensionalidad: UMAP\n",
    "#!pip install umap-learn\n",
    "\n",
    "# Librería para NLP\n",
    "#!pip install nltk\n",
    "import nltk\n",
    "from nltk.corpus import stopwords\n",
    "from nltk import word_tokenize  \n",
    "from nltk.stem import PorterStemmer\n",
    "#nltk.download('stopwords')\n",
    "\n",
    "# Definimos algunas stopword que queremos que sean eliminadas\n",
    "import nltk\n",
    "#nltk.download('stopwords')\n",
    "\n",
    "from nltk.corpus import stopwords\n",
    "\n",
    "stop_words = stopwords.words('spanish')\n",
    "\n",
    "# Definimos un tokenizador con Stemming\n",
    "class StemmerTokenizer:\n",
    "    def __init__(self):\n",
    "        self.ps = PorterStemmer()\n",
    "    def __call__(self, doc):\n",
    "        doc_tok = word_tokenize(doc)\n",
    "        doc_tok = [t for t in doc_tok if t not in stop_words]\n",
    "        return [self.ps.stem(t) for t in doc_tok]\n",
    "\n",
    "# Inicializamos tokenizador\n",
    "tokenizador = StemmerTokenizer()\n"
   ]
  },
  {
   "cell_type": "code",
   "execution_count": 36,
   "id": "b156b868-ef86-4353-9590-6f7dad2b9418",
   "metadata": {},
   "outputs": [
    {
     "name": "stdout",
     "output_type": "stream",
     "text": [
      "   history_text  numeric\n",
      "0   hola javier       12\n",
      "1  adios javier        3\n"
     ]
    }
   ],
   "source": [
    "\n",
    "atributos_de_interes = ['numeric']\n",
    "\n",
    "bow = CountVectorizer(tokenizer=StemmerTokenizer(), ngram_range=(1,2))\n",
    "\n",
    "bow_transformer = ColumnTransformer(transformers=\n",
    "        [('bow', bow, 'history_text')])\n",
    "\n",
    "minmax_transformer = ColumnTransformer(transformers=\n",
    "        [('scaler', MinMaxScaler(), atributos_de_interes)])\n",
    "\n",
    "union = FeatureUnion([(\"bow\", bow_transformer), (\"minmax\", minmax_transformer)])\n",
    "\n",
    "arr = [['hola javier', 12], \n",
    "       ['adios javier', 3],]\n",
    "df = pd.DataFrame(arr, columns=['history_text', 'numeric'])\n",
    "print(df)\n",
    "a = union.fit_transform(df)"
   ]
  },
  {
   "cell_type": "code",
   "execution_count": 37,
   "id": "ffc1dc9d-fe0b-400d-8eaf-247c2251a88d",
   "metadata": {},
   "outputs": [
    {
     "data": {
      "text/html": [
       "<div>\n",
       "<style scoped>\n",
       "    .dataframe tbody tr th:only-of-type {\n",
       "        vertical-align: middle;\n",
       "    }\n",
       "\n",
       "    .dataframe tbody tr th {\n",
       "        vertical-align: top;\n",
       "    }\n",
       "\n",
       "    .dataframe thead th {\n",
       "        text-align: right;\n",
       "    }\n",
       "</style>\n",
       "<table border=\"1\" class=\"dataframe\">\n",
       "  <thead>\n",
       "    <tr style=\"text-align: right;\">\n",
       "      <th></th>\n",
       "      <th>bow__adio</th>\n",
       "      <th>bow__adio javier</th>\n",
       "      <th>bow__hola</th>\n",
       "      <th>bow__hola javier</th>\n",
       "      <th>bow__javier</th>\n",
       "      <th>numeric</th>\n",
       "    </tr>\n",
       "  </thead>\n",
       "  <tbody>\n",
       "    <tr>\n",
       "      <th>0</th>\n",
       "      <td>0.0</td>\n",
       "      <td>0.0</td>\n",
       "      <td>1.0</td>\n",
       "      <td>1.0</td>\n",
       "      <td>1.0</td>\n",
       "      <td>1.0</td>\n",
       "    </tr>\n",
       "    <tr>\n",
       "      <th>1</th>\n",
       "      <td>1.0</td>\n",
       "      <td>1.0</td>\n",
       "      <td>0.0</td>\n",
       "      <td>0.0</td>\n",
       "      <td>1.0</td>\n",
       "      <td>0.0</td>\n",
       "    </tr>\n",
       "  </tbody>\n",
       "</table>\n",
       "</div>"
      ],
      "text/plain": [
       "   bow__adio  bow__adio javier  bow__hola  bow__hola javier  bow__javier  \\\n",
       "0        0.0               0.0        1.0               1.0          1.0   \n",
       "1        1.0               1.0        0.0               0.0          1.0   \n",
       "\n",
       "   numeric  \n",
       "0      1.0  \n",
       "1      0.0  "
      ]
     },
     "execution_count": 37,
     "metadata": {},
     "output_type": "execute_result"
    }
   ],
   "source": [
    "pd.DataFrame(a, columns=bow_transformer.get_feature_names() + ['numeric'])"
   ]
  },
  {
   "cell_type": "code",
   "execution_count": 9,
   "id": "a0f86289-3b22-4cdc-b94d-f0c230078e7c",
   "metadata": {},
   "outputs": [],
   "source": [
    "\n",
    "\n"
   ]
  },
  {
   "cell_type": "code",
   "execution_count": 32,
   "id": "9b9f8e4f-6850-4a4e-94d4-9ad225b6cbed",
   "metadata": {},
   "outputs": [],
   "source": []
  },
  {
   "cell_type": "code",
   "execution_count": 11,
   "id": "527171c6-b215-4e1b-8b4d-2455bf5181d8",
   "metadata": {},
   "outputs": [],
   "source": []
  },
  {
   "cell_type": "code",
   "execution_count": null,
   "id": "c168726f-f77a-445f-a47d-f985d8f032f5",
   "metadata": {},
   "outputs": [],
   "source": []
  },
  {
   "cell_type": "code",
   "execution_count": null,
   "id": "bf8e888e-eb21-476b-b7e9-697a1bcd8dff",
   "metadata": {},
   "outputs": [],
   "source": []
  }
 ],
 "metadata": {
  "interpreter": {
   "hash": "bea891d4f4659476d21e83a48ee1b355f8820be15a794f539b2195aa6b1473be"
  },
  "kernelspec": {
   "display_name": "Python 3.6.4 64-bit",
   "name": "python3"
  },
  "language_info": {
   "codemirror_mode": {
    "name": "ipython",
    "version": 3
   },
   "file_extension": ".py",
   "mimetype": "text/x-python",
   "name": "python",
   "nbconvert_exporter": "python",
   "pygments_lexer": "ipython3",
   "version": "3.6.4"
  }
 },
 "nbformat": 4,
 "nbformat_minor": 5
}
