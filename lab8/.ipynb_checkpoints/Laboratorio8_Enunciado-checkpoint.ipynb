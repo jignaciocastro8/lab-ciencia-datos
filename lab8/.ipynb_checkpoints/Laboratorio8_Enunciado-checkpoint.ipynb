{
 "cells": [
  {
   "cell_type": "markdown",
   "metadata": {
    "cell_id": "00000-7111e3ae-b60e-4569-b774-a13ef1b95f77",
    "deepnote_cell_type": "markdown",
    "id": "XUZ1dFPHzAHl"
   },
   "source": [
    "<h1><center>Laboratorio 8: ¿Superhéroe o Villano? 🦸</center></h1>\n",
    "\n",
    "<center><strong>MDS7202: Laboratorio de Programación Científica para Ciencia de Datos</strong></center>"
   ]
  },
  {
   "cell_type": "markdown",
   "metadata": {
    "cell_id": "00001-988ebcea-7685-4ad4-968d-5530ff0099a7",
    "deepnote_cell_type": "markdown",
    "id": "UD8X1uhGzAHq"
   },
   "source": [
    "### Cuerpo Docente:\n",
    "\n",
    "- Profesor: Pablo Badilla\n",
    "- Auxiliar: Ignacio Meza D.\n",
    "- Ayudante: Constanza Peña"
   ]
  },
  {
   "cell_type": "markdown",
   "metadata": {
    "cell_id": "00002-038ebafa-6641-4c2a-b2e8-62ad2018b88e",
    "deepnote_cell_type": "markdown",
    "id": "tXflExjqzAHr"
   },
   "source": [
    "### Equipo: SUPER IMPORTANTE - notebooks sin nombre no serán revisados\n",
    "\n",
    "- Nombre de alumno 1: Javier Castro\n",
    "- Nombre de alumno 2: Javier Castro\n"
   ]
  },
  {
   "cell_type": "markdown",
   "metadata": {
    "cell_id": "00003-913d0cc4-e146-4ff9-a0e3-26a20c808d7c",
    "deepnote_cell_type": "markdown",
    "id": "AD-V0bbZzAHr"
   },
   "source": [
    "### **Link de repositorio de GitHub:** `https://github.com/jignaciocastro8/lab-ciencia-datos`"
   ]
  },
  {
   "cell_type": "markdown",
   "metadata": {
    "cell_id": "00004-e5841000-37dc-494f-a9b8-3c30765c243a",
    "deepnote_cell_type": "markdown",
    "id": "EcnsiQMkzAHr"
   },
   "source": [
    "### Indice \n",
    "\n",
    "1. [Temas a tratar](#Temas-a-tratar:)\n",
    "3. [Descripcción del laboratorio](#Descripción-del-laboratorio.)\n",
    "4. [Desarrollo](#Desarrollo)"
   ]
  },
  {
   "cell_type": "markdown",
   "metadata": {
    "cell_id": "00005-64f7c2d0-4287-4f3a-9b4b-2c5b829f606c",
    "deepnote_cell_type": "markdown",
    "id": "6uBLPj1PzAHs"
   },
   "source": [
    "# Temas a tratar\n",
    "\n",
    "- Exploración del dataset y los resultados a través de visualizaciones interactivas usando `plotly`.\n",
    "- Introducción a procesamiento del lenguaje natural.\n",
    "- Clasificación en `scikit-learn`\n",
    "- Uso de pipelines.\n",
    "\n",
    "## Reglas:\n",
    "\n",
    "- Fecha de entrega: 26/11/2021\n",
    "- **Grupos de 2 personas**\n",
    "- **Ausentes** deberán realizar la actividad solos. \n",
    "- Cualquier duda fuera del horario de clases al foro. Mensajes al equipo docente serán respondidos por este medio.\n",
    "- Prohibidas las copias. \n",
    "- Pueden usar cualquer matrial del curso que estimen conveniente.\n",
    "\n",
    "### Objetivos principales del laboratorio\n",
    "\n",
    "- Aplicar las ventajas que nos ofrece crear un pipeline.\n",
    "- Obtener caracteristicas desde texto.\n",
    "- Visualizar el funcionamiento de clasificadores.\n",
    "- Realizar una GridSearch sobre un conjunto de clasificadores.\n",
    "\n",
    "El laboratorio deberá ser desarrollado sin el uso indiscriminado de iteradores nativos de python (aka \"for\", \"while\"). La idea es que aprendan a exprimir al máximo las funciones optimizadas que nos entrega `pandas`, las cuales vale mencionar, son bastante más eficientes que los iteradores nativos sobre DataFrames."
   ]
  },
  {
   "cell_type": "markdown",
   "metadata": {
    "cell_id": "00006-b8353b3b-8f85-4aa6-9379-96902d3d0bf3",
    "deepnote_cell_type": "markdown",
    "id": "MhISwri4zAHy"
   },
   "source": [
    "#Importamos librerias utiles 😸"
   ]
  },
  {
   "cell_type": "code",
   "execution_count": 1,
   "metadata": {
    "ExecuteTime": {
     "end_time": "2021-03-29T00:08:16.884674Z",
     "start_time": "2021-03-29T00:08:16.349846Z"
    },
    "cell_id": "00007-e696189c-3187-4899-bf04-8034b0e8a595",
    "colab": {
     "base_uri": "https://localhost:8080/"
    },
    "deepnote_cell_type": "code",
    "deepnote_output_heights": [
     null,
     21.199996948242188
    ],
    "deepnote_to_be_reexecuted": false,
    "executionInfo": {
     "elapsed": 9106,
     "status": "ok",
     "timestamp": 1625497725070,
     "user": {
      "displayName": "IGNACIO ALEJANDRO MEZA",
      "photoUrl": "",
      "userId": "17011121633069169364"
     },
     "user_tz": 240
    },
    "execution_millis": 36497,
    "execution_start": 1637348694866,
    "id": "uyc33dKdzAHy",
    "outputId": "14d5da48-5dae-4ce4-a8ba-b826ea91a126",
    "source_hash": "7ce9748b"
   },
   "outputs": [],
   "source": [
    "# Librería Core del lab.\n",
    "import numpy as np\n",
    "import pandas as pd\n",
    "from sklearn.pipeline import Pipeline\n",
    "\n",
    "from sklearn.model_selection import train_test_split \n",
    "\n",
    "# Pre-procesamiento\n",
    "from sklearn.feature_selection import SelectPercentile, f_classif\n",
    "from sklearn.compose import ColumnTransformer\n",
    "from sklearn.preprocessing import MinMaxScaler\n",
    "from sklearn.feature_extraction.text import CountVectorizer\n",
    "\n",
    "# Clasifación\n",
    "from sklearn.svm import SVC\n",
    "from sklearn.naive_bayes import MultinomialNB\n",
    "from sklearn.tree import DecisionTreeClassifier\n",
    "from sklearn.model_selection import GridSearchCV\n",
    "from sklearn.ensemble import RandomForestClassifier\n",
    "from sklearn.linear_model import LogisticRegression\n",
    "\n",
    "# Metricas de evaluación\n",
    "from sklearn.metrics import classification_report\n",
    "from sklearn.metrics import accuracy_score\n",
    "from sklearn.metrics import f1_score\n",
    "from sklearn.metrics import cohen_kappa_score\n",
    "\n",
    "# Librería para plotear\n",
    "#!pip install --upgrade plotly\n",
    "import plotly.express as px\n",
    "from plotly.subplots import make_subplots\n",
    "import plotly.graph_objects as go\n",
    "\n",
    "# Proyecciones en baja dimensionalidad: UMAP\n",
    "#!pip install umap-learn\n",
    "\n",
    "# Librería para NLP\n",
    "#!pip install nltk\n",
    "import nltk\n",
    "from nltk.corpus import stopwords\n",
    "from nltk import word_tokenize  \n",
    "from nltk.stem import PorterStemmer\n",
    "#nltk.download('stopwords')"
   ]
  },
  {
   "cell_type": "markdown",
   "metadata": {
    "cell_id": "00008-9c535dd9-01e0-4804-a325-7b5d36a20a32",
    "deepnote_cell_type": "markdown",
    "id": "xpOTbQcxbSiy"
   },
   "source": [
    "# 1. ¿Quien es Bat Cow?"
   ]
  },
  {
   "cell_type": "markdown",
   "metadata": {
    "cell_id": "00009-43ac5618-611f-4712-aec7-faaa53d72d08",
    "deepnote_cell_type": "markdown",
    "id": "3Q93vbNS25bM"
   },
   "source": [
    "<p align=\"center\">\n",
    "  <img src=\"https://i.imgur.com/D9f1RHy.jpg\" width=\"350\">\n",
    "</p>"
   ]
  },
  {
   "cell_type": "markdown",
   "metadata": {
    "cell_id": "00010-632e9494-ce9c-4d54-8e57-e700baed4302",
    "deepnote_cell_type": "markdown",
    "id": "jnmZfFpxTTYX"
   },
   "source": [
    "En vez de estar desarrollando las evaluaciones correspondientes a su curso, su profesor de catedra y su auxiliar discuten acerca la alineación (héroe o villano) del personaje de ficción Bat-Cow. \n",
    "\n",
    "El cuerpo docente, no logra ponerse de acuerdo si el personaje es bueno, neutral o malo: el auxiliar plantea que Bat-cow posee una siniestra mirada, intrigante pero común característica de los personajes malvados. \n",
    "Por otra parte, extendiendo las ideas de Rousseau, el profesor plantea que tal como los humanos no nacen malos, no existe motivo por el cual una vaca con superpoderes deba serlo.\n",
    "\n",
    "Sin embargo, ambos concuerdan que es difícil estimar la alineación solo usando los atributos físicos, por lo que creen el análisis debe ser complementado aún más antes de comunicarle los resultados a su estudiantado. Buscando más información, ambos sujetos se percatan de la existencia de un excelente antecedente para estimar la alineación: la historia personal de cada superhéroe o villano.\n",
    "\n",
    "Es por esto le solicitan que construya y optimice un clasificador basado en texto el cual analice la alineación de cada personaje basado en su historia personal.\n",
    "\n",
    "Para este laboratorio deben trabajar con los datos `df_comics.csv` y `comics_no_label.csv` subidos a u-cursos. El primero es un conjunto de datos que les servirá para entrenar un modelo de clasificación, mientras que el segundo es un dataset con personajes de ficción no etiquetados a predecir (sí, aquí está la misteriosa Batcow).\n",
    "\n",
    "Para comenzar cargue los dataset señalados y visualice a través de un head los atributos que poseen cada uno de los dataset.\n"
   ]
  },
  {
   "cell_type": "code",
   "execution_count": 3,
   "metadata": {
    "cell_id": "00011-9a36781e-c26a-46de-b4bf-a5448a347cab",
    "colab": {
     "base_uri": "https://localhost:8080/"
    },
    "deepnote_cell_type": "code",
    "deepnote_to_be_reexecuted": false,
    "executionInfo": {
     "elapsed": 5,
     "status": "ok",
     "timestamp": 1625497735673,
     "user": {
      "displayName": "IGNACIO ALEJANDRO MEZA",
      "photoUrl": "",
      "userId": "17011121633069169364"
     },
     "user_tz": 240
    },
    "execution_millis": 27,
    "execution_start": 1637348657022,
    "id": "Jqq-s010Iwl1",
    "outputId": "bc29f770-d066-4443-8cee-00e3db46c629",
    "source_hash": "c60dc4a7"
   },
   "outputs": [
    {
     "name": "stdout",
     "output_type": "stream",
     "text": [
      "Ignorando conexión drive-colab\n"
     ]
    }
   ],
   "source": [
    "# Si usted está utilizando Colabolatory le puede ser útil este código para cargar los archivos.\n",
    "try:\n",
    "    from google.colab import drive\n",
    "    drive.mount(\"/content/drive\")\n",
    "    path = 'Dirección donde tiene los archivos en el Drive'\n",
    "except: \n",
    "    print('Ignorando conexión drive-colab')"
   ]
  },
  {
   "cell_type": "code",
   "execution_count": 2,
   "metadata": {
    "cell_id": "00012-8b0c36c2-aeaa-4ba1-9611-45f0599aa584",
    "deepnote_cell_type": "code",
    "deepnote_to_be_reexecuted": false,
    "executionInfo": {
     "elapsed": 289,
     "status": "ok",
     "timestamp": 1625499009249,
     "user": {
      "displayName": "IGNACIO ALEJANDRO MEZA",
      "photoUrl": "",
      "userId": "17011121633069169364"
     },
     "user_tz": 240
    },
    "execution_millis": 325,
    "execution_start": 1637348732856,
    "id": "bED3w3tDbSCf",
    "source_hash": "443d6e8"
   },
   "outputs": [],
   "source": [
    "pd.set_option('display.max_columns', None)\n",
    "\n",
    "df_comics = pd.read_csv('df_comics.csv')\n",
    "df_comics_no_label = pd.read_csv('comics_no_label.csv')\n",
    "df_comics = df_comics.dropna(subset=['history_text']) # eliminar ejemplos sin historia\n",
    "\n",
    "# quitamos primera columna innecesaria.\n",
    "df_comics = df_comics.drop(\"Unnamed: 0\", axis=1)"
   ]
  },
  {
   "cell_type": "code",
   "execution_count": 3,
   "metadata": {
    "cell_id": "00013-2cd3a433-4f43-4a9e-92f5-caf54a662db2",
    "deepnote_cell_type": "code",
    "deepnote_to_be_reexecuted": false,
    "execution_millis": 654,
    "execution_start": 1637348731943,
    "source_hash": "b986316d",
    "tags": []
   },
   "outputs": [
    {
     "data": {
      "text/html": [
       "<div>\n",
       "<style scoped>\n",
       "    .dataframe tbody tr th:only-of-type {\n",
       "        vertical-align: middle;\n",
       "    }\n",
       "\n",
       "    .dataframe tbody tr th {\n",
       "        vertical-align: top;\n",
       "    }\n",
       "\n",
       "    .dataframe thead th {\n",
       "        text-align: right;\n",
       "    }\n",
       "</style>\n",
       "<table border=\"1\" class=\"dataframe\">\n",
       "  <thead>\n",
       "    <tr style=\"text-align: right;\">\n",
       "      <th></th>\n",
       "      <th>name</th>\n",
       "      <th>real_name</th>\n",
       "      <th>full_name</th>\n",
       "      <th>overall_score</th>\n",
       "      <th>history_text</th>\n",
       "      <th>powers_text</th>\n",
       "      <th>intelligence_score</th>\n",
       "      <th>strength_score</th>\n",
       "      <th>speed_score</th>\n",
       "      <th>durability_score</th>\n",
       "      <th>power_score</th>\n",
       "      <th>combat_score</th>\n",
       "      <th>superpowers</th>\n",
       "      <th>alter_egos</th>\n",
       "      <th>aliases</th>\n",
       "      <th>place_of_birth</th>\n",
       "      <th>first_appearance</th>\n",
       "      <th>creator</th>\n",
       "      <th>alignment</th>\n",
       "      <th>occupation</th>\n",
       "      <th>base</th>\n",
       "      <th>teams</th>\n",
       "      <th>relatives</th>\n",
       "      <th>gender</th>\n",
       "      <th>type_race</th>\n",
       "      <th>height</th>\n",
       "      <th>weight</th>\n",
       "      <th>eye_color</th>\n",
       "      <th>hair_color</th>\n",
       "      <th>skin_color</th>\n",
       "      <th>img</th>\n",
       "      <th>has_electrokinesis</th>\n",
       "      <th>has_energy_constructs</th>\n",
       "      <th>has_mind_control_resistance</th>\n",
       "      <th>has_matter_manipulation</th>\n",
       "      <th>has_telepathy_resistance</th>\n",
       "      <th>has_mind_control</th>\n",
       "      <th>has_enhanced_hearing</th>\n",
       "      <th>has_dimensional_travel</th>\n",
       "      <th>has_element_control</th>\n",
       "      <th>has_size_changing</th>\n",
       "      <th>has_fire_resistance</th>\n",
       "      <th>has_fire_control</th>\n",
       "      <th>has_dexterity</th>\n",
       "      <th>has_reality_warping</th>\n",
       "      <th>has_illusions</th>\n",
       "      <th>has_energy_beams</th>\n",
       "      <th>has_peak_human_condition</th>\n",
       "      <th>has_shapeshifting</th>\n",
       "      <th>has_heat_resistance</th>\n",
       "      <th>has_jump</th>\n",
       "      <th>has_self-sustenance</th>\n",
       "      <th>has_energy_absorption</th>\n",
       "      <th>has_cold_resistance</th>\n",
       "      <th>has_magic</th>\n",
       "      <th>has_telekinesis</th>\n",
       "      <th>has_toxin_and_disease_resistance</th>\n",
       "      <th>has_telepathy</th>\n",
       "      <th>has_regeneration</th>\n",
       "      <th>has_immortality</th>\n",
       "      <th>has_teleportation</th>\n",
       "      <th>has_force_fields</th>\n",
       "      <th>has_energy_manipulation</th>\n",
       "      <th>has_endurance</th>\n",
       "      <th>has_longevity</th>\n",
       "      <th>has_weapon-based_powers</th>\n",
       "      <th>has_energy_blasts</th>\n",
       "      <th>has_enhanced_senses</th>\n",
       "      <th>has_invulnerability</th>\n",
       "      <th>has_stealth</th>\n",
       "      <th>has_marksmanship</th>\n",
       "      <th>has_flight</th>\n",
       "      <th>has_accelerated_healing</th>\n",
       "      <th>has_weapons_master</th>\n",
       "      <th>has_intelligence</th>\n",
       "      <th>has_reflexes</th>\n",
       "      <th>has_super_speed</th>\n",
       "      <th>has_durability</th>\n",
       "      <th>has_stamina</th>\n",
       "      <th>has_agility</th>\n",
       "      <th>has_super_strength</th>\n",
       "    </tr>\n",
       "  </thead>\n",
       "  <tbody>\n",
       "    <tr>\n",
       "      <th>910</th>\n",
       "      <td>Nya (Water Ninja)</td>\n",
       "      <td>Nya</td>\n",
       "      <td>Nya</td>\n",
       "      <td>12</td>\n",
       "      <td>Nya and her brother Kai were raised by their f...</td>\n",
       "      <td>When Nya became the Water Ninja, her fighting ...</td>\n",
       "      <td>100</td>\n",
       "      <td>15</td>\n",
       "      <td>40</td>\n",
       "      <td>45</td>\n",
       "      <td>100</td>\n",
       "      <td>100</td>\n",
       "      <td>['Agility', 'Cryokinesis', 'Dexterity', 'Durab...</td>\n",
       "      <td>['Evil Nya']</td>\n",
       "      <td>['Master of water']</td>\n",
       "      <td>Ninjago</td>\n",
       "      <td>Way of the Ninja</td>\n",
       "      <td>NaN</td>\n",
       "      <td>Good</td>\n",
       "      <td>Ninja</td>\n",
       "      <td>Monestary of spinjitzu</td>\n",
       "      <td>[]</td>\n",
       "      <td>Ray (father)\\nMaya (mother)\\nKai (brother)</td>\n",
       "      <td>Female</td>\n",
       "      <td>Human</td>\n",
       "      <td>5'6 • 168 cm</td>\n",
       "      <td>99 lb • 45 kg</td>\n",
       "      <td>Black</td>\n",
       "      <td>Black</td>\n",
       "      <td>NaN</td>\n",
       "      <td>/pictures2/portraits/10/050/17566.jpg?v=157745...</td>\n",
       "      <td>0.0</td>\n",
       "      <td>0.0</td>\n",
       "      <td>0.0</td>\n",
       "      <td>0.0</td>\n",
       "      <td>0.0</td>\n",
       "      <td>0.0</td>\n",
       "      <td>0.0</td>\n",
       "      <td>0.0</td>\n",
       "      <td>1.0</td>\n",
       "      <td>0.0</td>\n",
       "      <td>0.0</td>\n",
       "      <td>0.0</td>\n",
       "      <td>1.0</td>\n",
       "      <td>0.0</td>\n",
       "      <td>0.0</td>\n",
       "      <td>0.0</td>\n",
       "      <td>1.0</td>\n",
       "      <td>0.0</td>\n",
       "      <td>0.0</td>\n",
       "      <td>0.0</td>\n",
       "      <td>0.0</td>\n",
       "      <td>0.0</td>\n",
       "      <td>0.0</td>\n",
       "      <td>0.0</td>\n",
       "      <td>0.0</td>\n",
       "      <td>0.0</td>\n",
       "      <td>0.0</td>\n",
       "      <td>0.0</td>\n",
       "      <td>0.0</td>\n",
       "      <td>0.0</td>\n",
       "      <td>1.0</td>\n",
       "      <td>0.0</td>\n",
       "      <td>1.0</td>\n",
       "      <td>0.0</td>\n",
       "      <td>0.0</td>\n",
       "      <td>0.0</td>\n",
       "      <td>0.0</td>\n",
       "      <td>0.0</td>\n",
       "      <td>1.0</td>\n",
       "      <td>1.0</td>\n",
       "      <td>1.0</td>\n",
       "      <td>0.0</td>\n",
       "      <td>1.0</td>\n",
       "      <td>1.0</td>\n",
       "      <td>1.0</td>\n",
       "      <td>0.0</td>\n",
       "      <td>1.0</td>\n",
       "      <td>1.0</td>\n",
       "      <td>1.0</td>\n",
       "      <td>0.0</td>\n",
       "    </tr>\n",
       "    <tr>\n",
       "      <th>66</th>\n",
       "      <td>Aragorn</td>\n",
       "      <td>Aragorn II Elessar</td>\n",
       "      <td>NaN</td>\n",
       "      <td>7</td>\n",
       "      <td>Aragorn II (1 March Third Age 2931 – Fourth Ag...</td>\n",
       "      <td>NaN</td>\n",
       "      <td>90</td>\n",
       "      <td>15</td>\n",
       "      <td>40</td>\n",
       "      <td>55</td>\n",
       "      <td>55</td>\n",
       "      <td>100</td>\n",
       "      <td>['Accelerated Healing', 'Agility', 'Empathy', ...</td>\n",
       "      <td>[]</td>\n",
       "      <td>['Estel, Telcontar, Thorongil, Strider']</td>\n",
       "      <td>Eriador</td>\n",
       "      <td>NaN</td>\n",
       "      <td>J. R. R. Tolkien</td>\n",
       "      <td>Good</td>\n",
       "      <td>Chieftain of the Dúnedain, King of the Reunite...</td>\n",
       "      <td>Reunited Kingdom (Arnor and Gondor)</td>\n",
       "      <td>['Fellowship of the Ring']</td>\n",
       "      <td>Arwen(Wife),Eldarion(Son),Arathorn II(father),...</td>\n",
       "      <td>Male</td>\n",
       "      <td>Human</td>\n",
       "      <td>6'6 • 198 cm</td>\n",
       "      <td>-</td>\n",
       "      <td>Grey</td>\n",
       "      <td>Brown</td>\n",
       "      <td>NaN</td>\n",
       "      <td>/pictures2/portraits/10/050/10859.jpg?v=154175...</td>\n",
       "      <td>0.0</td>\n",
       "      <td>0.0</td>\n",
       "      <td>0.0</td>\n",
       "      <td>0.0</td>\n",
       "      <td>0.0</td>\n",
       "      <td>0.0</td>\n",
       "      <td>0.0</td>\n",
       "      <td>0.0</td>\n",
       "      <td>0.0</td>\n",
       "      <td>0.0</td>\n",
       "      <td>0.0</td>\n",
       "      <td>0.0</td>\n",
       "      <td>0.0</td>\n",
       "      <td>0.0</td>\n",
       "      <td>0.0</td>\n",
       "      <td>0.0</td>\n",
       "      <td>0.0</td>\n",
       "      <td>0.0</td>\n",
       "      <td>0.0</td>\n",
       "      <td>0.0</td>\n",
       "      <td>0.0</td>\n",
       "      <td>0.0</td>\n",
       "      <td>0.0</td>\n",
       "      <td>0.0</td>\n",
       "      <td>0.0</td>\n",
       "      <td>0.0</td>\n",
       "      <td>0.0</td>\n",
       "      <td>0.0</td>\n",
       "      <td>0.0</td>\n",
       "      <td>0.0</td>\n",
       "      <td>0.0</td>\n",
       "      <td>0.0</td>\n",
       "      <td>0.0</td>\n",
       "      <td>1.0</td>\n",
       "      <td>1.0</td>\n",
       "      <td>0.0</td>\n",
       "      <td>0.0</td>\n",
       "      <td>0.0</td>\n",
       "      <td>1.0</td>\n",
       "      <td>1.0</td>\n",
       "      <td>0.0</td>\n",
       "      <td>1.0</td>\n",
       "      <td>1.0</td>\n",
       "      <td>1.0</td>\n",
       "      <td>0.0</td>\n",
       "      <td>0.0</td>\n",
       "      <td>0.0</td>\n",
       "      <td>1.0</td>\n",
       "      <td>1.0</td>\n",
       "      <td>0.0</td>\n",
       "    </tr>\n",
       "    <tr>\n",
       "      <th>761</th>\n",
       "      <td>Longshot</td>\n",
       "      <td>NaN</td>\n",
       "      <td>NaN</td>\n",
       "      <td>5</td>\n",
       "      <td>In the dimension known as Mojoworld, beings c...</td>\n",
       "      <td>He was genetically engineered and augmented by...</td>\n",
       "      <td>75</td>\n",
       "      <td>10</td>\n",
       "      <td>25</td>\n",
       "      <td>10</td>\n",
       "      <td>70</td>\n",
       "      <td>70</td>\n",
       "      <td>['Agility', 'Probability Manipulation', 'Psion...</td>\n",
       "      <td>[]</td>\n",
       "      <td>['The Lost Messiah, The Lucky One']</td>\n",
       "      <td>NaN</td>\n",
       "      <td>Longshot #1 (September, 1985)</td>\n",
       "      <td>Marvel Comics</td>\n",
       "      <td>Good</td>\n",
       "      <td>freedom fighter, stuntman rebel, adventurer</td>\n",
       "      <td>X-Factor Investigations Headquarters, New York...</td>\n",
       "      <td>['X-Men']</td>\n",
       "      <td>Arize (creator), Alison Blaire (Dazzler) (wife...</td>\n",
       "      <td>Male</td>\n",
       "      <td>Human</td>\n",
       "      <td>6'2 • 188 cm</td>\n",
       "      <td>80 lb • 36 kg</td>\n",
       "      <td>Blue</td>\n",
       "      <td>Blond</td>\n",
       "      <td>NaN</td>\n",
       "      <td>/pictures2/portraits/10/050/1531.jpg?v=1328355837</td>\n",
       "      <td>0.0</td>\n",
       "      <td>0.0</td>\n",
       "      <td>0.0</td>\n",
       "      <td>0.0</td>\n",
       "      <td>0.0</td>\n",
       "      <td>0.0</td>\n",
       "      <td>0.0</td>\n",
       "      <td>0.0</td>\n",
       "      <td>0.0</td>\n",
       "      <td>0.0</td>\n",
       "      <td>0.0</td>\n",
       "      <td>0.0</td>\n",
       "      <td>0.0</td>\n",
       "      <td>0.0</td>\n",
       "      <td>0.0</td>\n",
       "      <td>0.0</td>\n",
       "      <td>0.0</td>\n",
       "      <td>0.0</td>\n",
       "      <td>0.0</td>\n",
       "      <td>0.0</td>\n",
       "      <td>0.0</td>\n",
       "      <td>0.0</td>\n",
       "      <td>0.0</td>\n",
       "      <td>0.0</td>\n",
       "      <td>0.0</td>\n",
       "      <td>0.0</td>\n",
       "      <td>1.0</td>\n",
       "      <td>0.0</td>\n",
       "      <td>0.0</td>\n",
       "      <td>0.0</td>\n",
       "      <td>0.0</td>\n",
       "      <td>0.0</td>\n",
       "      <td>0.0</td>\n",
       "      <td>0.0</td>\n",
       "      <td>0.0</td>\n",
       "      <td>0.0</td>\n",
       "      <td>0.0</td>\n",
       "      <td>0.0</td>\n",
       "      <td>0.0</td>\n",
       "      <td>0.0</td>\n",
       "      <td>0.0</td>\n",
       "      <td>0.0</td>\n",
       "      <td>0.0</td>\n",
       "      <td>0.0</td>\n",
       "      <td>1.0</td>\n",
       "      <td>1.0</td>\n",
       "      <td>0.0</td>\n",
       "      <td>1.0</td>\n",
       "      <td>1.0</td>\n",
       "      <td>0.0</td>\n",
       "    </tr>\n",
       "  </tbody>\n",
       "</table>\n",
       "</div>"
      ],
      "text/plain": [
       "                  name           real_name full_name overall_score  \\\n",
       "910  Nya (Water Ninja)                 Nya       Nya            12   \n",
       "66             Aragorn  Aragorn II Elessar       NaN             7   \n",
       "761           Longshot                 NaN       NaN             5   \n",
       "\n",
       "                                          history_text  \\\n",
       "910  Nya and her brother Kai were raised by their f...   \n",
       "66   Aragorn II (1 March Third Age 2931 – Fourth Ag...   \n",
       "761   In the dimension known as Mojoworld, beings c...   \n",
       "\n",
       "                                           powers_text  intelligence_score  \\\n",
       "910  When Nya became the Water Ninja, her fighting ...                 100   \n",
       "66                                                 NaN                  90   \n",
       "761  He was genetically engineered and augmented by...                  75   \n",
       "\n",
       "     strength_score  speed_score  durability_score  power_score  combat_score  \\\n",
       "910              15           40                45          100           100   \n",
       "66               15           40                55           55           100   \n",
       "761              10           25                10           70            70   \n",
       "\n",
       "                                           superpowers    alter_egos  \\\n",
       "910  ['Agility', 'Cryokinesis', 'Dexterity', 'Durab...  ['Evil Nya']   \n",
       "66   ['Accelerated Healing', 'Agility', 'Empathy', ...            []   \n",
       "761  ['Agility', 'Probability Manipulation', 'Psion...            []   \n",
       "\n",
       "                                      aliases place_of_birth  \\\n",
       "910                       ['Master of water']        Ninjago   \n",
       "66   ['Estel, Telcontar, Thorongil, Strider']        Eriador   \n",
       "761       ['The Lost Messiah, The Lucky One']            NaN   \n",
       "\n",
       "                  first_appearance           creator alignment  \\\n",
       "910               Way of the Ninja               NaN      Good   \n",
       "66                             NaN  J. R. R. Tolkien      Good   \n",
       "761  Longshot #1 (September, 1985)     Marvel Comics      Good   \n",
       "\n",
       "                                            occupation  \\\n",
       "910                                              Ninja   \n",
       "66   Chieftain of the Dúnedain, King of the Reunite...   \n",
       "761       freedom fighter, stuntman rebel, adventurer    \n",
       "\n",
       "                                                  base  \\\n",
       "910                             Monestary of spinjitzu   \n",
       "66                 Reunited Kingdom (Arnor and Gondor)   \n",
       "761  X-Factor Investigations Headquarters, New York...   \n",
       "\n",
       "                          teams  \\\n",
       "910                          []   \n",
       "66   ['Fellowship of the Ring']   \n",
       "761                   ['X-Men']   \n",
       "\n",
       "                                             relatives  gender type_race  \\\n",
       "910         Ray (father)\\nMaya (mother)\\nKai (brother)  Female     Human   \n",
       "66   Arwen(Wife),Eldarion(Son),Arathorn II(father),...    Male     Human   \n",
       "761  Arize (creator), Alison Blaire (Dazzler) (wife...    Male     Human   \n",
       "\n",
       "           height         weight eye_color hair_color skin_color  \\\n",
       "910  5'6 • 168 cm  99 lb • 45 kg     Black      Black        NaN   \n",
       "66   6'6 • 198 cm              -      Grey      Brown        NaN   \n",
       "761  6'2 • 188 cm  80 lb • 36 kg      Blue      Blond        NaN   \n",
       "\n",
       "                                                   img  has_electrokinesis  \\\n",
       "910  /pictures2/portraits/10/050/17566.jpg?v=157745...                 0.0   \n",
       "66   /pictures2/portraits/10/050/10859.jpg?v=154175...                 0.0   \n",
       "761  /pictures2/portraits/10/050/1531.jpg?v=1328355837                 0.0   \n",
       "\n",
       "     has_energy_constructs  has_mind_control_resistance  \\\n",
       "910                    0.0                          0.0   \n",
       "66                     0.0                          0.0   \n",
       "761                    0.0                          0.0   \n",
       "\n",
       "     has_matter_manipulation  has_telepathy_resistance  has_mind_control  \\\n",
       "910                      0.0                       0.0               0.0   \n",
       "66                       0.0                       0.0               0.0   \n",
       "761                      0.0                       0.0               0.0   \n",
       "\n",
       "     has_enhanced_hearing  has_dimensional_travel  has_element_control  \\\n",
       "910                   0.0                     0.0                  1.0   \n",
       "66                    0.0                     0.0                  0.0   \n",
       "761                   0.0                     0.0                  0.0   \n",
       "\n",
       "     has_size_changing  has_fire_resistance  has_fire_control  has_dexterity  \\\n",
       "910                0.0                  0.0               0.0            1.0   \n",
       "66                 0.0                  0.0               0.0            0.0   \n",
       "761                0.0                  0.0               0.0            0.0   \n",
       "\n",
       "     has_reality_warping  has_illusions  has_energy_beams  \\\n",
       "910                  0.0            0.0               0.0   \n",
       "66                   0.0            0.0               0.0   \n",
       "761                  0.0            0.0               0.0   \n",
       "\n",
       "     has_peak_human_condition  has_shapeshifting  has_heat_resistance  \\\n",
       "910                       1.0                0.0                  0.0   \n",
       "66                        0.0                0.0                  0.0   \n",
       "761                       0.0                0.0                  0.0   \n",
       "\n",
       "     has_jump  has_self-sustenance  has_energy_absorption  \\\n",
       "910       0.0                  0.0                    0.0   \n",
       "66        0.0                  0.0                    0.0   \n",
       "761       0.0                  0.0                    0.0   \n",
       "\n",
       "     has_cold_resistance  has_magic  has_telekinesis  \\\n",
       "910                  0.0        0.0              0.0   \n",
       "66                   0.0        0.0              0.0   \n",
       "761                  0.0        0.0              0.0   \n",
       "\n",
       "     has_toxin_and_disease_resistance  has_telepathy  has_regeneration  \\\n",
       "910                               0.0            0.0               0.0   \n",
       "66                                0.0            0.0               0.0   \n",
       "761                               0.0            1.0               0.0   \n",
       "\n",
       "     has_immortality  has_teleportation  has_force_fields  \\\n",
       "910              0.0                0.0               1.0   \n",
       "66               0.0                0.0               0.0   \n",
       "761              0.0                0.0               0.0   \n",
       "\n",
       "     has_energy_manipulation  has_endurance  has_longevity  \\\n",
       "910                      0.0            1.0            0.0   \n",
       "66                       0.0            0.0            1.0   \n",
       "761                      0.0            0.0            0.0   \n",
       "\n",
       "     has_weapon-based_powers  has_energy_blasts  has_enhanced_senses  \\\n",
       "910                      0.0                0.0                  0.0   \n",
       "66                       1.0                0.0                  0.0   \n",
       "761                      0.0                0.0                  0.0   \n",
       "\n",
       "     has_invulnerability  has_stealth  has_marksmanship  has_flight  \\\n",
       "910                  0.0          1.0               1.0         1.0   \n",
       "66                   0.0          1.0               1.0         0.0   \n",
       "761                  0.0          0.0               0.0         0.0   \n",
       "\n",
       "     has_accelerated_healing  has_weapons_master  has_intelligence  \\\n",
       "910                      0.0                 1.0               1.0   \n",
       "66                       1.0                 1.0               1.0   \n",
       "761                      0.0                 0.0               0.0   \n",
       "\n",
       "     has_reflexes  has_super_speed  has_durability  has_stamina  has_agility  \\\n",
       "910           1.0              0.0             1.0          1.0          1.0   \n",
       "66            0.0              0.0             0.0          1.0          1.0   \n",
       "761           1.0              1.0             0.0          1.0          1.0   \n",
       "\n",
       "     has_super_strength  \n",
       "910                 0.0  \n",
       "66                  0.0  \n",
       "761                 0.0  "
      ]
     },
     "execution_count": 3,
     "metadata": {},
     "output_type": "execute_result"
    }
   ],
   "source": [
    "# queda a labor de su equipo hacer el análisis exploratorio\n",
    "df_comics.sample(3)\n"
   ]
  },
  {
   "cell_type": "code",
   "execution_count": 4,
   "metadata": {},
   "outputs": [
    {
     "name": "stdout",
     "output_type": "stream",
     "text": [
      "Delroy Garrett, Jr. grew up to become a track star and competed in the Olympic Games. After he tested positive for steroids, he lost his three gold medals. In despair, he turned to religion, specifically the Triune Understanding. This group's founder, Jonathan Tremont, had found one of three fragments of a mysterious object and used it to give Garrett the powers of 3-D Man. Garrett assumed that his powers were because of his newfound spiritual enlightenment, and Tremont never disabused him of the notion.\n",
      "<class 'pandas.core.frame.DataFrame'>\n",
      "Int64Index: 1285 entries, 0 to 1366\n",
      "Data columns (total 81 columns):\n",
      " #   Column                            Non-Null Count  Dtype  \n",
      "---  ------                            --------------  -----  \n",
      " 0   name                              1285 non-null   object \n",
      " 1   real_name                         1164 non-null   object \n",
      " 2   full_name                         895 non-null    object \n",
      " 3   overall_score                     1285 non-null   object \n",
      " 4   history_text                      1285 non-null   object \n",
      " 5   powers_text                       961 non-null    object \n",
      " 6   intelligence_score                1285 non-null   int64  \n",
      " 7   strength_score                    1285 non-null   int64  \n",
      " 8   speed_score                       1285 non-null   int64  \n",
      " 9   durability_score                  1285 non-null   int64  \n",
      " 10  power_score                       1285 non-null   int64  \n",
      " 11  combat_score                      1285 non-null   int64  \n",
      " 12  superpowers                       1285 non-null   object \n",
      " 13  alter_egos                        1285 non-null   object \n",
      " 14  aliases                           1285 non-null   object \n",
      " 15  place_of_birth                    734 non-null    object \n",
      " 16  first_appearance                  1142 non-null   object \n",
      " 17  creator                           1166 non-null   object \n",
      " 18  alignment                         1285 non-null   object \n",
      " 19  occupation                        938 non-null    object \n",
      " 20  base                              813 non-null    object \n",
      " 21  teams                             1285 non-null   object \n",
      " 22  relatives                         829 non-null    object \n",
      " 23  gender                            1191 non-null   object \n",
      " 24  type_race                         942 non-null    object \n",
      " 25  height                            1285 non-null   object \n",
      " 26  weight                            1285 non-null   object \n",
      " 27  eye_color                         1091 non-null   object \n",
      " 28  hair_color                        1103 non-null   object \n",
      " 29  skin_color                        154 non-null    object \n",
      " 30  img                               1215 non-null   object \n",
      " 31  has_electrokinesis                1228 non-null   float64\n",
      " 32  has_energy_constructs             1228 non-null   float64\n",
      " 33  has_mind_control_resistance       1228 non-null   float64\n",
      " 34  has_matter_manipulation           1228 non-null   float64\n",
      " 35  has_telepathy_resistance          1228 non-null   float64\n",
      " 36  has_mind_control                  1228 non-null   float64\n",
      " 37  has_enhanced_hearing              1228 non-null   float64\n",
      " 38  has_dimensional_travel            1228 non-null   float64\n",
      " 39  has_element_control               1228 non-null   float64\n",
      " 40  has_size_changing                 1228 non-null   float64\n",
      " 41  has_fire_resistance               1228 non-null   float64\n",
      " 42  has_fire_control                  1228 non-null   float64\n",
      " 43  has_dexterity                     1228 non-null   float64\n",
      " 44  has_reality_warping               1228 non-null   float64\n",
      " 45  has_illusions                     1228 non-null   float64\n",
      " 46  has_energy_beams                  1228 non-null   float64\n",
      " 47  has_peak_human_condition          1228 non-null   float64\n",
      " 48  has_shapeshifting                 1228 non-null   float64\n",
      " 49  has_heat_resistance               1228 non-null   float64\n",
      " 50  has_jump                          1228 non-null   float64\n",
      " 51  has_self-sustenance               1228 non-null   float64\n",
      " 52  has_energy_absorption             1228 non-null   float64\n",
      " 53  has_cold_resistance               1228 non-null   float64\n",
      " 54  has_magic                         1228 non-null   float64\n",
      " 55  has_telekinesis                   1228 non-null   float64\n",
      " 56  has_toxin_and_disease_resistance  1228 non-null   float64\n",
      " 57  has_telepathy                     1228 non-null   float64\n",
      " 58  has_regeneration                  1228 non-null   float64\n",
      " 59  has_immortality                   1228 non-null   float64\n",
      " 60  has_teleportation                 1228 non-null   float64\n",
      " 61  has_force_fields                  1228 non-null   float64\n",
      " 62  has_energy_manipulation           1228 non-null   float64\n",
      " 63  has_endurance                     1228 non-null   float64\n",
      " 64  has_longevity                     1228 non-null   float64\n",
      " 65  has_weapon-based_powers           1228 non-null   float64\n",
      " 66  has_energy_blasts                 1228 non-null   float64\n",
      " 67  has_enhanced_senses               1228 non-null   float64\n",
      " 68  has_invulnerability               1228 non-null   float64\n",
      " 69  has_stealth                       1228 non-null   float64\n",
      " 70  has_marksmanship                  1228 non-null   float64\n",
      " 71  has_flight                        1228 non-null   float64\n",
      " 72  has_accelerated_healing           1228 non-null   float64\n",
      " 73  has_weapons_master                1228 non-null   float64\n",
      " 74  has_intelligence                  1228 non-null   float64\n",
      " 75  has_reflexes                      1228 non-null   float64\n",
      " 76  has_super_speed                   1228 non-null   float64\n",
      " 77  has_durability                    1228 non-null   float64\n",
      " 78  has_stamina                       1228 non-null   float64\n",
      " 79  has_agility                       1228 non-null   float64\n",
      " 80  has_super_strength                1228 non-null   float64\n",
      "dtypes: float64(50), int64(6), object(25)\n",
      "memory usage: 863.2+ KB\n"
     ]
    }
   ],
   "source": [
    "print(df_comics['history_text'][0])\n",
    "df_comics.info()"
   ]
  },
  {
   "cell_type": "markdown",
   "metadata": {
    "cell_id": "00013-00e51eac-6169-4978-9714-ee8c7a8f55b8",
    "deepnote_cell_type": "markdown",
    "id": "i4tFPrFA4_O5"
   },
   "source": [
    "## 1.1 Obtención de Features y Bag of Words\n",
    "\n",
    "<p align=\"center\">\n",
    "  <img src=\"https://media0.giphy.com/media/eIUpSyzwGp0YhAMTKr/200.gif\" width=\"300\">\n",
    "</p>"
   ]
  },
  {
   "cell_type": "markdown",
   "metadata": {
    "cell_id": "00014-528c8f39-a27a-40e0-8de0-0cc7f362b4ae",
    "deepnote_cell_type": "markdown",
    "id": "f_4NF0_V5XZ-"
   },
   "source": [
    "Primero que todo, deben obtener un vector de características del atributo `history_text`, utilizando `bag of words`. En este atributo se presenta una breve descripción de la historia de cada uno de los personajes de ficción presentes en el dataset. \n",
    "\n",
    "Pero... antes de empezar, ¿Que es `bag of words`?...\n",
    "\n",
    "`bag of words` es un modelo de conteo utilizado en Procesamiento de Lenguaje Natural (NLP) que tiene como objetivo generar una representación vectorial (vector de características en nuestro cas) para cada documento a través del conteo de las palabras que contienen. \n",
    "\n",
    "La siguiente figura muestra un ejemplo de `bag of words` en acción:\n",
    "\n",
    "<p align=\"center\">\n",
    "  <img src=\"https://user.oc-static.com/upload/2020/10/23/16034397439042_surfin%20bird%20bow.png\" width=\"500\">\n",
    "</p>\n",
    "\n",
    "Como pueden ver, el modelo de `bag of words` no resulta tan complicado, ¿pero cómo lo aplicamos en python?. \n",
    "\n",
    "Como podrán darse cuenta del ejemplo anterior, para facilitar el conteo será necesario transformar cada uno de los documentos en vectores, donde cada una de las posiciones posee un carácter. Este proceso es conocido como **tokenización** y lo podemos realizar de la siguiente forma:"
   ]
  },
  {
   "cell_type": "code",
   "execution_count": 5,
   "metadata": {
    "cell_id": "00015-5924cc55-1587-4776-8c5e-cb400ddacaa3",
    "deepnote_cell_type": "code",
    "deepnote_output_heights": [
     40.399993896484375
    ],
    "deepnote_to_be_reexecuted": false,
    "execution_millis": 8,
    "execution_start": 1637346921830,
    "source_hash": "57e4888a",
    "tags": []
   },
   "outputs": [
    {
     "data": {
      "text/plain": [
       "[['The', 'teacher', 'rocks', 'like', 'a', 'good', 'rock', '&', 'roll'],\n",
       " ['the', 'rock', 'is', 'the', 'best', 'actor', 'in', 'the', 'world']]"
      ]
     },
     "execution_count": 5,
     "metadata": {},
     "output_type": "execute_result"
    }
   ],
   "source": [
    "docs = ['The teacher rocks like a good rock & roll',\n",
    "             'the rock is the best actor in the world']\n",
    "\n",
    "\n",
    "docs_tokenizados = [word_tokenize(doc)  for doc in docs]\n",
    "docs_tokenizados"
   ]
  },
  {
   "cell_type": "markdown",
   "metadata": {
    "cell_id": "00016-649b0384-cac3-4b79-93ff-75aac3b8c5df",
    "deepnote_cell_type": "markdown",
    "tags": []
   },
   "source": [
    "Podemos mejorar un poco más el proceso de tokenización agregando \n",
    "\n",
    "- Stemming:  Definimos Stemming como un algoritmo basado en reglas que transforma las palabras a una forma general. Un ejemplo de stemming, es el siguiente:\n",
    "- Eliminación de Stopwords: Eliminación de palabras muy frecuentes que entorpecen la clasificación (por ejemplo, el, la los, la, etc...)\n",
    "\n",
    "<p align=\"center\">\n",
    "  <img src=\"https://devopedia.org/images/article/218/8583.1569386710.png\" width=\"300\">\n",
    "</p>\n"
   ]
  },
  {
   "cell_type": "code",
   "execution_count": 5,
   "metadata": {
    "cell_id": "00017-52acaa25-55d2-49ee-a6c8-49437b8d4523",
    "deepnote_cell_type": "code",
    "deepnote_output_heights": [
     null,
     59.600006103515625
    ],
    "deepnote_to_be_reexecuted": false,
    "execution_millis": 36,
    "execution_start": 1637346924545,
    "source_hash": "d7f59237",
    "tags": []
   },
   "outputs": [
    {
     "data": {
      "text/plain": [
       "[['the', 'teacher', 'rock', 'like', 'good', 'rock', '&', 'roll'],\n",
       " ['the', 'rock', 'is', 'the', 'best', 'actor', 'in', 'the', 'world'],\n",
       " ['new', 'york', 'is', 'beauti', 'citi']]"
      ]
     },
     "execution_count": 5,
     "metadata": {},
     "output_type": "execute_result"
    }
   ],
   "source": [
    "# Definimos algunas stopword que queremos que sean eliminadas\n",
    "import nltk\n",
    "#nltk.download('stopwords')\n",
    "\n",
    "from nltk.corpus import stopwords\n",
    "\n",
    "stop_words = stopwords.words('spanish')\n",
    "\n",
    "# Acá podemos crear otro arreglo con simbolos no deseados.\n",
    "# not_wanted = [...]\n",
    "\n",
    "# Definimos un tokenizador con Stemming\n",
    "class StemmerTokenizer:\n",
    "    def __init__(self):\n",
    "        self.ps = PorterStemmer()\n",
    "    def __call__(self, doc):\n",
    "        doc_tok = word_tokenize(doc)\n",
    "        doc_tok = [t for t in doc_tok if t not in stop_words]\n",
    "        # doc_tok = [t for t in doc_tok if t not in not_wanted]\n",
    "        return [self.ps.stem(t) for t in doc_tok]\n",
    "\n",
    "# Inicializamos tokenizador\n",
    "tokenizador = StemmerTokenizer()\n",
    "\n",
    "# Creamos algunos documentos\n",
    "docs = ['The teacher rocks like a good rock & roll',\n",
    "        'the rock is the best actor in the world',\n",
    "        'New York is a beautiful city']\n",
    "\n",
    "# Obtenemos el token del primer documento\n",
    "[tokenizador(doc) for doc in docs]"
   ]
  },
  {
   "cell_type": "code",
   "execution_count": 7,
   "metadata": {
    "cell_id": "00018-03a0f079-19df-42cb-b3b9-863a9e2ecb7a",
    "deepnote_cell_type": "code",
    "deepnote_output_heights": [
     59.600006103515625
    ],
    "deepnote_to_be_reexecuted": false,
    "execution_millis": 13,
    "execution_start": 1637346927213,
    "source_hash": "2503a9b4",
    "tags": []
   },
   "outputs": [
    {
     "data": {
      "text/plain": [
       "[['The', 'teacher', 'rocks', 'like', 'a', 'good', 'rock', '&', 'roll'],\n",
       " ['the', 'rock', 'is', 'the', 'best', 'actor', 'in', 'the', 'world'],\n",
       " ['New', 'York', 'is', 'a', 'beautiful', 'city']]"
      ]
     },
     "execution_count": 7,
     "metadata": {},
     "output_type": "execute_result"
    }
   ],
   "source": [
    "# Comparación con el caso anterior\n",
    "docs_tokenizados = [word_tokenize(doc) for doc in docs]\n",
    "docs_tokenizados"
   ]
  },
  {
   "cell_type": "markdown",
   "metadata": {
    "cell_id": "00019-3f862033-7b4e-4623-b17f-545b988af69b",
    "deepnote_cell_type": "markdown",
    "tags": []
   },
   "source": [
    "#### Al Estilo Scikit\n",
    "\n",
    "Scikit implementa `bag of words` a través de la clase `CountVectorizer()` la cual contiene muchas opciones para mejorar la tokenización."
   ]
  },
  {
   "cell_type": "code",
   "execution_count": 10,
   "metadata": {
    "cell_id": "00020-721a6ba0-0990-4436-9de5-4b4b53c5ff79",
    "deepnote_cell_type": "code",
    "deepnote_output_heights": [
     98,
     40.390625
    ],
    "deepnote_to_be_reexecuted": false,
    "execution_millis": 152,
    "execution_start": 1637346927803,
    "source_hash": "2bc7124d",
    "tags": []
   },
   "outputs": [
    {
     "data": {
      "text/html": [
       "<div>\n",
       "<style scoped>\n",
       "    .dataframe tbody tr th:only-of-type {\n",
       "        vertical-align: middle;\n",
       "    }\n",
       "\n",
       "    .dataframe tbody tr th {\n",
       "        vertical-align: top;\n",
       "    }\n",
       "\n",
       "    .dataframe thead th {\n",
       "        text-align: right;\n",
       "    }\n",
       "</style>\n",
       "<table border=\"1\" class=\"dataframe\">\n",
       "  <thead>\n",
       "    <tr style=\"text-align: right;\">\n",
       "      <th></th>\n",
       "      <th>&amp;</th>\n",
       "      <th>actor</th>\n",
       "      <th>beauti</th>\n",
       "      <th>best</th>\n",
       "      <th>citi</th>\n",
       "      <th>good</th>\n",
       "      <th>in</th>\n",
       "      <th>is</th>\n",
       "      <th>like</th>\n",
       "      <th>new</th>\n",
       "      <th>rock</th>\n",
       "      <th>roll</th>\n",
       "      <th>teacher</th>\n",
       "      <th>the</th>\n",
       "      <th>world</th>\n",
       "      <th>york</th>\n",
       "    </tr>\n",
       "  </thead>\n",
       "  <tbody>\n",
       "    <tr>\n",
       "      <th>0</th>\n",
       "      <td>1</td>\n",
       "      <td>0</td>\n",
       "      <td>0</td>\n",
       "      <td>0</td>\n",
       "      <td>0</td>\n",
       "      <td>1</td>\n",
       "      <td>0</td>\n",
       "      <td>0</td>\n",
       "      <td>1</td>\n",
       "      <td>0</td>\n",
       "      <td>2</td>\n",
       "      <td>1</td>\n",
       "      <td>1</td>\n",
       "      <td>1</td>\n",
       "      <td>0</td>\n",
       "      <td>0</td>\n",
       "    </tr>\n",
       "    <tr>\n",
       "      <th>1</th>\n",
       "      <td>0</td>\n",
       "      <td>1</td>\n",
       "      <td>0</td>\n",
       "      <td>1</td>\n",
       "      <td>0</td>\n",
       "      <td>0</td>\n",
       "      <td>1</td>\n",
       "      <td>1</td>\n",
       "      <td>0</td>\n",
       "      <td>0</td>\n",
       "      <td>1</td>\n",
       "      <td>0</td>\n",
       "      <td>0</td>\n",
       "      <td>3</td>\n",
       "      <td>1</td>\n",
       "      <td>0</td>\n",
       "    </tr>\n",
       "    <tr>\n",
       "      <th>2</th>\n",
       "      <td>0</td>\n",
       "      <td>0</td>\n",
       "      <td>1</td>\n",
       "      <td>0</td>\n",
       "      <td>1</td>\n",
       "      <td>0</td>\n",
       "      <td>0</td>\n",
       "      <td>1</td>\n",
       "      <td>0</td>\n",
       "      <td>1</td>\n",
       "      <td>0</td>\n",
       "      <td>0</td>\n",
       "      <td>0</td>\n",
       "      <td>0</td>\n",
       "      <td>0</td>\n",
       "      <td>1</td>\n",
       "    </tr>\n",
       "  </tbody>\n",
       "</table>\n",
       "</div>"
      ],
      "text/plain": [
       "   &  actor  beauti  best  citi  good  in  is  like  new  rock  roll  teacher  \\\n",
       "0  1      0       0     0     0     1   0   0     1    0     2     1        1   \n",
       "1  0      1       0     1     0     0   1   1     0    0     1     0        0   \n",
       "2  0      0       1     0     1     0   0   1     0    1     0     0        0   \n",
       "\n",
       "   the  world  york  \n",
       "0    1      0     0  \n",
       "1    3      1     0  \n",
       "2    0      0     1  "
      ]
     },
     "execution_count": 10,
     "metadata": {},
     "output_type": "execute_result"
    }
   ],
   "source": [
    "bow = CountVectorizer(tokenizer=StemmerTokenizer())\n",
    "df = bow.fit_transform(docs)\n",
    "\n",
    "pd.DataFrame(df.toarray(), columns=bow.get_feature_names())"
   ]
  },
  {
   "cell_type": "markdown",
   "metadata": {
    "cell_id": "00021-b3e721d0-6b1f-4f91-aef8-7b04028286fe",
    "deepnote_cell_type": "markdown",
    "tags": []
   },
   "source": [
    "Una de las cosas más interesantes que provee son el use de n-gramas, los cuales, en palabras simples, son conjuntos de n-palabras que se concatenan entre si y que se consideran como tokens separados. \n",
    "\n",
    "Pensemos en `Nueva York`. Cuando se tokeniza Nueva York, se generan dos tokens independientes que a simple vista no tienen relación: `Nueva` `York`.\n",
    "Al usar n-gramas (en un rango min=1,max=2) , generamos tanto `Nueva` y `York` como también `Nueva York` como un token independiente."
   ]
  },
  {
   "cell_type": "code",
   "execution_count": 11,
   "metadata": {
    "cell_id": "00022-a7abf0fb-cbf2-4745-a96a-dcad9d4bc00f",
    "deepnote_cell_type": "code",
    "deepnote_to_be_reexecuted": false,
    "execution_millis": 241,
    "execution_start": 1637346930092,
    "source_hash": "6af25c7e",
    "tags": []
   },
   "outputs": [
    {
     "data": {
      "text/html": [
       "<div>\n",
       "<style scoped>\n",
       "    .dataframe tbody tr th:only-of-type {\n",
       "        vertical-align: middle;\n",
       "    }\n",
       "\n",
       "    .dataframe tbody tr th {\n",
       "        vertical-align: top;\n",
       "    }\n",
       "\n",
       "    .dataframe thead th {\n",
       "        text-align: right;\n",
       "    }\n",
       "</style>\n",
       "<table border=\"1\" class=\"dataframe\">\n",
       "  <thead>\n",
       "    <tr style=\"text-align: right;\">\n",
       "      <th></th>\n",
       "      <th>&amp;</th>\n",
       "      <th>&amp; roll</th>\n",
       "      <th>actor</th>\n",
       "      <th>actor in</th>\n",
       "      <th>beauti</th>\n",
       "      <th>beauti citi</th>\n",
       "      <th>best</th>\n",
       "      <th>best actor</th>\n",
       "      <th>citi</th>\n",
       "      <th>good</th>\n",
       "      <th>...</th>\n",
       "      <th>teacher</th>\n",
       "      <th>teacher rock</th>\n",
       "      <th>the</th>\n",
       "      <th>the best</th>\n",
       "      <th>the rock</th>\n",
       "      <th>the teacher</th>\n",
       "      <th>the world</th>\n",
       "      <th>world</th>\n",
       "      <th>york</th>\n",
       "      <th>york is</th>\n",
       "    </tr>\n",
       "  </thead>\n",
       "  <tbody>\n",
       "    <tr>\n",
       "      <th>0</th>\n",
       "      <td>1</td>\n",
       "      <td>1</td>\n",
       "      <td>0</td>\n",
       "      <td>0</td>\n",
       "      <td>0</td>\n",
       "      <td>0</td>\n",
       "      <td>0</td>\n",
       "      <td>0</td>\n",
       "      <td>0</td>\n",
       "      <td>1</td>\n",
       "      <td>...</td>\n",
       "      <td>1</td>\n",
       "      <td>1</td>\n",
       "      <td>1</td>\n",
       "      <td>0</td>\n",
       "      <td>0</td>\n",
       "      <td>1</td>\n",
       "      <td>0</td>\n",
       "      <td>0</td>\n",
       "      <td>0</td>\n",
       "      <td>0</td>\n",
       "    </tr>\n",
       "    <tr>\n",
       "      <th>1</th>\n",
       "      <td>0</td>\n",
       "      <td>0</td>\n",
       "      <td>1</td>\n",
       "      <td>1</td>\n",
       "      <td>0</td>\n",
       "      <td>0</td>\n",
       "      <td>1</td>\n",
       "      <td>1</td>\n",
       "      <td>0</td>\n",
       "      <td>0</td>\n",
       "      <td>...</td>\n",
       "      <td>0</td>\n",
       "      <td>0</td>\n",
       "      <td>3</td>\n",
       "      <td>1</td>\n",
       "      <td>1</td>\n",
       "      <td>0</td>\n",
       "      <td>1</td>\n",
       "      <td>1</td>\n",
       "      <td>0</td>\n",
       "      <td>0</td>\n",
       "    </tr>\n",
       "    <tr>\n",
       "      <th>2</th>\n",
       "      <td>0</td>\n",
       "      <td>0</td>\n",
       "      <td>0</td>\n",
       "      <td>0</td>\n",
       "      <td>1</td>\n",
       "      <td>1</td>\n",
       "      <td>0</td>\n",
       "      <td>0</td>\n",
       "      <td>1</td>\n",
       "      <td>0</td>\n",
       "      <td>...</td>\n",
       "      <td>0</td>\n",
       "      <td>0</td>\n",
       "      <td>0</td>\n",
       "      <td>0</td>\n",
       "      <td>0</td>\n",
       "      <td>0</td>\n",
       "      <td>0</td>\n",
       "      <td>0</td>\n",
       "      <td>1</td>\n",
       "      <td>1</td>\n",
       "    </tr>\n",
       "  </tbody>\n",
       "</table>\n",
       "<p>3 rows × 35 columns</p>\n",
       "</div>"
      ],
      "text/plain": [
       "   &  & roll  actor  actor in  beauti  beauti citi  best  best actor  citi  \\\n",
       "0  1       1      0         0       0            0     0           0     0   \n",
       "1  0       0      1         1       0            0     1           1     0   \n",
       "2  0       0      0         0       1            1     0           0     1   \n",
       "\n",
       "   good  ...  teacher  teacher rock  the  the best  the rock  the teacher  \\\n",
       "0     1  ...        1             1    1         0         0            1   \n",
       "1     0  ...        0             0    3         1         1            0   \n",
       "2     0  ...        0             0    0         0         0            0   \n",
       "\n",
       "   the world  world  york  york is  \n",
       "0          0      0     0        0  \n",
       "1          1      1     0        0  \n",
       "2          0      0     1        1  \n",
       "\n",
       "[3 rows x 35 columns]"
      ]
     },
     "execution_count": 11,
     "metadata": {},
     "output_type": "execute_result"
    }
   ],
   "source": [
    "bow = CountVectorizer(tokenizer=StemmerTokenizer(), ngram_range=(1,2))\n",
    "df = bow.fit_transform(docs)\n",
    "\n",
    "pd.DataFrame(df.toarray(), columns=bow.get_feature_names())"
   ]
  },
  {
   "cell_type": "markdown",
   "metadata": {
    "cell_id": "00023-55bca23d-f3d4-4f39-ae9d-e8810b522c79",
    "deepnote_cell_type": "markdown",
    "tags": []
   },
   "source": [
    "De los resultados, podemos ver que generamos vectores de conteo para cada una de las palabras que conforman el corpus.  Un punto extra que se agrega en esta obtención de frecuencias son los bigramas, que básicamente son el conjunto de palabras de tamaño de aparecen juntas en el texto."
   ]
  },
  {
   "cell_type": "markdown",
   "metadata": {
    "cell_id": "00024-231f49a8-163f-457d-b933-9e5dad0e1e29",
    "deepnote_cell_type": "markdown",
    "tags": []
   },
   "source": [
    "## Codificando los Super{heroes, villanos}  [0.5 Puntos]\n",
    "\n",
    "<p align=\"center\">\n",
    "  <img src=\"https://c.tenor.com/LkQzw7k5DV4AAAAd/anime-hacking.gif\" width=\"300\">\n",
    "</p>\n",
    "\n",
    "Conociendo ahora que es el proceso de `bag of words`, aplique este modelo de obtención de caracteristicas de la siguiente forma en un pipeline:\n",
    "\n",
    "- Utilice el tokenizador entregado.\n",
    "- Obtenga caracteristicas de los unigramas y bigramas del texto (tal como el ejemplo).\n",
    "\n",
    "```python\n",
    "bog = CountVectorizer(tokenizer= StemmerTokenizer(),`\n",
    "                      ngram_range=(1,2) # Este punto es opcional y es para generar bigramas\n",
    "                      )\n",
    "```"
   ]
  },
  {
   "cell_type": "markdown",
   "metadata": {
    "cell_id": "00025-145bb273-d73c-4ad1-8b84-46327add3a2e",
    "deepnote_cell_type": "markdown",
    "tags": []
   },
   "source": [
    "Finalmente, aplique `MinMaxScaler()` sobre `atributos_de_interes` y concatene el valor obtenido con el matriz de caracteristicas obtenidas con bag of words.\n",
    "\n",
    "```python\n",
    "atributos_de_interes = ['intelligence_score', 'strength_score', 'speed_score', 'durability_score', 'power_score', 'combat_score']\n",
    "```\n",
    "\n",
    "No es necesario que obtenga un dataframe en concreto con las características solicitadas. Se le recomienda generar un `ColumnTransformer()` para aplicar las transformaciones solicitadas en un pipeline.\n",
    "\n",
    "**To-Do:**\n",
    "- [x] Obtener a traves de bag of words caracteristicas del resumen de historia de cada personaje.\n",
    "- [x] Aplicar MinMaxScaler sobre los atributos de interes."
   ]
  },
  {
   "cell_type": "markdown",
   "metadata": {
    "cell_id": "00026-b13521a0-adf9-4c19-893e-ba6ed644ca12",
    "deepnote_cell_type": "markdown",
    "tags": []
   },
   "source": [
    "**Respuesta:**"
   ]
  },
  {
   "cell_type": "code",
   "execution_count": 6,
   "metadata": {
    "cell_id": "00026-898e0ee0-748d-4dac-bfc5-d72f4fe21827",
    "deepnote_cell_type": "code",
    "id": "ay080DunHcOS"
   },
   "outputs": [],
   "source": [
    "#### Código aquí #### eliminar signos que no aportan\n",
    "from sklearn.pipeline import FeatureUnion\n",
    "\n",
    "atributos_de_interes = ['intelligence_score', 'strength_score', 'speed_score', \n",
    "                        'durability_score', 'power_score', 'combat_score']\n",
    "\n",
    "\n",
    "\n",
    "bow = CountVectorizer(tokenizer=StemmerTokenizer(), ngram_range=(1,2))\n",
    "\n",
    "# Bow transformer.\n",
    "bow_transformer = ColumnTransformer(transformers=\n",
    "        [('bow', bow, 'history_text')])\n",
    "\n",
    "# Min Max transformer.\n",
    "minmax_transformer = ColumnTransformer(transformers=\n",
    "        [('scaler', MinMaxScaler(), atributos_de_interes)])\n",
    "\n",
    "# Union pipeline: realiza los procesos anteriores y concatena los resultados.\n",
    "union = FeatureUnion([(\"bow\", bow_transformer), (\"minmax\", minmax_transformer)])\n"
   ]
  },
  {
   "cell_type": "markdown",
   "metadata": {
    "cell_id": "00029-0baf6cdb-9550-4717-87db-9f9900d5b276",
    "deepnote_cell_type": "markdown",
    "id": "stHncQ-A-j4I"
   },
   "source": [
    "## 1.2 Diseño de Baseline y  Primer Entrenamiento  [1 Puntos]\n",
    "\n",
    "\n",
    "<p align=\"center\">\n",
    "  <img src=\"https://pa1.narvii.com/6374/9eaec1b7bf9157334151452a669516f9a78b954c_hq.gif\" width=\"300\">\n",
    "</p>\n"
   ]
  },
  {
   "cell_type": "markdown",
   "metadata": {
    "cell_id": "00030-1452da19-1559-4b8b-8b73-a134157c0656",
    "deepnote_cell_type": "markdown",
    "id": "NeMiptpQ_EWb"
   },
   "source": [
    "Genere un Pipeline con las caracteristicas solicitadas en la sección 1.1, un selector de mejores features `SelectPercentile` con métrica `f_classif` y percentile=90 y un clasificador `MultinomialNB()` por defecto.\n",
    "\n",
    "Luego, separe el conjunto de datos en un conjunto de entrenamiento y prueba, donde las etiquetas estará dado por el atributo `alignment`. \n",
    "\n",
    "Finalmente entrene el modelo y reporte el desempeño con un `classification_report`. ¿ Nos recomendaría predecir la alineación de BatCow con este clasificador?.\n",
    "\n",
    "**To-DO:**\n",
    "- [ ] Realizar un pipeline con las caracteristicas solicitadas en 1.1 y aplicar un clasificador  `MultinomialNB()`.\n",
    "- [ ] Entrenar el pipeline y comentar los resultados."
   ]
  },
  {
   "cell_type": "markdown",
   "metadata": {
    "cell_id": "00029-34f1be30-f2df-45ac-aa14-8e05dc678be9",
    "deepnote_cell_type": "markdown",
    "tags": []
   },
   "source": [
    "**Respuesta:**"
   ]
  },
  {
   "cell_type": "code",
   "execution_count": null,
   "metadata": {
    "cell_id": "00031-92f07569-b6ee-48af-be9e-70cd05cb9e5e",
    "deepnote_cell_type": "code",
    "id": "_hHpPDooPafy"
   },
   "outputs": [],
   "source": [
    "#### Código aquí ####\n",
    "\n",
    "\n",
    "# Pipeline.\n",
    "comics_pip = Pipeline([\n",
    "        # union de la parte anterior.\n",
    "        ('bow_minmax', union),\n",
    "        # Mejores featues.\n",
    "        ('best_features', SelectPercentile(f_classif, percentile=90)),\n",
    "        # MultinomialNB.\n",
    "        ('mulnomial_nb', MultinomialNB())])\n",
    "\n",
    "# Data\n",
    "X = df_comics[atributos_de_interes + ['history_text']]\n",
    "y = df_comics['alignment']\n",
    "\n",
    "# Train-Test.\n",
    "X_train, X_test, y_train, y_test = train_test_split(X, y, test_size=0.33, random_state=27)\n",
    "\n",
    "# Training.\n",
    "comics_pip = comics_pip.fit(X_train, y_train)"
   ]
  },
  {
   "cell_type": "code",
   "execution_count": 10,
   "metadata": {},
   "outputs": [
    {
     "name": "stdout",
     "output_type": "stream",
     "text": [
      "              precision    recall  f1-score   support\n",
      "\n",
      "           0       0.82      0.06      0.11       147\n",
      "           1       0.59      0.99      0.74       248\n",
      "           2       0.00      0.00      0.00        30\n",
      "\n",
      "    accuracy                           0.60       425\n",
      "   macro avg       0.47      0.35      0.29       425\n",
      "weighted avg       0.63      0.60      0.47       425\n",
      "\n"
     ]
    },
    {
     "name": "stderr",
     "output_type": "stream",
     "text": [
      "c:\\users\\jigna\\appdata\\local\\programs\\python\\python36\\lib\\site-packages\\sklearn\\metrics\\_classification.py:1248: UndefinedMetricWarning:\n",
      "\n",
      "Precision and F-score are ill-defined and being set to 0.0 in labels with no predicted samples. Use `zero_division` parameter to control this behavior.\n",
      "\n",
      "c:\\users\\jigna\\appdata\\local\\programs\\python\\python36\\lib\\site-packages\\sklearn\\metrics\\_classification.py:1248: UndefinedMetricWarning:\n",
      "\n",
      "Precision and F-score are ill-defined and being set to 0.0 in labels with no predicted samples. Use `zero_division` parameter to control this behavior.\n",
      "\n",
      "c:\\users\\jigna\\appdata\\local\\programs\\python\\python36\\lib\\site-packages\\sklearn\\metrics\\_classification.py:1248: UndefinedMetricWarning:\n",
      "\n",
      "Precision and F-score are ill-defined and being set to 0.0 in labels with no predicted samples. Use `zero_division` parameter to control this behavior.\n",
      "\n"
     ]
    }
   ],
   "source": [
    "# Report.\n",
    "print(classification_report(y_test, comics_pip.predict(X_test), target_names=['0', '1', '2']))"
   ]
  },
  {
   "cell_type": "markdown",
   "metadata": {
    "cell_id": "00035-35040b90-b6b9-4e43-8eff-15b7fa897575",
    "deepnote_cell_type": "markdown",
    "id": "pfm7I2B7_rfB"
   },
   "source": [
    "## 1.3 Busqueda del Mejor Modelo con Grid Search [4 Puntos]\n",
    "\n",
    "<p align=\"center\">\n",
    "  <img src=\"https://media1.tenor.com/images/70fdfeea52a8e2e4505498c230a0d2f9/tenor.gif?itemid=5134219\" width=\"250\">\n",
    "</p>"
   ]
  },
  {
   "cell_type": "markdown",
   "metadata": {
    "cell_id": "00036-c58166cc-71f7-4fa3-94c8-c67d1145ccf1",
    "deepnote_cell_type": "markdown",
    "id": "14siiavzK67p"
   },
   "source": [
    "No conformes con el rendimiento obtenido en la sección 1.2, el cuerpo docente les pide que realicen un **`HalvingGridSearchCV`** con diferentes parámetros para mejorar el rendimiento de la clasificación. Para esto, se le solicita que defina:\n",
    "\n",
    "- Dos clasificadores distintos en donde varie sus parámetros. Se le recomienda utilizar `LogisticRegression()` y `RandomForestClassifier()`.\n",
    "- Modificar `n-gram` range del `CountVectorizer` probando `(1,1), (1,2) y (1,3)`. \n",
    "- Selección de las mejores columnas para la clasificación con `SelectPercentile` en los percentiles `[20, 40, 60, 80]` (puede usar la métrica que usted quiera).\n",
    "\n",
    "A continuación, un ejemplo de parametros para GridSearch para una búsqueda de 3 clasificadores distintos:\n",
    "\n",
    "```python\n",
    "params = [\n",
    "       # clasificador 1 + hiperparámetros\n",
    "       {'clf': classificator1(),\n",
    "        'clf__penalty': ['ovr'],\n",
    "        'clf__multi_class': ['liblinear']},\n",
    "       # clasificador 1 + hiperparámetros    \n",
    "       {'clf': classificator2(),\n",
    "        'clf__n_estimators': [200]},\n",
    "       # clasificador 1 + hiperparámetros\n",
    "       {'clf': classificator3(),\n",
    "        ...\n",
    "       }\n",
    "       ]\n",
    "```\n",
    "\n",
    "**Nota 1**: Puede ver los parámetros modificables aplicando el método get_params() sobre su pipeline.\n",
    "\n",
    "**Nota 2**: Recuerde inicializar los clasificadores con un random state definido.\n",
    "\n",
    "**Nota 3**: Puede usar en `HalvingGridSearchCV` el parámetro `verbose=10` para ver que GridSearch le indique el estado de su ejecución.\n",
    "\n",
    "**Nota 3:** El GridSearch puede tomar tiempos de búsqueda exorbitantes, por lo que se le recomienda no agrandar mucho el espacio de búsqueda, dejar corriendo el código y tomarse un tecito."
   ]
  },
  {
   "cell_type": "markdown",
   "metadata": {
    "cell_id": "00032-3fea06e0-a390-4ae0-8036-f5fedb6d6baf",
    "deepnote_cell_type": "markdown",
    "tags": []
   },
   "source": [
    "**Respuesta:**"
   ]
  },
  {
   "cell_type": "code",
   "execution_count": null,
   "metadata": {
    "cell_id": "00037-8b06a200-cb7a-485a-b11b-31a3d0ee57f3",
    "deepnote_cell_type": "code",
    "id": "oNvHOHELUoIv"
   },
   "outputs": [],
   "source": [
    "#### Código aquí ####"
   ]
  },
  {
   "cell_type": "markdown",
   "metadata": {
    "cell_id": "00042-1dc5444c-59e9-4d79-93fb-3c545fe3b086",
    "deepnote_cell_type": "markdown",
    "id": "OmQUw2aZ_6z2"
   },
   "source": [
    "## 1.4 Predicción del datos sin etiquetado  [0.5 puntos]\n",
    "\n",
    "<p align=\"center\">\n",
    "  <img src=\"https://pbs.twimg.com/media/DolotxUUYAAbg7f.jpg\" width=\"350\">\n",
    "</p>\n"
   ]
  },
  {
   "cell_type": "markdown",
   "metadata": {
    "cell_id": "00043-bdf593d2-92b5-4d74-869a-8c9541a6e572",
    "deepnote_cell_type": "markdown",
    "id": "Cj0ERBgTBFWN"
   },
   "source": [
    "LLego el momento de predecir \n",
    "`Vergil`, `Gorilla Girl` y `Batcow`\n",
    "\n",
    "\n",
    "**Nota:** Recuerde que pueden existir campos vacios en `history_text`, por lo que se les recomienda borrar los nan."
   ]
  },
  {
   "cell_type": "markdown",
   "metadata": {
    "cell_id": "00035-1e9b40e0-20dc-4ed1-81ca-b7f8f9679771",
    "deepnote_cell_type": "markdown",
    "tags": []
   },
   "source": [
    "**Respuesta:**"
   ]
  },
  {
   "cell_type": "code",
   "execution_count": null,
   "metadata": {
    "cell_id": "00035-1ec91701-af2f-4571-9067-f82dbc6f2989",
    "deepnote_cell_type": "code",
    "tags": []
   },
   "outputs": [],
   "source": [
    "#### Código aquí ####"
   ]
  },
  {
   "cell_type": "markdown",
   "metadata": {
    "cell_id": "00045-bf830861-7edd-434b-93f5-af4b0404ce83",
    "deepnote_cell_type": "markdown",
    "id": "Rg4ZMq8ezAH6"
   },
   "source": [
    "# Conclusión\n",
    "Eso ha sido todo para el lab de hoy, recuerden que el laboratorio tiene un plazo de entrega de una semana y que **los días de atraso no se pueden utilizar para entregas de lab, solo para tareas**. Cualquier duda del laboratorio, no duden en contactarnos por mail o U-cursos.\n",
    "\n",
    "<p align=\"center\">\n",
    "  <img src=\"https://media1.tenor.com/images/fb5bf7cc5a4acb91b4177672886a88ba/tenor.gif?itemid=5591338\">\n",
    "</p>"
   ]
  },
  {
   "cell_type": "markdown",
   "metadata": {
    "created_in_deepnote_cell": true,
    "deepnote_cell_type": "markdown",
    "tags": []
   },
   "source": [
    "<a style='text-decoration:none;line-height:16px;display:flex;color:#5B5B62;padding:10px;justify-content:end;' href='https://deepnote.com?utm_source=created-in-deepnote-cell&projectId=87110296-876e-426f-b91d-aaf681223468' target=\"_blank\">\n",
    "<img alt='Created in deepnote.com' style='display:inline;max-height:16px;margin:0px;margin-right:7.5px;' src='data:image/svg+xml;base64,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' > </img>\n",
    "Created in <span style='font-weight:600;margin-left:4px;'>Deepnote</span></a>"
   ]
  }
 ],
 "metadata": {
  "colab": {
   "collapsed_sections": [
    "LCOUC4jss148",
    "GtG74Cphq56p"
   ],
   "name": "Laboratorio4.ipynb",
   "provenance": [],
   "toc_visible": true
  },
  "deepnote": {},
  "deepnote_execution_queue": [],
  "deepnote_notebook_id": "038fcdf2-d87a-4a74-89c6-f5afff22afb6",
  "interpreter": {
   "hash": "bea891d4f4659476d21e83a48ee1b355f8820be15a794f539b2195aa6b1473be"
  },
  "kernelspec": {
   "display_name": "Python 3",
   "language": "python",
   "name": "python3"
  },
  "language_info": {
   "codemirror_mode": {
    "name": "ipython",
    "version": 3
   },
   "file_extension": ".py",
   "mimetype": "text/x-python",
   "name": "python",
   "nbconvert_exporter": "python",
   "pygments_lexer": "ipython3",
   "version": "3.6.4"
  },
  "toc": {
   "base_numbering": 1,
   "nav_menu": {},
   "number_sections": true,
   "sideBar": true,
   "skip_h1_title": true,
   "title_cell": "Tabla de Contenidos",
   "title_sidebar": "Contenidos",
   "toc_cell": false,
   "toc_position": {
    "height": "calc(100% - 180px)",
    "left": "10px",
    "top": "150px",
    "width": "241.867px"
   },
   "toc_section_display": true,
   "toc_window_display": true
  },
  "varInspector": {
   "cols": {
    "lenName": 16,
    "lenType": 16,
    "lenVar": 40
   },
   "kernels_config": {
    "python": {
     "delete_cmd_postfix": "",
     "delete_cmd_prefix": "del ",
     "library": "var_list.py",
     "varRefreshCmd": "print(var_dic_list())"
    },
    "r": {
     "delete_cmd_postfix": ") ",
     "delete_cmd_prefix": "rm(",
     "library": "var_list.r",
     "varRefreshCmd": "cat(var_dic_list()) "
    }
   },
   "types_to_exclude": [
    "module",
    "function",
    "builtin_function_or_method",
    "instance",
    "_Feature"
   ],
   "window_display": false
  }
 },
 "nbformat": 4,
 "nbformat_minor": 4
}
