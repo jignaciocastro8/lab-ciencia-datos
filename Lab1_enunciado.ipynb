{
  "nbformat": 4,
  "nbformat_minor": 5,
  "metadata": {
    "kernelspec": {
      "name": "python3",
      "display_name": "Python 3.6.4 64-bit"
    },
    "language_info": {
      "codemirror_mode": {
        "name": "ipython",
        "version": 3
      },
      "file_extension": ".py",
      "mimetype": "text/x-python",
      "name": "python",
      "nbconvert_exporter": "python",
      "pygments_lexer": "ipython3",
      "version": "3.6.4"
    },
    "colab": {
      "name": "Lab1_enunciado.ipynb",
      "provenance": [],
      "collapsed_sections": [],
      "toc_visible": true
    },
    "interpreter": {
      "hash": "bea891d4f4659476d21e83a48ee1b355f8820be15a794f539b2195aa6b1473be"
    }
  },
  "cells": [
    {
      "cell_type": "markdown",
      "source": [
        "<h1><center>Laboratorio 1: Primeros pasos 👣</center></h1>\n",
        "\n",
        "<center><strong>MDS7202: Laboratorio de Programación Científica para Ciencia de Datos - Primavera 2021</strong></center>"
      ],
      "metadata": {
        "id": "cd7b1b55"
      }
    },
    {
      "cell_type": "markdown",
      "source": [
        "### Cuerpo Docente:\n",
        "\n",
        "- Profesor: Pablo Badilla\n",
        "- Auxiliar: Ignacio Meza D.\n",
        "- Ayudante: Constanza Peña S."
      ],
      "metadata": {
        "id": "Vp_vOHK7V97e"
      }
    },
    {
      "cell_type": "markdown",
      "source": [
        "### Equipo: SUPER IMPORTANTE - notebooks sin nombre no serán revisados\r\n",
        "\r\n",
        "- Nombre de alumno 1: Javier Castro.\r\n",
        "- Nombre de alumno 2:\r\n"
      ],
      "metadata": {
        "id": "4N_5AYgyWKyA"
      }
    },
    {
      "cell_type": "markdown",
      "source": [
        "### **Link de repositorio de GitHub:** `http://....`"
      ],
      "metadata": {
        "id": "1rjlaJDEWxd9"
      }
    },
    {
      "cell_type": "markdown",
      "source": [
        "## Reglas:\n",
        "\n",
        "- Fecha de entrega: 1 semana desde la publicación, 3 días de atraso con 1 punto de descuento c/u. Pueden utilizar días bonus sin descuento.\n",
        "- **Grupos de 2 personas**.\n",
        "- **Ausentes** deberán realizar la actividad solos. \n",
        "- Cualquier duda fuera del horario de clases al foro. Mensajes al equipo docente serán respondidos por este medio.\n",
        "- Prohibidas las copias. \n",
        "- Pueden usar cualquer material del curso que estimen conveniente.\n"
      ],
      "metadata": {
        "id": "9el9ERaKWW3i"
      }
    },
    {
      "cell_type": "markdown",
      "source": [
        "\n",
        "## Objetivos del lab: \n",
        "\n",
        "\n",
        "- Variables, Operadores y Expresiones.\n",
        "- Estructuras de Control (if/else).\n",
        "- Iteraciones.\n",
        "- Listas y Diccionarios.\n",
        "- Programación Funcional (Map, Filter y Reduce).\n",
        "- Programación Orientada a Objetos (Encapsulamiento, Polimorfismo y Herencia)"
      ],
      "metadata": {
        "id": "4708b9b7"
      }
    },
    {
      "cell_type": "markdown",
      "source": [
        "## Parte 1: 🍋 Frutas 🍓\r\n",
        "\r\n",
        "En esta primera parte se trabajará lo escencial visto hasta el momento más un poco de programación funcional a través de frutas:\r\n",
        "\r\n",
        "<div align='center'>\r\n",
        "<img src='https://upload.wikimedia.org/wikipedia/commons/a/a2/Berries_in_Berlin.jpg' width=600/>\r\n",
        "</div>"
      ],
      "metadata": {
        "id": "d58b089c"
      }
    },
    {
      "cell_type": "markdown",
      "source": [
        "Defina las siguientes frutas como diccionarios a partir de sus características (nombre, color, tipo y si posee o no pepas):\r\n",
        "\r\n",
        "| Nombre    | Tipo     | Color    | Pepas |\r\n",
        "|-----------|----------|----------|-------|\r\n",
        "| limon     | cítrica  | amarillo | True  |\r\n",
        "| naranja   | cítrica  | naranjo  | True  |\r\n",
        "| plátano   | tropical | amarillo | False |\r\n",
        "| piña      | tropical | amarillo | False |\r\n",
        "| frutilla  | bosque   | rojo     | True  |\r\n",
        "| frambuesa | bosque   | rojo     | True  |"
      ],
      "metadata": {
        "id": "5fdf6b19"
      }
    },
    {
      "cell_type": "markdown",
      "source": [
        "### Estructurar Datos [0.5 puntos]\n",
        "\n",
        "Agregue Piña, Frutilla y Frambuesa como diccionarios (siga los ejemplos de las frutas dadas) y luego cree un arreglo que contenga estas frutas.\n"
      ],
      "metadata": {
        "id": "33aed47b"
      }
    },
    {
      "cell_type": "code",
      "execution_count": 1,
      "source": [
        "limon = {\r\n",
        "    \"nombre\": \"limón\", \r\n",
        "    \"tipo\": \"cítrica\", \r\n",
        "    \"color\": \"amarillo\", \r\n",
        "    \"pepas\": True\r\n",
        "    }\r\n",
        "\r\n",
        "naranja = {\"nombre\": \"naranja\", \r\n",
        "           \"tipo\": \"cítrica\", \r\n",
        "           \"color\": \"naranjo\", \r\n",
        "           \"pepas\": True\r\n",
        "          }\r\n",
        "\r\n",
        "platano = {\"nombre\": \"plátano\", \r\n",
        "           \"tipo\": \"tropical\", \r\n",
        "           \"color\": \"amarillo\", \r\n",
        "           \"pepas\": False\r\n",
        "          }\r\n",
        "\r\n",
        "# agregar las frutas que faltan aquí\r\n",
        "\r\n",
        "pina = {\"nombre\": \"piña\",\r\n",
        "        \"tipo\": \"tropical\",\r\n",
        "        \"color\" :\"amarillo\",\r\n",
        "        \"pepas\": False\r\n",
        "        }\r\n",
        "\r\n",
        "frutilla = {\"nombre\": \"frutilla\",\r\n",
        "        \"tipo\": \"bosque\",\r\n",
        "        \"color\" :\"rojo\",\r\n",
        "        \"pepas\": True\r\n",
        "        }\r\n",
        "        \r\n",
        "frambuesa = {\"nombre\": \"frambuesa\",\r\n",
        "        \"tipo\": \"bosque\",\r\n",
        "        \"color\" :\"rojo\",\r\n",
        "        \"pepas\": True\r\n",
        "        }       "
      ],
      "outputs": [],
      "metadata": {
        "id": "26d23e26"
      }
    },
    {
      "cell_type": "markdown",
      "source": [
        "Ahora, agregue todas las frutas a un arreglo."
      ],
      "metadata": {
        "id": "259ee333"
      }
    },
    {
      "cell_type": "code",
      "execution_count": 2,
      "source": [
        "# Ojo: agregue los datos en el mismo orden que aparecen en la tabla\r\n",
        "datos = [limon, naranja, platano, pina, frutilla, frambuesa]"
      ],
      "outputs": [],
      "metadata": {
        "id": "fcf62186"
      }
    },
    {
      "cell_type": "markdown",
      "source": [
        "Este arreglo será la información con la que se trabajará durante el lab."
      ],
      "metadata": {
        "id": "2ed7730e"
      }
    },
    {
      "cell_type": "markdown",
      "source": [
        "### Funciones Aplicadas a los Datos [1.5 puntos]"
      ],
      "metadata": {
        "id": "e9b1e46d"
      }
    },
    {
      "cell_type": "markdown",
      "source": [
        "Elabore las siguientes funciones:\r\n",
        "    \r\n",
        "**1. La función `describir(datos)` que genere un arreglo con strings que describan cada fruta de la siguiente manera:**\r\n",
        "\r\n",
        "```{El/La} {...} es una fruta de tipo {...} de color {...}. {Presenta/No presenta} pepas en su interior.```\r\n",
        "    \r\n",
        "Por ejemplo, para el plátano se debe generar el siguiente string:\r\n",
        "    \r\n",
        "```\r\n",
        "'El plátano es una fruta de tipo tropical de color amarillo. No presenta pepas en su interior.'\r\n",
        "```\r\n",
        "    \r\n",
        "Indicaciones: \r\n",
        "- Usen formateo o suma de strings, if, else y for.\r\n",
        "- Para saber si ocupar 'El' o 'La', pueden acceder al nombre de la fruta y ver cual es el último carácter a través de indexadores `string[indice]`.\r\n",
        "    \r\n",
        "**2. La función `filtrar_por_pepa(datos, tiene_pepas)` que dado un tipo de fruta y un booleano, retorne las frutas que tienen o no tienen pepas (según el valor de `tiene_pepas`).**\r\n",
        "    \r\n",
        "\r\n",
        "Por ejemplo, `filtrar_por_pepa(datos, True)` deberá retornar un arreglo con los diccionarios de: naranja, limon, frutilla y frambuesa.\r\n",
        "\r\n",
        "\r\n",
        "**3. La función `conteo_colores(datos)` que cree un diccionario que haga un conteo los colores de las frutas.**\r\n",
        "\r\n",
        "Para estos datos, la función debería retornar el siguiente diccionario: \r\n",
        "    \r\n",
        "```python\r\n",
        "{\"amarillo\": 3, \"naranjo\": 1, \"rojo\": 2, \"café\": 2}\r\n",
        "````"
      ],
      "metadata": {
        "id": "b7b016d6"
      }
    },
    {
      "cell_type": "markdown",
      "source": [
        "**Desarrollo de código:**"
      ],
      "metadata": {
        "id": "9Wqh7UyYXXIi"
      }
    },
    {
      "cell_type": "code",
      "execution_count": 7,
      "source": [
        "def describir(datos):\r\n",
        "    descripciones = []\r\n",
        "    for dato in datos:\r\n",
        "        pronombre = \"\"\r\n",
        "        if dato[\"nombre\"][-1] == 'a':\r\n",
        "            pronombre = \"La\"\r\n",
        "        else:\r\n",
        "            pronombre = \"El\"\r\n",
        "        pepas_flag = \"No presenta\"\r\n",
        "        if dato[\"pepas\"]:\r\n",
        "            pepas_flag = \"Presenta\"\r\n",
        "        descripciones.append(f'{pronombre} {dato[\"nombre\"]} es una fruta de tipo {dato[\"tipo\"]} de color {dato[\"color\"]}. {pepas_flag} pepas en su interior.')\r\n",
        "    return descripciones\r\n",
        "\r\n",
        "\r\n",
        "def filtrar_por_pepa(datos, tiene_pepas):\r\n",
        "    filtrados = list(filter(lambda d: d[\"pepas\"] == tiene_pepas, datos))\r\n",
        "    return filtrados\r\n",
        "\r\n",
        "\r\n",
        "def conteo_colores(datos):\r\n",
        "    conteo = {}\r\n",
        "    for dato in datos:\r\n",
        "        if dato[\"color\"] not in conteo:\r\n",
        "            conteo[dato[\"color\"]] = 0\r\n",
        "        conteo[dato[\"color\"]] += 1\r\n",
        "    return conteo\r\n",
        "\r\n",
        "print(describir(datos))"
      ],
      "outputs": [
        {
          "output_type": "stream",
          "name": "stdout",
          "text": [
            "['El limón es una fruta de tipo cítrica de color amarillo. Presenta pepas en su interior.', 'La naranja es una fruta de tipo cítrica de color naranjo. Presenta pepas en su interior.', 'El plátano es una fruta de tipo tropical de color amarillo. No presenta pepas en su interior.', 'La piña es una fruta de tipo tropical de color amarillo. No presenta pepas en su interior.', 'La frutilla es una fruta de tipo bosque de color rojo. Presenta pepas en su interior.', 'La frambuesa es una fruta de tipo bosque de color rojo. Presenta pepas en su interior.']\n"
          ]
        }
      ],
      "metadata": {
        "id": "023bc051"
      }
    },
    {
      "cell_type": "markdown",
      "source": [
        "El código de la siguiente celda presenta tests para probar sus funciones: Si la ejecución de esta celda no les levanta ninguna excepción, entonces sus funciones están implementadas según lo requerido. Si alguna falla, entonces deberán corregir los errores mostrados. \n",
        "Noten que los strings, diccionarios y en general, los objetos deben ser exactamente idénticos para que el test no falle."
      ],
      "metadata": {
        "id": "5240bec1"
      }
    },
    {
      "cell_type": "markdown",
      "source": [
        "**Ejecuten esta celda para comprobar su código:**"
      ],
      "metadata": {
        "id": "_DWuD58nXd2q"
      }
    },
    {
      "cell_type": "code",
      "execution_count": 10,
      "source": [
        "# ---------------------------------------------------------------------\r\n",
        "# test descripciones\r\n",
        "# note que las frutas deben estar en igual orden para que este assert no falle.\r\n",
        "\r\n",
        "descripciones_esperadas = [\r\n",
        "    \"El limón es una fruta de tipo cítrica de color amarillo. Presenta pepas en su interior.\",\r\n",
        "    \"La naranja es una fruta de tipo cítrica de color naranjo. Presenta pepas en su interior.\",\r\n",
        "    \"El plátano es una fruta de tipo tropical de color amarillo. No presenta pepas en su interior.\",\r\n",
        "    \"La piña es una fruta de tipo tropical de color amarillo. No presenta pepas en su interior.\",\r\n",
        "    \"La frutilla es una fruta de tipo bosque de color rojo. Presenta pepas en su interior.\",\r\n",
        "    \"La frambuesa es una fruta de tipo bosque de color rojo. Presenta pepas en su interior.\"\r\n",
        "]\r\n",
        "\r\n",
        "assert descripciones_esperadas == describir(datos)\r\n",
        "\r\n",
        "\r\n",
        "# ---------------------------------------------------------------------\r\n",
        "# test filtro\r\n",
        "frutas_con_pepa_esperadas = [\r\n",
        "    {\"nombre\": \"limón\", \"tipo\": \"cítrica\", \"color\": \"amarillo\", \"pepas\": True},\r\n",
        "    {\"nombre\": \"naranja\", \"tipo\": \"cítrica\", \"color\": \"naranjo\", \"pepas\": True},\r\n",
        "    {\"nombre\": \"frutilla\", \"tipo\": \"bosque\", \"color\": \"rojo\", \"pepas\": True},\r\n",
        "    {\"nombre\": \"frambuesa\", \"tipo\": \"bosque\", \"color\": \"rojo\", \"pepas\": True}\r\n",
        "]\r\n",
        "\r\n",
        "assert frutas_con_pepa_esperadas == filtrar_por_pepa(datos, True)\r\n",
        "\r\n",
        "# ---------------------------------------------------------------------\r\n",
        "# test conteo\r\n",
        "conteo_esperado = {'amarillo': 3, 'naranjo': 1, 'rojo': 2}\r\n",
        "\r\n",
        "assert conteo_esperado == conteo_colores(datos) \r\n"
      ],
      "outputs": [],
      "metadata": {
        "id": "c39b58c0"
      }
    },
    {
      "cell_type": "markdown",
      "source": [
        "### Implementaciones Funcionales [1.0 punto] \r\n",
        "\r\n",
        "Implementar las funciones de la sección anterior de forma funcional (solo las primeras 2 funciones).\r\n",
        "\r\n"
      ],
      "metadata": {
        "id": "ef45d2ea"
      }
    },
    {
      "cell_type": "code",
      "execution_count": 12,
      "source": [
        "def describir_funcional(datos):\r\n",
        "    def generar_descripcion(fruta):\r\n",
        "        # esta función debería retornar el string para una fruta en particular.\r\n",
        "        pronombre = \"El\"\r\n",
        "        if fruta[\"nombre\"][-1] == \"a\": pronombre = \"La\"\r\n",
        "        pepas_flag = \"No presenta\"\r\n",
        "        if fruta[\"pepas\"]: pepas_flag = \"Presenta\"\r\n",
        "        return f'{pronombre} {fruta[\"nombre\"]} es una fruta de tipo {fruta[\"tipo\"]} de color {fruta[\"color\"]}. {pepas_flag} pepas en su interior.'\r\n",
        "\r\n",
        "    return list(map(generar_descripcion, datos))\r\n",
        "    \r\n",
        "def filtrar_por_pepa_funcional(datos, tiene_pepas):\r\n",
        "    return list(filter(lambda d: d[\"pepas\"] == tiene_pepas, datos))"
      ],
      "outputs": [],
      "metadata": {
        "id": "c6ef993a"
      }
    },
    {
      "cell_type": "markdown",
      "source": [
        "Nuevamente más tests, ahora para las funciones con map y filter.\n",
        "\n",
        "**Ejecuten esta celda para comprobar su código:**"
      ],
      "metadata": {
        "id": "fwno3rOhn_jd"
      }
    },
    {
      "cell_type": "code",
      "execution_count": 13,
      "source": [
        "assert descripciones_esperadas == describir_funcional(datos)\r\n",
        "assert frutas_con_pepa_esperadas == filtrar_por_pepa_funcional(datos, True)"
      ],
      "outputs": [],
      "metadata": {
        "id": "vlRVONAClo3i"
      }
    },
    {
      "cell_type": "markdown",
      "source": [
        "## Parte 2: Electrodomésticos 🧃\n",
        "\n",
        "En esta parte se solicitarán un par de clases que permitirá jugar con la Programación Orientada a Objetos.\n",
        "\n",
        "<div align='center'>\n",
        "<img src='https://upload.wikimedia.org/wikipedia/commons/6/67/Breville.jpg' width=400/>\n",
        "</div>"
      ],
      "metadata": {
        "id": "492b941a"
      }
    },
    {
      "cell_type": "markdown",
      "source": [
        "### Clase Electrodoméstico [0.5 puntos] \r\n",
        "\r\n",
        "\r\n",
        "\r\n",
        "\r\n",
        "Defina la clase `Electrodomestico` que implemente:\r\n",
        "\r\n",
        "\r\n",
        "- Un constructor que defina un atributo de instancia llamado `enchufado` que almacene valores booleanos. \r\n",
        "- Un método llamado `esta_enchufado(self)` que levante una excepción `Exception` y que termine con la ejecución del programa cuando el atributo enchuado sea `False`. La exepción debe levantar el mensaje `'Alerta ⚠️: El electrodoméstico no está enchufado'`"
      ],
      "metadata": {
        "id": "PDaUTTiLd8fl"
      }
    },
    {
      "cell_type": "code",
      "execution_count": 14,
      "source": [
        "class Electrodomestico:\r\n",
        "    \r\n",
        "    def __init__(self):\r\n",
        "      self.enchufado = False\r\n",
        "        \r\n",
        "    def esta_enchufado(self):\r\n",
        "      if not self.enchufado: raise ValueError(\"Alerta ⚠️: El electrodoméstico no está enchufado\") \r\n",
        "          \r\n",
        "    def enchufar(self):\r\n",
        "      self.enchufado = True"
      ],
      "outputs": [],
      "metadata": {
        "id": "9f8aa475"
      }
    },
    {
      "cell_type": "markdown",
      "source": [
        "### Clase Jugera [2.5 puntos] \n",
        "\n",
        "\n",
        "<div align='center'>\n",
        "<img src='https://upload.wikimedia.org/wikipedia/commons/b/bb/Liquadora_%28parts%29.JPG' width=400/>\n",
        "</div>\n",
        "\n"
      ],
      "metadata": {
        "id": "d7d477b5"
      }
    },
    {
      "cell_type": "markdown",
      "source": [
        "Implemente la clase `Jugera` que extiende `Electrodomestico` y que implemente: \r\n",
        "\r\n",
        "\r\n",
        "- Un constructor que tenga una lista de ingredientes frutales (llamado `bandeja`).\r\n",
        "\r\n",
        "\r\n",
        "- Un método llamado `agregar_ingrediente(self, nueva_fruta)` que dado una fruta, agregue esa fruta a la `bandeja`.\r\n",
        "\r\n",
        "- Un método llamado `listar_ingredientes(self)` que imprima (con `print`) los ingredientes actuales de la `bandeja` de la siguiente forma: \r\n",
        "\r\n",
        "    `Ingredientes en la bandeja: frutilla, frambuesa, piña.`\r\n",
        "\r\n",
        "    Hint: Investigar el método `join` de un string para generar el string con los nombres de las frutas.\r\n",
        "    \r\n",
        "    \r\n",
        "    \r\n",
        "\r\n",
        "- Un método llamado `preparar_jugo(self)` que: \r\n",
        "    - Primero verifique que el electrodoméstico esté enchufado usando `self.esta_enchufado()`.\r\n",
        "    - Verifique que haya por lo menos un ingrediente en la `bandeja`. En el caso que no haya, levantar una excepción con contenido `'Error ❌: La bandeja no tiene ingredientes.'`\r\n",
        "    - Verifique que ninguna fruta tenga pepas. En el caso que haya alguna, imprimir (con `print`) el mensaje de advertencia `'Alerta ⚠️: El jugo puede contener restos de pepas.'`. Puede usar la función definida en la sección anterior.\r\n",
        "    - Genere un mensaje indicado `Jugo de {nombres de las frutas separadas por una ,} listo. 🏖️🥤 Que lo disfrutes!!! 🥤🏖️. ` (Hint: Usar nuevamente `join`).\r\n",
        "    - Vacie la `bandeja` (es decir, eliminar todas las frutas de la bandeja).\r\n",
        "    - Retorne el mensaje generado.\r\n"
      ],
      "metadata": {
        "id": "f72a5754"
      }
    },
    {
      "cell_type": "code",
      "execution_count": 15,
      "source": [
        "class Jugera(Electrodomestico):\r\n",
        "    \r\n",
        "    def __init__(self, bandeja):\r\n",
        "        # bandeja es una lista frutas donde cada fruta es un diccionario.\r\n",
        "        super().__init__()\r\n",
        "        self.bandeja = bandeja\r\n",
        "\r\n",
        "    def __init__(self):\r\n",
        "        # bandeja es una lista frutas donde cada fruta es un diccionario.\r\n",
        "        super().__init__()\r\n",
        "        self.bandeja = []\r\n",
        "        \r\n",
        "    def agregar_ingrediente(self, nueva_fruta):\r\n",
        "        \"\"\"Agrega una nueva fruta a la bandeja.\r\n",
        "\r\n",
        "        Args:\r\n",
        "            nueva_fruta (dict): Diccionario con los datos de la nueva fruta.\r\n",
        "        \"\"\"\r\n",
        "        self.bandeja.append(nueva_fruta)\r\n",
        "     \r\n",
        "    def listar_ingredientes(self):\r\n",
        "        \"\"\"Print de los ingredientes en la bandeja.\r\n",
        "        \"\"\"\r\n",
        "        if len(self.bandeja) == 0: print('Bandeja vacía :(')\r\n",
        "        else: print(\"Ingredientes en la bandeja: \" + \", \".join([fruta[\"nombre\"] for fruta in self.bandeja]) + \".\")\r\n",
        "    \r\n",
        "    def preparar_jugo(self):\r\n",
        "        \"\"\"Mete las frutas a la juguera.\r\n",
        "\r\n",
        "        Raises:\r\n",
        "            ValueError: [description]\r\n",
        "\r\n",
        "        Returns:\r\n",
        "            str: mensaje descriptivo.\r\n",
        "        \"\"\"\r\n",
        "        # Nombres\r\n",
        "        nombres = [fruta[\"nombre\"] for fruta in self.bandeja]\r\n",
        "        # Rise si no está enchufado.\r\n",
        "        self.esta_enchufado()\r\n",
        "        if len(self.bandeja) == 0: raise ValueError('Error ❌: La bandeja no tiene ingredientes.')\r\n",
        "        # Print si hay fruta con pepas.\r\n",
        "        if len(filtrar_por_pepa(self.bandeja, True)) > 0: print('Alerta ⚠️: El jugo puede contener restos de pepas.')\r\n",
        "        # Creae mensaje.\r\n",
        "        mensaje = 'Jugo de ' + \", \".join(nombres[:-1]) + f' y {nombres[-1]} listo. 🏖️🥤 Que lo disfrutes!!! 🥤🏖️.'\r\n",
        "        # Vaciar bandeja\r\n",
        "        self.bandeja = [] \r\n",
        "        return mensaje"
      ],
      "outputs": [],
      "metadata": {
        "id": "d9db037b"
      }
    },
    {
      "cell_type": "markdown",
      "source": [
        "### Interacciones\n",
        "\n",
        "Las siguientes celdas les permitirán probar las interacciones de esta clase.\n",
        "La ejecución es solo referencial y no lleva puntaje. La idea es que la utilice como guía para desarrollar la clase."
      ],
      "metadata": {
        "id": "6889015a"
      }
    },
    {
      "cell_type": "code",
      "execution_count": 16,
      "source": [
        "jugera = Jugera()\r\n",
        "\r\n",
        "# Como no tenemos ingredientes, listar_ingredientes deberá imprimir 'Bandeja vacía'\r\n",
        "jugera.listar_ingredientes()"
      ],
      "outputs": [
        {
          "output_type": "stream",
          "name": "stdout",
          "text": [
            "Bandeja vacía :(\n"
          ]
        }
      ],
      "metadata": {
        "id": "913af660",
        "outputId": "ce258367-a758-4398-f4a8-f081245bfa60"
      }
    },
    {
      "cell_type": "code",
      "execution_count": 17,
      "source": [
        "# Esta celda debería levantar una excepcion indicando que no está enchufada la jugera.\r\n",
        "jugera.preparar_jugo()"
      ],
      "outputs": [
        {
          "output_type": "error",
          "ename": "ValueError",
          "evalue": "Alerta ⚠️: El electrodoméstico no está enchufado",
          "traceback": [
            "\u001b[1;31m---------------------------------------------------------------------------\u001b[0m",
            "\u001b[1;31mValueError\u001b[0m                                Traceback (most recent call last)",
            "\u001b[1;32m<ipython-input-17-0deda6e9150d>\u001b[0m in \u001b[0;36m<module>\u001b[1;34m\u001b[0m\n\u001b[0;32m      1\u001b[0m \u001b[1;31m# Esta celda debería levantar una excepcion indicando que no está enchufada la jugera.\u001b[0m\u001b[1;33m\u001b[0m\u001b[1;33m\u001b[0m\u001b[0m\n\u001b[1;32m----> 2\u001b[1;33m \u001b[0mjugera\u001b[0m\u001b[1;33m.\u001b[0m\u001b[0mpreparar_jugo\u001b[0m\u001b[1;33m(\u001b[0m\u001b[1;33m)\u001b[0m\u001b[1;33m\u001b[0m\u001b[0m\n\u001b[0m",
            "\u001b[1;32m<ipython-input-15-b634853ba5d2>\u001b[0m in \u001b[0;36mpreparar_jugo\u001b[1;34m(self)\u001b[0m\n\u001b[0;32m     37\u001b[0m         \u001b[0mnombres\u001b[0m \u001b[1;33m=\u001b[0m \u001b[1;33m[\u001b[0m\u001b[0mfruta\u001b[0m\u001b[1;33m[\u001b[0m\u001b[1;34m\"nombre\"\u001b[0m\u001b[1;33m]\u001b[0m \u001b[1;32mfor\u001b[0m \u001b[0mfruta\u001b[0m \u001b[1;32min\u001b[0m \u001b[0mself\u001b[0m\u001b[1;33m.\u001b[0m\u001b[0mbandeja\u001b[0m\u001b[1;33m]\u001b[0m\u001b[1;33m\u001b[0m\u001b[0m\n\u001b[0;32m     38\u001b[0m         \u001b[1;31m# Rise si no está enchufado.\u001b[0m\u001b[1;33m\u001b[0m\u001b[1;33m\u001b[0m\u001b[0m\n\u001b[1;32m---> 39\u001b[1;33m         \u001b[0mself\u001b[0m\u001b[1;33m.\u001b[0m\u001b[0mesta_enchufado\u001b[0m\u001b[1;33m(\u001b[0m\u001b[1;33m)\u001b[0m\u001b[1;33m\u001b[0m\u001b[0m\n\u001b[0m\u001b[0;32m     40\u001b[0m         \u001b[1;32mif\u001b[0m \u001b[0mlen\u001b[0m\u001b[1;33m(\u001b[0m\u001b[0mself\u001b[0m\u001b[1;33m.\u001b[0m\u001b[0mbandeja\u001b[0m\u001b[1;33m)\u001b[0m \u001b[1;33m==\u001b[0m \u001b[1;36m0\u001b[0m\u001b[1;33m:\u001b[0m \u001b[1;32mraise\u001b[0m \u001b[0mValueError\u001b[0m\u001b[1;33m(\u001b[0m\u001b[1;34m'Error ❌: La bandeja no tiene ingredientes.'\u001b[0m\u001b[1;33m)\u001b[0m\u001b[1;33m\u001b[0m\u001b[0m\n\u001b[0;32m     41\u001b[0m         \u001b[1;31m# Print si hay fruta con pepas.\u001b[0m\u001b[1;33m\u001b[0m\u001b[1;33m\u001b[0m\u001b[0m\n",
            "\u001b[1;32m<ipython-input-14-cee3ee3c7e35>\u001b[0m in \u001b[0;36mesta_enchufado\u001b[1;34m(self)\u001b[0m\n\u001b[0;32m      5\u001b[0m \u001b[1;33m\u001b[0m\u001b[0m\n\u001b[0;32m      6\u001b[0m     \u001b[1;32mdef\u001b[0m \u001b[0mesta_enchufado\u001b[0m\u001b[1;33m(\u001b[0m\u001b[0mself\u001b[0m\u001b[1;33m)\u001b[0m\u001b[1;33m:\u001b[0m\u001b[1;33m\u001b[0m\u001b[0m\n\u001b[1;32m----> 7\u001b[1;33m       \u001b[1;32mif\u001b[0m \u001b[1;32mnot\u001b[0m \u001b[0mself\u001b[0m\u001b[1;33m.\u001b[0m\u001b[0menchufado\u001b[0m\u001b[1;33m:\u001b[0m \u001b[1;32mraise\u001b[0m \u001b[0mValueError\u001b[0m\u001b[1;33m(\u001b[0m\u001b[1;34m\"Alerta ⚠️: El electrodoméstico no está enchufado\"\u001b[0m\u001b[1;33m)\u001b[0m\u001b[1;33m\u001b[0m\u001b[0m\n\u001b[0m\u001b[0;32m      8\u001b[0m \u001b[1;33m\u001b[0m\u001b[0m\n\u001b[0;32m      9\u001b[0m     \u001b[1;32mdef\u001b[0m \u001b[0menchufar\u001b[0m\u001b[1;33m(\u001b[0m\u001b[0mself\u001b[0m\u001b[1;33m)\u001b[0m\u001b[1;33m:\u001b[0m\u001b[1;33m\u001b[0m\u001b[0m\n",
            "\u001b[1;31mValueError\u001b[0m: Alerta ⚠️: El electrodoméstico no está enchufado"
          ]
        }
      ],
      "metadata": {
        "scrolled": false,
        "id": "9d06bf3e",
        "outputId": "6ce58841-fbaa-43a5-eea6-2b0842e77ed4"
      }
    },
    {
      "cell_type": "code",
      "execution_count": 18,
      "source": [
        "# Enchufamos el electrodoméstico\r\n",
        "jugera.enchufar()"
      ],
      "outputs": [],
      "metadata": {
        "id": "3ad38f18"
      }
    },
    {
      "cell_type": "code",
      "execution_count": 19,
      "source": [
        "# Esta celda debería levantar ina excepción informandoles que la bandeja no tiene ingredientes.\r\n",
        "jugera.preparar_jugo()"
      ],
      "outputs": [
        {
          "output_type": "error",
          "ename": "ValueError",
          "evalue": "Error ❌: La bandeja no tiene ingredientes.",
          "traceback": [
            "\u001b[1;31m---------------------------------------------------------------------------\u001b[0m",
            "\u001b[1;31mValueError\u001b[0m                                Traceback (most recent call last)",
            "\u001b[1;32m<ipython-input-19-5ff63d1da592>\u001b[0m in \u001b[0;36m<module>\u001b[1;34m\u001b[0m\n\u001b[0;32m      1\u001b[0m \u001b[1;31m# Esta celda debería levantar ina excepción informandoles que la bandeja no tiene ingredientes.\u001b[0m\u001b[1;33m\u001b[0m\u001b[1;33m\u001b[0m\u001b[0m\n\u001b[1;32m----> 2\u001b[1;33m \u001b[0mjugera\u001b[0m\u001b[1;33m.\u001b[0m\u001b[0mpreparar_jugo\u001b[0m\u001b[1;33m(\u001b[0m\u001b[1;33m)\u001b[0m\u001b[1;33m\u001b[0m\u001b[0m\n\u001b[0m",
            "\u001b[1;32m<ipython-input-15-b634853ba5d2>\u001b[0m in \u001b[0;36mpreparar_jugo\u001b[1;34m(self)\u001b[0m\n\u001b[0;32m     38\u001b[0m         \u001b[1;31m# Rise si no está enchufado.\u001b[0m\u001b[1;33m\u001b[0m\u001b[1;33m\u001b[0m\u001b[0m\n\u001b[0;32m     39\u001b[0m         \u001b[0mself\u001b[0m\u001b[1;33m.\u001b[0m\u001b[0mesta_enchufado\u001b[0m\u001b[1;33m(\u001b[0m\u001b[1;33m)\u001b[0m\u001b[1;33m\u001b[0m\u001b[0m\n\u001b[1;32m---> 40\u001b[1;33m         \u001b[1;32mif\u001b[0m \u001b[0mlen\u001b[0m\u001b[1;33m(\u001b[0m\u001b[0mself\u001b[0m\u001b[1;33m.\u001b[0m\u001b[0mbandeja\u001b[0m\u001b[1;33m)\u001b[0m \u001b[1;33m==\u001b[0m \u001b[1;36m0\u001b[0m\u001b[1;33m:\u001b[0m \u001b[1;32mraise\u001b[0m \u001b[0mValueError\u001b[0m\u001b[1;33m(\u001b[0m\u001b[1;34m'Error ❌: La bandeja no tiene ingredientes.'\u001b[0m\u001b[1;33m)\u001b[0m\u001b[1;33m\u001b[0m\u001b[0m\n\u001b[0m\u001b[0;32m     41\u001b[0m         \u001b[1;31m# Print si hay fruta con pepas.\u001b[0m\u001b[1;33m\u001b[0m\u001b[1;33m\u001b[0m\u001b[0m\n\u001b[0;32m     42\u001b[0m         \u001b[1;32mif\u001b[0m \u001b[0mlen\u001b[0m\u001b[1;33m(\u001b[0m\u001b[0mfiltrar_por_pepa\u001b[0m\u001b[1;33m(\u001b[0m\u001b[0mself\u001b[0m\u001b[1;33m.\u001b[0m\u001b[0mbandeja\u001b[0m\u001b[1;33m,\u001b[0m \u001b[1;32mTrue\u001b[0m\u001b[1;33m)\u001b[0m\u001b[1;33m)\u001b[0m \u001b[1;33m>\u001b[0m \u001b[1;36m0\u001b[0m\u001b[1;33m:\u001b[0m \u001b[0mprint\u001b[0m\u001b[1;33m(\u001b[0m\u001b[1;34m'Alerta ⚠️: El jugo puede contener restos de pepas.'\u001b[0m\u001b[1;33m)\u001b[0m\u001b[1;33m\u001b[0m\u001b[0m\n",
            "\u001b[1;31mValueError\u001b[0m: Error ❌: La bandeja no tiene ingredientes."
          ]
        }
      ],
      "metadata": {
        "scrolled": true,
        "id": "48009872",
        "outputId": "5b46ee29-ad22-46a4-aebe-d9bd7c5325c2"
      }
    },
    {
      "cell_type": "code",
      "execution_count": 20,
      "source": [
        "# Agregamos algunos ingredientes\r\n",
        "jugera.agregar_ingrediente(naranja)\r\n",
        "jugera.agregar_ingrediente(platano)\r\n",
        "\r\n",
        "# Y los listamos (debería imprimir: 'Ingredientes en la bandeja: naranja, plátano')\r\n",
        "jugera.listar_ingredientes()"
      ],
      "outputs": [
        {
          "output_type": "stream",
          "name": "stdout",
          "text": [
            "Ingredientes en la bandeja: naranja, plátano.\n"
          ]
        }
      ],
      "metadata": {
        "id": "4873e0bf",
        "outputId": "e8ba6792-dd0e-4b67-86d1-da1b2e2aab6b"
      }
    },
    {
      "cell_type": "code",
      "execution_count": 21,
      "source": [
        "# Preparamos el jugo: 'Jugo de naranja, plátano listo. 🏖️🥤 Que lo disfrutes!!! 🥤🏖️.'\r\n",
        "jugera.preparar_jugo()"
      ],
      "outputs": [
        {
          "output_type": "stream",
          "name": "stdout",
          "text": [
            "Alerta ⚠️: El jugo puede contener restos de pepas.\n"
          ]
        },
        {
          "output_type": "execute_result",
          "data": {
            "text/plain": [
              "'Jugo de naranja y plátano listo. 🏖️\\U0001f964 Que lo disfrutes!!! \\U0001f964🏖️.'"
            ]
          },
          "metadata": {},
          "execution_count": 21
        }
      ],
      "metadata": {
        "id": "ff555151",
        "outputId": "219e56f9-290e-4514-a404-d2612d8756d5"
      }
    },
    {
      "cell_type": "code",
      "execution_count": 43,
      "source": [
        "# Una vez preparado el jugo, debería vaciarse la bandeja (imprimir Bandeja vacía)\r\n",
        "jugera.listar_ingredientes()"
      ],
      "outputs": [
        {
          "output_type": "stream",
          "name": "stdout",
          "text": [
            "Bandeja vacía :(\n"
          ]
        }
      ],
      "metadata": {
        "id": "bbc532b2",
        "outputId": "066e90cc-99c7-487c-c262-a1be46aac7a4"
      }
    },
    {
      "cell_type": "markdown",
      "source": [
        "## Bonus [0.5]\n",
        "\n",
        "Implementar `bandeja` usando una `property` que permita setear una `nueva_bandeja` como `bandeja` según las siguientes condiciones:\n",
        "\n",
        "\n",
        "- Compruebe que `nueva_bandeja` sea una lista. En caso contrario, levante una excepción.\n",
        "- No permita agregar más de 3 ingredientes a la bandeja a la vez. Si se entregan más de 3 frutas, se levante una excepción.\n",
        "- Se compruebe que todos los elementos del arreglo sean frutas. Para esto, por cada fruta compruebe que:\n",
        "    1. La fruta sea diccionario.\n",
        "    2. El diccionario entregado tenga las llaves `nombre`, `tipo`, `color` y `pepas`."
      ],
      "metadata": {
        "id": "972dbcac"
      }
    },
    {
      "cell_type": "code",
      "execution_count": null,
      "source": [
        "class Jugera(Electrodomestico):\r\n",
        "    \r\n",
        "    \r\n",
        "    def __init__(self):\r\n",
        "        # Código Aquí\r\n",
        "\r\n",
        "    @property\r\n",
        "    def bandeja(self):\r\n",
        "        # Código Aquí\r\n",
        "        \r\n",
        "    @bandeja.setter\r\n",
        "    def bandeja(self, nueva_bandeja):\r\n",
        "        # Código Aquí\r\n",
        "\r\n",
        "    def agregar_ingrediente(self, nueva_fruta):\r\n",
        "        # Código Aquí\r\n",
        "     \r\n",
        "    def listar_ingredientes(self):\r\n",
        "        # Código Aquí\r\n",
        "    \r\n",
        "    def preparar_jugo(self):\r\n",
        "        # Código Aquí\r\n",
        "        \r\n",
        "        return mensaje"
      ],
      "outputs": [],
      "metadata": {
        "id": "cVRf_u57sI0i"
      }
    }
  ]
}